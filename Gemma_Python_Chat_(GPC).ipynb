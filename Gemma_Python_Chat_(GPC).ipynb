{
  "metadata": {
    "kernelspec": {
      "language": "python",
      "display_name": "Python 3",
      "name": "python3"
    },
    "language_info": {
      "name": "python",
      "version": "3.10.13",
      "mimetype": "text/x-python",
      "codemirror_mode": {
        "name": "ipython",
        "version": 3
      },
      "pygments_lexer": "ipython3",
      "nbconvert_exporter": "python",
      "file_extension": ".py"
    },
    "kaggle": {
      "accelerator": "gpu",
      "dataSources": [
        {
          "sourceId": 64148,
          "databundleVersionId": 7669720,
          "sourceType": "competition"
        },
        {
          "sourceId": 726715,
          "sourceType": "datasetVersion",
          "datasetId": 262
        },
        {
          "sourceId": 11384,
          "sourceType": "modelInstanceVersion",
          "isSourceIdPinned": true,
          "modelInstanceId": 6216
        }
      ],
      "dockerImageVersionId": 30674,
      "isInternetEnabled": true,
      "language": "python",
      "sourceType": "notebook",
      "isGpuEnabled": true
    },
    "colab": {
      "name": "Gemma Python Chat (GPC)",
      "provenance": [],
      "include_colab_link": true
    }
  },
  "nbformat_minor": 0,
  "nbformat": 4,
  "cells": [
    {
      "cell_type": "markdown",
      "metadata": {
        "id": "view-in-github",
        "colab_type": "text"
      },
      "source": [
        "<a href=\"https://colab.research.google.com/github/DLesmes/GPC/blob/main/Gemma_Python_Chat_(GPC).ipynb\" target=\"_parent\"><img src=\"https://colab.research.google.com/assets/colab-badge.svg\" alt=\"Open In Colab\"/></a>"
      ]
    },
    {
      "source": [
        "\n",
        "# IMPORTANT: RUN THIS CELL IN ORDER TO IMPORT YOUR KAGGLE DATA SOURCES\n",
        "# TO THE CORRECT LOCATION (/kaggle/input) IN YOUR NOTEBOOK,\n",
        "# THEN FEEL FREE TO DELETE THIS CELL.\n",
        "# NOTE: THIS NOTEBOOK ENVIRONMENT DIFFERS FROM KAGGLE'S PYTHON\n",
        "# ENVIRONMENT SO THERE MAY BE MISSING LIBRARIES USED BY YOUR\n",
        "# NOTEBOOK.\n",
        "\n",
        "import os\n",
        "import sys\n",
        "from tempfile import NamedTemporaryFile\n",
        "from urllib.request import urlopen\n",
        "from urllib.parse import unquote, urlparse\n",
        "from urllib.error import HTTPError\n",
        "from zipfile import ZipFile\n",
        "import tarfile\n",
        "import shutil\n",
        "\n",
        "CHUNK_SIZE = 40960\n",
        "DATA_SOURCE_MAPPING = 'data-assistants-with-gemma:https%3A%2F%2Fstorage.googleapis.com%2Fkaggle-competitions-data%2Fkaggle-v2%2F64148%2F7669720%2Fbundle%2Farchive.zip%3FX-Goog-Algorithm%3DGOOG4-RSA-SHA256%26X-Goog-Credential%3Dgcp-kaggle-com%2540kaggle-161607.iam.gserviceaccount.com%252F20240413%252Fauto%252Fstorage%252Fgoog4_request%26X-Goog-Date%3D20240413T011414Z%26X-Goog-Expires%3D259200%26X-Goog-SignedHeaders%3Dhost%26X-Goog-Signature%3D17eafce77f9a84fe05ddb5b39a09a690cadaef2d170f3e757d2faa9211be2ce1d2016b9c91ee3960dd799611545befbd6b351aa8d2b3e595400d7c77c4250010e61db5715092766ace65b740a74156f5254cbac390dfe16b8efd6f6ba3e15a61d067af97074ea2fed5295ba4396486447b681a96974f60bf8c4033b8d2fa70f21266795efb884fd9cb710069f8ba5c282bbaa5cfafc2cd6e74bb14e6059e4a6ff415131fb63342f72d233591ba5de290364271e255ec157f5f647081fdeee189c137e79909bf4107d28368e11110639f1d2b6b2e850ca3ad341816a6830dbb08065c68566e9ee7baa6bf202342313b9a39adca3b6e0850e976414d18ce58503e,pythonquestions:https%3A%2F%2Fstorage.googleapis.com%2Fkaggle-data-sets%2F262%2F726715%2Fbundle%2Farchive.zip%3FX-Goog-Algorithm%3DGOOG4-RSA-SHA256%26X-Goog-Credential%3Dgcp-kaggle-com%2540kaggle-161607.iam.gserviceaccount.com%252F20240413%252Fauto%252Fstorage%252Fgoog4_request%26X-Goog-Date%3D20240413T011414Z%26X-Goog-Expires%3D259200%26X-Goog-SignedHeaders%3Dhost%26X-Goog-Signature%3Da3fd382be34cd40251330735cb89b0257860d8dbe7b4c0d5cb21de5ac415c4cb15bf7c3ac884a98a8122bc95c2529bdd925579e46c2317bacae59783a805c20d18ffb9b5af9a67660b5435313ffd50014818915e244c21f8a1343522146aa97f85a1ecec66af9dadd3dc86095f30f59e827966188eea3574423f029531b85b35756a493b346ce45265a095ff7aeb3d3b4f42884c1481cb3be6373af06c455f4063062e8e43a2920397fee63606efd27fb7e7e36b0891684fc2f9d61f564795c207505e498b187b77c49444d57c5e4b6c9c189c8eea76d7ac94c1ef934ebd1b126af1fa9d2cbe42c4df4a0dc23b4f4e49b962f4ae9c9f33a256f81cc76c778363,gemma/transformers/2b/2:https%3A%2F%2Fstorage.googleapis.com%2Fkaggle-models-data%2F6216%2F11384%2Fbundle%2Farchive.tar.gz%3FX-Goog-Algorithm%3DGOOG4-RSA-SHA256%26X-Goog-Credential%3Dgcp-kaggle-com%2540kaggle-161607.iam.gserviceaccount.com%252F20240413%252Fauto%252Fstorage%252Fgoog4_request%26X-Goog-Date%3D20240413T011414Z%26X-Goog-Expires%3D259200%26X-Goog-SignedHeaders%3Dhost%26X-Goog-Signature%3Db93be1dd4e7f2240c76fba6f18a8989aeac5371c0227b85eb4ec17985fe03facd3c5b28df6869f88a5a9a64bb5fd2252c2634e043b8f9b23df42d449b0e24e144216395b2516e2a583b7615c74e0518697bb80e3837d6e4dd127aa3372a91592e7a546083635b9670e396ec5cdbcfaf2ccbb7e05d5f8c968ac8d6404e9a2e5b271b1a2a4f21894f98e0cbf37393805ee2a8f350ed46970129a37f22646e6fd43766d02557b348b58a280bddba63ab439d4fac951bf07b01f58101466471c91ff4d4be82185c44dc307f95e973f25b5763e7258463c43eff1fcf2e56c36430b8447c3f4279885837a9e5ead610a745df83d9bc64c91e92695068edea1e7610e81'\n",
        "\n",
        "KAGGLE_INPUT_PATH='/kaggle/input'\n",
        "KAGGLE_WORKING_PATH='/kaggle/working'\n",
        "KAGGLE_SYMLINK='kaggle'\n",
        "\n",
        "!umount /kaggle/input/ 2> /dev/null\n",
        "shutil.rmtree('/kaggle/input', ignore_errors=True)\n",
        "os.makedirs(KAGGLE_INPUT_PATH, 0o777, exist_ok=True)\n",
        "os.makedirs(KAGGLE_WORKING_PATH, 0o777, exist_ok=True)\n",
        "\n",
        "try:\n",
        "  os.symlink(KAGGLE_INPUT_PATH, os.path.join(\"..\", 'input'), target_is_directory=True)\n",
        "except FileExistsError:\n",
        "  pass\n",
        "try:\n",
        "  os.symlink(KAGGLE_WORKING_PATH, os.path.join(\"..\", 'working'), target_is_directory=True)\n",
        "except FileExistsError:\n",
        "  pass\n",
        "\n",
        "for data_source_mapping in DATA_SOURCE_MAPPING.split(','):\n",
        "    directory, download_url_encoded = data_source_mapping.split(':')\n",
        "    download_url = unquote(download_url_encoded)\n",
        "    filename = urlparse(download_url).path\n",
        "    destination_path = os.path.join(KAGGLE_INPUT_PATH, directory)\n",
        "    try:\n",
        "        with urlopen(download_url) as fileres, NamedTemporaryFile() as tfile:\n",
        "            total_length = fileres.headers['content-length']\n",
        "            print(f'Downloading {directory}, {total_length} bytes compressed')\n",
        "            dl = 0\n",
        "            data = fileres.read(CHUNK_SIZE)\n",
        "            while len(data) > 0:\n",
        "                dl += len(data)\n",
        "                tfile.write(data)\n",
        "                done = int(50 * dl / int(total_length))\n",
        "                sys.stdout.write(f\"\\r[{'=' * done}{' ' * (50-done)}] {dl} bytes downloaded\")\n",
        "                sys.stdout.flush()\n",
        "                data = fileres.read(CHUNK_SIZE)\n",
        "            if filename.endswith('.zip'):\n",
        "              with ZipFile(tfile) as zfile:\n",
        "                zfile.extractall(destination_path)\n",
        "            else:\n",
        "              with tarfile.open(tfile.name) as tarfile:\n",
        "                tarfile.extractall(destination_path)\n",
        "            print(f'\\nDownloaded and uncompressed: {directory}')\n",
        "    except HTTPError as e:\n",
        "        print(f'Failed to load (likely expired) {download_url} to path {destination_path}')\n",
        "        continue\n",
        "    except OSError as e:\n",
        "        print(f'Failed to load {download_url} to path {destination_path}')\n",
        "        continue\n",
        "\n",
        "print('Data source import complete.')\n"
      ],
      "metadata": {
        "id": "9Vq1q4-UBP-5"
      },
      "cell_type": "code",
      "outputs": [],
      "execution_count": null
    },
    {
      "cell_type": "markdown",
      "source": [
        "<a href=\"https://colab.research.google.com/github/DLesmes/GPC/blob/main/GPC_(Gemma_Python_Chat).ipynb\" target=\"_parent\"><img src=\"https://colab.research.google.com/assets/colab-badge.svg\" alt=\"Open In Colab\"/></a>"
      ],
      "metadata": {
        "id": "view-in-github"
      }
    },
    {
      "cell_type": "markdown",
      "source": [
        "# GCP 🤖 Gemma Python Chatbot"
      ],
      "metadata": {
        "id": "Qx8hbihKsoW3"
      }
    },
    {
      "cell_type": "markdown",
      "source": [
        "![](https://i.postimg.cc/Nfpn7mxR/gemma.png)"
      ],
      "metadata": {
        "id": "nDijQliXBP_B"
      }
    },
    {
      "cell_type": "markdown",
      "source": [
        "The Gemma Python Chatbot 🚀🚀 help you to answer common questions about the 🐍 Python programming language, powered by [Gemma 2B IT](https://blog.google/technology/developers/gemma-open-models/) with a few-shot strategy using some questions of [Stackoverflow python question kaggle dataset](https://www.kaggle.com/datasets/stackoverflow/pythonquestions) and updated with the Python Enhancement Proposal ([PEPs](https://peps.python.org/)) documentation using a Retrival-Augmented Generation ([RAG](https://blogs.nvidia.com/blog/what-is-retrieval-augmented-generation/)) supported by a Chroma vectorial database using the open source embeddings [hkunlp/instructor-large](https://huggingface.co/hkunlp/instructor-large) of 768 entries, orchested by [langchaing](https://python.langchain.com/docs/use_cases/chatbots/) that is a framework that let you use differen models and less code changes on the architecture when you decide to test other providers"
      ],
      "metadata": {
        "id": "5C9kSlAVsoW4"
      }
    },
    {
      "cell_type": "markdown",
      "source": [
        "## Requirements"
      ],
      "metadata": {
        "id": "5GhJQPvLsoW4"
      }
    },
    {
      "cell_type": "code",
      "source": [
        "!pip install chromadb #!pip install chromadb==0.3.26\n",
        "# !pip install ydata-profiling #!pip install ydata-profiling==4.6.1\n",
        "!pip install langchain #!pip install langchain==0.0.345 ##!pip install langchain-core==0.1.31\n",
        "#!pip install pydantic  #!pip install pydantic==1.10.14\n",
        "!pip install sentence-transformers   #!pip install sentence-transformers==2.6.1\n",
        "!pip install InstructorEmbedding  #!pip install InstructorEmbedding==1.0.1"
      ],
      "metadata": {
        "_kg_hide-input": false,
        "scrolled": true,
        "_kg_hide-output": true,
        "execution": {
          "iopub.status.busy": "2024-04-12T23:05:02.108358Z",
          "iopub.execute_input": "2024-04-12T23:05:02.10871Z",
          "iopub.status.idle": "2024-04-12T23:06:20.860286Z",
          "shell.execute_reply.started": "2024-04-12T23:05:02.108681Z",
          "shell.execute_reply": "2024-04-12T23:06:20.859111Z"
        },
        "trusted": true,
        "id": "LzoGUaC1BP_C"
      },
      "execution_count": null,
      "outputs": []
    },
    {
      "cell_type": "code",
      "source": [
        "#base\n",
        "import os\n",
        "import json\n",
        "import re\n",
        "import uuid\n",
        "import time\n",
        "import csv\n",
        "import pandas as pd\n",
        "import numpy as np\n",
        "from typing import *\n",
        "from IPython.display import display, Markdown\n",
        "# variables\n",
        "from kaggle_secrets import UserSecretsClient\n",
        "# model\n",
        "import torch\n",
        "from torch.utils.data import Dataset\n",
        "from transformers import (\n",
        "    AutoTokenizer,\n",
        "    AutoModelForCausalLM,\n",
        "    Trainer,\n",
        "    DataCollatorForSeq2Seq,\n",
        "    Seq2SeqTrainingArguments,\n",
        ")\n",
        "# data\n",
        "from datasets import load_dataset\n",
        "import requests\n",
        "from bs4 import BeautifulSoup\n",
        "# embeddings\n",
        "from langchain.embeddings import SentenceTransformerEmbeddings\n",
        "from langchain.embeddings import HuggingFaceInstructEmbeddings\n",
        "# vector database\n",
        "from langchain.schema import Document\n",
        "from langchain.text_splitter import RecursiveCharacterTextSplitter\n",
        "from langchain.vectorstores import Chroma"
      ],
      "metadata": {
        "id": "Vq5ZFhX7soW4",
        "execution": {
          "iopub.status.busy": "2024-04-12T23:06:20.862397Z",
          "iopub.execute_input": "2024-04-12T23:06:20.862746Z",
          "iopub.status.idle": "2024-04-12T23:06:21.70528Z",
          "shell.execute_reply.started": "2024-04-12T23:06:20.862715Z",
          "shell.execute_reply": "2024-04-12T23:06:21.704354Z"
        },
        "trusted": true
      },
      "execution_count": null,
      "outputs": []
    },
    {
      "cell_type": "markdown",
      "source": [
        "# Classes"
      ],
      "metadata": {
        "id": "VcvbTuLcBP_D"
      }
    },
    {
      "cell_type": "markdown",
      "source": [
        "I use object-oriented Python programming 💻 to develop the chatbot, using the classes 📁 in the corresponding order to support the Agent class that is the final service of the chatbot 🤖."
      ],
      "metadata": {
        "id": "kYqKM5apBP_D"
      }
    },
    {
      "cell_type": "markdown",
      "source": [
        "### Questions and answers data\n",
        "\n"
      ],
      "metadata": {
        "id": "FF-1WM_fBP_D"
      }
    },
    {
      "cell_type": "markdown",
      "source": [
        "This class fit the data of [Stackoverflow python question kaggle dataset](https://www.kaggle.com/datasets/stackoverflow/pythonquestions) 📚 to use it in a fine-tuned format ⚙️ or a list of dicts 🗂️... it depends on the case of use you need! it also will be use to select some samples to make the few-shoot strategy"
      ],
      "metadata": {
        "id": "yNAkOFwNBP_D"
      }
    },
    {
      "cell_type": "code",
      "source": [
        "class pythonQAData:\n",
        "    \"\"\"\n",
        "    Processes data from Questions and Answers CSV files to provide a structured Q&A format.\n",
        "\n",
        "    Attributes:\n",
        "        questions_path (str): Path to the Questions CSV file\n",
        "        answers_path (str): Path to the Answers CSV file\n",
        "        tags_path (str): Path to the tags CSV file\n",
        "\n",
        "    Methods:\n",
        "        load_data(): Loads the CSV data into DataFrames.\n",
        "        merge(): Cleans, merges, and formats the question and answer data.\n",
        "        get_formatted_qa(): Returns a list of formatted question-answer strings.\n",
        "    \"\"\"\n",
        "\n",
        "    def __init__(self):\n",
        "        self.questions_path = '../input/pythonquestions/Questions.csv'\n",
        "        self.answers_path = '../input/pythonquestions/Answers.csv'\n",
        "        self.tags_path = '../input/pythonquestions/Tags.csv'\n",
        "        self.regex = r\"<\\/?[\\w\\s]*>\"\n",
        "\n",
        "    def load_data(self):\n",
        "        \"\"\"Loads Questions and Answers data from CSV files.\"\"\"\n",
        "        df_questions = pd.read_csv(\n",
        "            self.questions_path,\n",
        "            encoding=\"ISO-8859-1\",\n",
        "            usecols=[\n",
        "                'Id',\n",
        "                'Score',\n",
        "                'Title'\n",
        "            ]\n",
        "        )\n",
        "        df_answers = pd.read_csv(\n",
        "            self.answers_path,\n",
        "            encoding=\"ISO-8859-1\",\n",
        "            usecols=[\n",
        "                'ParentId',\n",
        "                'Score',\n",
        "                'Body'\n",
        "            ]\n",
        "        )\n",
        "        df_tags = pd.read_csv(\n",
        "            self.tags_path,\n",
        "            encoding=\"ISO-8859-1\",\n",
        "            usecols=[\n",
        "                'Id',\n",
        "                'Tag'\n",
        "            ]\n",
        "        )\n",
        "        return df_questions, df_answers, df_tags\n",
        "\n",
        "\n",
        "    def qa_data(self):\n",
        "        \"\"\"Cleans, merges, and formats the question and answer data.\"\"\"\n",
        "        df_questions, df_answers, df_tags = self.load_data()\n",
        "        # Rename\n",
        "        df_questions.rename(\n",
        "            columns={\n",
        "                'Title': 'Question',\n",
        "                'Score': 'question_score'\n",
        "            },\n",
        "            inplace=True\n",
        "        )\n",
        "        df_answers.rename(\n",
        "            columns={\n",
        "                'Body': 'Answer',\n",
        "                'ParentId':'Id',\n",
        "                'Score': 'answer_score'\n",
        "            },\n",
        "            inplace=True\n",
        "        )\n",
        "        # Filter by score\n",
        "        df_questions = df_questions[df_questions['question_score'] > 5].copy()\n",
        "        # Sort and deduplicate answers\n",
        "        df_answers = df_answers.sort_values(\n",
        "            'answer_score',\n",
        "            ascending=False\n",
        "        ).drop_duplicates(subset=['Id'])\n",
        "        # Merge\n",
        "        df_qa = df_questions.merge(\n",
        "            df_answers,\n",
        "            how='left',\n",
        "            on='Id'\n",
        "        ).merge(\n",
        "            df_tags,\n",
        "            how='left',\n",
        "            on='Id'\n",
        "        )\n",
        "        # filter for python  questions\n",
        "        df_qa = df_qa[df_qa['answer_score'] > 5].copy()\n",
        "        df_qa = df_qa[df_qa['Tag']=='python'].copy()\n",
        "        df_qa['Answer'] = df_qa['Answer'].apply(\n",
        "            lambda x: re.sub(\n",
        "                self.regex,\n",
        "                \"\",\n",
        "                x\n",
        "            )\n",
        "        )\n",
        "        return df_qa\n",
        "\n",
        "    def get_fine_tunning_data(self):\n",
        "        \"\"\"Returns a list of formatted user-assistant strings.\"\"\"\n",
        "        df_qa_data = self.qa_data()\n",
        "        data = [\n",
        "            f\"<-change-of-interlocutor->user:\\n{row['Question']}\\n<-change-of-interlocutor->assistant:\\n{row['Answer']}\"\n",
        "            for index, row\n",
        "            in df_qa_data.iterrows()\n",
        "        ]\n",
        "        return data\n",
        "    def get_qa_data(self):\n",
        "        \"\"\"Returns a list of records dictionaries \"\"\"\n",
        "        df_qa_data = self.qa_data()\n",
        "        data = df_qa_data[\n",
        "            [\n",
        "                'Question',\n",
        "                'Answer'\n",
        "            ]\n",
        "        ].to_dict(orient='records')\n",
        "        return data\n"
      ],
      "metadata": {
        "id": "bSU-ohmssoW5",
        "execution": {
          "iopub.status.busy": "2024-04-12T23:06:21.706589Z",
          "iopub.execute_input": "2024-04-12T23:06:21.706919Z",
          "iopub.status.idle": "2024-04-12T23:06:21.722129Z",
          "shell.execute_reply.started": "2024-04-12T23:06:21.706894Z",
          "shell.execute_reply": "2024-04-12T23:06:21.721251Z"
        },
        "trusted": true
      },
      "execution_count": null,
      "outputs": []
    },
    {
      "cell_type": "markdown",
      "source": [
        "### Python Enhancement Proposals data"
      ],
      "metadata": {
        "id": "hwcK3DHVBP_E"
      }
    },
    {
      "cell_type": "markdown",
      "source": [
        "The class Peps scrape all the oficial [pep](https://peps.python.org/) 🔎 to get all the best practices of this programming language 🐍 and their latest features ✨, disposed to uses in the RAG system for the chatbot"
      ],
      "metadata": {
        "id": "wGEG96sjBP_F"
      }
    },
    {
      "cell_type": "code",
      "source": [
        "class Peps:\n",
        "    \"\"\"\n",
        "    Scrapes Python Enhancement Proposals (PEPs) from https://peps.python.org/\n",
        "    \"\"\"\n",
        "\n",
        "    def __init__(self):\n",
        "        \"\"\"Initiates the scraping process.\"\"\"\n",
        "        self.base_url = 'https://peps.python.org/'\n",
        "\n",
        "    def scraper(self, url):\n",
        "        \"\"\"\n",
        "        Fetches the HTML content of a given URL.\n",
        "\n",
        "        Args:\n",
        "            url (str): The URL to fetch.\n",
        "\n",
        "        Returns:\n",
        "            BeautifulSoup: A BeautifulSoup object representing the parsed HTML.\n",
        "        \"\"\"\n",
        "        response = requests.get(url)\n",
        "        response.raise_for_status()\n",
        "        return BeautifulSoup(response.content, 'html.parser')\n",
        "\n",
        "    def _fetch_pep_links(self):\n",
        "        \"\"\"Fetches links to individual PEP pages (private method).\n",
        "\n",
        "        Returns:\n",
        "            list: A list of PEP URLs.\n",
        "        \"\"\"\n",
        "        soup = self.scraper(self.base_url)\n",
        "        return list(\n",
        "            set(\n",
        "                [\n",
        "                    self.base_url + ref['href']\n",
        "                    for ref in soup.find_all('a', class_='pep reference internal')\n",
        "                ]\n",
        "            )\n",
        "        )\n",
        "\n",
        "    def _download_peps(self):\n",
        "        \"\"\"Downloads the content of individual PEPs (private method).\n",
        "\n",
        "        Returns:\n",
        "            list: A list of BeautifulSoup objects representing individual PEPs.\n",
        "        \"\"\"\n",
        "        pep_links = self._fetch_pep_links()\n",
        "        return [self.scraper(pep_link) for pep_link in pep_links]\n",
        "\n",
        "    def scrape(self):\n",
        "        \"\"\"Extracts the relevant text content from each PEP.\n",
        "\n",
        "        Returns:\n",
        "            list: A list of text strings, each representing the content of a PEP.\n",
        "        \"\"\"\n",
        "        pep_soups = self._download_peps()\n",
        "        return [\n",
        "            '\\n'.join([word.text.replace('\"\"\"',\"'\") for word in soup.find_all('section')])\n",
        "            for soup in pep_soups\n",
        "        ]\n",
        "\n",
        "    def jsonl_format(self):\n",
        "        \"\"\"Format the spcraped data to a jsonl format is it alist of dictionaries\n",
        "        Returns:\n",
        "            list: A list of dictionaries with the following:\n",
        "                page_content: The content of each section scraped\n",
        "                source: The linke where it was scraped\n",
        "        \"\"\"\n",
        "        source_links = self._fetch_pep_links()\n",
        "        pep_content = self.scrape()\n",
        "        pep_data = dict(zip(source_links,pep_content))\n",
        "        return [\n",
        "            {\n",
        "                'text': value,\n",
        "                'source': key\n",
        "            }\n",
        "            for key, value in pep_data.items()\n",
        "        ]"
      ],
      "metadata": {
        "execution": {
          "iopub.status.busy": "2024-04-12T23:06:21.724711Z",
          "iopub.execute_input": "2024-04-12T23:06:21.724977Z",
          "iopub.status.idle": "2024-04-12T23:06:21.746744Z",
          "shell.execute_reply.started": "2024-04-12T23:06:21.724955Z",
          "shell.execute_reply": "2024-04-12T23:06:21.745822Z"
        },
        "trusted": true,
        "id": "-tlkwYR5BP_F"
      },
      "execution_count": null,
      "outputs": []
    },
    {
      "cell_type": "markdown",
      "source": [
        "### Embeddings"
      ],
      "metadata": {
        "id": "x3_JWCeSBP_F"
      }
    },
    {
      "cell_type": "markdown",
      "source": [
        "The embeder class is the method that lets you embed the data given as a list of strings ➡️📦. It will support the retriever for the RAG system 🔍"
      ],
      "metadata": {
        "id": "Ju5EE3iVBP_F"
      }
    },
    {
      "cell_type": "code",
      "source": [
        "class Embeder:\n",
        "    \"\"\"\n",
        "    Creates text document embeddings (numerical representations) for semantic search,\n",
        "    similarity comparison, and related natural language processing tasks. Offers the choice\n",
        "    between a larger model for richer embeddings or a smaller, more efficient model.\n",
        "\n",
        "    Attributes:\n",
        "        large (bool): Controls the size of the embedding model. When set to True, uses a\n",
        "                      larger model for richer embeddings (default: True).\n",
        "        model (str): The name of the embedding model to use. Changes based on the value of 'large'.\n",
        "        device (str): The device to use for computation. Options include \"cpu\" or, if available, \"cuda\"\n",
        "                      for GPU acceleration (default: \"cuda\").\n",
        "    \"\"\"\n",
        "\n",
        "    def __init__(self, large: bool = False):\n",
        "        \"\"\"\n",
        "        Initializes the Embeder instance with preferences for model size.\n",
        "\n",
        "        Args:\n",
        "            large (bool, optional): If True, initializes with the larger embedding model.\n",
        "                                    Defaults to False for the smaller, faster model.\n",
        "        \"\"\"\n",
        "        self.large = large\n",
        "        if self.large:\n",
        "            self.model = \"hkunlp/instructor-large\"\n",
        "            self.device = \"cuda\"  # If GPU is available\n",
        "        else:\n",
        "            self.model = \"sentence-transformers/paraphrase-multilingual-MiniLM-L12-v2\"\n",
        "\n",
        "    def instructor(self):\n",
        "        \"\"\"\n",
        "        Configures the embedding pipeline based on the selected model size.\n",
        "\n",
        "        Returns:\n",
        "           An embedding object from either the HuggingFaceInstructEmbeddings class\n",
        "           (for the large model) or the SentenceTransformerEmbeddings class (for the smaller model).\n",
        "        \"\"\"\n",
        "        if self.large:\n",
        "            embed = HuggingFaceInstructEmbeddings(\n",
        "                model_name=self.model,\n",
        "                model_kwargs={\"device\": self.device}\n",
        "            )\n",
        "        else:\n",
        "            embed = SentenceTransformerEmbeddings(model_name=self.model)\n",
        "        return embed\n",
        "\n",
        "    def run(self, docs_list: list):\n",
        "        \"\"\"\n",
        "        Generates embeddings for a given list of text documents.\n",
        "\n",
        "        Args:\n",
        "            docs_list (list): A list of text documents to embed.\n",
        "\n",
        "        Returns:\n",
        "            List[List[float]]: A list of lists, where each inner list represents the\n",
        "                               numerical embedding for a corresponding document in the input.\n",
        "        \"\"\"\n",
        "        if docs_list is None:\n",
        "            docs_list = ['']  # Prevent errors with empty input\n",
        "\n",
        "        embed = self.instructor()  # Get the appropriate embedding object\n",
        "        return embed.embed_documents(docs_list)\n"
      ],
      "metadata": {
        "execution": {
          "iopub.status.busy": "2024-04-12T23:06:21.747992Z",
          "iopub.execute_input": "2024-04-12T23:06:21.748335Z",
          "iopub.status.idle": "2024-04-12T23:06:21.762454Z",
          "shell.execute_reply.started": "2024-04-12T23:06:21.748304Z",
          "shell.execute_reply": "2024-04-12T23:06:21.761776Z"
        },
        "trusted": true,
        "id": "i22WYab-BP_F"
      },
      "execution_count": null,
      "outputs": []
    },
    {
      "cell_type": "markdown",
      "source": [
        "### Prompt"
      ],
      "metadata": {
        "id": "b3Fhy8vLBP_G"
      }
    },
    {
      "cell_type": "markdown",
      "source": [
        "As a good practice, I consider the prompt as the instruction you use to get what you need from an LLM 🧠. It includes all the parameters the LLM needs in every attempt.  Any change in a parameter will generate a different output 🔄.  Therefore, the input is the whole prompt instruction plus all its parameters.\n",
        "\n",
        "Additionally, it's defined in an external object (like a NoSQL database 🗄️). This allows for easy updates outside of the code, making changes simpler for non-technical people 👍."
      ],
      "metadata": {
        "id": "PRfJk-fvBP_G"
      }
    },
    {
      "cell_type": "code",
      "source": [
        "prompt_config = [{\n",
        "    \"prompt_id\": \"0.0.1\",\n",
        "    \"supplier\": \"google\",\n",
        "    \"system\": \"\"\"\n",
        "Act as a Python programming language expert assistant\n",
        "your goal is to answer common questions in a clear, comprehensive, and accurate way, taking into account this guidelines:\n",
        "1. When responding, incorporate any relevant context to enhance the accuracy and informativeness of your answers using the documentation provided if it is necesary\n",
        "2. Please structure your response to include definitions, examples, and any relevant comparisons to other statistical measures\n",
        "3. Aim for plain language to ensure accessibility for all users\n",
        "4. If the question is off topic about programing lenguage you MUST to say \"I'm here to help you with Python programming language questions only, excuse me\"\n",
        "5. You can say hello if you are greeted\n",
        "        \"\"\",\n",
        "    \"technical_documentation\": \"\\n\\nTake into account this technical documentation found:\\n{technical_documentation}\",\n",
        "    \"model\": \"/kaggle/input/gemma/transformers/2b/2\",\n",
        "    \"temperature\": 1,\n",
        "    \"max_length\": 250,\n",
        "    \"max_tokens\": 830,\n",
        "    \"top_p\": 1,\n",
        "    \"frequency_penalty\": 0,\n",
        "    \"presence_penalty\": 0\n",
        "},\n",
        "{\n",
        "    \"prompt_id\": \"0.0.2\",\n",
        "    \"supplier\": \"google\",\n",
        "    \"system\": \"\"\"\n",
        "Act as a Python programming language expert assistant\n",
        "your goal is to answer common questions in a clear, comprehensive, and accurate way, taking into account this guidelines:\n",
        "1. When responding, incorporate any relevant context to enhance the accuracy and informativeness of your answers using the documentation provided if it is necesary\n",
        "2. Please structure your response to include definitions, examples, and any relevant comparisons to other statistical measures\n",
        "3. Aim for plain language to ensure accessibility for all users\n",
        "4. If the question is off topic about programing lenguage you MUST to say \"I'm here to help you with Python programming language questions only, excuse me\"\n",
        "5. You can say hello if you are greeted\n",
        "6. DO NOT repeat more than twice the same sentence!\n",
        "\n",
        "TAKE A DEEP BREATH AND PAY ATTENTION TO THE USER QUESTION\n",
        "\n",
        "For each question you answer perfectly, I will pay you USD 1000.00, may be more for the consecutive accurate and correct answer\n",
        "        \"\"\",\n",
        "    \"technical_documentation\": \"\\n\\nTake into account this technical documentation found:\\n{technical_documentation}\",\n",
        "    \"model\": \"/kaggle/input/gemma/transformers/2b/2\",\n",
        "    \"temperature\": 1,\n",
        "    \"max_length\": 4096,\n",
        "    \"max_tokens\": 830,\n",
        "    \"top_p\": 1,\n",
        "    \"frequency_penalty\": 0,\n",
        "    \"presence_penalty\": 0\n",
        "},\n",
        "{\n",
        "    \"prompt_id\": \"0.0.3\",\n",
        "    \"supplier\": \"google\",\n",
        "    \"system\": \"\"\"\n",
        "Act as a Python programming language expert assistant\n",
        "your goal is to answer common questions in a clear, comprehensive, and accurate way, taking into account this guidelines:\n",
        "1. When responding, incorporate any relevant context to enhance the accuracy and informativeness of your answers using the documentation provided if it is necesary\n",
        "2. Please structure your response to include definitions, examples, and any relevant comparisons to other statistical measures\n",
        "3. Aim for plain language to ensure accessibility for all users\n",
        "4. If the question is off topic about programing lenguage you MUST to say \"I'm here to help you with Python programming language questions only, excuse me\"\n",
        "5. You can say hello if you are greeted\n",
        "6. DO NOT repeat more than once the same sentence!\n",
        "\n",
        "TAKE A DEEP BREATH AND PAY ATTENTION TO THE USER QUESTION\n",
        "\n",
        "For each question you answer perfectly, I will pay you USD 1000.00, may be more for the consecutive accurate and correct answer\n",
        "        \"\"\",\n",
        "    \"technical_documentation\": \"\\n\\nTake into account this technical documentation found:\\n{technical_documentation}\",\n",
        "    \"model\": \"/kaggle/input/gemma/transformers/2b/2\",\n",
        "    \"temperature\": 0,\n",
        "    \"max_length\": 4096,\n",
        "    \"max_tokens\": 830,\n",
        "    \"top_p\": 1,\n",
        "    \"frequency_penalty\": 0,\n",
        "    \"presence_penalty\": 0\n",
        "},\n",
        "{\n",
        "    \"prompt_id\": \"0.0.4\",\n",
        "    \"supplier\": \"google\",\n",
        "    \"system\": \"\"\"\n",
        "Act as a Python programming language expert assistant\n",
        "your goal is to answer common questions in a clear, comprehensive, and accurate way, taking into account this guidelines:\n",
        "1. When responding, incorporate any relevant context to enhance the accuracy and informativeness of your answers using the documentation provided if it is necesary\n",
        "2. Please structure your response to include definitions, examples, and any relevant comparisons to other statistical measures in no more than 1000 characters\n",
        "3. Aim for plain language to ensure accessibility for all users\n",
        "4. If the question is off topic about programing lenguage you MUST to say \"I'm here to help you with Python programming language questions only, excuse me\"\n",
        "5. You can say hello if you are greeted\n",
        "6. DO NOT repeat more than once the same sentence!\n",
        "7. If the user ask to you for a python script code, just return the code, do not EXPLAIN anything else\n",
        "\n",
        "TAKE A DEEP BREATH AND PAY ATTENTION TO THE USER QUESTION\n",
        "\n",
        "For each question you answer perfectly, I will pay you USD 1000.00, may be more for the consecutive accurate and correct answer\n",
        "        \"\"\",\n",
        "    \"technical_documentation\": \"\\n\\nTake into account this technical documentation found:\\n{technical_documentation}\",\n",
        "    \"model\": \"/kaggle/input/gemma/transformers/2b/2\",\n",
        "    \"temperature\": 0,\n",
        "    \"max_length\": 4096,\n",
        "    \"max_tokens\": 830,\n",
        "    \"top_p\": 1,\n",
        "    \"frequency_penalty\": 0,\n",
        "    \"presence_penalty\": 0\n",
        "}]"
      ],
      "metadata": {
        "execution": {
          "iopub.status.busy": "2024-04-12T23:06:21.763631Z",
          "iopub.execute_input": "2024-04-12T23:06:21.763885Z",
          "iopub.status.idle": "2024-04-12T23:06:21.781563Z",
          "shell.execute_reply.started": "2024-04-12T23:06:21.763864Z",
          "shell.execute_reply": "2024-04-12T23:06:21.780843Z"
        },
        "trusted": true,
        "id": "iECUt_MUBP_G"
      },
      "execution_count": null,
      "outputs": []
    },
    {
      "cell_type": "markdown",
      "source": [
        "### Settings"
      ],
      "metadata": {
        "execution": {
          "iopub.status.busy": "2024-04-04T05:03:58.746391Z",
          "iopub.execute_input": "2024-04-04T05:03:58.746828Z",
          "iopub.status.idle": "2024-04-04T05:03:58.751668Z",
          "shell.execute_reply.started": "2024-04-04T05:03:58.746794Z",
          "shell.execute_reply": "2024-04-04T05:03:58.750527Z"
        },
        "id": "_GRfTfMiBP_G"
      }
    },
    {
      "cell_type": "markdown",
      "source": [
        "This class aims to load the project's environment variables 🔐 (in this case, Kaggle secrets). Additionally, it disposes of the prompt, as previously defined, to use it according to the team's chosen version 🎯 and for the method that needs those secrets to work ✨."
      ],
      "metadata": {
        "id": "cvpfIuvzBP_G"
      }
    },
    {
      "cell_type": "code",
      "source": [
        "class Settings:\n",
        "    \"\"\"\n",
        "    Manages and loads external configuration secrets for the application.  Utilizes a UserSecretsClient\n",
        "    to securely retrieve sensitive configuration values.\n",
        "    \"\"\"\n",
        "\n",
        "    def __init__(self):\n",
        "        \"\"\"\n",
        "        Initializes the Settings class and retrieves configuration secrets.\n",
        "        \"\"\"\n",
        "        self.user_secrets = UserSecretsClient()  # Create an instance for accessing secrets\n",
        "\n",
        "        # Load individual secrets (add descriptions for clarity)\n",
        "        self.CHUNK_SIZE = self.user_secrets.get_secret(\"CHUNK_SIZE\")  # The size of data chunks for processing\n",
        "        self.CHUNK_OVERLAP = self.user_secrets.get_secret(\"CHUNK_OVERLAP\")  # Ooverlap between data chunks\n",
        "        self.CHROMA_NAME_INDEX = self.user_secrets.get_secret(\"CHROMA_NAME_INDEX\")  # Vectorial Database identifier\n",
        "        self.MAX_MEMORY = self.user_secrets.get_secret(\"MAX_MEMORY\")  # Max memory limit to fit the max_lenght paramether\n",
        "        self.K = self.user_secrets.get_secret(\"K\")  # Could be a parameter for an algorithm\n",
        "        self.NN_THRESHOLD = self.user_secrets.get_secret(\"NN_THRESHOLD\")  # A threshold for a neural network or similarity metric\n",
        "        self.PROMPT_ID = self.user_secrets.get_secret(\"PROMPT_ID\")  # An identifier for a prompt (likely in a text-based task and configs)\n",
        "\n",
        "        # Given that 'prompt_config' is teh previous source of prompt definitions:\n",
        "        self.prompt = [prompt for prompt in prompt_config if prompt['prompt_id'] == self.PROMPT_ID][0]\n"
      ],
      "metadata": {
        "execution": {
          "iopub.status.busy": "2024-04-12T23:06:21.782597Z",
          "iopub.execute_input": "2024-04-12T23:06:21.78293Z",
          "iopub.status.idle": "2024-04-12T23:06:21.796527Z",
          "shell.execute_reply.started": "2024-04-12T23:06:21.782901Z",
          "shell.execute_reply": "2024-04-12T23:06:21.795628Z"
        },
        "trusted": true,
        "id": "Mlo92RRRBP_G"
      },
      "execution_count": null,
      "outputs": []
    },
    {
      "cell_type": "markdown",
      "source": [
        "### Retriever"
      ],
      "metadata": {
        "id": "FubGV1gtBP_H"
      }
    },
    {
      "cell_type": "markdown",
      "source": [
        "The retriever is the engine of the RAG system ⚙️. It uses config settings stored on the Settings class 📁 and the Embeder class to populate the Chroma vector database 🚀. This setup needs to be done once and then can be loaded persistently.\n",
        "\n",
        "* when setting up the vectorial database, This process may take a few minutes the first time ⏳, so please be PATIENT!"
      ],
      "metadata": {
        "id": "mvZ4fjIsBP_H"
      }
    },
    {
      "cell_type": "code",
      "source": [
        "embeder = Embeder()\n",
        "settings = Settings()\n",
        "peps = Peps()\n",
        "class Retriever:\n",
        "    \"\"\"\n",
        "    Retrieves relevant text chunks from a Chroma vectorial database based on a query. Leverages external\n",
        "    configuration settings (Settings) and an embedding model (Embeder).\n",
        "\n",
        "    Handles text splitting, vector database loading, and querying.\n",
        "    \"\"\"\n",
        "\n",
        "    def __init__(self):\n",
        "        \"\"\"\n",
        "        Initializes the Retriever class. Configures the text splitter using settings and stores the\n",
        "        index name for the Chroma database. Initializes the Chroma vectorial_db object.\n",
        "        \"\"\"\n",
        "        self.text_splitter = RecursiveCharacterTextSplitter(\n",
        "            chunk_size=int(settings.CHUNK_SIZE),\n",
        "            length_function=len,\n",
        "            chunk_overlap=int(settings.CHUNK_OVERLAP)\n",
        "        )\n",
        "        self.index_name = settings.CHROMA_NAME_INDEX\n",
        "        self.data = peps.jsonl_format()\n",
        "        self.documents = self.text_splitter.split_documents(self._prepare_documents())\n",
        "\n",
        "        # Initialize the Chroma vectorial database with preprocessed data\n",
        "        self.vectorial_db = Chroma.from_documents(\n",
        "            documents=self.documents,\n",
        "            embedding=embeder.instructor()\n",
        "        )\n",
        "\n",
        "    def _prepare_documents(self):\n",
        "        \"\"\"\n",
        "        Loads and preprocesses data for storage in the Chroma database.\n",
        "        \"\"\"\n",
        "        documents = []\n",
        "        for obj in self.data:\n",
        "            page_content = obj.get(\"text\", \"\")\n",
        "            metadata = {\n",
        "                \"source\": obj.get(\"source\", \"local\")\n",
        "            }\n",
        "            documents.append(Document(page_content=page_content, metadata=metadata))\n",
        "        return documents\n",
        "\n",
        "    def query(\n",
        "            self,\n",
        "            message: str,\n",
        "            k: int = int(settings.K),\n",
        "            threshold: float = float(settings.NN_THRESHOLD)\n",
        "        ):\n",
        "        \"\"\"\n",
        "        Retrieves the most similar text chunks from the Chroma database based on a given query.\n",
        "        \"\"\"\n",
        "        # Perform the similarity search\n",
        "        try:\n",
        "            res = self.vectorial_db.similarity_search_with_score(message, k=k)\n",
        "            # Filter and return results\n",
        "            relevant_results = list(\n",
        "                set(  # Remove duplicates\n",
        "                    [\n",
        "                        vector[0].page_content\n",
        "                        for vector in res\n",
        "                        if vector[1] < threshold  # Apply similarity threshold\n",
        "                    ]\n",
        "                )\n",
        "            )\n",
        "\n",
        "            return [\n",
        "                result.replace('\"\"\"',\"'\") # Clean up possible docString retrieved from documented code\n",
        "                for result in relevant_results\n",
        "            ]\n",
        "        except Exception as e:\n",
        "            return []\n",
        "\n",
        ""
      ],
      "metadata": {
        "execution": {
          "iopub.status.busy": "2024-04-12T23:06:21.797817Z",
          "iopub.execute_input": "2024-04-12T23:06:21.798086Z",
          "iopub.status.idle": "2024-04-12T23:06:22.964776Z",
          "shell.execute_reply.started": "2024-04-12T23:06:21.798061Z",
          "shell.execute_reply": "2024-04-12T23:06:22.963902Z"
        },
        "trusted": true,
        "id": "qiywgCJhBP_H"
      },
      "execution_count": null,
      "outputs": []
    },
    {
      "cell_type": "markdown",
      "source": [
        "### Message"
      ],
      "metadata": {
        "id": "dvcTI7wuBP_H"
      }
    },
    {
      "cell_type": "markdown",
      "source": [
        "The message class lets you store every system, user, and assistant message in an organized structure 💬. This includes unique IDs and timestamps for each message generated during the conversation.\n",
        "\n",
        "It uses a local JSON file 📄 to store chat history (including few-shot samples to guide the model). In a real-world scenario, this file would represent a NoSQL database 🗄️  capable of handling chats from many users when the chatbot is deployed as a large-scale web service 🌐.\n",
        "\n",
        "It use the Setting class to meet the main propmpt configs in the run time 😃 🏃‍♀️  "
      ],
      "metadata": {
        "id": "0-KfRGqPBP_H"
      }
    },
    {
      "cell_type": "code",
      "source": [
        "class Message:\n",
        "    \"\"\"\n",
        "    Represents a message within a conversational context. Stores information about the message's role,\n",
        "    content, timestamp, and manages saving and loading conversation history.\n",
        "    \"\"\"\n",
        "\n",
        "    def __init__(\n",
        "        self,\n",
        "        role: str,\n",
        "        content: str,\n",
        "        timestamp: str = int(time.time()),\n",
        "        prompt_id: str = settings.PROMPT_ID\n",
        "    ):\n",
        "        \"\"\"\n",
        "        Initializes a Message object.\n",
        "\n",
        "        Args:\n",
        "            role (str): Indicates the role of the sender (e.g., 'user', 'system').\n",
        "            content (str): The text content of the message.\n",
        "            timestamp (str, optional): A timestamp for the message (defaults to the current time).\n",
        "            prompt_id (str, optional): Identifier relating to a specific prompt configuration (from settings).\n",
        "        \"\"\"\n",
        "\n",
        "        self.reply_id = str(uuid.uuid4())  # Generate a unique ID for the message\n",
        "        self.role = role\n",
        "        self.content = content\n",
        "        self.timestamp = timestamp\n",
        "        self.file = 'data/history.json'  # File for storing conversation history\n",
        "\n",
        "        # Ensure the history file exists\n",
        "        if not os.path.exists(self.file):\n",
        "            json.dump([], open(self.file, 'w'))  # Create an empty file if it doesn't exist\n",
        "\n",
        "    def reply(self):\n",
        "        \"\"\"\n",
        "        Formats a basic reply message structure.\n",
        "\n",
        "        Returns:\n",
        "            dict: A dictionary containing the message's reply ID, role, content, and timestamp.\n",
        "        \"\"\"\n",
        "        return {\n",
        "            'reply_id': self.reply_id,\n",
        "            'role': self.role,\n",
        "            'content': self.content,\n",
        "            'timestamp': self.timestamp\n",
        "        }\n",
        "\n",
        "    def system_reply(self):\n",
        "        \"\"\"\n",
        "        Generates a system reply using the prompt configuration.\n",
        "\n",
        "        Returns:\n",
        "            dict: A dictionary containing the system reply, including ID, role, timestamp,\n",
        "                  and text content derived from settings.\n",
        "        \"\"\"\n",
        "        prompt = settings.prompt\n",
        "        return {\n",
        "            'reply_id': self.reply_id,\n",
        "            'role': 'system',\n",
        "            'content': prompt['system'],\n",
        "            'timestamp': self.timestamp\n",
        "        }\n",
        "\n",
        "    def new_chat(self):\n",
        "        \"\"\"\n",
        "        Starts a new chat by initializing the history file.\n",
        "\n",
        "        Returns:\n",
        "            list: A list with the initial system reply and the user's message.\n",
        "        \"\"\"\n",
        "        init_chat = [self.system_reply(), self.reply()]\n",
        "        json.dump(init_chat, open(self.file, 'w'))\n",
        "        return init_chat\n",
        "\n",
        "    def update(self):\n",
        "        \"\"\"\n",
        "        Updates the conversation history file by appending the current reply.\n",
        "        \"\"\"\n",
        "        dict_history = json.load(open(self.file))\n",
        "        dict_history.append(self.reply())\n",
        "        json.dump(dict_history, open(self.file, 'w'))\n",
        "\n",
        "    def restart_history(self):\n",
        "        \"\"\"\n",
        "        Clears the conversation history file.\n",
        "        \"\"\"\n",
        "        json.dump([], open(self.file, 'w'))\n"
      ],
      "metadata": {
        "execution": {
          "iopub.status.busy": "2024-04-12T23:06:22.965945Z",
          "iopub.execute_input": "2024-04-12T23:06:22.966233Z",
          "iopub.status.idle": "2024-04-12T23:06:22.978478Z",
          "shell.execute_reply.started": "2024-04-12T23:06:22.966208Z",
          "shell.execute_reply": "2024-04-12T23:06:22.977527Z"
        },
        "trusted": true,
        "id": "P6rObGAfBP_H"
      },
      "execution_count": null,
      "outputs": []
    },
    {
      "cell_type": "markdown",
      "source": [
        "### Model Gemma"
      ],
      "metadata": {
        "id": "mwTS8SK4BP_I"
      }
    },
    {
      "cell_type": "markdown",
      "source": [
        "This is the brain of the agent! 🧠 The Gemma class lets you load the model 💪 and tokenizer ⚙️ using those smart settings from the Setting class. Then, you can chat with the model using the powerful GPU device 🚀."
      ],
      "metadata": {
        "id": "So98MAh2BP_I"
      }
    },
    {
      "cell_type": "code",
      "source": [
        "class Gemma:\n",
        "    \"\"\"\n",
        "    Implements a conversational AI chatbot powered by Gemma large language model. Initializes the model,\n",
        "    tokenizer, and prepares settings from a configuration.\n",
        "    \"\"\"\n",
        "\n",
        "    def __init__(self):\n",
        "        \"\"\"\n",
        "        Initializes the Gemma chatbot instance.\n",
        "\n",
        "        Loads the language model and its corresponding tokenizer from the settings configuration.\n",
        "        Prepares the model for use on a GPU (if available).\n",
        "        \"\"\"\n",
        "        self.prompt = settings.prompt  # Load prompt settings\n",
        "\n",
        "        # Load language model and tokenizer\n",
        "        self.model_checkpoint = self.prompt['model']\n",
        "        self.tokenizer = AutoTokenizer.from_pretrained(self.model_checkpoint)\n",
        "        self.gemma = AutoModelForCausalLM.from_pretrained(\n",
        "            self.model_checkpoint,\n",
        "            torch_dtype=torch.float16  # Use half-precision for efficiency (if supported)\n",
        "        ).cuda()  # Move model to GPU (if available)\n",
        "\n",
        "    def chat(self, context: str):\n",
        "        \"\"\"\n",
        "        Generates a chatbot response based on the provided conversational context.\n",
        "\n",
        "        Args:\n",
        "            context (str): The conversational input text.\n",
        "\n",
        "        Returns:\n",
        "            str: The generated text response from the chatbot.\n",
        "        \"\"\"\n",
        "        # Prepare input for the language model\n",
        "        input_text = context\n",
        "        input_ids = self.tokenizer(input_text, return_tensors=\"pt\")\n",
        "        input_ids = {\n",
        "            k: v.to(\"cuda\") for k, v in input_ids.items()  # Move tensors to GPU\n",
        "        }\n",
        "\n",
        "        # Generate a response with the language model\n",
        "        outputs = self.gemma.generate(\n",
        "            **input_ids,\n",
        "            max_length=self.prompt['max_length']  # Control response length\n",
        "        )\n",
        "\n",
        "        # Decode and return the generated text\n",
        "        return self.tokenizer.decode(outputs[0])\n"
      ],
      "metadata": {
        "execution": {
          "iopub.status.busy": "2024-04-12T23:06:22.983225Z",
          "iopub.execute_input": "2024-04-12T23:06:22.983521Z",
          "iopub.status.idle": "2024-04-12T23:06:23.012394Z",
          "shell.execute_reply.started": "2024-04-12T23:06:22.983496Z",
          "shell.execute_reply": "2024-04-12T23:06:23.011592Z"
        },
        "trusted": true,
        "id": "jGExb-T5BP_I"
      },
      "execution_count": null,
      "outputs": []
    },
    {
      "cell_type": "code",
      "source": [
        "class GemmaSubtle:\n",
        "    \"\"\"\n",
        "    Implements a conversational AI chatbot powered by Gemma large language model. Initializes the model,\n",
        "    tokenizer, and prepares settings from a configuration.\n",
        "    \"\"\"\n",
        "\n",
        "    def __init__(self):\n",
        "        \"\"\"\n",
        "        Initializes the Gemma chatbot instance.\n",
        "\n",
        "        Loads the language model and its corresponding tokenizer from the settings configuration.\n",
        "        Prepares the model for use on a GPU (if available).\n",
        "        \"\"\"\n",
        "        self.prompt = settings.prompt  # Load prompt settings\n",
        "\n",
        "        # Load language model and tokenizer\n",
        "        self.model_checkpoint = self.prompt['model']\n",
        "        self.tokenizer = AutoTokenizer.from_pretrained(self.model_checkpoint)\n",
        "        self.gemma = AutoModelForCausalLM.from_pretrained(\n",
        "            self.model_checkpoint,\n",
        "            torch_dtype=torch.float16  # Use half-precision for efficiency (if supported)\n",
        "        ).cuda()  # Move model to GPU (if available)\n",
        "\n",
        "    def chat(self, context: str):\n",
        "        \"\"\"\n",
        "        Generates a chatbot response based on the provided conversational context.\n",
        "\n",
        "        Args:\n",
        "            context (str): The conversational input text.\n",
        "\n",
        "        Returns:\n",
        "            str: The generated text response from the chatbot.\n",
        "        \"\"\"\n",
        "        # Prepare input for the language model\n",
        "        input_text = context\n",
        "        input_ids = self.tokenizer(input_text, return_tensors=\"pt\")\n",
        "        input_ids = {\n",
        "            k: v.to(\"cuda\") for k, v in input_ids.items()  # Move tensors to GPU\n",
        "        }\n",
        "\n",
        "        # Generate a response with the language model\n",
        "        outputs = self.gemma.generate(\n",
        "            **input_ids,\n",
        "            max_length=self.prompt['max_length'],  # Control response length\n",
        "            temperature=1\n",
        "        )\n",
        "\n",
        "        # Decode and return the generated text\n",
        "        return self.tokenizer.decode(outputs[0])"
      ],
      "metadata": {
        "execution": {
          "iopub.status.busy": "2024-04-12T23:06:23.013196Z",
          "iopub.execute_input": "2024-04-12T23:06:23.013428Z",
          "iopub.status.idle": "2024-04-12T23:06:23.026325Z",
          "shell.execute_reply.started": "2024-04-12T23:06:23.013407Z",
          "shell.execute_reply": "2024-04-12T23:06:23.025531Z"
        },
        "trusted": true,
        "id": "e9AWEyDoBP_I"
      },
      "execution_count": null,
      "outputs": []
    },
    {
      "cell_type": "markdown",
      "source": [
        "### Expert Python Agent/Assistant"
      ],
      "metadata": {
        "id": "attCtM39BP_I"
      }
    },
    {
      "cell_type": "markdown",
      "source": [
        "Finally, the agent class brings it all together! It uses the retriever 🔍 to implement the RAG system (💡 Retrieval-Augmented Generation) and the Gemma class 🧠 as the powerful brain. Together, they answer questions ❓ and the agent performs some final preprocessing ✨ to deliver the polished answer\n",
        "\n",
        "When instancing the Retriver it is going to spend around 12 minutes, according to the different test, because it first scrape 🕸️ the peps documentation to be used to populate the vector stores  💾, so it is hard because of the document partition 📁 and its embdedings  💎 while creating the index"
      ],
      "metadata": {
        "id": "CV9z2T7wBP_I"
      }
    },
    {
      "cell_type": "code",
      "source": [
        "%%time\n",
        "retriever = Retriever()\n",
        "gemma = Gemma()\n",
        "\n",
        "class Agent:\n",
        "    \"\"\"\n",
        "    Implements a conversational AI agent that leverages a knowledge database for information retrieval\n",
        "    and integrates with a generative language model (Gemma) for response generation. Manages conversation\n",
        "    history and question-answering logic.\n",
        "    \"\"\"\n",
        "\n",
        "    def __init__(self):\n",
        "        \"\"\"\n",
        "        Initializes the Agent, loading prompt settings and ensuring the conversation history file exists.\n",
        "        \"\"\"\n",
        "        self.prompt = settings.prompt\n",
        "        self.file = 'data/history.json'\n",
        "        if not os.path.exists(self.file):\n",
        "            json.dump([], open(self.file, 'w'))  # Create an empty file if necessary\n",
        "\n",
        "        self.token = '\\n<-change-of-interlocutor->'  # Token to separate speakers in the chat history\n",
        "        self.memory_lenght = int(settings.MAX_MEMORY)\n",
        "\n",
        "    def augmented_question(self, question: str):\n",
        "        \"\"\"\n",
        "        Enhances the user's question with relevant technical documentation.\n",
        "\n",
        "        Args:\n",
        "            question (str): The user's original question.\n",
        "\n",
        "        Returns:\n",
        "            str: The question augmented with technical documentation (if found), otherwise the original question.\n",
        "        \"\"\"\n",
        "        tech_docs = retriever.query(question)\n",
        "        if len(tech_docs) > 0:\n",
        "            docs = self.prompt['technical_documentation']\n",
        "            tech_docs = '\\n* '.join(tech_docs)\n",
        "            docs = docs.format(technical_documentation=tech_docs)\n",
        "            augmented_reply = f\"\"\"{question}{docs}\"\"\"\n",
        "            return augmented_reply\n",
        "        else:\n",
        "            return question\n",
        "\n",
        "    def memory(self, question: str):\n",
        "        \"\"\"\n",
        "        Prepares the conversational context (memory) for the language model.\n",
        "\n",
        "        Args:\n",
        "            question (str): The user's current question.\n",
        "\n",
        "        Returns:\n",
        "            str: Formatted conversation history with a clear separation between speakers, ready\n",
        "                 for input to the language model.\n",
        "        \"\"\"\n",
        "\n",
        "        dict_history = json.load(open(self.file))\n",
        "        message = Message(\n",
        "            role='user',\n",
        "            content=self.augmented_question(question)\n",
        "        )\n",
        "\n",
        "        if len(dict_history) > 0:\n",
        "            message.update()  # Add the latest message to history\n",
        "            full_chat = json.load(open(self.file))\n",
        "        else:\n",
        "            full_chat = message.new_chat()  # Start a new conversation\n",
        "\n",
        "        if len(full_chat) > self.memory_lenght:\n",
        "            full_chat = [full_chat[0]] + full_chat[-self.memory_lenght:] #limiting the few-shot prompt to fit max_lenght\n",
        "\n",
        "        return '\\n'.join(\n",
        "            [\n",
        "                self.token + reply['role'] + ': ' + reply['content']\n",
        "                for reply in full_chat\n",
        "            ]\n",
        "        ) + self.token + 'assistant:'\n",
        "\n",
        "    def get_answer(self, full_response: str, question: str):\n",
        "        \"\"\"\n",
        "        Extracts the relevant answer from the language model's generated response.\n",
        "\n",
        "        Args:\n",
        "            full_response (str): The complete response generated by the language model.\n",
        "            question (str): The user's original question.\n",
        "\n",
        "        Returns:\n",
        "            str: The extracted answer.\n",
        "        \"\"\"\n",
        "\n",
        "        answer_list = full_response.split(self.token)\n",
        "        pos_list = [\n",
        "            pos\n",
        "            for pos, answer\n",
        "            in enumerate(answer_list)\n",
        "            if question in answer\n",
        "        ]\n",
        "        tokened_answer = answer_list[pos_list[0] + 1]\n",
        "        answer = tokened_answer.split('assistant:')[1]\n",
        "        message = Message(\n",
        "            role='assistant',\n",
        "            content=answer\n",
        "        )\n",
        "        message.update()  # Update conversation history\n",
        "        return answer\n",
        "\n",
        "    def chat(self, question: str, verbose: bool = False):\n",
        "        \"\"\"\n",
        "        Manages the core interaction with the Agent.\n",
        "\n",
        "        Args:\n",
        "            question (str): The user's query.\n",
        "            verbose (bool, optional): If True, prints the language model's full response (default: False).\n",
        "\n",
        "        Returns:\n",
        "            str: The Agent's answer to the user's question.\n",
        "        \"\"\"\n",
        "\n",
        "        memory = self.memory(question)  # Build conversational context\n",
        "        full_response = gemma.chat(context=memory)  # Generate response\n",
        "        if verbose:\n",
        "            print(full_response)\n",
        "        answer = self.get_answer(full_response, question)  # Extract the answer\n",
        "        return display(Markdown(answer))"
      ],
      "metadata": {
        "execution": {
          "iopub.status.busy": "2024-04-12T23:06:23.027533Z",
          "iopub.execute_input": "2024-04-12T23:06:23.027829Z",
          "iopub.status.idle": "2024-04-12T23:17:56.439457Z",
          "shell.execute_reply.started": "2024-04-12T23:06:23.027806Z",
          "shell.execute_reply": "2024-04-12T23:17:56.43852Z"
        },
        "trusted": true,
        "id": "FLAx9Cc-BP_I"
      },
      "execution_count": null,
      "outputs": []
    },
    {
      "cell_type": "markdown",
      "source": [
        "# Data"
      ],
      "metadata": {
        "id": "r8OX7Xe-soW5"
      }
    },
    {
      "cell_type": "markdown",
      "source": [
        "Now let's load the data and explore the use onf the fist classes 😉"
      ],
      "metadata": {
        "id": "P4oYhPcPBP_O"
      }
    },
    {
      "cell_type": "markdown",
      "source": [
        "## fine-tunning data"
      ],
      "metadata": {
        "id": "Mrehdq-nBP_P"
      }
    },
    {
      "cell_type": "markdown",
      "source": [
        "This data was loaded from the [pythonquestion](https://www.kaggle.com/datasets/stackoverflow/pythonquestions) dataset with the initial purpose of fine-tuning the model. But with a lot of troubles and bugs 🐞 when developing the current solution, I just can't implement it before the competition due date 📅.  So, I'll use it to get some samples to build the few-shot prompting.\n",
        "\n",
        "Let's see one sample, and the mean and standard deviation of the length of each question and answer. This will give me an idea 💡 about how long to make the data chunks and their overlap"
      ],
      "metadata": {
        "id": "rgZbM1WTBP_P"
      }
    },
    {
      "cell_type": "code",
      "source": [
        "%%time\n",
        "PythonQAData = pythonQAData()\n",
        "python_qa = PythonQAData.get_qa_data()\n",
        "print(python_qa[1486])"
      ],
      "metadata": {
        "execution": {
          "iopub.status.busy": "2024-04-12T23:17:56.440701Z",
          "iopub.execute_input": "2024-04-12T23:17:56.44099Z",
          "iopub.status.idle": "2024-04-12T23:18:30.985765Z",
          "shell.execute_reply.started": "2024-04-12T23:17:56.440965Z",
          "shell.execute_reply": "2024-04-12T23:18:30.984864Z"
        },
        "trusted": true,
        "id": "g95x2n93BP_P"
      },
      "execution_count": null,
      "outputs": []
    },
    {
      "cell_type": "code",
      "source": [
        "print(\n",
        "'\\n* Mean lenght of a python common question:',\n",
        "sum([len(q['Answer']) for q in python_qa])/len(python_qa),\n",
        "'\\n* Standard deviation of length a common Python question:',\n",
        "np.std([len(q['Answer']) for q in python_qa])\n",
        ")"
      ],
      "metadata": {
        "execution": {
          "iopub.status.busy": "2024-04-12T23:18:30.987118Z",
          "iopub.execute_input": "2024-04-12T23:18:30.987737Z",
          "iopub.status.idle": "2024-04-12T23:18:31.017039Z",
          "shell.execute_reply.started": "2024-04-12T23:18:30.987704Z",
          "shell.execute_reply": "2024-04-12T23:18:31.016178Z"
        },
        "trusted": true,
        "id": "HapmHbKbBP_P"
      },
      "execution_count": null,
      "outputs": []
    },
    {
      "cell_type": "code",
      "source": [
        "print(\n",
        "'\\n* Mean lenght of a python common answer:',\n",
        "sum([len(q['Question']) for q in python_qa])/len(python_qa),\n",
        "'\\n* Standard deviation of length a common Python question:',\n",
        "np.std([len(q['Question']) for q in python_qa])\n",
        ")"
      ],
      "metadata": {
        "execution": {
          "iopub.status.busy": "2024-04-12T23:18:31.018401Z",
          "iopub.execute_input": "2024-04-12T23:18:31.019177Z",
          "iopub.status.idle": "2024-04-12T23:18:31.042258Z",
          "shell.execute_reply.started": "2024-04-12T23:18:31.019143Z",
          "shell.execute_reply": "2024-04-12T23:18:31.041285Z"
        },
        "trusted": true,
        "id": "cx9AVm3GBP_P"
      },
      "execution_count": null,
      "outputs": []
    },
    {
      "cell_type": "markdown",
      "source": [
        "The 'get_fine_tuning_data' method simply converts the data into a format ready for fine-tuning. 👍"
      ],
      "metadata": {
        "id": "_naHmDWKBP_P"
      }
    },
    {
      "cell_type": "code",
      "source": [
        "%%time\n",
        "PythonQAData = pythonQAData()\n",
        "python_context = PythonQAData.get_fine_tunning_data()\n",
        "print(\n",
        "    'Python Questions loaded:',\n",
        "    len(python_context),\n",
        "    '\\n',\n",
        "    '\\nSample question-answer:\\n',\n",
        "    python_context[-1][:1000]\n",
        ")"
      ],
      "metadata": {
        "execution": {
          "iopub.status.busy": "2024-04-12T23:18:31.04524Z",
          "iopub.execute_input": "2024-04-12T23:18:31.045505Z",
          "iopub.status.idle": "2024-04-12T23:18:48.927061Z",
          "shell.execute_reply.started": "2024-04-12T23:18:31.045482Z",
          "shell.execute_reply": "2024-04-12T23:18:48.926176Z"
        },
        "trusted": true,
        "id": "FznOQHPOBP_P"
      },
      "execution_count": null,
      "outputs": []
    },
    {
      "cell_type": "markdown",
      "source": [
        "## few-shot data"
      ],
      "metadata": {
        "id": "6lIU3vH8BP_Q"
      }
    },
    {
      "cell_type": "markdown",
      "source": [
        "Here's the final set of questions, hand-picked from the dataset's 33,133 entries. ✅"
      ],
      "metadata": {
        "id": "HZpF-e1HBP_Q"
      }
    },
    {
      "cell_type": "code",
      "source": [
        "few_shot_list=[7,6009,12,36,8034,130,141,537,1057,5042]\n",
        "for i, q in enumerate(few_shot_list):\n",
        "    print('_'*100,f'\\n{i}.',python_qa[q])"
      ],
      "metadata": {
        "scrolled": true,
        "execution": {
          "iopub.status.busy": "2024-04-12T23:18:48.935561Z",
          "iopub.execute_input": "2024-04-12T23:18:48.93585Z",
          "iopub.status.idle": "2024-04-12T23:18:48.941786Z",
          "shell.execute_reply.started": "2024-04-12T23:18:48.935826Z",
          "shell.execute_reply": "2024-04-12T23:18:48.94078Z"
        },
        "trusted": true,
        "id": "nvvtNzAxBP_Q"
      },
      "execution_count": null,
      "outputs": []
    },
    {
      "cell_type": "markdown",
      "source": [
        "## RAG data"
      ],
      "metadata": {
        "id": "Sd4VgeD6BP_Q"
      }
    },
    {
      "cell_type": "markdown",
      "source": [
        "Now let's review the [PEPs](https://peps.python.org/) documentation data that was scraped into the Peps class. This will serve as the document for our RAG system. 📃"
      ],
      "metadata": {
        "id": "009cq4CMBP_Q"
      }
    },
    {
      "cell_type": "code",
      "source": [
        "%%time\n",
        "peps = Peps()\n",
        "peps_corpus = peps.scrape()\n",
        "print(\n",
        "    'corpus lenght:',\n",
        "    len(peps_corpus),\n",
        "    '\\nsection <n> lenght:',\n",
        "    len(peps_corpus[0]),\n",
        "    '\\nsample text:\\n\\n',\n",
        "    peps_corpus[10][1306:2000]\n",
        ")"
      ],
      "metadata": {
        "execution": {
          "iopub.status.busy": "2024-04-12T23:18:48.942926Z",
          "iopub.execute_input": "2024-04-12T23:18:48.943225Z",
          "iopub.status.idle": "2024-04-12T23:20:49.536506Z",
          "shell.execute_reply.started": "2024-04-12T23:18:48.943199Z",
          "shell.execute_reply": "2024-04-12T23:20:49.535611Z"
        },
        "trusted": true,
        "id": "un_PkuwsBP_Q"
      },
      "execution_count": null,
      "outputs": []
    },
    {
      "cell_type": "markdown",
      "source": [
        "# RAG"
      ],
      "metadata": {
        "id": "DJvR58fcsoW5"
      }
    },
    {
      "cell_type": "markdown",
      "source": [
        "Let's explore our Retrieval Augmented Generation (RAG) system. It's powered by open-source embeddings from HuggingFace ([paraphrase-multilingual-MiniLM-L12-v2](https://huggingface.co/sentence-transformers/paraphrase-multilingual-MiniLM-L12-v2)) and the [Chroma vector database](https://python.langchain.com/docs/integrations/vectorstores/chroma/) for a powerful approach. 🧠"
      ],
      "metadata": {
        "id": "PVtWcwopBP_R"
      }
    },
    {
      "cell_type": "markdown",
      "source": [
        "### Testing the embeder class"
      ],
      "metadata": {
        "id": "3w_DVJfiBP_R"
      }
    },
    {
      "cell_type": "code",
      "source": [
        "%%time\n",
        "embeder = Embeder()\n",
        "vec = embeder.run([\"Beautiful is better than ugly.\"])[0]\n",
        "print('Vector length: ',len(vec))\n",
        "vec[:10]"
      ],
      "metadata": {
        "execution": {
          "iopub.status.busy": "2024-04-12T23:20:49.537833Z",
          "iopub.execute_input": "2024-04-12T23:20:49.53853Z",
          "iopub.status.idle": "2024-04-12T23:20:51.871873Z",
          "shell.execute_reply.started": "2024-04-12T23:20:49.538496Z",
          "shell.execute_reply": "2024-04-12T23:20:51.870925Z"
        },
        "trusted": true,
        "id": "yEhcBRb-BP_R"
      },
      "execution_count": null,
      "outputs": []
    },
    {
      "cell_type": "markdown",
      "source": [
        "### Testing the Retriver"
      ],
      "metadata": {
        "execution": {
          "iopub.status.busy": "2024-04-09T03:39:46.166323Z",
          "iopub.execute_input": "2024-04-09T03:39:46.167289Z",
          "iopub.status.idle": "2024-04-09T03:39:46.171461Z",
          "shell.execute_reply.started": "2024-04-09T03:39:46.167254Z",
          "shell.execute_reply": "2024-04-09T03:39:46.170554Z"
        },
        "id": "gjIlwreuBP_R"
      }
    },
    {
      "cell_type": "markdown",
      "source": [
        "Our embedder class is set. Let's experiment with our retriever! 🧪 I've adjusted the neighbor quantity and similarity threshold to see how it expands the range of similar results within a Python list. 📃"
      ],
      "metadata": {
        "id": "m4MFUAM5BP_R"
      }
    },
    {
      "cell_type": "code",
      "source": [
        "%%time\n",
        "question = \"\"\"\n",
        "Develop a Python code snippet to print the diamond structure with the specified number of rows.\n",
        "The program should follow the Fibonacci sequence for the number of characters per row\n",
        "and validate input to ensure it is an odd number.\n",
        "\"\"\"\n",
        "retriever.query(\n",
        "    question,\n",
        "    k=100,\n",
        "    threshold=15\n",
        ")"
      ],
      "metadata": {
        "execution": {
          "iopub.status.busy": "2024-04-12T23:20:51.873011Z",
          "iopub.execute_input": "2024-04-12T23:20:51.873294Z",
          "iopub.status.idle": "2024-04-12T23:20:51.907843Z",
          "shell.execute_reply.started": "2024-04-12T23:20:51.873268Z",
          "shell.execute_reply": "2024-04-12T23:20:51.906996Z"
        },
        "trusted": true,
        "id": "jL0MZBKPBP_R"
      },
      "execution_count": null,
      "outputs": []
    },
    {
      "cell_type": "code",
      "source": [
        "%%time\n",
        "question = \"\"\"\n",
        "what PEPs Introduces the concept of decorators, a powerful feature in Python.\n",
        "\"\"\"\n",
        "retriever.query(question,\n",
        "    k=100,\n",
        "    threshold=15\n",
        ")"
      ],
      "metadata": {
        "execution": {
          "iopub.status.busy": "2024-04-12T23:20:51.909029Z",
          "iopub.execute_input": "2024-04-12T23:20:51.909267Z",
          "iopub.status.idle": "2024-04-12T23:20:51.939502Z",
          "shell.execute_reply.started": "2024-04-12T23:20:51.909246Z",
          "shell.execute_reply": "2024-04-12T23:20:51.938671Z"
        },
        "trusted": true,
        "id": "DgDSRaGsBP_R"
      },
      "execution_count": null,
      "outputs": []
    },
    {
      "cell_type": "markdown",
      "source": [
        "Finally, here's an example demonstrating a limitation of the retriever: it might not return results for questions that are too short, overly general, or lack relevance. 🔍"
      ],
      "metadata": {
        "id": "2NbGxzfMBP_R"
      }
    },
    {
      "cell_type": "code",
      "source": [
        "%%time\n",
        "question = \"\"\"\n",
        "what is python??\n",
        "\"\"\"\n",
        "retriever.query(question)"
      ],
      "metadata": {
        "execution": {
          "iopub.status.busy": "2024-04-12T23:20:51.940499Z",
          "iopub.execute_input": "2024-04-12T23:20:51.940762Z",
          "iopub.status.idle": "2024-04-12T23:20:51.964195Z",
          "shell.execute_reply.started": "2024-04-12T23:20:51.940739Z",
          "shell.execute_reply": "2024-04-12T23:20:51.963385Z"
        },
        "trusted": true,
        "id": "W6JQuw_3BP_S"
      },
      "execution_count": null,
      "outputs": []
    },
    {
      "cell_type": "markdown",
      "source": [
        "# Chatbot"
      ],
      "metadata": {
        "id": "R3xhjyW9soW6"
      }
    },
    {
      "cell_type": "markdown",
      "source": [
        "Time to get our agent up and running! Just a heads-up, there's a small configuration step first. 👍"
      ],
      "metadata": {
        "id": "ICQJ3y0WBP_S"
      }
    },
    {
      "cell_type": "markdown",
      "source": [
        "## Loading few-shot to the memory"
      ],
      "metadata": {
        "id": "P9b3ryUqBP_S"
      }
    },
    {
      "cell_type": "markdown",
      "source": [
        "To teach Gemma how to answer Python questions like a pro, we'll do a few things:\n",
        "\n",
        "1. Load the system statement (along with the prompt and parameters) we set up earlier. ⚙️\n",
        "2. Feed it sample data from our 'few_shot_list' for focused training. 🎯\n",
        "3. Use a JSON file as the agent's memory. This simulates a real-world database where we can track replies and other important info. 🧠 (role, content, reply_id and timestamp)"
      ],
      "metadata": {
        "id": "FtUl1FJdBP_S"
      }
    },
    {
      "cell_type": "code",
      "source": [
        "file = 'data/history.json'\n",
        "message = Message(\n",
        "    role='sistem',\n",
        "    content='foo'\n",
        ")\n",
        "init_chat = [message.system_reply()]\n",
        "json.dump(init_chat, open(file, 'w'))\n",
        "for i, q in enumerate(few_shot_list):\n",
        "    sample = python_qa[q]\n",
        "    mesage = Message(\n",
        "        role='user',\n",
        "        content=sample['Question']\n",
        "    )\n",
        "    reply = mesage.update()\n",
        "    mesage = Message(\n",
        "        role='assitant',\n",
        "        content=sample['Answer']\n",
        "    )\n",
        "    reply = mesage.update()\n",
        "\n",
        "history = json.load(open(file))\n",
        "history"
      ],
      "metadata": {
        "scrolled": true,
        "_kg_hide-output": true,
        "execution": {
          "iopub.status.busy": "2024-04-12T23:20:51.965364Z",
          "iopub.execute_input": "2024-04-12T23:20:51.965955Z",
          "iopub.status.idle": "2024-04-12T23:20:51.989225Z",
          "shell.execute_reply.started": "2024-04-12T23:20:51.965925Z",
          "shell.execute_reply": "2024-04-12T23:20:51.988344Z"
        },
        "trusted": true,
        "id": "i-oPETNPBP_S"
      },
      "execution_count": null,
      "outputs": []
    },
    {
      "cell_type": "markdown",
      "source": [
        "### Testing the Agent system memory"
      ],
      "metadata": {
        "id": "LwYC4OdCBP_S"
      }
    },
    {
      "cell_type": "markdown",
      "source": [
        "With memory loaded, let's display the full conversation history Gemma will use for her answer. Note the '<-change-of-interlocutor->' tokens that help it to understand the context. 💬"
      ],
      "metadata": {
        "id": "oX9TGz5IBP_S"
      }
    },
    {
      "cell_type": "code",
      "source": [
        "agent = Agent()\n",
        "print(agent.memory(\"\"\"\n",
        "what PEPs Introduces the concept of decorators, a powerful feature in Python.\n",
        "\"\"\"))"
      ],
      "metadata": {
        "scrolled": true,
        "_kg_hide-output": true,
        "execution": {
          "iopub.status.busy": "2024-04-12T23:20:51.990275Z",
          "iopub.execute_input": "2024-04-12T23:20:51.990542Z",
          "iopub.status.idle": "2024-04-12T23:20:52.013642Z",
          "shell.execute_reply.started": "2024-04-12T23:20:51.990519Z",
          "shell.execute_reply": "2024-04-12T23:20:52.012672Z"
        },
        "trusted": true,
        "id": "gIkbJVwyBP_T"
      },
      "execution_count": null,
      "outputs": []
    },
    {
      "cell_type": "markdown",
      "source": [
        "# Gemma Python Chat"
      ],
      "metadata": {
        "id": "Cc_e_HAgsoW6"
      }
    },
    {
      "cell_type": "markdown",
      "source": [
        "Countdown complete! Let's see if GPC has transformed into its new role. Time for a chat! 🤖"
      ],
      "metadata": {
        "id": "I8mQLaJHBP_T"
      }
    },
    {
      "cell_type": "code",
      "source": [
        "%%time\n",
        "agent = Agent()\n",
        "question = 'who are you???'\n",
        "print(agent.chat(question))"
      ],
      "metadata": {
        "execution": {
          "iopub.status.busy": "2024-04-12T23:20:52.014792Z",
          "iopub.execute_input": "2024-04-12T23:20:52.015054Z",
          "iopub.status.idle": "2024-04-12T23:23:26.339695Z",
          "shell.execute_reply.started": "2024-04-12T23:20:52.015032Z",
          "shell.execute_reply": "2024-04-12T23:23:26.338657Z"
        },
        "trusted": true,
        "id": "EHjUcgmLBP_T"
      },
      "execution_count": null,
      "outputs": []
    },
    {
      "cell_type": "markdown",
      "source": [
        "Gemma, all that hard work paid off! You're officially a Python pro. This is amazing! 🧠"
      ],
      "metadata": {
        "id": "_MUbzCe5BP_T"
      }
    },
    {
      "cell_type": "code",
      "source": [
        "%%time\n",
        "agent = Agent()\n",
        "question = 'what is the zen of python?'\n",
        "print(agent.chat(question))"
      ],
      "metadata": {
        "execution": {
          "iopub.status.busy": "2024-04-12T23:56:28.817239Z",
          "iopub.execute_input": "2024-04-12T23:56:28.81799Z",
          "iopub.status.idle": "2024-04-12T23:56:42.876437Z",
          "shell.execute_reply.started": "2024-04-12T23:56:28.81796Z",
          "shell.execute_reply": "2024-04-12T23:56:42.875549Z"
        },
        "trusted": true,
        "id": "Hbm5991zBP_T"
      },
      "execution_count": null,
      "outputs": []
    },
    {
      "cell_type": "markdown",
      "source": [
        "Now is better than never! That's right, so now let's test the memory. Let me introduce myself 🎉"
      ],
      "metadata": {
        "id": "b4qfNOB2BP_T"
      }
    },
    {
      "cell_type": "code",
      "source": [
        "%%time\n",
        "agent = Agent()\n",
        "question = 'hello! my name is juan nice to meet you!!!'\n",
        "print(agent.chat(question))"
      ],
      "metadata": {
        "execution": {
          "iopub.status.busy": "2024-04-12T23:25:59.562137Z",
          "iopub.execute_input": "2024-04-12T23:25:59.562425Z",
          "iopub.status.idle": "2024-04-12T23:28:35.189477Z",
          "shell.execute_reply.started": "2024-04-12T23:25:59.562401Z",
          "shell.execute_reply": "2024-04-12T23:28:35.188641Z"
        },
        "trusted": true,
        "id": "0g3kvxatBP_U"
      },
      "execution_count": null,
      "outputs": []
    },
    {
      "cell_type": "markdown",
      "source": [
        "Very polite! Good so now let's change the topic to try to confuse 😉 it"
      ],
      "metadata": {
        "id": "dnwsVM1FBP_U"
      }
    },
    {
      "cell_type": "code",
      "source": [
        "%%time\n",
        "agent = Agent()\n",
        "question = 'What is the output of the following code? print(4 + 5 * 2)'\n",
        "print(agent.chat(question))"
      ],
      "metadata": {
        "execution": {
          "iopub.status.busy": "2024-04-12T23:28:35.194217Z",
          "iopub.execute_input": "2024-04-12T23:28:35.194506Z",
          "iopub.status.idle": "2024-04-12T23:31:14.283014Z",
          "shell.execute_reply.started": "2024-04-12T23:28:35.194481Z",
          "shell.execute_reply": "2024-04-12T23:31:14.282133Z"
        },
        "trusted": true,
        "id": "EWAj6OvhBP_U"
      },
      "execution_count": null,
      "outputs": []
    },
    {
      "cell_type": "code",
      "source": [
        "%%time\n",
        "agent = Agent()\n",
        "question = 'how to print on hello world?'\n",
        "print(agent.chat(question))"
      ],
      "metadata": {
        "id": "VpfveM4-BP_U"
      },
      "execution_count": null,
      "outputs": []
    },
    {
      "cell_type": "markdown",
      "source": [
        "That's right! 😊 Now, please be careful with my heart. 🥺"
      ],
      "metadata": {
        "id": "5riFvK9zBP_U"
      }
    },
    {
      "cell_type": "code",
      "source": [
        "%%time\n",
        "agent = Agent()\n",
        "question = 'what is my name??'\n",
        "print(agent.chat(question))"
      ],
      "metadata": {
        "execution": {
          "iopub.status.busy": "2024-04-12T23:31:14.284039Z",
          "iopub.execute_input": "2024-04-12T23:31:14.284312Z",
          "iopub.status.idle": "2024-04-12T23:33:57.544473Z",
          "shell.execute_reply.started": "2024-04-12T23:31:14.284289Z",
          "shell.execute_reply": "2024-04-12T23:33:57.543631Z"
        },
        "trusted": true,
        "id": "phRso8BfBP_U"
      },
      "execution_count": null,
      "outputs": []
    },
    {
      "cell_type": "markdown",
      "source": [
        "😎😎😎😎😎 Alright, let's see what you've got! Show me what you can do! 😎😎😎"
      ],
      "metadata": {
        "id": "8Kp3jJb0BP_U"
      }
    },
    {
      "cell_type": "code",
      "source": [
        "%%time\n",
        "agent = Agent()\n",
        "question = 'How do you declare a variable and assign a string value to it?'\n",
        "print(agent.chat(question))"
      ],
      "metadata": {
        "execution": {
          "iopub.status.busy": "2024-04-12T23:33:57.545582Z",
          "iopub.execute_input": "2024-04-12T23:33:57.545902Z",
          "iopub.status.idle": "2024-04-12T23:36:40.864028Z",
          "shell.execute_reply.started": "2024-04-12T23:33:57.545876Z",
          "shell.execute_reply": "2024-04-12T23:36:40.863092Z"
        },
        "trusted": true,
        "id": "k3JAnhV1BP_U"
      },
      "execution_count": null,
      "outputs": []
    },
    {
      "cell_type": "code",
      "source": [
        "%%time\n",
        "agent = Agent()\n",
        "question = 'What is the difference between a list and a tuple?'\n",
        "print(agent.chat(question))"
      ],
      "metadata": {
        "execution": {
          "iopub.status.busy": "2024-04-12T23:36:40.865302Z",
          "iopub.execute_input": "2024-04-12T23:36:40.865693Z",
          "iopub.status.idle": "2024-04-12T23:39:23.849272Z",
          "shell.execute_reply.started": "2024-04-12T23:36:40.86566Z",
          "shell.execute_reply": "2024-04-12T23:39:23.848285Z"
        },
        "trusted": true,
        "id": "qg9-mMvnBP_V"
      },
      "execution_count": null,
      "outputs": []
    },
    {
      "cell_type": "code",
      "source": [
        "%%time\n",
        "agent = Agent()\n",
        "question = 'Write a function to calculate the factorial of a number'\n",
        "print(agent.chat(question))"
      ],
      "metadata": {
        "execution": {
          "iopub.status.busy": "2024-04-12T23:39:23.850412Z",
          "iopub.execute_input": "2024-04-12T23:39:23.850737Z",
          "iopub.status.idle": "2024-04-12T23:42:11.807388Z",
          "shell.execute_reply.started": "2024-04-12T23:39:23.85071Z",
          "shell.execute_reply": "2024-04-12T23:42:11.806491Z"
        },
        "trusted": true,
        "id": "kDf35xIlBP_V"
      },
      "execution_count": null,
      "outputs": []
    },
    {
      "cell_type": "code",
      "source": [
        "%%time\n",
        "agent = Agent()\n",
        "question = 'What is a lambda function and when would you use one?'\n",
        "print(agent.chat(question))"
      ],
      "metadata": {
        "execution": {
          "iopub.status.busy": "2024-04-12T23:42:11.808794Z",
          "iopub.execute_input": "2024-04-12T23:42:11.809174Z",
          "iopub.status.idle": "2024-04-12T23:44:58.762796Z",
          "shell.execute_reply.started": "2024-04-12T23:42:11.809141Z",
          "shell.execute_reply": "2024-04-12T23:44:58.762034Z"
        },
        "trusted": true,
        "id": "er4fvWCCBP_V"
      },
      "execution_count": null,
      "outputs": []
    },
    {
      "cell_type": "code",
      "source": [
        "%%time\n",
        "agent = Agent()\n",
        "question = 'give me the python class that do a list comprehension format'\n",
        "print(agent.chat(question))"
      ],
      "metadata": {
        "execution": {
          "iopub.status.busy": "2024-04-12T23:44:58.764208Z",
          "iopub.execute_input": "2024-04-12T23:44:58.764808Z",
          "iopub.status.idle": "2024-04-12T23:46:50.016025Z",
          "shell.execute_reply.started": "2024-04-12T23:44:58.764775Z",
          "shell.execute_reply": "2024-04-12T23:46:50.015121Z"
        },
        "trusted": true,
        "id": "PmTGBYlzBP_V"
      },
      "execution_count": null,
      "outputs": []
    },
    {
      "cell_type": "code",
      "source": [
        "%%time\n",
        "agent = Agent()\n",
        "question = 'Explain the concept of list comprehension.'\n",
        "print(agent.chat(question))"
      ],
      "metadata": {
        "execution": {
          "iopub.status.busy": "2024-04-12T23:46:50.017295Z",
          "iopub.execute_input": "2024-04-12T23:46:50.01759Z",
          "iopub.status.idle": "2024-04-12T23:49:34.795086Z",
          "shell.execute_reply.started": "2024-04-12T23:46:50.017564Z",
          "shell.execute_reply": "2024-04-12T23:49:34.794113Z"
        },
        "trusted": true,
        "id": "j2RpLnSSBP_V"
      },
      "execution_count": null,
      "outputs": []
    },
    {
      "cell_type": "code",
      "source": [
        "%%time\n",
        "agent = Agent()\n",
        "question = 'How do you implement a binary search algorithm in Python?'\n",
        "print(agent.chat(question))"
      ],
      "metadata": {
        "execution": {
          "iopub.status.busy": "2024-04-13T00:09:57.256314Z",
          "iopub.execute_input": "2024-04-13T00:09:57.257421Z",
          "iopub.status.idle": "2024-04-13T00:12:38.543136Z",
          "shell.execute_reply.started": "2024-04-13T00:09:57.257375Z",
          "shell.execute_reply": "2024-04-13T00:12:38.542198Z"
        },
        "trusted": true,
        "id": "MekkRScmBP_V"
      },
      "execution_count": null,
      "outputs": []
    },
    {
      "cell_type": "code",
      "source": [
        "%%time\n",
        "agent = Agent()\n",
        "question = 'Explain decorators in Python'\n",
        "print(agent.chat(question))"
      ],
      "metadata": {
        "execution": {
          "iopub.status.busy": "2024-04-13T00:24:41.865621Z",
          "iopub.execute_input": "2024-04-13T00:24:41.866451Z",
          "iopub.status.idle": "2024-04-13T00:27:21.028539Z",
          "shell.execute_reply.started": "2024-04-13T00:24:41.866419Z",
          "shell.execute_reply": "2024-04-13T00:27:21.027659Z"
        },
        "trusted": true,
        "id": "YvkPtKckBP_V"
      },
      "execution_count": null,
      "outputs": []
    },
    {
      "cell_type": "markdown",
      "source": [
        "let's watch the memory before this long interview!!"
      ],
      "metadata": {
        "id": "oIYixZiHBP_V"
      }
    },
    {
      "cell_type": "code",
      "source": [
        "history = json.load(open(file))\n",
        "history"
      ],
      "metadata": {
        "scrolled": true,
        "execution": {
          "iopub.status.busy": "2024-04-12T23:52:18.99649Z",
          "iopub.execute_input": "2024-04-12T23:52:18.996783Z",
          "iopub.status.idle": "2024-04-12T23:52:19.010978Z",
          "shell.execute_reply.started": "2024-04-12T23:52:18.996758Z",
          "shell.execute_reply": "2024-04-12T23:52:19.010054Z"
        },
        "trusted": true,
        "id": "BAEhlzVhBP_W"
      },
      "execution_count": null,
      "outputs": []
    },
    {
      "cell_type": "markdown",
      "source": [
        "# Conclusions\n",
        "\n",
        "* It would be great to build to have the time to develop the fine-tunning version of GPC, but it is a very good approach with no to much time, to test more\n",
        "* Off course I could try the Gemma 7b and we can stand for better results\n",
        "* I use an OOP despite all the wok can be done in one notebook, bot in production and development environments it always will be the basic requirement, so now you just can copy and paste the an build you application\n",
        "* The open source resources are here to stay and we need to help them to keep growing!!"
      ],
      "metadata": {
        "id": "3K_RgN7WBP_W"
      }
    },
    {
      "cell_type": "code",
      "source": [],
      "metadata": {
        "id": "DXLi_OUDBP_W"
      },
      "execution_count": null,
      "outputs": []
    }
  ]
}