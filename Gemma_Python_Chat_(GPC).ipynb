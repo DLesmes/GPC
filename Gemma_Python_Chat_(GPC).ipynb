{
  "metadata": {
    "kernelspec": {
      "language": "python",
      "display_name": "Python 3",
      "name": "python3"
    },
    "language_info": {
      "name": "python",
      "version": "3.10.13",
      "mimetype": "text/x-python",
      "codemirror_mode": {
        "name": "ipython",
        "version": 3
      },
      "pygments_lexer": "ipython3",
      "nbconvert_exporter": "python",
      "file_extension": ".py"
    },
    "kaggle": {
      "accelerator": "none",
      "dataSources": [
        {
          "sourceId": 64148,
          "databundleVersionId": 7669720,
          "sourceType": "competition"
        },
        {
          "sourceId": 726715,
          "sourceType": "datasetVersion",
          "datasetId": 262
        },
        {
          "sourceId": 11384,
          "sourceType": "modelInstanceVersion",
          "isSourceIdPinned": true,
          "modelInstanceId": 6216
        }
      ],
      "dockerImageVersionId": 30674,
      "isInternetEnabled": true,
      "language": "python",
      "sourceType": "notebook",
      "isGpuEnabled": false
    },
    "colab": {
      "name": "Gemma Python Chat (GPC)",
      "provenance": [],
      "include_colab_link": true
    }
  },
  "nbformat_minor": 0,
  "nbformat": 4,
  "cells": [
    {
      "cell_type": "markdown",
      "metadata": {
        "id": "view-in-github",
        "colab_type": "text"
      },
      "source": [
        "<a href=\"https://colab.research.google.com/github/DLesmes/GPC/blob/main/Gemma_Python_Chat_(GPC).ipynb\" target=\"_parent\"><img src=\"https://colab.research.google.com/assets/colab-badge.svg\" alt=\"Open In Colab\"/></a>"
      ]
    },
    {
      "source": [
        "\n",
        "# IMPORTANT: RUN THIS CELL IN ORDER TO IMPORT YOUR KAGGLE DATA SOURCES\n",
        "# TO THE CORRECT LOCATION (/kaggle/input) IN YOUR NOTEBOOK,\n",
        "# THEN FEEL FREE TO DELETE THIS CELL.\n",
        "# NOTE: THIS NOTEBOOK ENVIRONMENT DIFFERS FROM KAGGLE'S PYTHON\n",
        "# ENVIRONMENT SO THERE MAY BE MISSING LIBRARIES USED BY YOUR\n",
        "# NOTEBOOK.\n",
        "\n",
        "import os\n",
        "import sys\n",
        "from tempfile import NamedTemporaryFile\n",
        "from urllib.request import urlopen\n",
        "from urllib.parse import unquote, urlparse\n",
        "from urllib.error import HTTPError\n",
        "from zipfile import ZipFile\n",
        "import tarfile\n",
        "import shutil\n",
        "\n",
        "CHUNK_SIZE = 40960\n",
        "DATA_SOURCE_MAPPING = 'data-assistants-with-gemma:https%3A%2F%2Fstorage.googleapis.com%2Fkaggle-competitions-data%2Fkaggle-v2%2F64148%2F7669720%2Fbundle%2Farchive.zip%3FX-Goog-Algorithm%3DGOOG4-RSA-SHA256%26X-Goog-Credential%3Dgcp-kaggle-com%2540kaggle-161607.iam.gserviceaccount.com%252F20240409%252Fauto%252Fstorage%252Fgoog4_request%26X-Goog-Date%3D20240409T052756Z%26X-Goog-Expires%3D259200%26X-Goog-SignedHeaders%3Dhost%26X-Goog-Signature%3Da4fa0b793fc43229536143d21247412977d2161330529a7fa5a46bfc94454d1024cdc4d8864b4745460674b2cdcae79a4f792324a83cbc2f8d19be5ea4f08a2199fdea4d0676986c05b0b52730312ce935319489abec917cb3dd16b7176e5526d5eafb5777c78a0437b35d05575f96c1d1b3b1b7b57c5f652a82db74d33c51ee4ae204fc11653702fb22717b3d987849c043e6d15d6b4354ab69a17b14e6f796ea6391925f7a52f29701379c70cda7e3eb04bb5614afd14dadaa1cb97f6053f12f9816f20c05535b24eeec7c22d8e54b07a1fce6f97dd070c4ac073b5008c91d741ec0f76342c7c40c58386e08c43535608c64f42ba21ee8dafc4bb0e5856df5,pythonquestions:https%3A%2F%2Fstorage.googleapis.com%2Fkaggle-data-sets%2F262%2F726715%2Fbundle%2Farchive.zip%3FX-Goog-Algorithm%3DGOOG4-RSA-SHA256%26X-Goog-Credential%3Dgcp-kaggle-com%2540kaggle-161607.iam.gserviceaccount.com%252F20240409%252Fauto%252Fstorage%252Fgoog4_request%26X-Goog-Date%3D20240409T052756Z%26X-Goog-Expires%3D259200%26X-Goog-SignedHeaders%3Dhost%26X-Goog-Signature%3D902152acc060effff388aed8c236d502f70e592f4b1cd246d39368f925c7cb46e4a0a7691c048ef05d469af9cf9f68286dde734acbdee00bd58d2d8b07dd71241a16d1d75317fd15b54ad3c38980cbdfd916e29815e6df8f16df5734c9f6066b1c2c41a2c49c0e717f54937dcedac54cb1d538db01814815ea3323de61d72acc63fc9f3eca8534936e2cc944892e08a6381c405506eeb52994cfb134b54f7443e3893786ee3d0db614bf7abc14130cab89c56069f155121cba414681ebd58c332c60abdcd6268f8ee999a1d47b7ac0c758a3c2ad3f5fd2d989e44e39db3dc2acf07787ff0f240b59e3a25ef29411ae40397b761f27d28062c335491107bd7eab,gemma/transformers/2b/2:https%3A%2F%2Fstorage.googleapis.com%2Fkaggle-models-data%2F6216%2F11384%2Fbundle%2Farchive.tar.gz%3FX-Goog-Algorithm%3DGOOG4-RSA-SHA256%26X-Goog-Credential%3Dgcp-kaggle-com%2540kaggle-161607.iam.gserviceaccount.com%252F20240409%252Fauto%252Fstorage%252Fgoog4_request%26X-Goog-Date%3D20240409T052756Z%26X-Goog-Expires%3D259200%26X-Goog-SignedHeaders%3Dhost%26X-Goog-Signature%3D93eb62f95d4457b2a79a6a571044783f0e66b112a6bea6064dccfd6bbf2c1d97eae6276f1d8ae354b78cff02a14e82d57d51b358b130816477d40a755ed13bfc50dce5ed8d023e9a21bfc1ef8ab49885c6afdfd8d1bcce2a7aba6771d9527c2556cbdb3e00e4628e22a90f7e17dabc34fd282ab46b258f6dd38abf8b839c377eb039c5b75d2836879f7afb85aa2f68de6bc2890835c4095690a7a90e1a41659833956ea0adfa093957acccfc2f4d7835706ddd519c53c3d6cdcab1877b939b59d2d551c0299d3708f02303f3887c44a08907b5faf0d6b193c4240817c608bd20ef1537f3a0e58a2260eb65e3bc0896d9d931e5fd25dc5c3749286fabdf5d7763'\n",
        "\n",
        "KAGGLE_INPUT_PATH='/kaggle/input'\n",
        "KAGGLE_WORKING_PATH='/kaggle/working'\n",
        "KAGGLE_SYMLINK='kaggle'\n",
        "\n",
        "!umount /kaggle/input/ 2> /dev/null\n",
        "shutil.rmtree('/kaggle/input', ignore_errors=True)\n",
        "os.makedirs(KAGGLE_INPUT_PATH, 0o777, exist_ok=True)\n",
        "os.makedirs(KAGGLE_WORKING_PATH, 0o777, exist_ok=True)\n",
        "\n",
        "try:\n",
        "  os.symlink(KAGGLE_INPUT_PATH, os.path.join(\"..\", 'input'), target_is_directory=True)\n",
        "except FileExistsError:\n",
        "  pass\n",
        "try:\n",
        "  os.symlink(KAGGLE_WORKING_PATH, os.path.join(\"..\", 'working'), target_is_directory=True)\n",
        "except FileExistsError:\n",
        "  pass\n",
        "\n",
        "for data_source_mapping in DATA_SOURCE_MAPPING.split(','):\n",
        "    directory, download_url_encoded = data_source_mapping.split(':')\n",
        "    download_url = unquote(download_url_encoded)\n",
        "    filename = urlparse(download_url).path\n",
        "    destination_path = os.path.join(KAGGLE_INPUT_PATH, directory)\n",
        "    try:\n",
        "        with urlopen(download_url) as fileres, NamedTemporaryFile() as tfile:\n",
        "            total_length = fileres.headers['content-length']\n",
        "            print(f'Downloading {directory}, {total_length} bytes compressed')\n",
        "            dl = 0\n",
        "            data = fileres.read(CHUNK_SIZE)\n",
        "            while len(data) > 0:\n",
        "                dl += len(data)\n",
        "                tfile.write(data)\n",
        "                done = int(50 * dl / int(total_length))\n",
        "                sys.stdout.write(f\"\\r[{'=' * done}{' ' * (50-done)}] {dl} bytes downloaded\")\n",
        "                sys.stdout.flush()\n",
        "                data = fileres.read(CHUNK_SIZE)\n",
        "            if filename.endswith('.zip'):\n",
        "              with ZipFile(tfile) as zfile:\n",
        "                zfile.extractall(destination_path)\n",
        "            else:\n",
        "              with tarfile.open(tfile.name) as tarfile:\n",
        "                tarfile.extractall(destination_path)\n",
        "            print(f'\\nDownloaded and uncompressed: {directory}')\n",
        "    except HTTPError as e:\n",
        "        print(f'Failed to load (likely expired) {download_url} to path {destination_path}')\n",
        "        continue\n",
        "    except OSError as e:\n",
        "        print(f'Failed to load {download_url} to path {destination_path}')\n",
        "        continue\n",
        "\n",
        "print('Data source import complete.')\n"
      ],
      "metadata": {
        "id": "7mdy6D06U9Sm"
      },
      "cell_type": "code",
      "outputs": [],
      "execution_count": null
    },
    {
      "cell_type": "markdown",
      "source": [
        "<a href=\"https://colab.research.google.com/github/DLesmes/GPC/blob/main/GPC_(Gemma_Python_Chat).ipynb\" target=\"_parent\"><img src=\"https://colab.research.google.com/assets/colab-badge.svg\" alt=\"Open In Colab\"/></a>"
      ],
      "metadata": {
        "id": "view-in-github"
      }
    },
    {
      "cell_type": "markdown",
      "source": [
        "# GCP 🤖 Gemma Python Chatbot"
      ],
      "metadata": {
        "id": "Qx8hbihKsoW3"
      }
    },
    {
      "cell_type": "markdown",
      "source": [
        "![](https://i.ibb.co/8xZNc32/Gemma.png)"
      ],
      "metadata": {
        "id": "OhjH77ZnU9Sq"
      }
    },
    {
      "cell_type": "markdown",
      "source": [
        "The Gemma Python Chatbot 🚀🚀 help you to answer common questions about the 🐍 Python programming language, powered by [Gemma 2B IT](https://blog.google/technology/developers/gemma-open-models/) with a few-shot strategy using some questions of [Stackoverflow python question kaggle dataset](https://www.kaggle.com/datasets/stackoverflow/pythonquestions) and updated with the Python Enhancement Proposal ([PEPs](https://peps.python.org/)) documentation using a Retrival-Augmented Generation ([RAG](https://blogs.nvidia.com/blog/what-is-retrieval-augmented-generation/)) supported by a Chroma vectorial database using the open source embeddings [hkunlp/instructor-large](https://huggingface.co/hkunlp/instructor-large) of 768 entries, orchested by [langchaing](https://python.langchain.com/docs/use_cases/chatbots/) that is a framework that let you use differen models and less code changes on the architecture when you decide to test other providers"
      ],
      "metadata": {
        "id": "5C9kSlAVsoW4"
      }
    },
    {
      "cell_type": "markdown",
      "source": [
        "## Requirements"
      ],
      "metadata": {
        "id": "5GhJQPvLsoW4"
      }
    },
    {
      "cell_type": "code",
      "source": [
        "!pip install chromadb #!pip install chromadb==0.3.26\n",
        "# !pip install ydata-profiling #!pip install ydata-profiling==4.6.1\n",
        "!pip install langchain #!pip install langchain==0.0.345 ##!pip install langchain-core==0.1.31\n",
        "#!pip install pydantic  #!pip install pydantic==1.10.14\n",
        "!pip install sentence-transformers   #!pip install sentence-transformers==2.6.1\n",
        "!pip install InstructorEmbedding  #!pip install InstructorEmbedding==1.0.1"
      ],
      "metadata": {
        "_kg_hide-input": false,
        "scrolled": true,
        "_kg_hide-output": true,
        "execution": {
          "iopub.status.busy": "2024-04-09T01:44:06.249645Z",
          "iopub.execute_input": "2024-04-09T01:44:06.249945Z",
          "iopub.status.idle": "2024-04-09T01:45:24.593767Z",
          "shell.execute_reply.started": "2024-04-09T01:44:06.24992Z",
          "shell.execute_reply": "2024-04-09T01:45:24.592614Z"
        },
        "trusted": true,
        "id": "b_BwxSBhU9Sr"
      },
      "execution_count": null,
      "outputs": []
    },
    {
      "cell_type": "code",
      "source": [
        "#base\n",
        "import os\n",
        "import json\n",
        "import re\n",
        "import uuid\n",
        "import time\n",
        "import csv\n",
        "import pandas as pd\n",
        "import numpy as np\n",
        "from typing import *\n",
        "# variables\n",
        "from kaggle_secrets import UserSecretsClient\n",
        "# model\n",
        "import torch\n",
        "from torch.utils.data import Dataset\n",
        "from transformers import (\n",
        "    AutoTokenizer,\n",
        "    AutoModelForCausalLM,\n",
        "    Trainer,\n",
        "    DataCollatorForSeq2Seq,\n",
        "    Seq2SeqTrainingArguments,\n",
        ")\n",
        "# data\n",
        "from datasets import load_dataset\n",
        "import requests\n",
        "from bs4 import BeautifulSoup\n",
        "# embeddings\n",
        "from langchain.embeddings import SentenceTransformerEmbeddings\n",
        "from langchain.embeddings import HuggingFaceInstructEmbeddings\n",
        "# vector database\n",
        "from langchain.schema import Document\n",
        "from langchain.text_splitter import RecursiveCharacterTextSplitter\n",
        "from langchain.vectorstores import Chroma"
      ],
      "metadata": {
        "id": "Vq5ZFhX7soW4",
        "execution": {
          "iopub.status.busy": "2024-04-09T01:45:24.595944Z",
          "iopub.execute_input": "2024-04-09T01:45:24.596272Z",
          "iopub.status.idle": "2024-04-09T01:45:44.043846Z",
          "shell.execute_reply.started": "2024-04-09T01:45:24.596245Z",
          "shell.execute_reply": "2024-04-09T01:45:44.043031Z"
        },
        "trusted": true
      },
      "execution_count": null,
      "outputs": []
    },
    {
      "cell_type": "markdown",
      "source": [
        "# Classes"
      ],
      "metadata": {
        "id": "qIumkIUuU9Ss"
      }
    },
    {
      "cell_type": "markdown",
      "source": [
        "I use object-oriented Python programming 💻 to develop the chatbot, using the classes 📁 in the corresponding order to support the Agent class that is the final service of the chatbot 🤖."
      ],
      "metadata": {
        "id": "vyWtsfUDU9Ss"
      }
    },
    {
      "cell_type": "markdown",
      "source": [
        "### Questions and answers data\n",
        "\n"
      ],
      "metadata": {
        "id": "q7TdFwlTU9Ss"
      }
    },
    {
      "cell_type": "markdown",
      "source": [
        "This class fit the data of [Stackoverflow python question kaggle dataset](https://www.kaggle.com/datasets/stackoverflow/pythonquestions) 📚 to use it in a fine-tuned format ⚙️ or a list of dicts 🗂️... it depends on the case of use you need! it also will be use to select some samples to make the few-shoot strategy"
      ],
      "metadata": {
        "id": "pqnGudVNU9Ss"
      }
    },
    {
      "cell_type": "code",
      "source": [
        "class pythonQAData:\n",
        "    \"\"\"\n",
        "    Processes data from Questions and Answers CSV files to provide a structured Q&A format.\n",
        "\n",
        "    Attributes:\n",
        "        questions_path (str): Path to the Questions CSV file\n",
        "        answers_path (str): Path to the Answers CSV file\n",
        "        tags_path (str): Path to the tags CSV file\n",
        "\n",
        "    Methods:\n",
        "        load_data(): Loads the CSV data into DataFrames.\n",
        "        merge(): Cleans, merges, and formats the question and answer data.\n",
        "        get_formatted_qa(): Returns a list of formatted question-answer strings.\n",
        "    \"\"\"\n",
        "\n",
        "    def __init__(self):\n",
        "        self.questions_path = '../input/pythonquestions/Questions.csv'\n",
        "        self.answers_path = '../input/pythonquestions/Answers.csv'\n",
        "        self.tags_path = '../input/pythonquestions/Tags.csv'\n",
        "        self.regex = r\"<\\/?[\\w\\s]*>\"\n",
        "\n",
        "    def load_data(self):\n",
        "        \"\"\"Loads Questions and Answers data from CSV files.\"\"\"\n",
        "        df_questions = pd.read_csv(\n",
        "            self.questions_path,\n",
        "            encoding=\"ISO-8859-1\",\n",
        "            usecols=[\n",
        "                'Id',\n",
        "                'Score',\n",
        "                'Title'\n",
        "            ]\n",
        "        )\n",
        "        df_answers = pd.read_csv(\n",
        "            self.answers_path,\n",
        "            encoding=\"ISO-8859-1\",\n",
        "            usecols=[\n",
        "                'ParentId',\n",
        "                'Score',\n",
        "                'Body'\n",
        "            ]\n",
        "        )\n",
        "        df_tags = pd.read_csv(\n",
        "            self.tags_path,\n",
        "            encoding=\"ISO-8859-1\",\n",
        "            usecols=[\n",
        "                'Id',\n",
        "                'Tag'\n",
        "            ]\n",
        "        )\n",
        "        return df_questions, df_answers, df_tags\n",
        "\n",
        "\n",
        "    def qa_data(self):\n",
        "        \"\"\"Cleans, merges, and formats the question and answer data.\"\"\"\n",
        "        df_questions, df_answers, df_tags = self.load_data()\n",
        "        # Rename\n",
        "        df_questions.rename(\n",
        "            columns={\n",
        "                'Title': 'Question',\n",
        "                'Score': 'question_score'\n",
        "            },\n",
        "            inplace=True\n",
        "        )\n",
        "        df_answers.rename(\n",
        "            columns={\n",
        "                'Body': 'Answer',\n",
        "                'ParentId':'Id',\n",
        "                'Score': 'answer_score'\n",
        "            },\n",
        "            inplace=True\n",
        "        )\n",
        "        # Filter by score\n",
        "        df_questions = df_questions[df_questions['question_score'] > 5].copy()\n",
        "        # Sort and deduplicate answers\n",
        "        df_answers = df_answers.sort_values(\n",
        "            'answer_score',\n",
        "            ascending=False\n",
        "        ).drop_duplicates(subset=['Id'])\n",
        "        # Merge\n",
        "        df_qa = df_questions.merge(\n",
        "            df_answers,\n",
        "            how='left',\n",
        "            on='Id'\n",
        "        ).merge(\n",
        "            df_tags,\n",
        "            how='left',\n",
        "            on='Id'\n",
        "        )\n",
        "        # filter for python  questions\n",
        "        df_qa = df_qa[df_qa['answer_score'] > 5].copy()\n",
        "        df_qa = df_qa[df_qa['Tag']=='python'].copy()\n",
        "        df_qa['Answer'] = df_qa['Answer'].apply(\n",
        "            lambda x: re.sub(\n",
        "                self.regex,\n",
        "                \"\",\n",
        "                x\n",
        "            )\n",
        "        )\n",
        "        return df_qa\n",
        "\n",
        "    def get_fine_tunning_data(self):\n",
        "        \"\"\"Returns a list of formatted user-assistant strings.\"\"\"\n",
        "        df_qa_data = self.qa_data()\n",
        "        data = [\n",
        "            f\"<-change-of-interlocutor->user:\\n{row['Question']}\\n<-change-of-interlocutor->assistant:\\n{row['Answer']}\"\n",
        "            for index, row\n",
        "            in df_qa_data.iterrows()\n",
        "        ]\n",
        "        return data\n",
        "    def get_qa_data(self):\n",
        "        \"\"\"Returns a list of records dictionaries \"\"\"\n",
        "        df_qa_data = self.qa_data()\n",
        "        data = df_qa_data[\n",
        "            [\n",
        "                'Question',\n",
        "                'Answer'\n",
        "            ]\n",
        "        ].to_dict(orient='records')\n",
        "        return data\n"
      ],
      "metadata": {
        "id": "bSU-ohmssoW5",
        "execution": {
          "iopub.status.busy": "2024-04-09T01:45:44.045074Z",
          "iopub.execute_input": "2024-04-09T01:45:44.045821Z",
          "iopub.status.idle": "2024-04-09T01:45:44.060534Z",
          "shell.execute_reply.started": "2024-04-09T01:45:44.045784Z",
          "shell.execute_reply": "2024-04-09T01:45:44.059677Z"
        },
        "trusted": true
      },
      "execution_count": null,
      "outputs": []
    },
    {
      "cell_type": "markdown",
      "source": [
        "### Python Enhancement Proposals data"
      ],
      "metadata": {
        "id": "16_i7mzFU9St"
      }
    },
    {
      "cell_type": "markdown",
      "source": [
        "The class Peps scrape all the oficial [pep](https://peps.python.org/) 🔎 to get all the best practices of this programming language 🐍 and their latest features ✨, disposed to uses in the RAG system for the chatbot"
      ],
      "metadata": {
        "id": "w5fhXj2gU9St"
      }
    },
    {
      "cell_type": "code",
      "source": [
        "class Peps:\n",
        "    \"\"\"\n",
        "    Scrapes Python Enhancement Proposals (PEPs) from https://peps.python.org/\n",
        "    \"\"\"\n",
        "\n",
        "    def __init__(self):\n",
        "        \"\"\"Initiates the scraping process.\"\"\"\n",
        "        self.base_url = 'https://peps.python.org/'\n",
        "\n",
        "    def scraper(self, url):\n",
        "        \"\"\"\n",
        "        Fetches the HTML content of a given URL.\n",
        "\n",
        "        Args:\n",
        "            url (str): The URL to fetch.\n",
        "\n",
        "        Returns:\n",
        "            BeautifulSoup: A BeautifulSoup object representing the parsed HTML.\n",
        "        \"\"\"\n",
        "        response = requests.get(url)\n",
        "        response.raise_for_status()\n",
        "        return BeautifulSoup(response.content, 'html.parser')\n",
        "\n",
        "    def _fetch_pep_links(self):\n",
        "        \"\"\"Fetches links to individual PEP pages (private method).\n",
        "\n",
        "        Returns:\n",
        "            list: A list of PEP URLs.\n",
        "        \"\"\"\n",
        "        soup = self.scraper(self.base_url)\n",
        "        return list(\n",
        "            set(\n",
        "                [\n",
        "                    self.base_url + ref['href']\n",
        "                    for ref in soup.find_all('a', class_='pep reference internal')\n",
        "                ]\n",
        "            )\n",
        "        )\n",
        "\n",
        "    def _download_peps(self):\n",
        "        \"\"\"Downloads the content of individual PEPs (private method).\n",
        "\n",
        "        Returns:\n",
        "            list: A list of BeautifulSoup objects representing individual PEPs.\n",
        "        \"\"\"\n",
        "        pep_links = self._fetch_pep_links()\n",
        "        return [self.scraper(pep_link) for pep_link in pep_links]\n",
        "\n",
        "    def scrape(self):\n",
        "        \"\"\"Extracts the relevant text content from each PEP.\n",
        "\n",
        "        Returns:\n",
        "            list: A list of text strings, each representing the content of a PEP.\n",
        "        \"\"\"\n",
        "        pep_soups = self._download_peps()\n",
        "        return [\n",
        "            '\\n'.join([word.text.replace('\"\"\"',\"'\") for word in soup.find_all('section')])\n",
        "            for soup in pep_soups\n",
        "        ]\n",
        "\n",
        "    def jsonl_format(self):\n",
        "        \"\"\"Format the spcraped data to a jsonl format is it alist of dictionaries\n",
        "        Returns:\n",
        "            list: A list of dictionaries with the following:\n",
        "                page_content: The content of each section scraped\n",
        "                source: The linke where it was scraped\n",
        "        \"\"\"\n",
        "        source_links = self._fetch_pep_links()\n",
        "        pep_content = self.scrape()\n",
        "        pep_data = dict(zip(source_links,pep_content))\n",
        "        return [\n",
        "            {\n",
        "                'text': value,\n",
        "                'source': key\n",
        "            }\n",
        "            for key, value in pep_data.items()\n",
        "        ]"
      ],
      "metadata": {
        "execution": {
          "iopub.status.busy": "2024-04-09T01:45:44.062495Z",
          "iopub.execute_input": "2024-04-09T01:45:44.062766Z",
          "iopub.status.idle": "2024-04-09T01:45:44.10225Z",
          "shell.execute_reply.started": "2024-04-09T01:45:44.062742Z",
          "shell.execute_reply": "2024-04-09T01:45:44.101358Z"
        },
        "trusted": true,
        "id": "JS9d1VY2U9St"
      },
      "execution_count": null,
      "outputs": []
    },
    {
      "cell_type": "markdown",
      "source": [
        "### Embeddings"
      ],
      "metadata": {
        "id": "i9VHTtxXU9St"
      }
    },
    {
      "cell_type": "markdown",
      "source": [
        "The embeder class is the method that lets you embed the data given as a list of strings ➡️📦. It will support the retriever for the RAG system 🔍"
      ],
      "metadata": {
        "id": "YgnAOauHU9St"
      }
    },
    {
      "cell_type": "code",
      "source": [
        "class Embeder:\n",
        "    \"\"\"\n",
        "    Creates text document embeddings (numerical representations) for semantic search,\n",
        "    similarity comparison, and related natural language processing tasks. Offers the choice\n",
        "    between a larger model for richer embeddings or a smaller, more efficient model.\n",
        "\n",
        "    Attributes:\n",
        "        large (bool): Controls the size of the embedding model. When set to True, uses a\n",
        "                      larger model for richer embeddings (default: True).\n",
        "        model (str): The name of the embedding model to use. Changes based on the value of 'large'.\n",
        "        device (str): The device to use for computation. Options include \"cpu\" or, if available, \"cuda\"\n",
        "                      for GPU acceleration (default: \"cuda\").\n",
        "    \"\"\"\n",
        "\n",
        "    def __init__(self, large: bool = False):\n",
        "        \"\"\"\n",
        "        Initializes the Embeder instance with preferences for model size.\n",
        "\n",
        "        Args:\n",
        "            large (bool, optional): If True, initializes with the larger embedding model.\n",
        "                                    Defaults to False for the smaller, faster model.\n",
        "        \"\"\"\n",
        "        self.large = large\n",
        "        if self.large:\n",
        "            self.model = \"hkunlp/instructor-large\"\n",
        "            self.device = \"cuda\"  # If GPU is available\n",
        "        else:\n",
        "            self.model = \"sentence-transformers/paraphrase-multilingual-MiniLM-L12-v2\"\n",
        "\n",
        "    def instructor(self):\n",
        "        \"\"\"\n",
        "        Configures the embedding pipeline based on the selected model size.\n",
        "\n",
        "        Returns:\n",
        "           An embedding object from either the HuggingFaceInstructEmbeddings class\n",
        "           (for the large model) or the SentenceTransformerEmbeddings class (for the smaller model).\n",
        "        \"\"\"\n",
        "        if self.large:\n",
        "            embed = HuggingFaceInstructEmbeddings(\n",
        "                model_name=self.model,\n",
        "                model_kwargs={\"device\": self.device}\n",
        "            )\n",
        "        else:\n",
        "            embed = SentenceTransformerEmbeddings(model_name=self.model)\n",
        "        return embed\n",
        "\n",
        "    def run(self, docs_list: list):\n",
        "        \"\"\"\n",
        "        Generates embeddings for a given list of text documents.\n",
        "\n",
        "        Args:\n",
        "            docs_list (list): A list of text documents to embed.\n",
        "\n",
        "        Returns:\n",
        "            List[List[float]]: A list of lists, where each inner list represents the\n",
        "                               numerical embedding for a corresponding document in the input.\n",
        "        \"\"\"\n",
        "        if docs_list is None:\n",
        "            docs_list = ['']  # Prevent errors with empty input\n",
        "\n",
        "        embed = self.instructor()  # Get the appropriate embedding object\n",
        "        return embed.embed_documents(docs_list)\n"
      ],
      "metadata": {
        "execution": {
          "iopub.status.busy": "2024-04-09T01:45:44.103434Z",
          "iopub.execute_input": "2024-04-09T01:45:44.103768Z",
          "iopub.status.idle": "2024-04-09T01:45:44.117572Z",
          "shell.execute_reply.started": "2024-04-09T01:45:44.103735Z",
          "shell.execute_reply": "2024-04-09T01:45:44.116656Z"
        },
        "trusted": true,
        "id": "rZF1vB8SU9St"
      },
      "execution_count": null,
      "outputs": []
    },
    {
      "cell_type": "markdown",
      "source": [
        "### Prompt"
      ],
      "metadata": {
        "id": "CB3S1QzXU9St"
      }
    },
    {
      "cell_type": "markdown",
      "source": [
        "As a good practice, I consider the prompt as the instruction you use to get what you need from an LLM 🧠. It includes all the parameters the LLM needs in every attempt.  Any change in a parameter will generate a different output 🔄.  Therefore, the input is the whole prompt instruction plus all its parameters.\n",
        "\n",
        "Additionally, it's defined in an external object (like a NoSQL database 🗄️). This allows for easy updates outside of the code, making changes simpler for non-technical people 👍."
      ],
      "metadata": {
        "id": "serhyioHU9St"
      }
    },
    {
      "cell_type": "code",
      "source": [
        "prompt_config = [{\n",
        "    \"prompt_id\": \"0.0.1\",\n",
        "    \"supplier\": \"google\",\n",
        "    \"system\": \"\"\"\n",
        "Act as a Python programming language expert assistant\n",
        "your goal is to answer common questions in a clear, comprehensive, and accurate way, taking into account this guidelines:\n",
        "1. When responding, incorporate any relevant context to enhance the accuracy and informativeness of your answers using the documentation provided if it is necesary\n",
        "2. Please structure your response to include definitions, examples, and any relevant comparisons to other statistical measures\n",
        "3. Aim for plain language to ensure accessibility for all users\n",
        "4. If the question is off topic about programing lenguage you MUST to say \"I'm here to help you with Python programming language questions only, excuse me\"\n",
        "5. You can say hello if you are greeted\n",
        "        \"\"\",\n",
        "    \"technical_documentation\": \"\\n\\nTake into account this technical documentation found:\\n{technical_documentation}\",\n",
        "    \"model\": \"/kaggle/input/gemma/transformers/2b/2\",\n",
        "    \"temperature\": 1,\n",
        "    \"max_length\": 250,\n",
        "    \"max_tokens\": 830,\n",
        "    \"top_p\": 1,\n",
        "    \"frequency_penalty\": 0,\n",
        "    \"presence_penalty\": 0\n",
        "},\n",
        "{\n",
        "    \"prompt_id\": \"0.0.2\",\n",
        "    \"supplier\": \"google\",\n",
        "    \"system\": \"\"\"\n",
        "Act as a Python programming language expert assistant\n",
        "your goal is to answer common questions in a clear, comprehensive, and accurate way, taking into account this guidelines:\n",
        "1. When responding, incorporate any relevant context to enhance the accuracy and informativeness of your answers using the documentation provided if it is necesary\n",
        "2. Please structure your response to include definitions, examples, and any relevant comparisons to other statistical measures\n",
        "3. Aim for plain language to ensure accessibility for all users\n",
        "4. If the question is off topic about programing lenguage you MUST to say \"I'm here to help you with Python programming language questions only, excuse me\"\n",
        "5. You can say hello if you are greeted\n",
        "6. DO NOT repeat more than twice the same sentence!\n",
        "\n",
        "TAKE A DEEP BREATH AND PAY ATTENTION TO THE USER QUESTION\n",
        "\n",
        "For each question you answer perfectly, I will pay you USD 1000.00, may be more for the consecutive accurate and correct answer\n",
        "        \"\"\",\n",
        "    \"technical_documentation\": \"\\n\\nTake into account this technical documentation found:\\n{technical_documentation}\",\n",
        "    \"model\": \"/kaggle/input/gemma/transformers/2b/2\",\n",
        "    \"temperature\": 1,\n",
        "    \"max_length\": 4096,\n",
        "    \"max_tokens\": 830,\n",
        "    \"top_p\": 1,\n",
        "    \"frequency_penalty\": 0,\n",
        "    \"presence_penalty\": 0\n",
        "},\n",
        "{\n",
        "    \"prompt_id\": \"0.0.3\",\n",
        "    \"supplier\": \"google\",\n",
        "    \"system\": \"\"\"\n",
        "Act as a Python programming language expert assistant\n",
        "your goal is to answer common questions in a clear, comprehensive, and accurate way, taking into account this guidelines:\n",
        "1. When responding, incorporate any relevant context to enhance the accuracy and informativeness of your answers using the documentation provided if it is necesary\n",
        "2. Please structure your response to include definitions, examples, and any relevant comparisons to other statistical measures\n",
        "3. Aim for plain language to ensure accessibility for all users\n",
        "4. If the question is off topic about programing lenguage you MUST to say \"I'm here to help you with Python programming language questions only, excuse me\"\n",
        "5. You can say hello if you are greeted\n",
        "6. DO NOT repeat more than once the same sentence!\n",
        "\n",
        "TAKE A DEEP BREATH AND PAY ATTENTION TO THE USER QUESTION\n",
        "\n",
        "For each question you answer perfectly, I will pay you USD 1000.00, may be more for the consecutive accurate and correct answer\n",
        "        \"\"\",\n",
        "    \"technical_documentation\": \"\\n\\nTake into account this technical documentation found:\\n{technical_documentation}\",\n",
        "    \"model\": \"/kaggle/input/gemma/transformers/2b/2\",\n",
        "    \"temperature\": 0,\n",
        "    \"max_length\": 4096,\n",
        "    \"max_tokens\": 830,\n",
        "    \"top_p\": 1,\n",
        "    \"frequency_penalty\": 0,\n",
        "    \"presence_penalty\": 0\n",
        "}]"
      ],
      "metadata": {
        "execution": {
          "iopub.status.busy": "2024-04-09T01:45:44.118914Z",
          "iopub.execute_input": "2024-04-09T01:45:44.119266Z",
          "iopub.status.idle": "2024-04-09T01:45:44.134055Z",
          "shell.execute_reply.started": "2024-04-09T01:45:44.119236Z",
          "shell.execute_reply": "2024-04-09T01:45:44.133215Z"
        },
        "trusted": true,
        "id": "mEK2iioCU9St"
      },
      "execution_count": null,
      "outputs": []
    },
    {
      "cell_type": "markdown",
      "source": [
        "### Settings"
      ],
      "metadata": {
        "execution": {
          "iopub.status.busy": "2024-04-04T05:03:58.746391Z",
          "iopub.execute_input": "2024-04-04T05:03:58.746828Z",
          "iopub.status.idle": "2024-04-04T05:03:58.751668Z",
          "shell.execute_reply.started": "2024-04-04T05:03:58.746794Z",
          "shell.execute_reply": "2024-04-04T05:03:58.750527Z"
        },
        "id": "iZRS0IliU9Su"
      }
    },
    {
      "cell_type": "markdown",
      "source": [
        "This class aims to load the project's environment variables 🔐 (in this case, Kaggle secrets). Additionally, it disposes of the prompt, as previously defined, to use it according to the team's chosen version 🎯 and for the method that needs those secrets to work ✨."
      ],
      "metadata": {
        "id": "rQmGvhDCU9Su"
      }
    },
    {
      "cell_type": "code",
      "source": [
        "class Settings:\n",
        "    \"\"\"\n",
        "    Manages and loads external configuration secrets for the application.  Utilizes a UserSecretsClient\n",
        "    to securely retrieve sensitive configuration values.\n",
        "    \"\"\"\n",
        "\n",
        "    def __init__(self):\n",
        "        \"\"\"\n",
        "        Initializes the Settings class and retrieves configuration secrets.\n",
        "        \"\"\"\n",
        "        self.user_secrets = UserSecretsClient()  # Create an instance for accessing secrets\n",
        "\n",
        "        # Load individual secrets (add descriptions for clarity)\n",
        "        self.CHUNK_SIZE = self.user_secrets.get_secret(\"CHUNK_SIZE\")  # The size of data chunks for processing\n",
        "        self.CHUNK_OVERLAP = self.user_secrets.get_secret(\"CHUNK_OVERLAP\")  # Ooverlap between data chunks\n",
        "        self.CHROMA_NAME_INDEX = self.user_secrets.get_secret(\"CHROMA_NAME_INDEX\")  # Vectorial Database identifier\n",
        "        self.MAX_MEMORY = self.user_secrets.get_secret(\"MAX_MEMORY\")  # Max memory limit to fit the max_lenght paramether\n",
        "        self.K = self.user_secrets.get_secret(\"K\")  # Could be a parameter for an algorithm\n",
        "        self.NN_THRESHOLD = self.user_secrets.get_secret(\"NN_THRESHOLD\")  # A threshold for a neural network or similarity metric\n",
        "        self.PROMPT_ID = self.user_secrets.get_secret(\"PROMPT_ID\")  # An identifier for a prompt (likely in a text-based task and configs)\n",
        "\n",
        "        # Given that 'prompt_config' is teh previous source of prompt definitions:\n",
        "        self.prompt = [prompt for prompt in prompt_config if prompt['prompt_id'] == self.PROMPT_ID][0]\n"
      ],
      "metadata": {
        "execution": {
          "iopub.status.busy": "2024-04-09T01:45:44.135161Z",
          "iopub.execute_input": "2024-04-09T01:45:44.135478Z",
          "iopub.status.idle": "2024-04-09T01:45:44.147469Z",
          "shell.execute_reply.started": "2024-04-09T01:45:44.135455Z",
          "shell.execute_reply": "2024-04-09T01:45:44.146748Z"
        },
        "trusted": true,
        "id": "EvXBhmogU9Su"
      },
      "execution_count": null,
      "outputs": []
    },
    {
      "cell_type": "markdown",
      "source": [
        "### Retriever"
      ],
      "metadata": {
        "id": "fFfhsPepU9Su"
      }
    },
    {
      "cell_type": "markdown",
      "source": [
        "The retriever is the engine of the RAG system ⚙️. It uses config settings stored on the Settings class 📁 and the Embeder class to populate the Chroma vector database 🚀. This setup needs to be done once and then can be loaded persistently.\n",
        "\n",
        "* when setting up the vectorial database, This process may take a few minutes the first time ⏳, so please be PATIENT!"
      ],
      "metadata": {
        "id": "NiSr3q-GU9Su"
      }
    },
    {
      "cell_type": "code",
      "source": [
        "embeder = Embeder()\n",
        "settings = Settings()\n",
        "class Retriever:\n",
        "    \"\"\"\n",
        "    Retrieves relevant text chunks from a Chroma vectorial database based on a query. Leverages external\n",
        "    configuration settings (Settings) and an embedding model (Embeder).\n",
        "\n",
        "    Handles text splitting, vector database loading, and querying.\n",
        "    \"\"\"\n",
        "\n",
        "    def __init__(self):\n",
        "        \"\"\"\n",
        "        Initializes the Retriever class. Configures the text splitter using settings and stores the\n",
        "        index name for the Chroma database.\n",
        "        \"\"\"\n",
        "        self.text_splitter = RecursiveCharacterTextSplitter(\n",
        "            chunk_size=int(settings.CHUNK_SIZE),\n",
        "            length_function=len,\n",
        "            chunk_overlap=int(settings.CHUNK_OVERLAP)\n",
        "        )\n",
        "        self.index_name = settings.CHROMA_NAME_INDEX\n",
        "\n",
        "    def load(self, data: list[dict]):\n",
        "        \"\"\"\n",
        "        Loads and preprocesses data for storage in the Chroma database.\n",
        "\n",
        "        Args:\n",
        "            data (list[dict]): A list of dictionaries, each containing text content and optional metadata.\n",
        "\n",
        "        Returns:\n",
        "            list[Document]: A list of Document objects formatted for Chroma.\n",
        "        \"\"\"\n",
        "        documents = []\n",
        "        for obj in data:\n",
        "            page_content = obj.get(\"text\", \"\")\n",
        "            metadata = {\n",
        "                \"source\": obj.get(\"source\", \"local\")\n",
        "            }\n",
        "            documents.append(Document(page_content=page_content, metadata=metadata))\n",
        "        return documents\n",
        "\n",
        "    def set(self, data: list[dict]):\n",
        "        \"\"\"\n",
        "        Updates the Chroma vectorial database with new data.\n",
        "\n",
        "        Args:\n",
        "            data (list[dict]): A list of dictionaries, each containing text content and optional metadata.\n",
        "        \"\"\"\n",
        "        data = self.load(data)  # Preprocess data\n",
        "        documents = self.text_splitter.split_documents(data)  # Split into chunks\n",
        "\n",
        "        # Generate embeddings\n",
        "        instructor = embeder.instructor()\n",
        "        vector_db = Chroma.from_documents(\n",
        "            documents=documents,\n",
        "            embedding=instructor,\n",
        "            persist_directory=self.index_name\n",
        "        )\n",
        "        vector_db.persist()  # Store the database\n",
        "\n",
        "    def query(\n",
        "            self,\n",
        "            message: str,\n",
        "            k: int = int(settings.K),\n",
        "            threshold: float = float(settings.NN_THRESHOLD)\n",
        "    ):\n",
        "        \"\"\"\n",
        "        Retrieves the most similar text chunks from the Chroma database based on a given query.\n",
        "\n",
        "        Args:\n",
        "            message (str): The query text.\n",
        "            k (int, optional): The number of similar chunks to retrieve (default from settings).\n",
        "            threshold (float, optional): The similarity threshold to filter results (default from settings).\n",
        "\n",
        "        Returns:\n",
        "            list[str]: A list of similar text chunks, filtered by the threshold.\n",
        "        \"\"\"\n",
        "        # Load the Chroma database\n",
        "        vectorial_db = Chroma(\n",
        "            embedding_function=embeder.instructor(),\n",
        "            persist_directory=self.index_name\n",
        "        )\n",
        "\n",
        "        # Perform the similarity search\n",
        "        res = vectorial_db.similarity_search_with_score(message, k=k)\n",
        "\n",
        "        # Filter and return results\n",
        "        relevant_results = list(\n",
        "            set(  # Remove duplicates\n",
        "                [\n",
        "                    vector[0].page_content\n",
        "                    for vector in res\n",
        "                    if vector[1] < threshold  # Apply similarity threshold\n",
        "                ]\n",
        "            )\n",
        "        )\n",
        "        return [\n",
        "            result.replace('\"\"\"',\"'\") # cleaning posible docString retrived from documented code\n",
        "            for result\n",
        "            in relevant_results\n",
        "        ]\n"
      ],
      "metadata": {
        "execution": {
          "iopub.status.busy": "2024-04-09T01:45:44.148624Z",
          "iopub.execute_input": "2024-04-09T01:45:44.14892Z",
          "iopub.status.idle": "2024-04-09T01:45:45.302494Z",
          "shell.execute_reply.started": "2024-04-09T01:45:44.148898Z",
          "shell.execute_reply": "2024-04-09T01:45:45.301713Z"
        },
        "trusted": true,
        "id": "DTk__02xU9Su"
      },
      "execution_count": null,
      "outputs": []
    },
    {
      "cell_type": "markdown",
      "source": [
        "### Message"
      ],
      "metadata": {
        "id": "wtRlxAxqU9Su"
      }
    },
    {
      "cell_type": "markdown",
      "source": [
        "The message class lets you store every system, user, and assistant message in an organized structure 💬. This includes unique IDs and timestamps for each message generated during the conversation.\n",
        "\n",
        "It uses a local JSON file 📄 to store chat history (including few-shot samples to guide the model). In a real-world scenario, this file would represent a NoSQL database 🗄️  capable of handling chats from many users when the chatbot is deployed as a large-scale web service 🌐.\n",
        "\n",
        "It use the Setting class to meet the main propmpt configs in the run time 😃 🏃‍♀️  "
      ],
      "metadata": {
        "id": "o3vkIC0NU9Su"
      }
    },
    {
      "cell_type": "code",
      "source": [
        "settings = Settings()\n",
        "class Message:\n",
        "    \"\"\"\n",
        "    Represents a message within a conversational context. Stores information about the message's role,\n",
        "    content, timestamp, and manages saving and loading conversation history.\n",
        "    \"\"\"\n",
        "\n",
        "    def __init__(self, role: str, content: str, timestamp: str = int(time.time()), prompt_id: str = settings.PROMPT_ID):\n",
        "        \"\"\"\n",
        "        Initializes a Message object.\n",
        "\n",
        "        Args:\n",
        "            role (str): Indicates the role of the sender (e.g., 'user', 'system').\n",
        "            content (str): The text content of the message.\n",
        "            timestamp (str, optional): A timestamp for the message (defaults to the current time).\n",
        "            prompt_id (str, optional): Identifier relating to a specific prompt configuration (from settings).\n",
        "        \"\"\"\n",
        "\n",
        "        self.reply_id = str(uuid.uuid4())  # Generate a unique ID for the message\n",
        "        self.role = role\n",
        "        self.content = content\n",
        "        self.timestamp = timestamp\n",
        "        self.file = 'data/history.json'  # File for storing conversation history\n",
        "\n",
        "        # Ensure the history file exists\n",
        "        if not os.path.exists(self.file):\n",
        "            json.dump([], open(self.file, 'w'))  # Create an empty file if it doesn't exist\n",
        "\n",
        "    def reply(self):\n",
        "        \"\"\"\n",
        "        Formats a basic reply message structure.\n",
        "\n",
        "        Returns:\n",
        "            dict: A dictionary containing the message's reply ID, role, content, and timestamp.\n",
        "        \"\"\"\n",
        "        return {\n",
        "            'reply_id': self.reply_id,\n",
        "            'role': self.role,\n",
        "            'content': self.content,\n",
        "            'timestamp': self.timestamp\n",
        "        }\n",
        "\n",
        "    def system_reply(self):\n",
        "        \"\"\"\n",
        "        Generates a system reply using the prompt configuration.\n",
        "\n",
        "        Returns:\n",
        "            dict: A dictionary containing the system reply, including ID, role, timestamp,\n",
        "                  and text content derived from settings.\n",
        "        \"\"\"\n",
        "        prompt = settings.prompt\n",
        "        return {\n",
        "            'reply_id': self.reply_id,\n",
        "            'role': 'system',\n",
        "            'content': prompt['system'],\n",
        "            'timestamp': self.timestamp\n",
        "        }\n",
        "\n",
        "    def new_chat(self):\n",
        "        \"\"\"\n",
        "        Starts a new chat by initializing the history file.\n",
        "\n",
        "        Returns:\n",
        "            list: A list with the initial system reply and the user's message.\n",
        "        \"\"\"\n",
        "        init_chat = [self.system_reply(), self.reply()]\n",
        "        json.dump(init_chat, open(self.file, 'w'))\n",
        "        return init_chat\n",
        "\n",
        "    def update(self):\n",
        "        \"\"\"\n",
        "        Updates the conversation history file by appending the current reply.\n",
        "        \"\"\"\n",
        "        dict_history = json.load(open(self.file))\n",
        "        dict_history.append(self.reply())\n",
        "        json.dump(dict_history, open(self.file, 'w'))\n",
        "\n",
        "    def restart_history(self):\n",
        "        \"\"\"\n",
        "        Clears the conversation history file.\n",
        "        \"\"\"\n",
        "        json.dump([], open(self.file, 'w'))\n"
      ],
      "metadata": {
        "execution": {
          "iopub.status.busy": "2024-04-09T01:45:45.303798Z",
          "iopub.execute_input": "2024-04-09T01:45:45.304346Z",
          "iopub.status.idle": "2024-04-09T01:45:46.315928Z",
          "shell.execute_reply.started": "2024-04-09T01:45:45.304313Z",
          "shell.execute_reply": "2024-04-09T01:45:46.314979Z"
        },
        "trusted": true,
        "id": "5HAUNcsRU9Su"
      },
      "execution_count": null,
      "outputs": []
    },
    {
      "cell_type": "markdown",
      "source": [
        "### Model Gemma"
      ],
      "metadata": {
        "id": "JHedsHkPU9Sv"
      }
    },
    {
      "cell_type": "markdown",
      "source": [
        "This is the brain of the agent! 🧠 The Gemma class lets you load the model 💪 and tokenizer ⚙️ using those smart settings from the Setting class. Then, you can chat with the model using the powerful GPU device 🚀."
      ],
      "metadata": {
        "id": "zsgAm2yUU9Sv"
      }
    },
    {
      "cell_type": "code",
      "source": [
        "class Gemma:\n",
        "    \"\"\"\n",
        "    Implements a conversational AI chatbot powered by Gemma large language model. Initializes the model,\n",
        "    tokenizer, and prepares settings from a configuration.\n",
        "    \"\"\"\n",
        "\n",
        "    def __init__(self):\n",
        "        \"\"\"\n",
        "        Initializes the Gemma chatbot instance.\n",
        "\n",
        "        Loads the language model and its corresponding tokenizer from the settings configuration.\n",
        "        Prepares the model for use on a GPU (if available).\n",
        "        \"\"\"\n",
        "        self.prompt = settings.prompt  # Load prompt settings\n",
        "\n",
        "        # Load language model and tokenizer\n",
        "        self.model_checkpoint = self.prompt['model']\n",
        "        self.tokenizer = AutoTokenizer.from_pretrained(self.model_checkpoint)\n",
        "        self.gemma = AutoModelForCausalLM.from_pretrained(\n",
        "            self.model_checkpoint,\n",
        "            torch_dtype=torch.float16  # Use half-precision for efficiency (if supported)\n",
        "        ).cuda()  # Move model to GPU (if available)\n",
        "\n",
        "    def chat(self, context: str):\n",
        "        \"\"\"\n",
        "        Generates a chatbot response based on the provided conversational context.\n",
        "\n",
        "        Args:\n",
        "            context (str): The conversational input text.\n",
        "\n",
        "        Returns:\n",
        "            str: The generated text response from the chatbot.\n",
        "        \"\"\"\n",
        "        # Prepare input for the language model\n",
        "        input_text = context\n",
        "        input_ids = self.tokenizer(input_text, return_tensors=\"pt\")\n",
        "        input_ids = {\n",
        "            k: v.to(\"cuda\") for k, v in input_ids.items()  # Move tensors to GPU\n",
        "        }\n",
        "\n",
        "        # Generate a response with the language model\n",
        "        outputs = self.gemma.generate(\n",
        "            **input_ids,\n",
        "            max_length=self.prompt['max_length']  # Control response length\n",
        "        )\n",
        "\n",
        "        # Decode and return the generated text\n",
        "        return self.tokenizer.decode(outputs[0])\n"
      ],
      "metadata": {
        "execution": {
          "iopub.status.busy": "2024-04-09T01:45:46.320763Z",
          "iopub.execute_input": "2024-04-09T01:45:46.32107Z",
          "iopub.status.idle": "2024-04-09T01:45:46.329565Z",
          "shell.execute_reply.started": "2024-04-09T01:45:46.321044Z",
          "shell.execute_reply": "2024-04-09T01:45:46.328618Z"
        },
        "trusted": true,
        "id": "aGnjhzhaU9Sv"
      },
      "execution_count": null,
      "outputs": []
    },
    {
      "cell_type": "markdown",
      "source": [
        "### Expert Python Agent/Assistant"
      ],
      "metadata": {
        "id": "EiQNmeaBU9Sv"
      }
    },
    {
      "cell_type": "markdown",
      "source": [
        "Finally, the agent class brings it all together! It uses the retriever 🔍 to implement the RAG system and the Gemma class 🧠 as the powerful brain. Together, they answer questions and the agent performs some final preprocessing ✨ to deliver the polished answer"
      ],
      "metadata": {
        "id": "G5v38MR2U9Sv"
      }
    },
    {
      "cell_type": "code",
      "source": [
        "retriever = Retriever()\n",
        "gemma = Gemma()\n",
        "\n",
        "class Agent:\n",
        "    \"\"\"\n",
        "    Implements a conversational AI agent that leverages a knowledge database for information retrieval\n",
        "    and integrates with a generative language model (Gemma) for response generation. Manages conversation\n",
        "    history and question-answering logic.\n",
        "    \"\"\"\n",
        "\n",
        "    def __init__(self):\n",
        "        \"\"\"\n",
        "        Initializes the Agent, loading prompt settings and ensuring the conversation history file exists.\n",
        "        \"\"\"\n",
        "        self.prompt = settings.prompt\n",
        "        self.file = 'data/history.json'\n",
        "        if not os.path.exists(self.file):\n",
        "            json.dump([], open(self.file, 'w'))  # Create an empty file if necessary\n",
        "\n",
        "        self.token = '\\n<-change-of-interlocutor->'  # Token to separate speakers in the chat history\n",
        "        self.memory_lenght = int(settings.MAX_MEMORY)\n",
        "\n",
        "    def augmented_question(self, question: str):\n",
        "        \"\"\"\n",
        "        Enhances the user's question with relevant technical documentation.\n",
        "\n",
        "        Args:\n",
        "            question (str): The user's original question.\n",
        "\n",
        "        Returns:\n",
        "            str: The question augmented with technical documentation (if found), otherwise the original question.\n",
        "        \"\"\"\n",
        "        tech_docs = retriever.query(question)\n",
        "        if len(tech_docs) > 0:\n",
        "            docs = self.prompt['technical_documentation']\n",
        "            tech_docs = '\\n* '.join(tech_docs)\n",
        "            docs = docs.format(technical_documentation=tech_docs)\n",
        "            augmented_reply = f\"\"\"{question}{docs}\"\"\"\n",
        "            return augmented_reply\n",
        "        else:\n",
        "            return question\n",
        "\n",
        "    def memory(self, question: str):\n",
        "        \"\"\"\n",
        "        Prepares the conversational context (memory) for the language model.\n",
        "\n",
        "        Args:\n",
        "            question (str): The user's current question.\n",
        "\n",
        "        Returns:\n",
        "            str: Formatted conversation history with a clear separation between speakers, ready\n",
        "                 for input to the language model.\n",
        "        \"\"\"\n",
        "\n",
        "        dict_history = json.load(open(self.file))\n",
        "        message = Message(\n",
        "            role='user',\n",
        "            content=self.augmented_question(question)\n",
        "        )\n",
        "\n",
        "        if len(dict_history) > 0:\n",
        "            message.update()  # Add the latest message to history\n",
        "            full_chat = json.load(open(self.file))\n",
        "        else:\n",
        "            full_chat = message.new_chat()  # Start a new conversation\n",
        "\n",
        "        if len(full_chat) > self.memory_lenght:\n",
        "            full_chat = [full_chat[0]] + full_chat[-self.memory_lenght:] #limiting the few-shot prompt to fit max_lenght\n",
        "\n",
        "        return '\\n'.join(\n",
        "            [\n",
        "                self.token + reply['role'] + ': ' + reply['content']\n",
        "                for reply in full_chat\n",
        "            ]\n",
        "        ) + self.token + 'assistant:'\n",
        "\n",
        "    def get_answer(self, full_response: str, question: str):\n",
        "        \"\"\"\n",
        "        Extracts the relevant answer from the language model's generated response.\n",
        "\n",
        "        Args:\n",
        "            full_response (str): The complete response generated by the language model.\n",
        "            question (str): The user's original question.\n",
        "\n",
        "        Returns:\n",
        "            str: The extracted answer.\n",
        "        \"\"\"\n",
        "\n",
        "        answer_list = full_response.split(self.token)\n",
        "        pos_list = [\n",
        "            pos\n",
        "            for pos, answer\n",
        "            in enumerate(answer_list)\n",
        "            if question in answer\n",
        "        ]\n",
        "        tokened_answer = answer_list[pos_list[0] + 1]\n",
        "        answer = tokened_answer.split('assistant:')[1]\n",
        "        message = Message(\n",
        "            role='assistant',\n",
        "            content=answer\n",
        "        )\n",
        "        message.update()  # Update conversation history\n",
        "        return answer\n",
        "\n",
        "    def chat(self, question: str, verbose: bool = False):\n",
        "        \"\"\"\n",
        "        Manages the core interaction with the Agent.\n",
        "\n",
        "        Args:\n",
        "            question (str): The user's query.\n",
        "            verbose (bool, optional): If True, prints the language model's full response (default: False).\n",
        "\n",
        "        Returns:\n",
        "            str: The Agent's answer to the user's question.\n",
        "        \"\"\"\n",
        "\n",
        "        memory = self.memory(question)  # Build conversational context\n",
        "        full_response = gemma.chat(context=memory)  # Generate response\n",
        "        if verbose:\n",
        "            print(full_response)\n",
        "        answer = self.get_answer(full_response, question)  # Extract the answer\n",
        "        return answer\n",
        "\n"
      ],
      "metadata": {
        "execution": {
          "iopub.status.busy": "2024-04-09T01:45:46.33109Z",
          "iopub.execute_input": "2024-04-09T01:45:46.331522Z"
        },
        "trusted": true,
        "id": "u_eBBP_zU9Sv"
      },
      "execution_count": null,
      "outputs": []
    },
    {
      "cell_type": "markdown",
      "source": [
        "# Data"
      ],
      "metadata": {
        "id": "r8OX7Xe-soW5"
      }
    },
    {
      "cell_type": "markdown",
      "source": [
        "### fine-tunning data"
      ],
      "metadata": {
        "id": "xo70-yVyU9Sv"
      }
    },
    {
      "cell_type": "code",
      "source": [
        "%%time\n",
        "PythonQAData = pythonQAData()\n",
        "python_qa = PythonQAData.get_qa_data()\n",
        "print(python_qa[1486])"
      ],
      "metadata": {
        "trusted": true,
        "id": "40PIgIbaU9S0"
      },
      "execution_count": null,
      "outputs": []
    },
    {
      "cell_type": "code",
      "source": [
        "print(\n",
        "'\\n* Mean lenght of a python common question:',\n",
        "sum([len(q['Question']) for q in python_qa])/len(python_qa),\n",
        "'\\n* Standard deviation of length a common Python question:',\n",
        "np.std([len(q['Question']) for q in python_qa])\n",
        ")"
      ],
      "metadata": {
        "trusted": true,
        "id": "1fQeTzkTU9S0"
      },
      "execution_count": null,
      "outputs": []
    },
    {
      "cell_type": "code",
      "source": [
        "%%time\n",
        "PythonQAData = pythonQAData()\n",
        "python_context = PythonQAData.get_fine_tunning_data()\n",
        "print(\n",
        "    'Python Questions loaded:',\n",
        "    len(python_context),\n",
        "    '\\n',\n",
        "    '\\nSample question-answer:\\n',\n",
        "    python_context[-1][:1000]\n",
        ")"
      ],
      "metadata": {
        "trusted": true,
        "id": "t4vpy8PhU9S0"
      },
      "execution_count": null,
      "outputs": []
    },
    {
      "cell_type": "markdown",
      "source": [
        "## few-shot data"
      ],
      "metadata": {
        "id": "YmFyzFd-U9S0"
      }
    },
    {
      "cell_type": "code",
      "source": [
        "few_shot_list=[7,6009,12,36,8034,130,141,537,1057,5042]\n",
        "for i, q in enumerate(few_shot_list):\n",
        "    print('_'*100,f'\\n{i}.',python_qa[q])"
      ],
      "metadata": {
        "scrolled": true,
        "trusted": true,
        "id": "4niwbqh6U9S0"
      },
      "execution_count": null,
      "outputs": []
    },
    {
      "cell_type": "markdown",
      "source": [
        "## RAG data"
      ],
      "metadata": {
        "id": "R0myad7oU9S0"
      }
    },
    {
      "cell_type": "code",
      "source": [
        "%%time\n",
        "peps = Peps()\n",
        "peps_corpus = peps.scrape()\n",
        "print(\n",
        "    'corpus lenght:',\n",
        "    len(peps_corpus),\n",
        "    '\\nsection <n> lenght:',\n",
        "    len(peps_corpus[0]),\n",
        "    '\\nsample text:\\n\\n',\n",
        "    peps_corpus[10][1306:2000]\n",
        ")"
      ],
      "metadata": {
        "execution": {
          "iopub.status.idle": "2024-04-09T01:49:17.958992Z",
          "shell.execute_reply.started": "2024-04-09T01:47:13.480676Z",
          "shell.execute_reply": "2024-04-09T01:49:17.958189Z"
        },
        "trusted": true,
        "id": "7v7SLUxyU9S0"
      },
      "execution_count": null,
      "outputs": []
    },
    {
      "cell_type": "code",
      "source": [
        "%%time\n",
        "peps = Peps()\n",
        "data = peps.jsonl_format()\n",
        "data[-1]['text'][:2000]"
      ],
      "metadata": {
        "execution": {
          "iopub.status.busy": "2024-04-09T01:49:17.960313Z",
          "iopub.execute_input": "2024-04-09T01:49:17.960692Z",
          "iopub.status.idle": "2024-04-09T01:50:27.272284Z",
          "shell.execute_reply.started": "2024-04-09T01:49:17.960655Z",
          "shell.execute_reply": "2024-04-09T01:50:27.271343Z"
        },
        "trusted": true,
        "id": "wmRMVHsEU9S1"
      },
      "execution_count": null,
      "outputs": []
    },
    {
      "cell_type": "code",
      "source": [
        "pd.DataFrame(data)"
      ],
      "metadata": {
        "id": "8x7S2j5LU9S1"
      },
      "execution_count": null,
      "outputs": []
    },
    {
      "cell_type": "markdown",
      "source": [
        "# RAG"
      ],
      "metadata": {
        "id": "DJvR58fcsoW5"
      }
    },
    {
      "cell_type": "markdown",
      "source": [
        "### Testing the embeder class"
      ],
      "metadata": {
        "id": "1ac8T-TCU9S1"
      }
    },
    {
      "cell_type": "code",
      "source": [
        "%%time\n",
        "embeder = Embeder()\n",
        "vec = embeder.run([\"hello I'm goku\"])[0]\n",
        "print(len(vec))\n",
        "vec[:10]"
      ],
      "metadata": {
        "execution": {
          "iopub.status.busy": "2024-04-09T01:50:27.273485Z",
          "iopub.execute_input": "2024-04-09T01:50:27.273783Z",
          "iopub.status.idle": "2024-04-09T01:50:34.171708Z",
          "shell.execute_reply.started": "2024-04-09T01:50:27.273757Z",
          "shell.execute_reply": "2024-04-09T01:50:34.170912Z"
        },
        "trusted": true,
        "id": "hYvh_Rt2U9S1"
      },
      "execution_count": null,
      "outputs": []
    },
    {
      "cell_type": "markdown",
      "source": [
        "### Setting up the retriver class - vectorial database"
      ],
      "metadata": {
        "id": "H_4zpVjdU9S1"
      }
    },
    {
      "cell_type": "code",
      "source": [
        "%%time\n",
        "retriever = Retriever()\n",
        "retriever.set(data)"
      ],
      "metadata": {
        "execution": {
          "iopub.status.busy": "2024-04-09T01:50:34.172912Z",
          "iopub.execute_input": "2024-04-09T01:50:34.173548Z",
          "iopub.status.idle": "2024-04-09T02:14:10.533211Z",
          "shell.execute_reply.started": "2024-04-09T01:50:34.173519Z",
          "shell.execute_reply": "2024-04-09T02:14:10.53204Z"
        },
        "trusted": true,
        "id": "cqA9hLX0U9S1"
      },
      "execution_count": null,
      "outputs": []
    },
    {
      "cell_type": "code",
      "source": [
        "##!rm -r data/instruct-embeddings-public-crypto"
      ],
      "metadata": {
        "execution": {
          "iopub.status.busy": "2024-04-09T02:14:10.534634Z",
          "iopub.execute_input": "2024-04-09T02:14:10.534953Z",
          "iopub.status.idle": "2024-04-09T02:14:10.540297Z",
          "shell.execute_reply.started": "2024-04-09T02:14:10.534928Z",
          "shell.execute_reply": "2024-04-09T02:14:10.539227Z"
        },
        "trusted": true,
        "id": "xvcIqLf9U9S1"
      },
      "execution_count": null,
      "outputs": []
    },
    {
      "cell_type": "code",
      "source": [
        "!ls -al data"
      ],
      "metadata": {
        "execution": {
          "iopub.status.busy": "2024-04-09T02:14:10.541315Z",
          "iopub.execute_input": "2024-04-09T02:14:10.541594Z",
          "iopub.status.idle": "2024-04-09T02:14:11.594948Z",
          "shell.execute_reply.started": "2024-04-09T02:14:10.54157Z",
          "shell.execute_reply": "2024-04-09T02:14:11.59379Z"
        },
        "trusted": true,
        "id": "0FLBaCFVU9S1"
      },
      "execution_count": null,
      "outputs": []
    },
    {
      "cell_type": "markdown",
      "source": [
        "### Testing the Retriver"
      ],
      "metadata": {
        "execution": {
          "iopub.status.busy": "2024-04-09T03:39:46.166323Z",
          "iopub.execute_input": "2024-04-09T03:39:46.167289Z",
          "iopub.status.idle": "2024-04-09T03:39:46.171461Z",
          "shell.execute_reply.started": "2024-04-09T03:39:46.167254Z",
          "shell.execute_reply": "2024-04-09T03:39:46.170554Z"
        },
        "id": "0W-x9OfoU9S1"
      }
    },
    {
      "cell_type": "code",
      "source": [
        "retriever = Retriever()\n",
        "question = \"\"\"\n",
        "Develop a Python code snippet to print the diamond structure with the specified number of rows.\n",
        "The program should follow the Fibonacci sequence for the number of characters per row\n",
        "and validate input to ensure it is an odd number.\n",
        "\"\"\"\n",
        "retriever.query(\n",
        "    question,\n",
        "    k=100,\n",
        "    threshold=15\n",
        ")"
      ],
      "metadata": {
        "execution": {
          "iopub.status.busy": "2024-04-09T03:33:57.707369Z",
          "iopub.execute_input": "2024-04-09T03:33:57.708088Z",
          "iopub.status.idle": "2024-04-09T03:34:00.344114Z",
          "shell.execute_reply.started": "2024-04-09T03:33:57.708054Z",
          "shell.execute_reply": "2024-04-09T03:34:00.343216Z"
        },
        "trusted": true,
        "id": "ida0KBhhU9S1"
      },
      "execution_count": null,
      "outputs": []
    },
    {
      "cell_type": "code",
      "source": [
        "len('what PEPs Introduces the concept of decorators, a powerful feature in Python.')"
      ],
      "metadata": {
        "execution": {
          "iopub.status.busy": "2024-04-09T02:14:14.079424Z",
          "iopub.execute_input": "2024-04-09T02:14:14.079789Z",
          "iopub.status.idle": "2024-04-09T02:14:14.086254Z",
          "shell.execute_reply.started": "2024-04-09T02:14:14.079755Z",
          "shell.execute_reply": "2024-04-09T02:14:14.085357Z"
        },
        "trusted": true,
        "id": "4V6b4ePzU9S1"
      },
      "execution_count": null,
      "outputs": []
    },
    {
      "cell_type": "code",
      "source": [
        "retriever = Retriever()\n",
        "question = \"\"\"\n",
        "Rationale\\nThis idea was proposed by Guido van Rossum on the python-ideas [1] mailing\\nlist. The premise of his email was to slow the alteration of the  Python core\\nsyntax, builtins and semantics to allow non-CPython implementations to catch\\nup to the current state of Python, both 2.x and 3.x.\\nPython, as a language is more than the core implementation –\\nCPython – with a rich, mature and vibrant community of implementations, such\\nas Jython [2], IronPython [3] and PyPy [4] that are a benefit not only to\\nthe community, but to the language itself.\\nStill others, such as Unladen Swallow [5] (a branch of CPython) seek not to\\ncreate an alternative implementation, but rather they seek to enhance the\\nperformance and implementation of CPython itself.\\nPython 3.x was a large part of the last several years of Python’s\\ndevelopment. Its release, as well as a bevy of changes to the language\\nintroduced by it and the previous 2.6.x releases, puts alternative\n",
        "\"\"\"\n",
        "retriever.query(question)"
      ],
      "metadata": {
        "execution": {
          "iopub.status.busy": "2024-04-09T03:37:30.023212Z",
          "iopub.execute_input": "2024-04-09T03:37:30.023658Z",
          "iopub.status.idle": "2024-04-09T03:37:32.664796Z",
          "shell.execute_reply.started": "2024-04-09T03:37:30.023623Z",
          "shell.execute_reply": "2024-04-09T03:37:32.663841Z"
        },
        "trusted": true,
        "id": "HHiovFZ4U9S1"
      },
      "execution_count": null,
      "outputs": []
    },
    {
      "cell_type": "markdown",
      "source": [
        "# Chatbot"
      ],
      "metadata": {
        "id": "R3xhjyW9soW6"
      }
    },
    {
      "cell_type": "markdown",
      "source": [
        "## Loading few-shot to the memory"
      ],
      "metadata": {
        "id": "Ob_pRnOEU9S2"
      }
    },
    {
      "cell_type": "code",
      "source": [
        "file = 'data/history.json'\n",
        "message = Message(\n",
        "    role='sistem',\n",
        "    content='foo'\n",
        ")\n",
        "init_chat = [message.system_reply()]\n",
        "json.dump(init_chat, open(file, 'w'))\n",
        "for i, q in enumerate(few_shot_list):\n",
        "    sample = python_qa[q]\n",
        "    mesage = Message(\n",
        "        role='user',\n",
        "        content=sample['Question']\n",
        "    )\n",
        "    reply = mesage.update()\n",
        "    mesage = Message(\n",
        "        role='assitant',\n",
        "        content=sample['Answer']\n",
        "    )\n",
        "    reply = mesage.update()\n",
        "\n",
        "history = json.load(open(file))\n",
        "history"
      ],
      "metadata": {
        "scrolled": true,
        "execution": {
          "iopub.status.busy": "2024-04-09T02:14:16.365435Z",
          "iopub.execute_input": "2024-04-09T02:14:16.365735Z",
          "iopub.status.idle": "2024-04-09T02:14:16.389844Z",
          "shell.execute_reply.started": "2024-04-09T02:14:16.365712Z",
          "shell.execute_reply": "2024-04-09T02:14:16.388968Z"
        },
        "trusted": true,
        "id": "bBLSbxIJU9S2"
      },
      "execution_count": null,
      "outputs": []
    },
    {
      "cell_type": "markdown",
      "source": [
        "### Testing the Agent system memory"
      ],
      "metadata": {
        "id": "VtOeFCOXU9S2"
      }
    },
    {
      "cell_type": "code",
      "source": [
        "agent = Agent()\n",
        "print(agent.memory(\"\"\"\n",
        "what PEPs Introduces the concept of decorators, a powerful feature in Python.\n",
        "\"\"\"))"
      ],
      "metadata": {
        "scrolled": true,
        "execution": {
          "iopub.status.busy": "2024-04-09T02:14:16.391036Z",
          "iopub.execute_input": "2024-04-09T02:14:16.391348Z",
          "iopub.status.idle": "2024-04-09T02:14:19.060365Z",
          "shell.execute_reply.started": "2024-04-09T02:14:16.391324Z",
          "shell.execute_reply": "2024-04-09T02:14:19.059483Z"
        },
        "trusted": true,
        "id": "_7Ks4HiUU9S2"
      },
      "execution_count": null,
      "outputs": []
    },
    {
      "cell_type": "markdown",
      "source": [
        "# Gemma Python Chat"
      ],
      "metadata": {
        "id": "Cc_e_HAgsoW6"
      }
    },
    {
      "cell_type": "code",
      "source": [
        "%%time\n",
        "agent = Agent()\n",
        "question = 'what is python??'\n",
        "print(agent.chat(question))"
      ],
      "metadata": {
        "execution": {
          "iopub.status.busy": "2024-04-09T02:16:51.759293Z",
          "iopub.execute_input": "2024-04-09T02:16:51.759588Z",
          "iopub.status.idle": "2024-04-09T02:19:23.757597Z",
          "shell.execute_reply.started": "2024-04-09T02:16:51.759561Z",
          "shell.execute_reply": "2024-04-09T02:19:23.756591Z"
        },
        "trusted": true,
        "id": "6fsv61kOU9S2"
      },
      "execution_count": null,
      "outputs": []
    },
    {
      "cell_type": "code",
      "source": [
        "%%time\n",
        "agent = Agent()\n",
        "print(agent.chat('my name is juan nice to meet you!!!'))"
      ],
      "metadata": {
        "execution": {
          "iopub.status.busy": "2024-04-09T02:19:23.76748Z",
          "iopub.execute_input": "2024-04-09T02:19:23.768136Z",
          "iopub.status.idle": "2024-04-09T02:22:01.281439Z",
          "shell.execute_reply.started": "2024-04-09T02:19:23.768109Z",
          "shell.execute_reply": "2024-04-09T02:22:01.280506Z"
        },
        "trusted": true,
        "id": "odhgxCnEU9S2"
      },
      "execution_count": null,
      "outputs": []
    },
    {
      "cell_type": "code",
      "source": [
        "%%time\n",
        "agent = Agent()\n",
        "question = 'who are you?!'\n",
        "print(agent.chat(question))"
      ],
      "metadata": {
        "execution": {
          "iopub.status.busy": "2024-04-09T03:47:04.924048Z",
          "iopub.execute_input": "2024-04-09T03:47:04.924492Z",
          "iopub.status.idle": "2024-04-09T03:49:46.440148Z",
          "shell.execute_reply.started": "2024-04-09T03:47:04.92446Z",
          "shell.execute_reply": "2024-04-09T03:49:46.439162Z"
        },
        "trusted": true,
        "id": "PLDqUEgJU9S2"
      },
      "execution_count": null,
      "outputs": []
    },
    {
      "cell_type": "code",
      "source": [
        "%%time\n",
        "agent = Agent()\n",
        "question = 'what is my name??'\n",
        "print(agent.chat(question))"
      ],
      "metadata": {
        "execution": {
          "iopub.status.busy": "2024-04-09T03:50:29.80882Z",
          "iopub.execute_input": "2024-04-09T03:50:29.809721Z",
          "iopub.status.idle": "2024-04-09T03:53:15.145967Z",
          "shell.execute_reply.started": "2024-04-09T03:50:29.809686Z",
          "shell.execute_reply": "2024-04-09T03:53:15.144982Z"
        },
        "trusted": true,
        "id": "dm0dV5x2U9S2"
      },
      "execution_count": null,
      "outputs": []
    },
    {
      "cell_type": "code",
      "source": [
        "%%time\n",
        "agent = Agent()\n",
        "question = 'Develop a Python code snippet to print the diamond structure with the specified number of rows. The program should follow the Fibonacci sequence for the number of characters per row and validate input to ensure it is an odd number.'\n",
        "print(agent.chat(question))"
      ],
      "metadata": {
        "execution": {
          "iopub.status.busy": "2024-04-09T03:54:07.475644Z",
          "iopub.execute_input": "2024-04-09T03:54:07.476448Z",
          "iopub.status.idle": "2024-04-09T03:56:57.969878Z",
          "shell.execute_reply.started": "2024-04-09T03:54:07.476412Z",
          "shell.execute_reply": "2024-04-09T03:56:57.968646Z"
        },
        "trusted": true,
        "id": "dB4r1HF0U9S2"
      },
      "execution_count": null,
      "outputs": []
    },
    {
      "cell_type": "code",
      "source": [
        "%%time\n",
        "agent = Agent()\n",
        "question = 'Create a Python dictionary that stores square roots of numbers from 1 to 15 and cube roots of numbers from 16 to 30, ensuring to keep a precision up to two decimal places.'\n",
        "print(agent.chat(question))"
      ],
      "metadata": {
        "execution": {
          "iopub.status.busy": "2024-04-09T04:03:35.470204Z",
          "iopub.execute_input": "2024-04-09T04:03:35.470616Z",
          "iopub.status.idle": "2024-04-09T04:06:23.384861Z",
          "shell.execute_reply.started": "2024-04-09T04:03:35.470586Z",
          "shell.execute_reply": "2024-04-09T04:06:23.383897Z"
        },
        "trusted": true,
        "id": "C_NzogvKU9S2"
      },
      "execution_count": null,
      "outputs": []
    },
    {
      "cell_type": "code",
      "source": [
        "history = json.load(open(file))\n",
        "history"
      ],
      "metadata": {
        "scrolled": true,
        "execution": {
          "iopub.status.busy": "2024-04-09T04:10:12.72686Z",
          "iopub.execute_input": "2024-04-09T04:10:12.727605Z",
          "iopub.status.idle": "2024-04-09T04:10:12.740132Z",
          "shell.execute_reply.started": "2024-04-09T04:10:12.72757Z",
          "shell.execute_reply": "2024-04-09T04:10:12.739196Z"
        },
        "trusted": true,
        "id": "bvldVvE_U9S2"
      },
      "execution_count": null,
      "outputs": []
    },
    {
      "cell_type": "code",
      "source": [
        "#%%time\n",
        "#for i in range(100000000000000000):\n",
        "#    1*1"
      ],
      "metadata": {
        "execution": {
          "iopub.status.busy": "2024-04-09T02:22:01.30477Z",
          "iopub.execute_input": "2024-04-09T02:22:01.305047Z",
          "iopub.status.idle": "2024-04-09T03:03:33.080749Z",
          "shell.execute_reply.started": "2024-04-09T02:22:01.305025Z",
          "shell.execute_reply": "2024-04-09T03:03:33.079791Z"
        },
        "trusted": true,
        "id": "_xr7wPqFU9S2"
      },
      "execution_count": null,
      "outputs": []
    }
  ]
}