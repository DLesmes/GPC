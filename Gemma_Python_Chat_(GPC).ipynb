{
  "metadata": {
    "kernelspec": {
      "language": "python",
      "display_name": "Python 3",
      "name": "python3"
    },
    "language_info": {
      "name": "python",
      "version": "3.10.13",
      "mimetype": "text/x-python",
      "codemirror_mode": {
        "name": "ipython",
        "version": 3
      },
      "pygments_lexer": "ipython3",
      "nbconvert_exporter": "python",
      "file_extension": ".py"
    },
    "kaggle": {
      "accelerator": "gpu",
      "dataSources": [
        {
          "sourceId": 64148,
          "databundleVersionId": 7669720,
          "sourceType": "competition"
        },
        {
          "sourceId": 726715,
          "sourceType": "datasetVersion",
          "datasetId": 262
        },
        {
          "sourceId": 11384,
          "sourceType": "modelInstanceVersion",
          "isSourceIdPinned": true,
          "modelInstanceId": 6216
        }
      ],
      "dockerImageVersionId": 30674,
      "isInternetEnabled": true,
      "language": "python",
      "sourceType": "notebook",
      "isGpuEnabled": true
    },
    "colab": {
      "name": "Gemma Python Chat (GPC)",
      "provenance": [],
      "include_colab_link": true
    }
  },
  "nbformat_minor": 0,
  "nbformat": 4,
  "cells": [
    {
      "cell_type": "markdown",
      "metadata": {
        "id": "view-in-github",
        "colab_type": "text"
      },
      "source": [
        "<a href=\"https://colab.research.google.com/github/DLesmes/GPC/blob/main/Gemma_Python_Chat_(GPC).ipynb\" target=\"_parent\"><img src=\"https://colab.research.google.com/assets/colab-badge.svg\" alt=\"Open In Colab\"/></a>"
      ]
    },
    {
      "source": [
        "\n",
        "# IMPORTANT: RUN THIS CELL IN ORDER TO IMPORT YOUR KAGGLE DATA SOURCES\n",
        "# TO THE CORRECT LOCATION (/kaggle/input) IN YOUR NOTEBOOK,\n",
        "# THEN FEEL FREE TO DELETE THIS CELL.\n",
        "# NOTE: THIS NOTEBOOK ENVIRONMENT DIFFERS FROM KAGGLE'S PYTHON\n",
        "# ENVIRONMENT SO THERE MAY BE MISSING LIBRARIES USED BY YOUR\n",
        "# NOTEBOOK.\n",
        "\n",
        "import os\n",
        "import sys\n",
        "from tempfile import NamedTemporaryFile\n",
        "from urllib.request import urlopen\n",
        "from urllib.parse import unquote, urlparse\n",
        "from urllib.error import HTTPError\n",
        "from zipfile import ZipFile\n",
        "import tarfile\n",
        "import shutil\n",
        "\n",
        "CHUNK_SIZE = 40960\n",
        "DATA_SOURCE_MAPPING = 'data-assistants-with-gemma:https%3A%2F%2Fstorage.googleapis.com%2Fkaggle-competitions-data%2Fkaggle-v2%2F64148%2F7669720%2Fbundle%2Farchive.zip%3FX-Goog-Algorithm%3DGOOG4-RSA-SHA256%26X-Goog-Credential%3Dgcp-kaggle-com%2540kaggle-161607.iam.gserviceaccount.com%252F20240406%252Fauto%252Fstorage%252Fgoog4_request%26X-Goog-Date%3D20240406T062325Z%26X-Goog-Expires%3D259200%26X-Goog-SignedHeaders%3Dhost%26X-Goog-Signature%3D8f3f107398d2e3c67277ed5515c066e2ee7794fde06df91d563b69616f4c086d9a480e848433b032c02c1281d0057abd4be820f195a876634e7263fe46e439134009a3cfa28669bac2d09b4c3de046458556a7372b890e3a8294ac9831d19b71e5cd4755f47a7caffa2a13c6e5e58991361e196c8206d0dd924835a4187491a2ce68625c69ba4dd027e6a282d00f1e11669a131b4aedc7a3617eef14727a7ac06e212c08aa836f6675d7b35bca3e2bb10c171eeb6654347ec22fca184746977d41be6c5649718d263696149cfc3cf54a2e7078be83e64a69d70c63c63cac889a08e984b4bc06c056a3e6aa8b1a2b3fa6a407690245f272d9512b2b6099e6b4a6,pythonquestions:https%3A%2F%2Fstorage.googleapis.com%2Fkaggle-data-sets%2F262%2F726715%2Fbundle%2Farchive.zip%3FX-Goog-Algorithm%3DGOOG4-RSA-SHA256%26X-Goog-Credential%3Dgcp-kaggle-com%2540kaggle-161607.iam.gserviceaccount.com%252F20240406%252Fauto%252Fstorage%252Fgoog4_request%26X-Goog-Date%3D20240406T062325Z%26X-Goog-Expires%3D259200%26X-Goog-SignedHeaders%3Dhost%26X-Goog-Signature%3Dde8a797418b2e765b1ae04a451d4786bc062e6bb076814d44b6e1051a2d792b6d0505d5749820804bf029a88f144aade0d3ffc7f68754795011a444f892d9960a42707c9d97263bc4c69adde7a29fc669d094df1ff445a59b74a66f911c59ff18fb1322ecb9fafaaaa5017c39e39c1ef940ec9fab18cdd738c8e91212f19f548480d6191e827a7c6349d422db720c6451f9c915c92ff7a542dd70f21e2f2183df5c6b1d168cb3180a82434067054d48c96b87a7f7f2d145ce5455ef84a607f4a04936e4f69b5605ac1e9104a053dd16fd71f9cea804c2f13d5c87ceb43f2b3004674bb510bcca2c9dffce05b14da3735260d90f8e27cbe25a89b600c348b3e59,gemma/transformers/2b/2:https%3A%2F%2Fstorage.googleapis.com%2Fkaggle-models-data%2F6216%2F11384%2Fbundle%2Farchive.tar.gz%3FX-Goog-Algorithm%3DGOOG4-RSA-SHA256%26X-Goog-Credential%3Dgcp-kaggle-com%2540kaggle-161607.iam.gserviceaccount.com%252F20240406%252Fauto%252Fstorage%252Fgoog4_request%26X-Goog-Date%3D20240406T062326Z%26X-Goog-Expires%3D259200%26X-Goog-SignedHeaders%3Dhost%26X-Goog-Signature%3D55f0fa2322a7cffca1d7225e50e25f572714339042214fd533e1c0305ed4089e4c398d9afbe4eee87d5f238147bd2ea92bb908461b517cc4b553b3e91f8ae04f232f0c56abe540266b7837113a83aaafe7ffaaf6735eec3fecbc9dcded2ed807f5175788aa1eac33cf3fb97f973c8a047762a22029cb40514955c1db42d5d86d3e0c6bad0819a930204735315904477c1b1ec0426ff343989ad0b7896a039ff40757156b5160e6e6f9c4836011adc00d2f181d46fd361dcaa21db1e0d871e80f00205ce0e6d7572f5197cd86dc1ba98f30093807e0647ae229cec1ecebccbbebac97cf4886bf8d4644fe2123cdecf0465b7d897a3f3c6914ce60eb5d0a69893f'\n",
        "\n",
        "KAGGLE_INPUT_PATH='/kaggle/input'\n",
        "KAGGLE_WORKING_PATH='/kaggle/working'\n",
        "KAGGLE_SYMLINK='kaggle'\n",
        "\n",
        "!umount /kaggle/input/ 2> /dev/null\n",
        "shutil.rmtree('/kaggle/input', ignore_errors=True)\n",
        "os.makedirs(KAGGLE_INPUT_PATH, 0o777, exist_ok=True)\n",
        "os.makedirs(KAGGLE_WORKING_PATH, 0o777, exist_ok=True)\n",
        "\n",
        "try:\n",
        "  os.symlink(KAGGLE_INPUT_PATH, os.path.join(\"..\", 'input'), target_is_directory=True)\n",
        "except FileExistsError:\n",
        "  pass\n",
        "try:\n",
        "  os.symlink(KAGGLE_WORKING_PATH, os.path.join(\"..\", 'working'), target_is_directory=True)\n",
        "except FileExistsError:\n",
        "  pass\n",
        "\n",
        "for data_source_mapping in DATA_SOURCE_MAPPING.split(','):\n",
        "    directory, download_url_encoded = data_source_mapping.split(':')\n",
        "    download_url = unquote(download_url_encoded)\n",
        "    filename = urlparse(download_url).path\n",
        "    destination_path = os.path.join(KAGGLE_INPUT_PATH, directory)\n",
        "    try:\n",
        "        with urlopen(download_url) as fileres, NamedTemporaryFile() as tfile:\n",
        "            total_length = fileres.headers['content-length']\n",
        "            print(f'Downloading {directory}, {total_length} bytes compressed')\n",
        "            dl = 0\n",
        "            data = fileres.read(CHUNK_SIZE)\n",
        "            while len(data) > 0:\n",
        "                dl += len(data)\n",
        "                tfile.write(data)\n",
        "                done = int(50 * dl / int(total_length))\n",
        "                sys.stdout.write(f\"\\r[{'=' * done}{' ' * (50-done)}] {dl} bytes downloaded\")\n",
        "                sys.stdout.flush()\n",
        "                data = fileres.read(CHUNK_SIZE)\n",
        "            if filename.endswith('.zip'):\n",
        "              with ZipFile(tfile) as zfile:\n",
        "                zfile.extractall(destination_path)\n",
        "            else:\n",
        "              with tarfile.open(tfile.name) as tarfile:\n",
        "                tarfile.extractall(destination_path)\n",
        "            print(f'\\nDownloaded and uncompressed: {directory}')\n",
        "    except HTTPError as e:\n",
        "        print(f'Failed to load (likely expired) {download_url} to path {destination_path}')\n",
        "        continue\n",
        "    except OSError as e:\n",
        "        print(f'Failed to load {download_url} to path {destination_path}')\n",
        "        continue\n",
        "\n",
        "print('Data source import complete.')\n"
      ],
      "metadata": {
        "id": "FG8TtH8DE4-6"
      },
      "cell_type": "code",
      "outputs": [],
      "execution_count": null
    },
    {
      "cell_type": "markdown",
      "source": [
        "<a href=\"https://colab.research.google.com/github/DLesmes/GPC/blob/main/GPC_(Gemma_Python_Chat).ipynb\" target=\"_parent\"><img src=\"https://colab.research.google.com/assets/colab-badge.svg\" alt=\"Open In Colab\"/></a>"
      ],
      "metadata": {
        "id": "view-in-github"
      }
    },
    {
      "cell_type": "markdown",
      "source": [
        "# GCP 🤖 Gemma Python Chatbot"
      ],
      "metadata": {
        "id": "Qx8hbihKsoW3"
      }
    },
    {
      "cell_type": "markdown",
      "source": [
        "![](https://i.ibb.co/8xZNc32/Gemma.png)"
      ],
      "metadata": {
        "id": "B0RdGIyrsoW3"
      }
    },
    {
      "cell_type": "markdown",
      "source": [
        "The Gemma Python Chatbot 🚀🚀 help you to answer common questions about the 🐍 Python programming language, powered by [Gemma 2B IT](https://blog.google/technology/developers/gemma-open-models/) updated with the Python Enhancement Proposal ([PEPs](https://peps.python.org/)) documentation using a Retrival-Augmented Generation ([RAG](https://blogs.nvidia.com/blog/what-is-retrieval-augmented-generation/)) sponsored by a Chroma vectorial database using the open source embeddings [hkunlp/instructor-large](https://huggingface.co/hkunlp/instructor-large) of 768 entries, orchested by [langchaing](https://python.langchain.com/docs/use_cases/chatbots/) that is a framework that let you use differen models and less code changes on the architecture when you decide to test other providers"
      ],
      "metadata": {
        "id": "5C9kSlAVsoW4"
      }
    },
    {
      "cell_type": "markdown",
      "source": [
        "## Requirements"
      ],
      "metadata": {
        "id": "5GhJQPvLsoW4"
      }
    },
    {
      "cell_type": "code",
      "source": [
        "!pip install chromadb #!pip install chromadb==0.3.26\n",
        "# !pip install ydata-profiling #!pip install ydata-profiling==4.6.1\n",
        "!pip install langchain #!pip install langchain==0.0.345 ##!pip install langchain-core==0.1.31\n",
        "#!pip install pydantic  #!pip install pydantic==1.10.14\n",
        "!pip install sentence-transformers   #!pip install sentence-transformers==2.6.1\n",
        "!pip install InstructorEmbedding  #!pip install InstructorEmbedding==1.0.1"
      ],
      "metadata": {
        "_kg_hide-input": false,
        "scrolled": true,
        "execution": {
          "iopub.status.busy": "2024-04-06T04:24:04.938151Z",
          "iopub.execute_input": "2024-04-06T04:24:04.938572Z",
          "iopub.status.idle": "2024-04-06T04:25:25.233981Z",
          "shell.execute_reply.started": "2024-04-06T04:24:04.938539Z",
          "shell.execute_reply": "2024-04-06T04:25:25.232976Z"
        },
        "_kg_hide-output": true,
        "trusted": true,
        "id": "QF0vtUWBE4--",
        "outputId": "81e968e1-59e8-4e42-f5b0-d35ea943dd64"
      },
      "execution_count": null,
      "outputs": [
        {
          "name": "stdout",
          "text": "Collecting chromadb\n  Downloading chromadb-0.4.24-py3-none-any.whl.metadata (7.3 kB)\nCollecting build>=1.0.3 (from chromadb)\n  Downloading build-1.2.1-py3-none-any.whl.metadata (4.3 kB)\nRequirement already satisfied: requests>=2.28 in /opt/conda/lib/python3.10/site-packages (from chromadb) (2.31.0)\nRequirement already satisfied: pydantic>=1.9 in /opt/conda/lib/python3.10/site-packages (from chromadb) (2.5.3)\nCollecting chroma-hnswlib==0.7.3 (from chromadb)\n  Downloading chroma_hnswlib-0.7.3-cp310-cp310-manylinux_2_17_x86_64.manylinux2014_x86_64.whl.metadata (252 bytes)\nRequirement already satisfied: fastapi>=0.95.2 in /opt/conda/lib/python3.10/site-packages (from chromadb) (0.108.0)\nRequirement already satisfied: uvicorn>=0.18.3 in /opt/conda/lib/python3.10/site-packages (from uvicorn[standard]>=0.18.3->chromadb) (0.25.0)\nRequirement already satisfied: numpy>=1.22.5 in /opt/conda/lib/python3.10/site-packages (from chromadb) (1.26.4)\nCollecting posthog>=2.4.0 (from chromadb)\n  Downloading posthog-3.5.0-py2.py3-none-any.whl.metadata (2.0 kB)\nRequirement already satisfied: typing-extensions>=4.5.0 in /opt/conda/lib/python3.10/site-packages (from chromadb) (4.9.0)\nCollecting pulsar-client>=3.1.0 (from chromadb)\n  Downloading pulsar_client-3.4.0-cp310-cp310-manylinux_2_17_x86_64.manylinux2014_x86_64.whl.metadata (1.0 kB)\nCollecting onnxruntime>=1.14.1 (from chromadb)\n  Downloading onnxruntime-1.17.1-cp310-cp310-manylinux_2_27_x86_64.manylinux_2_28_x86_64.whl.metadata (4.3 kB)\nRequirement already satisfied: opentelemetry-api>=1.2.0 in /opt/conda/lib/python3.10/site-packages (from chromadb) (1.22.0)\nRequirement already satisfied: opentelemetry-exporter-otlp-proto-grpc>=1.2.0 in /opt/conda/lib/python3.10/site-packages (from chromadb) (1.22.0)\nCollecting opentelemetry-instrumentation-fastapi>=0.41b0 (from chromadb)\n  Downloading opentelemetry_instrumentation_fastapi-0.45b0-py3-none-any.whl.metadata (2.0 kB)\nRequirement already satisfied: opentelemetry-sdk>=1.2.0 in /opt/conda/lib/python3.10/site-packages (from chromadb) (1.22.0)\nRequirement already satisfied: tokenizers>=0.13.2 in /opt/conda/lib/python3.10/site-packages (from chromadb) (0.15.2)\nCollecting pypika>=0.48.9 (from chromadb)\n  Downloading PyPika-0.48.9.tar.gz (67 kB)\n\u001b[2K     \u001b[90m━━━━━━━━━━━━━━━━━━━━━━━━━━━━━━━━━━━━━━━━\u001b[0m \u001b[32m67.3/67.3 kB\u001b[0m \u001b[31m1.5 MB/s\u001b[0m eta \u001b[36m0:00:00\u001b[0ma \u001b[36m0:00:01\u001b[0m\n\u001b[?25h  Installing build dependencies ... \u001b[?25ldone\n\u001b[?25h  Getting requirements to build wheel ... \u001b[?25ldone\n\u001b[?25h  Preparing metadata (pyproject.toml) ... \u001b[?25ldone\n\u001b[?25hRequirement already satisfied: tqdm>=4.65.0 in /opt/conda/lib/python3.10/site-packages (from chromadb) (4.66.1)\nRequirement already satisfied: overrides>=7.3.1 in /opt/conda/lib/python3.10/site-packages (from chromadb) (7.4.0)\nRequirement already satisfied: importlib-resources in /opt/conda/lib/python3.10/site-packages (from chromadb) (6.1.1)\nCollecting grpcio>=1.58.0 (from chromadb)\n  Downloading grpcio-1.62.1-cp310-cp310-manylinux_2_17_x86_64.manylinux2014_x86_64.whl.metadata (4.0 kB)\nCollecting bcrypt>=4.0.1 (from chromadb)\n  Downloading bcrypt-4.1.2-cp39-abi3-manylinux_2_28_x86_64.whl.metadata (9.5 kB)\nRequirement already satisfied: typer>=0.9.0 in /opt/conda/lib/python3.10/site-packages (from chromadb) (0.9.0)\nCollecting kubernetes>=28.1.0 (from chromadb)\n  Downloading kubernetes-29.0.0-py2.py3-none-any.whl.metadata (1.5 kB)\nRequirement already satisfied: tenacity>=8.2.3 in /opt/conda/lib/python3.10/site-packages (from chromadb) (8.2.3)\nRequirement already satisfied: PyYAML>=6.0.0 in /opt/conda/lib/python3.10/site-packages (from chromadb) (6.0.1)\nRequirement already satisfied: mmh3>=4.0.1 in /opt/conda/lib/python3.10/site-packages (from chromadb) (4.1.0)\nCollecting orjson>=3.9.12 (from chromadb)\n  Downloading orjson-3.10.0-cp310-cp310-manylinux_2_17_x86_64.manylinux2014_x86_64.whl.metadata (49 kB)\n\u001b[2K     \u001b[90m━━━━━━━━━━━━━━━━━━━━━━━━━━━━━━━━━━━━━━━━\u001b[0m \u001b[32m49.5/49.5 kB\u001b[0m \u001b[31m2.5 MB/s\u001b[0m eta \u001b[36m0:00:00\u001b[0m\n\u001b[?25hRequirement already satisfied: packaging>=19.1 in /opt/conda/lib/python3.10/site-packages (from build>=1.0.3->chromadb) (21.3)\nCollecting pyproject_hooks (from build>=1.0.3->chromadb)\n  Downloading pyproject_hooks-1.0.0-py3-none-any.whl.metadata (1.3 kB)\nRequirement already satisfied: tomli>=1.1.0 in /opt/conda/lib/python3.10/site-packages (from build>=1.0.3->chromadb) (2.0.1)\nRequirement already satisfied: starlette<0.33.0,>=0.29.0 in /opt/conda/lib/python3.10/site-packages (from fastapi>=0.95.2->chromadb) (0.32.0.post1)\nRequirement already satisfied: certifi>=14.05.14 in /opt/conda/lib/python3.10/site-packages (from kubernetes>=28.1.0->chromadb) (2024.2.2)\nRequirement already satisfied: six>=1.9.0 in /opt/conda/lib/python3.10/site-packages (from kubernetes>=28.1.0->chromadb) (1.16.0)\nRequirement already satisfied: python-dateutil>=2.5.3 in /opt/conda/lib/python3.10/site-packages (from kubernetes>=28.1.0->chromadb) (2.9.0.post0)\nRequirement already satisfied: google-auth>=1.0.1 in /opt/conda/lib/python3.10/site-packages (from kubernetes>=28.1.0->chromadb) (2.26.1)\nRequirement already satisfied: websocket-client!=0.40.0,!=0.41.*,!=0.42.*,>=0.32.0 in /opt/conda/lib/python3.10/site-packages (from kubernetes>=28.1.0->chromadb) (1.7.0)\nRequirement already satisfied: requests-oauthlib in /opt/conda/lib/python3.10/site-packages (from kubernetes>=28.1.0->chromadb) (1.3.1)\nRequirement already satisfied: oauthlib>=3.2.2 in /opt/conda/lib/python3.10/site-packages (from kubernetes>=28.1.0->chromadb) (3.2.2)\nRequirement already satisfied: urllib3>=1.24.2 in /opt/conda/lib/python3.10/site-packages (from kubernetes>=28.1.0->chromadb) (1.26.18)\nCollecting coloredlogs (from onnxruntime>=1.14.1->chromadb)\n  Downloading coloredlogs-15.0.1-py2.py3-none-any.whl.metadata (12 kB)\nRequirement already satisfied: flatbuffers in /opt/conda/lib/python3.10/site-packages (from onnxruntime>=1.14.1->chromadb) (23.5.26)\nRequirement already satisfied: protobuf in /opt/conda/lib/python3.10/site-packages (from onnxruntime>=1.14.1->chromadb) (3.20.3)\nRequirement already satisfied: sympy in /opt/conda/lib/python3.10/site-packages (from onnxruntime>=1.14.1->chromadb) (1.12)\nRequirement already satisfied: deprecated>=1.2.6 in /opt/conda/lib/python3.10/site-packages (from opentelemetry-api>=1.2.0->chromadb) (1.2.14)\nRequirement already satisfied: importlib-metadata<7.0,>=6.0 in /opt/conda/lib/python3.10/site-packages (from opentelemetry-api>=1.2.0->chromadb) (6.11.0)\nRequirement already satisfied: backoff<3.0.0,>=1.10.0 in /opt/conda/lib/python3.10/site-packages (from opentelemetry-exporter-otlp-proto-grpc>=1.2.0->chromadb) (2.2.1)\nRequirement already satisfied: googleapis-common-protos~=1.52 in /opt/conda/lib/python3.10/site-packages (from opentelemetry-exporter-otlp-proto-grpc>=1.2.0->chromadb) (1.62.0)\nRequirement already satisfied: opentelemetry-exporter-otlp-proto-common==1.22.0 in /opt/conda/lib/python3.10/site-packages (from opentelemetry-exporter-otlp-proto-grpc>=1.2.0->chromadb) (1.22.0)\nRequirement already satisfied: opentelemetry-proto==1.22.0 in /opt/conda/lib/python3.10/site-packages (from opentelemetry-exporter-otlp-proto-grpc>=1.2.0->chromadb) (1.22.0)\nCollecting opentelemetry-instrumentation-asgi==0.45b0 (from opentelemetry-instrumentation-fastapi>=0.41b0->chromadb)\n  Downloading opentelemetry_instrumentation_asgi-0.45b0-py3-none-any.whl.metadata (1.9 kB)\nCollecting opentelemetry-instrumentation==0.45b0 (from opentelemetry-instrumentation-fastapi>=0.41b0->chromadb)\n  Downloading opentelemetry_instrumentation-0.45b0-py3-none-any.whl.metadata (6.1 kB)\nCollecting opentelemetry-semantic-conventions==0.45b0 (from opentelemetry-instrumentation-fastapi>=0.41b0->chromadb)\n  Downloading opentelemetry_semantic_conventions-0.45b0-py3-none-any.whl.metadata (2.2 kB)\nCollecting opentelemetry-util-http==0.45b0 (from opentelemetry-instrumentation-fastapi>=0.41b0->chromadb)\n  Downloading opentelemetry_util_http-0.45b0-py3-none-any.whl.metadata (2.4 kB)\nRequirement already satisfied: setuptools>=16.0 in /opt/conda/lib/python3.10/site-packages (from opentelemetry-instrumentation==0.45b0->opentelemetry-instrumentation-fastapi>=0.41b0->chromadb) (69.0.3)\nRequirement already satisfied: wrapt<2.0.0,>=1.0.0 in /opt/conda/lib/python3.10/site-packages (from opentelemetry-instrumentation==0.45b0->opentelemetry-instrumentation-fastapi>=0.41b0->chromadb) (1.14.1)\nCollecting asgiref~=3.0 (from opentelemetry-instrumentation-asgi==0.45b0->opentelemetry-instrumentation-fastapi>=0.41b0->chromadb)\n  Downloading asgiref-3.8.1-py3-none-any.whl.metadata (9.3 kB)\nINFO: pip is looking at multiple versions of opentelemetry-sdk to determine which version is compatible with other requirements. This could take a while.\nCollecting opentelemetry-instrumentation-fastapi>=0.41b0 (from chromadb)\n  Downloading opentelemetry_instrumentation_fastapi-0.44b0-py3-none-any.whl.metadata (2.3 kB)\nCollecting opentelemetry-instrumentation-asgi==0.44b0 (from opentelemetry-instrumentation-fastapi>=0.41b0->chromadb)\n  Downloading opentelemetry_instrumentation_asgi-0.44b0-py3-none-any.whl.metadata (2.1 kB)\nCollecting opentelemetry-instrumentation==0.44b0 (from opentelemetry-instrumentation-fastapi>=0.41b0->chromadb)\n  Downloading opentelemetry_instrumentation-0.44b0-py3-none-any.whl.metadata (6.1 kB)\nCollecting opentelemetry-semantic-conventions==0.44b0 (from opentelemetry-instrumentation-fastapi>=0.41b0->chromadb)\n  Downloading opentelemetry_semantic_conventions-0.44b0-py3-none-any.whl.metadata (2.2 kB)\nCollecting opentelemetry-util-http==0.44b0 (from opentelemetry-instrumentation-fastapi>=0.41b0->chromadb)\n  Downloading opentelemetry_util_http-0.44b0-py3-none-any.whl.metadata (2.4 kB)\nCollecting opentelemetry-instrumentation-fastapi>=0.41b0 (from chromadb)\n  Downloading opentelemetry_instrumentation_fastapi-0.43b0-py3-none-any.whl.metadata (2.3 kB)\nCollecting opentelemetry-instrumentation-asgi==0.43b0 (from opentelemetry-instrumentation-fastapi>=0.41b0->chromadb)\n  Downloading opentelemetry_instrumentation_asgi-0.43b0-py3-none-any.whl.metadata (2.1 kB)\nCollecting opentelemetry-instrumentation==0.43b0 (from opentelemetry-instrumentation-fastapi>=0.41b0->chromadb)\n  Downloading opentelemetry_instrumentation-0.43b0-py3-none-any.whl.metadata (5.9 kB)\nRequirement already satisfied: opentelemetry-semantic-conventions==0.43b0 in /opt/conda/lib/python3.10/site-packages (from opentelemetry-instrumentation-fastapi>=0.41b0->chromadb) (0.43b0)\nCollecting opentelemetry-util-http==0.43b0 (from opentelemetry-instrumentation-fastapi>=0.41b0->chromadb)\n  Downloading opentelemetry_util_http-0.43b0-py3-none-any.whl.metadata (2.5 kB)\nCollecting monotonic>=1.5 (from posthog>=2.4.0->chromadb)\n  Downloading monotonic-1.6-py2.py3-none-any.whl.metadata (1.5 kB)\nRequirement already satisfied: annotated-types>=0.4.0 in /opt/conda/lib/python3.10/site-packages (from pydantic>=1.9->chromadb) (0.6.0)\nRequirement already satisfied: pydantic-core==2.14.6 in /opt/conda/lib/python3.10/site-packages (from pydantic>=1.9->chromadb) (2.14.6)\nRequirement already satisfied: charset-normalizer<4,>=2 in /opt/conda/lib/python3.10/site-packages (from requests>=2.28->chromadb) (3.3.2)\nRequirement already satisfied: idna<4,>=2.5 in /opt/conda/lib/python3.10/site-packages (from requests>=2.28->chromadb) (3.6)\nRequirement already satisfied: huggingface_hub<1.0,>=0.16.4 in /opt/conda/lib/python3.10/site-packages (from tokenizers>=0.13.2->chromadb) (0.21.4)\nRequirement already satisfied: click<9.0.0,>=7.1.1 in /opt/conda/lib/python3.10/site-packages (from typer>=0.9.0->chromadb) (8.1.7)\nRequirement already satisfied: h11>=0.8 in /opt/conda/lib/python3.10/site-packages (from uvicorn>=0.18.3->uvicorn[standard]>=0.18.3->chromadb) (0.14.0)\nRequirement already satisfied: httptools>=0.5.0 in /opt/conda/lib/python3.10/site-packages (from uvicorn[standard]>=0.18.3->chromadb) (0.6.1)\nRequirement already satisfied: python-dotenv>=0.13 in /opt/conda/lib/python3.10/site-packages (from uvicorn[standard]>=0.18.3->chromadb) (1.0.0)\nRequirement already satisfied: uvloop!=0.15.0,!=0.15.1,>=0.14.0 in /opt/conda/lib/python3.10/site-packages (from uvicorn[standard]>=0.18.3->chromadb) (0.19.0)\nRequirement already satisfied: watchfiles>=0.13 in /opt/conda/lib/python3.10/site-packages (from uvicorn[standard]>=0.18.3->chromadb) (0.21.0)\nRequirement already satisfied: websockets>=10.4 in /opt/conda/lib/python3.10/site-packages (from uvicorn[standard]>=0.18.3->chromadb) (12.0)\nRequirement already satisfied: cachetools<6.0,>=2.0.0 in /opt/conda/lib/python3.10/site-packages (from google-auth>=1.0.1->kubernetes>=28.1.0->chromadb) (4.2.4)\nRequirement already satisfied: pyasn1-modules>=0.2.1 in /opt/conda/lib/python3.10/site-packages (from google-auth>=1.0.1->kubernetes>=28.1.0->chromadb) (0.3.0)\nRequirement already satisfied: rsa<5,>=3.1.4 in /opt/conda/lib/python3.10/site-packages (from google-auth>=1.0.1->kubernetes>=28.1.0->chromadb) (4.9)\nRequirement already satisfied: filelock in /opt/conda/lib/python3.10/site-packages (from huggingface_hub<1.0,>=0.16.4->tokenizers>=0.13.2->chromadb) (3.13.1)\nRequirement already satisfied: fsspec>=2023.5.0 in /opt/conda/lib/python3.10/site-packages (from huggingface_hub<1.0,>=0.16.4->tokenizers>=0.13.2->chromadb) (2024.3.0)\nRequirement already satisfied: zipp>=0.5 in /opt/conda/lib/python3.10/site-packages (from importlib-metadata<7.0,>=6.0->opentelemetry-api>=1.2.0->chromadb) (3.17.0)\nRequirement already satisfied: pyparsing!=3.0.5,>=2.0.2 in /opt/conda/lib/python3.10/site-packages (from packaging>=19.1->build>=1.0.3->chromadb) (3.1.1)\nRequirement already satisfied: anyio<5,>=3.4.0 in /opt/conda/lib/python3.10/site-packages (from starlette<0.33.0,>=0.29.0->fastapi>=0.95.2->chromadb) (4.2.0)\nCollecting humanfriendly>=9.1 (from coloredlogs->onnxruntime>=1.14.1->chromadb)\n  Downloading humanfriendly-10.0-py2.py3-none-any.whl.metadata (9.2 kB)\nRequirement already satisfied: mpmath>=0.19 in /opt/conda/lib/python3.10/site-packages (from sympy->onnxruntime>=1.14.1->chromadb) (1.3.0)\nRequirement already satisfied: sniffio>=1.1 in /opt/conda/lib/python3.10/site-packages (from anyio<5,>=3.4.0->starlette<0.33.0,>=0.29.0->fastapi>=0.95.2->chromadb) (1.3.0)\nRequirement already satisfied: exceptiongroup>=1.0.2 in /opt/conda/lib/python3.10/site-packages (from anyio<5,>=3.4.0->starlette<0.33.0,>=0.29.0->fastapi>=0.95.2->chromadb) (1.2.0)\nRequirement already satisfied: pyasn1<0.6.0,>=0.4.6 in /opt/conda/lib/python3.10/site-packages (from pyasn1-modules>=0.2.1->google-auth>=1.0.1->kubernetes>=28.1.0->chromadb) (0.5.1)\nDownloading chromadb-0.4.24-py3-none-any.whl (525 kB)\n\u001b[2K   \u001b[90m━━━━━━━━━━━━━━━━━━━━━━━━━━━━━━━━━━━━━━━━\u001b[0m \u001b[32m525.5/525.5 kB\u001b[0m \u001b[31m11.1 MB/s\u001b[0m eta \u001b[36m0:00:00\u001b[0m00:01\u001b[0m\n\u001b[?25hDownloading chroma_hnswlib-0.7.3-cp310-cp310-manylinux_2_17_x86_64.manylinux2014_x86_64.whl (2.4 MB)\n\u001b[2K   \u001b[90m━━━━━━━━━━━━━━━━━━━━━━━━━━━━━━━━━━━━━━━━\u001b[0m \u001b[32m2.4/2.4 MB\u001b[0m \u001b[31m44.2 MB/s\u001b[0m eta \u001b[36m0:00:00\u001b[0m00:01\u001b[0m\n\u001b[?25hDownloading bcrypt-4.1.2-cp39-abi3-manylinux_2_28_x86_64.whl (698 kB)\n\u001b[2K   \u001b[90m━━━━━━━━━━━━━━━━━━━━━━━━━━━━━━━━━━━━━━━━\u001b[0m \u001b[32m698.9/698.9 kB\u001b[0m \u001b[31m35.9 MB/s\u001b[0m eta \u001b[36m0:00:00\u001b[0m\n\u001b[?25hDownloading build-1.2.1-py3-none-any.whl (21 kB)\nDownloading grpcio-1.62.1-cp310-cp310-manylinux_2_17_x86_64.manylinux2014_x86_64.whl (5.5 MB)\n\u001b[2K   \u001b[90m━━━━━━━━━━━━━━━━━━━━━━━━━━━━━━━━━━━━━━━━\u001b[0m \u001b[32m5.5/5.5 MB\u001b[0m \u001b[31m81.6 MB/s\u001b[0m eta \u001b[36m0:00:00\u001b[0m:00:01\u001b[0m\n\u001b[?25hDownloading kubernetes-29.0.0-py2.py3-none-any.whl (1.6 MB)\n\u001b[2K   \u001b[90m━━━━━━━━━━━━━━━━━━━━━━━━━━━━━━━━━━━━━━━━\u001b[0m \u001b[32m1.6/1.6 MB\u001b[0m \u001b[31m55.9 MB/s\u001b[0m eta \u001b[36m0:00:00\u001b[0m\n\u001b[?25hDownloading onnxruntime-1.17.1-cp310-cp310-manylinux_2_27_x86_64.manylinux_2_28_x86_64.whl (6.8 MB)\n\u001b[2K   \u001b[90m━━━━━━━━━━━━━━━━━━━━━━━━━━━━━━━━━━━━━━━━\u001b[0m \u001b[32m6.8/6.8 MB\u001b[0m \u001b[31m85.6 MB/s\u001b[0m eta \u001b[36m0:00:00\u001b[0m:00:01\u001b[0m00:01\u001b[0m\n\u001b[?25hDownloading opentelemetry_instrumentation_fastapi-0.43b0-py3-none-any.whl (11 kB)\nDownloading opentelemetry_instrumentation_asgi-0.43b0-py3-none-any.whl (14 kB)\nDownloading opentelemetry_instrumentation-0.43b0-py3-none-any.whl (28 kB)\nDownloading opentelemetry_util_http-0.43b0-py3-none-any.whl (6.9 kB)\nDownloading orjson-3.10.0-cp310-cp310-manylinux_2_17_x86_64.manylinux2014_x86_64.whl (144 kB)\n\u001b[2K   \u001b[90m━━━━━━━━━━━━━━━━━━━━━━━━━━━━━━━━━━━━━━━━\u001b[0m \u001b[32m144.8/144.8 kB\u001b[0m \u001b[31m10.2 MB/s\u001b[0m eta \u001b[36m0:00:00\u001b[0m\n\u001b[?25hDownloading posthog-3.5.0-py2.py3-none-any.whl (41 kB)\n\u001b[2K   \u001b[90m━━━━━━━━━━━━━━━━━━━━━━━━━━━━━━━━━━━━━━━━\u001b[0m \u001b[32m41.3/41.3 kB\u001b[0m \u001b[31m2.5 MB/s\u001b[0m eta \u001b[36m0:00:00\u001b[0m\n\u001b[?25hDownloading pulsar_client-3.4.0-cp310-cp310-manylinux_2_17_x86_64.manylinux2014_x86_64.whl (5.4 MB)\n\u001b[2K   \u001b[90m━━━━━━━━━━━━━━━━━━━━━━━━━━━━━━━━━━━━━━━━\u001b[0m \u001b[32m5.4/5.4 MB\u001b[0m \u001b[31m81.7 MB/s\u001b[0m eta \u001b[36m0:00:00\u001b[0m:00:01\u001b[0m\n\u001b[?25hDownloading monotonic-1.6-py2.py3-none-any.whl (8.2 kB)\nDownloading coloredlogs-15.0.1-py2.py3-none-any.whl (46 kB)\n\u001b[2K   \u001b[90m━━━━━━━━━━━━━━━━━━━━━━━━━━━━━━━━━━━━━━━━\u001b[0m \u001b[32m46.0/46.0 kB\u001b[0m \u001b[31m2.6 MB/s\u001b[0m eta \u001b[36m0:00:00\u001b[0m\n\u001b[?25hDownloading pyproject_hooks-1.0.0-py3-none-any.whl (9.3 kB)\nDownloading asgiref-3.8.1-py3-none-any.whl (23 kB)\nDownloading humanfriendly-10.0-py2.py3-none-any.whl (86 kB)\n\u001b[2K   \u001b[90m━━━━━━━━━━━━━━━━━━━━━━━━━━━━━━━━━━━━━━━━\u001b[0m \u001b[32m86.8/86.8 kB\u001b[0m \u001b[31m5.5 MB/s\u001b[0m eta \u001b[36m0:00:00\u001b[0m\n\u001b[?25hBuilding wheels for collected packages: pypika\n  Building wheel for pypika (pyproject.toml) ... \u001b[?25ldone\n\u001b[?25h  Created wheel for pypika: filename=PyPika-0.48.9-py2.py3-none-any.whl size=53724 sha256=9bb1ca97f658e461f895dc52294e5ac99e936a551eb35bf738434158a66f3058\n  Stored in directory: /root/.cache/pip/wheels/e1/26/51/d0bffb3d2fd82256676d7ad3003faea3bd6dddc9577af665f4\nSuccessfully built pypika\nInstalling collected packages: pypika, monotonic, pyproject_hooks, pulsar-client, orjson, opentelemetry-util-http, humanfriendly, grpcio, chroma-hnswlib, bcrypt, asgiref, posthog, coloredlogs, build, opentelemetry-instrumentation, onnxruntime, kubernetes, opentelemetry-instrumentation-asgi, opentelemetry-instrumentation-fastapi, chromadb\n  Attempting uninstall: orjson\n    Found existing installation: orjson 3.9.10\n    Uninstalling orjson-3.9.10:\n      Successfully uninstalled orjson-3.9.10\n  Attempting uninstall: grpcio\n    Found existing installation: grpcio 1.51.1\n    Uninstalling grpcio-1.51.1:\n      Successfully uninstalled grpcio-1.51.1\n  Attempting uninstall: kubernetes\n    Found existing installation: kubernetes 26.1.0\n    Uninstalling kubernetes-26.1.0:\n      Successfully uninstalled kubernetes-26.1.0\n\u001b[31mERROR: pip's dependency resolver does not currently take into account all the packages that are installed. This behaviour is the source of the following dependency conflicts.\ntensorflow-decision-forests 1.8.1 requires wurlitzer, which is not installed.\napache-beam 2.46.0 requires dill<0.3.2,>=0.3.1.1, but you have dill 0.3.8 which is incompatible.\napache-beam 2.46.0 requires numpy<1.25.0,>=1.14.3, but you have numpy 1.26.4 which is incompatible.\napache-beam 2.46.0 requires pyarrow<10.0.0,>=3.0.0, but you have pyarrow 11.0.0 which is incompatible.\nkfp 2.5.0 requires google-cloud-storage<3,>=2.2.1, but you have google-cloud-storage 1.44.0 which is incompatible.\nkfp 2.5.0 requires kubernetes<27,>=8.0.0, but you have kubernetes 29.0.0 which is incompatible.\ntensorflow 2.15.0 requires keras<2.16,>=2.15.0, but you have keras 3.0.5 which is incompatible.\u001b[0m\u001b[31m\n\u001b[0mSuccessfully installed asgiref-3.8.1 bcrypt-4.1.2 build-1.2.1 chroma-hnswlib-0.7.3 chromadb-0.4.24 coloredlogs-15.0.1 grpcio-1.60.0 humanfriendly-10.0 kubernetes-29.0.0 monotonic-1.6 onnxruntime-1.17.1 opentelemetry-instrumentation-0.43b0 opentelemetry-instrumentation-asgi-0.43b0 opentelemetry-instrumentation-fastapi-0.43b0 opentelemetry-util-http-0.43b0 orjson-3.10.0 posthog-3.5.0 pulsar-client-3.4.0 pypika-0.48.9 pyproject_hooks-1.0.0\nCollecting langchain\n  Downloading langchain-0.1.14-py3-none-any.whl.metadata (13 kB)\nRequirement already satisfied: PyYAML>=5.3 in /opt/conda/lib/python3.10/site-packages (from langchain) (6.0.1)\nRequirement already satisfied: SQLAlchemy<3,>=1.4 in /opt/conda/lib/python3.10/site-packages (from langchain) (2.0.25)\nRequirement already satisfied: aiohttp<4.0.0,>=3.8.3 in /opt/conda/lib/python3.10/site-packages (from langchain) (3.9.1)\nRequirement already satisfied: async-timeout<5.0.0,>=4.0.0 in /opt/conda/lib/python3.10/site-packages (from langchain) (4.0.3)\nRequirement already satisfied: dataclasses-json<0.7,>=0.5.7 in /opt/conda/lib/python3.10/site-packages (from langchain) (0.6.4)\nRequirement already satisfied: jsonpatch<2.0,>=1.33 in /opt/conda/lib/python3.10/site-packages (from langchain) (1.33)\nCollecting langchain-community<0.1,>=0.0.30 (from langchain)\n  Downloading langchain_community-0.0.31-py3-none-any.whl.metadata (8.4 kB)\nCollecting langchain-core<0.2.0,>=0.1.37 (from langchain)\n  Downloading langchain_core-0.1.40-py3-none-any.whl.metadata (5.9 kB)\nCollecting langchain-text-splitters<0.1,>=0.0.1 (from langchain)\n  Downloading langchain_text_splitters-0.0.1-py3-none-any.whl.metadata (2.0 kB)\nCollecting langsmith<0.2.0,>=0.1.17 (from langchain)\n  Downloading langsmith-0.1.40-py3-none-any.whl.metadata (13 kB)\nRequirement already satisfied: numpy<2,>=1 in /opt/conda/lib/python3.10/site-packages (from langchain) (1.26.4)\nRequirement already satisfied: pydantic<3,>=1 in /opt/conda/lib/python3.10/site-packages (from langchain) (2.5.3)\nRequirement already satisfied: requests<3,>=2 in /opt/conda/lib/python3.10/site-packages (from langchain) (2.31.0)\nRequirement already satisfied: tenacity<9.0.0,>=8.1.0 in /opt/conda/lib/python3.10/site-packages (from langchain) (8.2.3)\nRequirement already satisfied: attrs>=17.3.0 in /opt/conda/lib/python3.10/site-packages (from aiohttp<4.0.0,>=3.8.3->langchain) (23.2.0)\nRequirement already satisfied: multidict<7.0,>=4.5 in /opt/conda/lib/python3.10/site-packages (from aiohttp<4.0.0,>=3.8.3->langchain) (6.0.4)\nRequirement already satisfied: yarl<2.0,>=1.0 in /opt/conda/lib/python3.10/site-packages (from aiohttp<4.0.0,>=3.8.3->langchain) (1.9.3)\nRequirement already satisfied: frozenlist>=1.1.1 in /opt/conda/lib/python3.10/site-packages (from aiohttp<4.0.0,>=3.8.3->langchain) (1.4.1)\nRequirement already satisfied: aiosignal>=1.1.2 in /opt/conda/lib/python3.10/site-packages (from aiohttp<4.0.0,>=3.8.3->langchain) (1.3.1)\nRequirement already satisfied: marshmallow<4.0.0,>=3.18.0 in /opt/conda/lib/python3.10/site-packages (from dataclasses-json<0.7,>=0.5.7->langchain) (3.21.1)\nRequirement already satisfied: typing-inspect<1,>=0.4.0 in /opt/conda/lib/python3.10/site-packages (from dataclasses-json<0.7,>=0.5.7->langchain) (0.9.0)\nRequirement already satisfied: jsonpointer>=1.9 in /opt/conda/lib/python3.10/site-packages (from jsonpatch<2.0,>=1.33->langchain) (2.4)\nCollecting packaging<24.0,>=23.2 (from langchain-core<0.2.0,>=0.1.37->langchain)\n  Downloading packaging-23.2-py3-none-any.whl.metadata (3.2 kB)\nRequirement already satisfied: orjson<4.0.0,>=3.9.14 in /opt/conda/lib/python3.10/site-packages (from langsmith<0.2.0,>=0.1.17->langchain) (3.10.0)\nRequirement already satisfied: annotated-types>=0.4.0 in /opt/conda/lib/python3.10/site-packages (from pydantic<3,>=1->langchain) (0.6.0)\nRequirement already satisfied: pydantic-core==2.14.6 in /opt/conda/lib/python3.10/site-packages (from pydantic<3,>=1->langchain) (2.14.6)\nRequirement already satisfied: typing-extensions>=4.6.1 in /opt/conda/lib/python3.10/site-packages (from pydantic<3,>=1->langchain) (4.9.0)\nRequirement already satisfied: charset-normalizer<4,>=2 in /opt/conda/lib/python3.10/site-packages (from requests<3,>=2->langchain) (3.3.2)\nRequirement already satisfied: idna<4,>=2.5 in /opt/conda/lib/python3.10/site-packages (from requests<3,>=2->langchain) (3.6)\nRequirement already satisfied: urllib3<3,>=1.21.1 in /opt/conda/lib/python3.10/site-packages (from requests<3,>=2->langchain) (1.26.18)\nRequirement already satisfied: certifi>=2017.4.17 in /opt/conda/lib/python3.10/site-packages (from requests<3,>=2->langchain) (2024.2.2)\nRequirement already satisfied: greenlet!=0.4.17 in /opt/conda/lib/python3.10/site-packages (from SQLAlchemy<3,>=1.4->langchain) (3.0.3)\nRequirement already satisfied: mypy-extensions>=0.3.0 in /opt/conda/lib/python3.10/site-packages (from typing-inspect<1,>=0.4.0->dataclasses-json<0.7,>=0.5.7->langchain) (1.0.0)\nDownloading langchain-0.1.14-py3-none-any.whl (812 kB)\n\u001b[2K   \u001b[90m━━━━━━━━━━━━━━━━━━━━━━━━━━━━━━━━━━━━━━━━\u001b[0m \u001b[32m812.8/812.8 kB\u001b[0m \u001b[31m9.8 MB/s\u001b[0m eta \u001b[36m0:00:00\u001b[0m:00:01\u001b[0m0:01\u001b[0m\n\u001b[?25hDownloading langchain_community-0.0.31-py3-none-any.whl (1.9 MB)\n\u001b[2K   \u001b[90m━━━━━━━━━━━━━━━━━━━━━━━━━━━━━━━━━━━━━━━━\u001b[0m \u001b[32m1.9/1.9 MB\u001b[0m \u001b[31m47.2 MB/s\u001b[0m eta \u001b[36m0:00:00\u001b[0m:00:01\u001b[0m\n\u001b[?25hDownloading langchain_core-0.1.40-py3-none-any.whl (276 kB)\n\u001b[2K   \u001b[90m━━━━━━━━━━━━━━━━━━━━━━━━━━━━━━━━━━━━━━━━\u001b[0m \u001b[32m276.8/276.8 kB\u001b[0m \u001b[31m15.5 MB/s\u001b[0m eta \u001b[36m0:00:00\u001b[0m\n\u001b[?25hDownloading langchain_text_splitters-0.0.1-py3-none-any.whl (21 kB)\nDownloading langsmith-0.1.40-py3-none-any.whl (87 kB)\n\u001b[2K   \u001b[90m━━━━━━━━━━━━━━━━━━━━━━━━━━━━━━━━━━━━━━━━\u001b[0m \u001b[32m87.5/87.5 kB\u001b[0m \u001b[31m5.7 MB/s\u001b[0m eta \u001b[36m0:00:00\u001b[0m\n\u001b[?25hDownloading packaging-23.2-py3-none-any.whl (53 kB)\n\u001b[2K   \u001b[90m━━━━━━━━━━━━━━━━━━━━━━━━━━━━━━━━━━━━━━━━\u001b[0m \u001b[32m53.0/53.0 kB\u001b[0m \u001b[31m3.1 MB/s\u001b[0m eta \u001b[36m0:00:00\u001b[0m\n\u001b[?25hInstalling collected packages: packaging, langsmith, langchain-core, langchain-text-splitters, langchain-community, langchain\n  Attempting uninstall: packaging\n    Found existing installation: packaging 21.3\n    Uninstalling packaging-21.3:\n      Successfully uninstalled packaging-21.3\n\u001b[31mERROR: pip's dependency resolver does not currently take into account all the packages that are installed. This behaviour is the source of the following dependency conflicts.\ncudf 23.8.0 requires cubinlinker, which is not installed.\ncudf 23.8.0 requires cupy-cuda11x>=12.0.0, which is not installed.\ncudf 23.8.0 requires ptxcompiler, which is not installed.\ncuml 23.8.0 requires cupy-cuda11x>=12.0.0, which is not installed.\ndask-cudf 23.8.0 requires cupy-cuda11x>=12.0.0, which is not installed.\nkeras-cv 0.8.2 requires keras-core, which is not installed.\nkeras-nlp 0.8.2 requires keras-core, which is not installed.\ntensorflow-decision-forests 1.8.1 requires wurlitzer, which is not installed.\ncudf 23.8.0 requires cuda-python<12.0a0,>=11.7.1, but you have cuda-python 12.4.0 which is incompatible.\ncudf 23.8.0 requires pandas<1.6.0dev0,>=1.3, but you have pandas 2.1.4 which is incompatible.\ncudf 23.8.0 requires protobuf<5,>=4.21, but you have protobuf 3.20.3 which is incompatible.\ncuml 23.8.0 requires dask==2023.7.1, but you have dask 2024.3.1 which is incompatible.\ndask-cuda 23.8.0 requires dask==2023.7.1, but you have dask 2024.3.1 which is incompatible.\ndask-cuda 23.8.0 requires pandas<1.6.0dev0,>=1.3, but you have pandas 2.1.4 which is incompatible.\ndask-cudf 23.8.0 requires dask==2023.7.1, but you have dask 2024.3.1 which is incompatible.\ndask-cudf 23.8.0 requires pandas<1.6.0dev0,>=1.3, but you have pandas 2.1.4 which is incompatible.\ndistributed 2023.7.1 requires dask==2023.7.1, but you have dask 2024.3.1 which is incompatible.\ngoogle-cloud-bigquery 2.34.4 requires packaging<22.0dev,>=14.3, but you have packaging 23.2 which is incompatible.\njupyterlab 4.1.5 requires jupyter-lsp>=2.0.0, but you have jupyter-lsp 1.5.1 which is incompatible.\njupyterlab-lsp 5.1.0 requires jupyter-lsp>=2.0.0, but you have jupyter-lsp 1.5.1 which is incompatible.\nlibpysal 4.9.2 requires shapely>=2.0.1, but you have shapely 1.8.5.post1 which is incompatible.\nmomepy 0.7.0 requires shapely>=2, but you have shapely 1.8.5.post1 which is incompatible.\nosmnx 1.9.1 requires shapely>=2.0, but you have shapely 1.8.5.post1 which is incompatible.\nraft-dask 23.8.0 requires dask==2023.7.1, but you have dask 2024.3.1 which is incompatible.\nspopt 0.6.0 requires shapely>=2.0.1, but you have shapely 1.8.5.post1 which is incompatible.\ntensorflow 2.15.0 requires keras<2.16,>=2.15.0, but you have keras 3.0.5 which is incompatible.\nydata-profiling 4.6.4 requires numpy<1.26,>=1.16.0, but you have numpy 1.26.4 which is incompatible.\u001b[0m\u001b[31m\n\u001b[0mSuccessfully installed langchain-0.1.14 langchain-community-0.0.31 langchain-core-0.1.40 langchain-text-splitters-0.0.1 langsmith-0.1.40 packaging-23.2\nCollecting sentence-transformers\n  Downloading sentence_transformers-2.6.1-py3-none-any.whl.metadata (11 kB)\nRequirement already satisfied: transformers<5.0.0,>=4.32.0 in /opt/conda/lib/python3.10/site-packages (from sentence-transformers) (4.38.2)\nRequirement already satisfied: tqdm in /opt/conda/lib/python3.10/site-packages (from sentence-transformers) (4.66.1)\nRequirement already satisfied: torch>=1.11.0 in /opt/conda/lib/python3.10/site-packages (from sentence-transformers) (2.1.2)\nRequirement already satisfied: numpy in /opt/conda/lib/python3.10/site-packages (from sentence-transformers) (1.26.4)\nRequirement already satisfied: scikit-learn in /opt/conda/lib/python3.10/site-packages (from sentence-transformers) (1.2.2)\nRequirement already satisfied: scipy in /opt/conda/lib/python3.10/site-packages (from sentence-transformers) (1.11.4)\nRequirement already satisfied: huggingface-hub>=0.15.1 in /opt/conda/lib/python3.10/site-packages (from sentence-transformers) (0.21.4)\nRequirement already satisfied: Pillow in /opt/conda/lib/python3.10/site-packages (from sentence-transformers) (9.5.0)\nRequirement already satisfied: filelock in /opt/conda/lib/python3.10/site-packages (from huggingface-hub>=0.15.1->sentence-transformers) (3.13.1)\nRequirement already satisfied: fsspec>=2023.5.0 in /opt/conda/lib/python3.10/site-packages (from huggingface-hub>=0.15.1->sentence-transformers) (2024.3.0)\nRequirement already satisfied: requests in /opt/conda/lib/python3.10/site-packages (from huggingface-hub>=0.15.1->sentence-transformers) (2.31.0)\nRequirement already satisfied: pyyaml>=5.1 in /opt/conda/lib/python3.10/site-packages (from huggingface-hub>=0.15.1->sentence-transformers) (6.0.1)\nRequirement already satisfied: typing-extensions>=3.7.4.3 in /opt/conda/lib/python3.10/site-packages (from huggingface-hub>=0.15.1->sentence-transformers) (4.9.0)\nRequirement already satisfied: packaging>=20.9 in /opt/conda/lib/python3.10/site-packages (from huggingface-hub>=0.15.1->sentence-transformers) (23.2)\nRequirement already satisfied: sympy in /opt/conda/lib/python3.10/site-packages (from torch>=1.11.0->sentence-transformers) (1.12)\nRequirement already satisfied: networkx in /opt/conda/lib/python3.10/site-packages (from torch>=1.11.0->sentence-transformers) (3.2.1)\nRequirement already satisfied: jinja2 in /opt/conda/lib/python3.10/site-packages (from torch>=1.11.0->sentence-transformers) (3.1.2)\nRequirement already satisfied: regex!=2019.12.17 in /opt/conda/lib/python3.10/site-packages (from transformers<5.0.0,>=4.32.0->sentence-transformers) (2023.12.25)\nRequirement already satisfied: tokenizers<0.19,>=0.14 in /opt/conda/lib/python3.10/site-packages (from transformers<5.0.0,>=4.32.0->sentence-transformers) (0.15.2)\nRequirement already satisfied: safetensors>=0.4.1 in /opt/conda/lib/python3.10/site-packages (from transformers<5.0.0,>=4.32.0->sentence-transformers) (0.4.2)\nRequirement already satisfied: joblib>=1.1.1 in /opt/conda/lib/python3.10/site-packages (from scikit-learn->sentence-transformers) (1.3.2)\nRequirement already satisfied: threadpoolctl>=2.0.0 in /opt/conda/lib/python3.10/site-packages (from scikit-learn->sentence-transformers) (3.2.0)\nRequirement already satisfied: MarkupSafe>=2.0 in /opt/conda/lib/python3.10/site-packages (from jinja2->torch>=1.11.0->sentence-transformers) (2.1.3)\nRequirement already satisfied: charset-normalizer<4,>=2 in /opt/conda/lib/python3.10/site-packages (from requests->huggingface-hub>=0.15.1->sentence-transformers) (3.3.2)\nRequirement already satisfied: idna<4,>=2.5 in /opt/conda/lib/python3.10/site-packages (from requests->huggingface-hub>=0.15.1->sentence-transformers) (3.6)\nRequirement already satisfied: urllib3<3,>=1.21.1 in /opt/conda/lib/python3.10/site-packages (from requests->huggingface-hub>=0.15.1->sentence-transformers) (1.26.18)\nRequirement already satisfied: certifi>=2017.4.17 in /opt/conda/lib/python3.10/site-packages (from requests->huggingface-hub>=0.15.1->sentence-transformers) (2024.2.2)\nRequirement already satisfied: mpmath>=0.19 in /opt/conda/lib/python3.10/site-packages (from sympy->torch>=1.11.0->sentence-transformers) (1.3.0)\nDownloading sentence_transformers-2.6.1-py3-none-any.whl (163 kB)\n\u001b[2K   \u001b[90m━━━━━━━━━━━━━━━━━━━━━━━━━━━━━━━━━━━━━━━━\u001b[0m \u001b[32m163.3/163.3 kB\u001b[0m \u001b[31m3.6 MB/s\u001b[0m eta \u001b[36m0:00:00\u001b[0ma \u001b[36m0:00:01\u001b[0m\n\u001b[?25hInstalling collected packages: sentence-transformers\nSuccessfully installed sentence-transformers-2.6.1\nCollecting InstructorEmbedding\n  Downloading InstructorEmbedding-1.0.1-py2.py3-none-any.whl.metadata (20 kB)\nDownloading InstructorEmbedding-1.0.1-py2.py3-none-any.whl (19 kB)\nInstalling collected packages: InstructorEmbedding\nSuccessfully installed InstructorEmbedding-1.0.1\n",
          "output_type": "stream"
        }
      ]
    },
    {
      "cell_type": "code",
      "source": [
        "#base\n",
        "import os\n",
        "import json\n",
        "import re\n",
        "import uuid\n",
        "import time\n",
        "import csv\n",
        "import pandas as pd\n",
        "import numpy as np\n",
        "from typing import *\n",
        "# variables\n",
        "from kaggle_secrets import UserSecretsClient\n",
        "# model\n",
        "import torch\n",
        "from torch.utils.data import Dataset\n",
        "from transformers import (\n",
        "    AutoTokenizer,\n",
        "    AutoModelForCausalLM,\n",
        "    Trainer,\n",
        "    DataCollatorForSeq2Seq,\n",
        "    Seq2SeqTrainingArguments,\n",
        ")\n",
        "# data\n",
        "from datasets import load_dataset\n",
        "import requests\n",
        "from bs4 import BeautifulSoup\n",
        "# embeddings\n",
        "from langchain.embeddings import SentenceTransformerEmbeddings\n",
        "from langchain.embeddings import HuggingFaceInstructEmbeddings\n",
        "# vector database\n",
        "from langchain.schema import Document\n",
        "from langchain.text_splitter import RecursiveCharacterTextSplitter\n",
        "from langchain.vectorstores import Chroma"
      ],
      "metadata": {
        "id": "Vq5ZFhX7soW4",
        "execution": {
          "iopub.status.busy": "2024-04-06T04:25:25.242406Z",
          "iopub.execute_input": "2024-04-06T04:25:25.242733Z",
          "iopub.status.idle": "2024-04-06T04:25:26.029259Z",
          "shell.execute_reply.started": "2024-04-06T04:25:25.242704Z",
          "shell.execute_reply": "2024-04-06T04:25:26.028438Z"
        },
        "trusted": true
      },
      "execution_count": null,
      "outputs": []
    },
    {
      "cell_type": "markdown",
      "source": [
        "# Classes"
      ],
      "metadata": {
        "id": "yAkNS8oPE4-_"
      }
    },
    {
      "cell_type": "markdown",
      "source": [
        "### Questions and answers data"
      ],
      "metadata": {
        "id": "hApw5rQgE4-_"
      }
    },
    {
      "cell_type": "code",
      "source": [
        "class pythonQAData:\n",
        "    \"\"\"\n",
        "    Processes data from Questions and Answers CSV files to provide a structured Q&A format.\n",
        "\n",
        "    Attributes:\n",
        "        questions_path (str): Path to the Questions CSV file\n",
        "        answers_path (str): Path to the Answers CSV file\n",
        "        tags_path (str): Path to the tags CSV file\n",
        "\n",
        "    Methods:\n",
        "        load_data(): Loads the CSV data into DataFrames.\n",
        "        merge(): Cleans, merges, and formats the question and answer data.\n",
        "        get_formatted_qa(): Returns a list of formatted question-answer strings.\n",
        "    \"\"\"\n",
        "\n",
        "    def __init__(self):\n",
        "        self.questions_path = '../input/pythonquestions/Questions.csv'\n",
        "        self.answers_path = '../input/pythonquestions/Answers.csv'\n",
        "        self.tags_path = '../input/pythonquestions/Tags.csv'\n",
        "        self.regex = r\"<\\/?[\\w\\s]*>\"\n",
        "\n",
        "    def load_data(self):\n",
        "        \"\"\"Loads Questions and Answers data from CSV files.\"\"\"\n",
        "        df_questions = pd.read_csv(\n",
        "            self.questions_path,\n",
        "            encoding=\"ISO-8859-1\",\n",
        "            usecols=[\n",
        "                'Id',\n",
        "                'Score',\n",
        "                'Title'\n",
        "            ]\n",
        "        )\n",
        "        df_answers = pd.read_csv(\n",
        "            self.answers_path,\n",
        "            encoding=\"ISO-8859-1\",\n",
        "            usecols=[\n",
        "                'ParentId',\n",
        "                'Score',\n",
        "                'Body'\n",
        "            ]\n",
        "        )\n",
        "        df_tags = pd.read_csv(\n",
        "            self.tags_path,\n",
        "            encoding=\"ISO-8859-1\",\n",
        "            usecols=[\n",
        "                'Id',\n",
        "                'Tag'\n",
        "            ]\n",
        "        )\n",
        "        return df_questions, df_answers, df_tags\n",
        "\n",
        "\n",
        "    def qa_data(self):\n",
        "        \"\"\"Cleans, merges, and formats the question and answer data.\"\"\"\n",
        "        df_questions, df_answers, df_tags = self.load_data()\n",
        "        # Rename\n",
        "        df_questions.rename(\n",
        "            columns={\n",
        "                'Title': 'Question',\n",
        "                'Score': 'question_score'\n",
        "            },\n",
        "            inplace=True\n",
        "        )\n",
        "        df_answers.rename(\n",
        "            columns={\n",
        "                'Body': 'Answer',\n",
        "                'ParentId':'Id',\n",
        "                'Score': 'answer_score'\n",
        "            },\n",
        "            inplace=True\n",
        "        )\n",
        "        # Filter by score\n",
        "        df_questions = df_questions[df_questions['question_score'] > 5].copy()\n",
        "        # Sort and deduplicate answers\n",
        "        df_answers = df_answers.sort_values(\n",
        "            'answer_score',\n",
        "            ascending=False\n",
        "        ).drop_duplicates(subset=['Id'])\n",
        "        # Merge\n",
        "        df_qa = df_questions.merge(\n",
        "            df_answers,\n",
        "            how='left',\n",
        "            on='Id'\n",
        "        ).merge(\n",
        "            df_tags,\n",
        "            how='left',\n",
        "            on='Id'\n",
        "        )\n",
        "        # filter for python  questions\n",
        "        df_qa = df_qa[df_qa['answer_score'] > 5].copy()\n",
        "        df_qa = df_qa[df_qa['Tag']=='python'].copy()\n",
        "        df_qa['Answer'] = df_qa['Answer'].apply(\n",
        "            lambda x: re.sub(\n",
        "                self.regex,\n",
        "                \"\",\n",
        "                x\n",
        "            )\n",
        "        )\n",
        "        return df_qa\n",
        "\n",
        "    def get_fine_tunning_data(self):\n",
        "        \"\"\"Returns a list of formatted user-assistant strings.\"\"\"\n",
        "        df_qa_data = self.qa_data()\n",
        "        data = [\n",
        "            f\"<-change-of-interlocutor->user:\\n{row['Question']}\\n<-change-of-interlocutor->assistant:\\n{row['Answer']}\"\n",
        "            for index, row\n",
        "            in df_qa_data.iterrows()\n",
        "        ]\n",
        "        return data\n",
        "    def get_qa_data(self):\n",
        "        \"\"\"Returns a list of records dictionaries \"\"\"\n",
        "        df_qa_data = self.qa_data()\n",
        "        data = df_qa_data[\n",
        "            [\n",
        "                'Question',\n",
        "                'Answer'\n",
        "            ]\n",
        "        ].to_dict(orient='records')\n",
        "        return data\n"
      ],
      "metadata": {
        "id": "bSU-ohmssoW5",
        "execution": {
          "iopub.status.busy": "2024-04-06T04:25:26.031563Z",
          "iopub.execute_input": "2024-04-06T04:25:26.031879Z",
          "iopub.status.idle": "2024-04-06T04:25:26.045892Z",
          "shell.execute_reply.started": "2024-04-06T04:25:26.031854Z",
          "shell.execute_reply": "2024-04-06T04:25:26.044933Z"
        },
        "trusted": true
      },
      "execution_count": null,
      "outputs": []
    },
    {
      "cell_type": "markdown",
      "source": [
        "### Python Enhancement Proposals data"
      ],
      "metadata": {
        "id": "a2PnPhHbE4_A"
      }
    },
    {
      "cell_type": "code",
      "source": [
        "class Peps:\n",
        "    \"\"\"\n",
        "    Scrapes Python Enhancement Proposals (PEPs) from https://peps.python.org/\n",
        "    \"\"\"\n",
        "\n",
        "    def __init__(self):\n",
        "        \"\"\"Initiates the scraping process.\"\"\"\n",
        "        self.base_url = 'https://peps.python.org/'\n",
        "\n",
        "    def scraper(self, url):\n",
        "        \"\"\"\n",
        "        Fetches the HTML content of a given URL.\n",
        "\n",
        "        Args:\n",
        "            url (str): The URL to fetch.\n",
        "\n",
        "        Returns:\n",
        "            BeautifulSoup: A BeautifulSoup object representing the parsed HTML.\n",
        "        \"\"\"\n",
        "        response = requests.get(url)\n",
        "        response.raise_for_status()\n",
        "        return BeautifulSoup(response.content, 'html.parser')\n",
        "\n",
        "    def _fetch_pep_links(self):\n",
        "        \"\"\"Fetches links to individual PEP pages (private method).\n",
        "\n",
        "        Returns:\n",
        "            list: A list of PEP URLs.\n",
        "        \"\"\"\n",
        "        soup = self.scraper(self.base_url)\n",
        "        return list(\n",
        "            set(\n",
        "                [\n",
        "                    self.base_url + ref['href']\n",
        "                    for ref in soup.find_all('a', class_='pep reference internal')\n",
        "                ]\n",
        "            )\n",
        "        )\n",
        "\n",
        "    def _download_peps(self):\n",
        "        \"\"\"Downloads the content of individual PEPs (private method).\n",
        "\n",
        "        Returns:\n",
        "            list: A list of BeautifulSoup objects representing individual PEPs.\n",
        "        \"\"\"\n",
        "        pep_links = self._fetch_pep_links()\n",
        "        return [self.scraper(pep_link) for pep_link in pep_links]\n",
        "\n",
        "    def scrape(self):\n",
        "        \"\"\"Extracts the relevant text content from each PEP.\n",
        "\n",
        "        Returns:\n",
        "            list: A list of text strings, each representing the content of a PEP.\n",
        "        \"\"\"\n",
        "        pep_soups = self._download_peps()\n",
        "        return [\n",
        "            '\\n'.join([word.text.replace('\"\"\"',\"'\") for word in soup.find_all('section')])\n",
        "            for soup in pep_soups\n",
        "        ]\n",
        "\n",
        "    def jsonl_format(self):\n",
        "        \"\"\"Format the spcraped data to a jsonl format is it alist of dictionaries\n",
        "        Returns:\n",
        "            list: A list of dictionaries with the following:\n",
        "                page_content: The content of each section scraped\n",
        "                source: The linke where it was scraped\n",
        "        \"\"\"\n",
        "        source_links = self._fetch_pep_links()\n",
        "        pep_content = self.scrape()\n",
        "        pep_data = dict(zip(source_links,pep_content))\n",
        "        return [\n",
        "            {\n",
        "                'text': value,\n",
        "                'source': key\n",
        "            }\n",
        "            for key, value in pep_data.items()\n",
        "        ]"
      ],
      "metadata": {
        "execution": {
          "iopub.status.busy": "2024-04-06T04:25:26.047064Z",
          "iopub.execute_input": "2024-04-06T04:25:26.047325Z",
          "iopub.status.idle": "2024-04-06T04:25:26.067476Z",
          "shell.execute_reply.started": "2024-04-06T04:25:26.047302Z",
          "shell.execute_reply": "2024-04-06T04:25:26.066643Z"
        },
        "trusted": true,
        "id": "sKd86EFBE4_A"
      },
      "execution_count": null,
      "outputs": []
    },
    {
      "cell_type": "markdown",
      "source": [
        "### Embeddings"
      ],
      "metadata": {
        "id": "uRbUSl9cE4_A"
      }
    },
    {
      "cell_type": "code",
      "source": [
        "class Embeder:\n",
        "    \"\"\"\n",
        "    Creates text document embeddings (numerical representations) for semantic search,\n",
        "    similarity comparison, and related natural language processing tasks. Offers the choice\n",
        "    between a larger model for richer embeddings or a smaller, more efficient model.\n",
        "\n",
        "    Attributes:\n",
        "        large (bool): Controls the size of the embedding model. When set to True, uses a\n",
        "                      larger model for richer embeddings (default: True).\n",
        "        model (str): The name of the embedding model to use. Changes based on the value of 'large'.\n",
        "        device (str): The device to use for computation. Options include \"cpu\" or, if available, \"cuda\"\n",
        "                      for GPU acceleration (default: \"cuda\").\n",
        "    \"\"\"\n",
        "\n",
        "    def __init__(self, large: bool = False):\n",
        "        \"\"\"\n",
        "        Initializes the Embeder instance with preferences for model size.\n",
        "\n",
        "        Args:\n",
        "            large (bool, optional): If True, initializes with the larger embedding model.\n",
        "                                    Defaults to False for the smaller, faster model.\n",
        "        \"\"\"\n",
        "        self.large = large\n",
        "        if self.large:\n",
        "            self.model = \"hkunlp/instructor-large\"\n",
        "            self.device = \"cuda\"  # If GPU is available\n",
        "        else:\n",
        "            self.model = \"sentence-transformers/paraphrase-multilingual-MiniLM-L12-v2\"\n",
        "\n",
        "    def instructor(self):\n",
        "        \"\"\"\n",
        "        Configures the embedding pipeline based on the selected model size.\n",
        "\n",
        "        Returns:\n",
        "           An embedding object from either the HuggingFaceInstructEmbeddings class\n",
        "           (for the large model) or the SentenceTransformerEmbeddings class (for the smaller model).\n",
        "        \"\"\"\n",
        "        if self.large:\n",
        "            embed = HuggingFaceInstructEmbeddings(\n",
        "                model_name=self.model,\n",
        "                model_kwargs={\"device\": self.device}\n",
        "            )\n",
        "        else:\n",
        "            embed = SentenceTransformerEmbeddings(model_name=self.model)\n",
        "        return embed\n",
        "\n",
        "    def run(self, docs_list: list):\n",
        "        \"\"\"\n",
        "        Generates embeddings for a given list of text documents.\n",
        "\n",
        "        Args:\n",
        "            docs_list (list): A list of text documents to embed.\n",
        "\n",
        "        Returns:\n",
        "            List[List[float]]: A list of lists, where each inner list represents the\n",
        "                               numerical embedding for a corresponding document in the input.\n",
        "        \"\"\"\n",
        "        if docs_list is None:\n",
        "            docs_list = ['']  # Prevent errors with empty input\n",
        "\n",
        "        embed = self.instructor()  # Get the appropriate embedding object\n",
        "        return embed.embed_documents(docs_list)\n"
      ],
      "metadata": {
        "execution": {
          "iopub.status.busy": "2024-04-06T04:25:26.068535Z",
          "iopub.execute_input": "2024-04-06T04:25:26.068793Z",
          "iopub.status.idle": "2024-04-06T04:25:26.084142Z",
          "shell.execute_reply.started": "2024-04-06T04:25:26.06877Z",
          "shell.execute_reply": "2024-04-06T04:25:26.083271Z"
        },
        "trusted": true,
        "id": "JXer8o-IE4_A"
      },
      "execution_count": null,
      "outputs": []
    },
    {
      "cell_type": "markdown",
      "source": [
        "### Prompt"
      ],
      "metadata": {
        "id": "aIeK3-syE4_B"
      }
    },
    {
      "cell_type": "code",
      "source": [
        "prompt_config = [{\n",
        "    \"prompt_id\": \"0.0.1\",\n",
        "    \"supplier\": \"google\",\n",
        "    \"system\": \"\"\"\n",
        "Act as a Python programming language expert assistant\n",
        "your goal is to answer common questions in a clear, comprehensive, and accurate way, taking into account this guidelines:\n",
        "1. When responding, incorporate any relevant context to enhance the accuracy and informativeness of your answers using the documentation provided if it is necesary\n",
        "2. Please structure your response to include definitions, examples, and any relevant comparisons to other statistical measures\n",
        "3. Aim for plain language to ensure accessibility for all users\n",
        "4. If the question is off topic about programing lenguage you MUST to say \"I'm here to help you with Python programming language questions only, excuse me\"\n",
        "5. You can say hello if you are greeted\n",
        "        \"\"\",\n",
        "    \"technical_documentation\": \"\\n\\nTake into account this technical documentation found:\\n{technical_documentation}\",\n",
        "    \"model\": \"/kaggle/input/gemma/transformers/2b/2\",\n",
        "    \"temperature\": 0,\n",
        "    \"max_length\": 250,\n",
        "    \"max_tokens\": 830,\n",
        "    \"top_p\": 1,\n",
        "    \"frequency_penalty\": 0,\n",
        "    \"presence_penalty\": 0\n",
        "},\n",
        "{\n",
        "    \"prompt_id\": \"0.0.2\",\n",
        "    \"supplier\": \"google\",\n",
        "    \"system\": \"\"\"\n",
        "Act as a Python programming language expert assistant\n",
        "your goal is to answer common questions in a clear, comprehensive, and accurate way, taking into account this guidelines:\n",
        "1. When responding, incorporate any relevant context to enhance the accuracy and informativeness of your answers using the documentation provided if it is necesary\n",
        "2. Please structure your response to include definitions, examples, and any relevant comparisons to other statistical measures\n",
        "3. Aim for plain language to ensure accessibility for all users\n",
        "4. If the question is off topic about programing lenguage you MUST to say \"I'm here to help you with Python programming language questions only, excuse me\"\n",
        "5. You can say hello if you are greeted\n",
        "6. DO NOT repeat more than twice the same sentence!\n",
        "\n",
        "TAKE A DEEP BREATH AND PAY ATTENTION TO THE USER QUESTION\n",
        "\n",
        "For each question you answer perfectly, I will pay you USD 1000.00, may be more for the consecutive accurate and correct answer\n",
        "        \"\"\",\n",
        "    \"technical_documentation\": \"\\n\\nTake into account this technical documentation found:\\n{technical_documentation}\",\n",
        "    \"model\": \"/kaggle/input/gemma/transformers/2b/2\",\n",
        "    \"temperature\": 1,\n",
        "    \"max_length\": 4096,\n",
        "    \"max_tokens\": 830,\n",
        "    \"top_p\": 1,\n",
        "    \"frequency_penalty\": 0,\n",
        "    \"presence_penalty\": 0\n",
        "}\n",
        "{\n",
        "    \"prompt_id\": \"0.0.2\",\n",
        "    \"supplier\": \"google\",\n",
        "    \"system\": \"\"\"\n",
        "Act as a Python programming language expert assistant\n",
        "your goal is to answer common questions in a clear, comprehensive, and accurate way, taking into account this guidelines:\n",
        "1. When responding, incorporate any relevant context to enhance the accuracy and informativeness of your answers using the documentation provided if it is necesary\n",
        "2. Please structure your response to include definitions, examples, and any relevant comparisons to other statistical measures\n",
        "3. Aim for plain language to ensure accessibility for all users\n",
        "4. If the question is off topic about programing lenguage you MUST to say \"I'm here to help you with Python programming language questions only, excuse me\"\n",
        "5. You can say hello if you are greeted\n",
        "6. DO NOT repeat more than twice the same sentence!\n",
        "\n",
        "TAKE A DEEP BREATH AND PAY ATTENTION TO THE USER QUESTION\n",
        "\n",
        "For each question you answer perfectly, I will pay you USD 1000.00, may be more for the consecutive accurate and correct answer\n",
        "        \"\"\",\n",
        "    \"technical_documentation\": \"\\n\\nTake into account this technical documentation found:\\n{technical_documentation}\",\n",
        "    \"model\": \"/kaggle/input/gemma/transformers/2b/2\",\n",
        "    \"temperature\": 0,\n",
        "    \"max_length\": 2048,\n",
        "    \"max_tokens\": 830,\n",
        "    \"top_p\": 1,\n",
        "    \"frequency_penalty\": 0,\n",
        "    \"presence_penalty\": 0\n",
        "}]"
      ],
      "metadata": {
        "execution": {
          "iopub.status.busy": "2024-04-06T04:25:26.085494Z",
          "iopub.execute_input": "2024-04-06T04:25:26.085782Z",
          "iopub.status.idle": "2024-04-06T04:25:26.100305Z",
          "shell.execute_reply.started": "2024-04-06T04:25:26.085759Z",
          "shell.execute_reply": "2024-04-06T04:25:26.099488Z"
        },
        "trusted": true,
        "id": "pbeMvL7eE4_B"
      },
      "execution_count": null,
      "outputs": []
    },
    {
      "cell_type": "markdown",
      "source": [
        "### Settings"
      ],
      "metadata": {
        "execution": {
          "iopub.status.busy": "2024-04-04T05:03:58.746391Z",
          "iopub.execute_input": "2024-04-04T05:03:58.746828Z",
          "iopub.status.idle": "2024-04-04T05:03:58.751668Z",
          "shell.execute_reply.started": "2024-04-04T05:03:58.746794Z",
          "shell.execute_reply": "2024-04-04T05:03:58.750527Z"
        },
        "id": "MDHN7ZZ_E4_B"
      }
    },
    {
      "cell_type": "code",
      "source": [
        "class Settings:\n",
        "    \"\"\"\n",
        "    Manages and loads external configuration secrets for the application.  Utilizes a UserSecretsClient\n",
        "    to securely retrieve sensitive configuration values.\n",
        "    \"\"\"\n",
        "\n",
        "    def __init__(self):\n",
        "        \"\"\"\n",
        "        Initializes the Settings class and retrieves configuration secrets.\n",
        "        \"\"\"\n",
        "        self.user_secrets = UserSecretsClient()  # Create an instance for accessing secrets\n",
        "\n",
        "        # Load individual secrets (add descriptions for clarity)\n",
        "        self.CHUNK_SIZE = self.user_secrets.get_secret(\"CHUNK_SIZE\")  # The size of data chunks for processing\n",
        "        self.CHUNK_OVERLAP = self.user_secrets.get_secret(\"CHUNK_OVERLAP\")  # Ooverlap between data chunks\n",
        "        self.CHROMA_NAME_INDEX = self.user_secrets.get_secret(\"CHROMA_NAME_INDEX\")  # Vectorial Database identifier\n",
        "        self.K = self.user_secrets.get_secret(\"K\")  # Could be a parameter for an algorithm\n",
        "        self.NN_THRESHOLD = self.user_secrets.get_secret(\"NN_THRESHOLD\")  # A threshold for a neural network or similarity metric\n",
        "        self.PROMPT_ID = self.user_secrets.get_secret(\"PROMPT_ID\")  # An identifier for a prompt (likely in a text-based task and configs)\n",
        "\n",
        "        # Given that 'prompt_config' is teh previous source of prompt definitions:\n",
        "        self.prompt = [prompt for prompt in prompt_config if prompt['prompt_id'] == self.PROMPT_ID][0]\n"
      ],
      "metadata": {
        "execution": {
          "iopub.status.busy": "2024-04-06T05:17:18.745882Z",
          "iopub.execute_input": "2024-04-06T05:17:18.746605Z",
          "iopub.status.idle": "2024-04-06T05:17:18.753058Z",
          "shell.execute_reply.started": "2024-04-06T05:17:18.746575Z",
          "shell.execute_reply": "2024-04-06T05:17:18.752083Z"
        },
        "trusted": true,
        "id": "6oFlFmKVE4_B"
      },
      "execution_count": null,
      "outputs": []
    },
    {
      "cell_type": "markdown",
      "source": [
        "### Retriever"
      ],
      "metadata": {
        "id": "z7w9b61jE4_B"
      }
    },
    {
      "cell_type": "code",
      "source": [
        "embeder = Embeder()\n",
        "settings = Settings()\n",
        "class Retriever:\n",
        "    \"\"\"\n",
        "    Retrieves relevant text chunks from a Chroma vectorial database based on a query. Leverages external\n",
        "    configuration settings (Settings) and an embedding model (Embeder).\n",
        "\n",
        "    Handles text splitting, vector database loading, and querying.\n",
        "    \"\"\"\n",
        "\n",
        "    def __init__(self):\n",
        "        \"\"\"\n",
        "        Initializes the Retriever class. Configures the text splitter using settings and stores the\n",
        "        index name for the Chroma database.\n",
        "        \"\"\"\n",
        "        self.text_splitter = RecursiveCharacterTextSplitter(\n",
        "            chunk_size=int(settings.CHUNK_SIZE),\n",
        "            length_function=len,\n",
        "            chunk_overlap=int(settings.CHUNK_OVERLAP)\n",
        "        )\n",
        "        self.index_name = settings.CHROMA_NAME_INDEX\n",
        "        self.k = int(settings.K)\n",
        "        self.nn_threshold = float(settings.NN_THRESHOLD)\n",
        "\n",
        "    def load(self, data: list[dict]):\n",
        "        \"\"\"\n",
        "        Loads and preprocesses data for storage in the Chroma database.\n",
        "\n",
        "        Args:\n",
        "            data (list[dict]): A list of dictionaries, each containing text content and optional metadata.\n",
        "\n",
        "        Returns:\n",
        "            list[Document]: A list of Document objects formatted for Chroma.\n",
        "        \"\"\"\n",
        "        documents = []\n",
        "        for obj in data:\n",
        "            page_content = obj.get(\"text\", \"\")\n",
        "            metadata = {\n",
        "                \"source\": obj.get(\"source\", \"local\")\n",
        "            }\n",
        "            documents.append(Document(page_content=page_content, metadata=metadata))\n",
        "        return documents\n",
        "\n",
        "    def set(self, data: list[dict]):\n",
        "        \"\"\"\n",
        "        Updates the Chroma vectorial database with new data.\n",
        "\n",
        "        Args:\n",
        "            data (list[dict]): A list of dictionaries, each containing text content and optional metadata.\n",
        "        \"\"\"\n",
        "        data = self.load(data)  # Preprocess data\n",
        "        documents = self.text_splitter.split_documents(data)  # Split into chunks\n",
        "\n",
        "        # Generate embeddings\n",
        "        instructor = embeder.instructor()\n",
        "        vector_db = Chroma.from_documents(\n",
        "            documents=documents,\n",
        "            embedding=instructor,\n",
        "            persist_directory=self.index_name\n",
        "        )\n",
        "        vector_db.persist()  # Store the database\n",
        "\n",
        "    def query(\n",
        "            self,\n",
        "            message: str,\n",
        "            k: int = self.k,\n",
        "            threshold: float = self.nn_threshold\n",
        "    ):\n",
        "        \"\"\"\n",
        "        Retrieves the most similar text chunks from the Chroma database based on a given query.\n",
        "\n",
        "        Args:\n",
        "            message (str): The query text.\n",
        "            k (int, optional): The number of similar chunks to retrieve (default from settings).\n",
        "            threshold (float, optional): The similarity threshold to filter results (default from settings).\n",
        "\n",
        "        Returns:\n",
        "            list[str]: A list of similar text chunks, filtered by the threshold.\n",
        "        \"\"\"\n",
        "        # Load the Chroma database\n",
        "        vectorial_db = Chroma(\n",
        "            embedding_function=embeder.instructor(),\n",
        "            persist_directory=self.index_name\n",
        "        )\n",
        "\n",
        "        # Perform the similarity search\n",
        "        res = vectorial_db.similarity_search_with_score(message, k=k)\n",
        "\n",
        "        # Filter and return results\n",
        "        relevant_results = list(\n",
        "            set(  # Remove duplicates\n",
        "                [\n",
        "                    vector[0].page_content\n",
        "                    for vector in res\n",
        "                    if vector[1] < threshold  # Apply similarity threshold\n",
        "                ]\n",
        "            )\n",
        "        )\n",
        "        return [\n",
        "            result.replace('\"\"\"',\"'\") # cleaning posible docString retrived from documented code\n",
        "            for result\n",
        "            in relevant_results\n",
        "        ]\n"
      ],
      "metadata": {
        "execution": {
          "iopub.status.busy": "2024-04-06T05:18:25.815325Z",
          "iopub.execute_input": "2024-04-06T05:18:25.81617Z",
          "iopub.status.idle": "2024-04-06T05:18:27.548872Z",
          "shell.execute_reply.started": "2024-04-06T05:18:25.816141Z",
          "shell.execute_reply": "2024-04-06T05:18:27.547845Z"
        },
        "trusted": true,
        "id": "5VX8RC44E4_B"
      },
      "execution_count": null,
      "outputs": []
    },
    {
      "cell_type": "code",
      "source": [
        "''.replace('\"\"\"',\"'\")"
      ],
      "metadata": {
        "execution": {
          "iopub.status.busy": "2024-04-06T05:59:04.126001Z",
          "iopub.execute_input": "2024-04-06T05:59:04.126306Z",
          "iopub.status.idle": "2024-04-06T05:59:04.132379Z",
          "shell.execute_reply.started": "2024-04-06T05:59:04.126283Z",
          "shell.execute_reply": "2024-04-06T05:59:04.130855Z"
        },
        "trusted": true,
        "id": "q1Q86GbgE4_B",
        "outputId": "07316a0a-5c6b-4000-dc24-60507cb106db"
      },
      "execution_count": null,
      "outputs": [
        {
          "execution_count": 63,
          "output_type": "execute_result",
          "data": {
            "text/plain": "''"
          },
          "metadata": {}
        }
      ]
    },
    {
      "cell_type": "markdown",
      "source": [
        "### Message"
      ],
      "metadata": {
        "id": "97obi-6jE4_C"
      }
    },
    {
      "cell_type": "code",
      "source": [
        "settings = Settings()\n",
        "class Message:\n",
        "    \"\"\"\n",
        "    Represents a message within a conversational context. Stores information about the message's role,\n",
        "    content, timestamp, and manages saving and loading conversation history.\n",
        "    \"\"\"\n",
        "\n",
        "    def __init__(self, role: str, content: str, timestamp: str = int(time.time()), prompt_id: str = settings.PROMPT_ID):\n",
        "        \"\"\"\n",
        "        Initializes a Message object.\n",
        "\n",
        "        Args:\n",
        "            role (str): Indicates the role of the sender (e.g., 'user', 'system').\n",
        "            content (str): The text content of the message.\n",
        "            timestamp (str, optional): A timestamp for the message (defaults to the current time).\n",
        "            prompt_id (str, optional): Identifier relating to a specific prompt configuration (from settings).\n",
        "        \"\"\"\n",
        "\n",
        "        self.reply_id = str(uuid.uuid4())  # Generate a unique ID for the message\n",
        "        self.role = role\n",
        "        self.content = content\n",
        "        self.timestamp = timestamp\n",
        "        self.file = 'data/history.json'  # File for storing conversation history\n",
        "\n",
        "        # Ensure the history file exists\n",
        "        if not os.path.exists(self.file):\n",
        "            json.dump([], open(self.file, 'w'))  # Create an empty file if it doesn't exist\n",
        "\n",
        "    def reply(self):\n",
        "        \"\"\"\n",
        "        Formats a basic reply message structure.\n",
        "\n",
        "        Returns:\n",
        "            dict: A dictionary containing the message's reply ID, role, content, and timestamp.\n",
        "        \"\"\"\n",
        "        return {\n",
        "            'reply_id': self.reply_id,\n",
        "            'role': self.role,\n",
        "            'content': self.content,\n",
        "            'timestamp': self.timestamp\n",
        "        }\n",
        "\n",
        "    def system_reply(self):\n",
        "        \"\"\"\n",
        "        Generates a system reply using the prompt configuration.\n",
        "\n",
        "        Returns:\n",
        "            dict: A dictionary containing the system reply, including ID, role, timestamp,\n",
        "                  and text content derived from settings.\n",
        "        \"\"\"\n",
        "        prompt = settings.prompt\n",
        "        return {\n",
        "            'reply_id': self.reply_id,\n",
        "            'role': 'system',\n",
        "            'content': prompt['system'],\n",
        "            'timestamp': self.timestamp\n",
        "        }\n",
        "\n",
        "    def new_chat(self):\n",
        "        \"\"\"\n",
        "        Starts a new chat by initializing the history file.\n",
        "\n",
        "        Returns:\n",
        "            list: A list with the initial system reply and the user's message.\n",
        "        \"\"\"\n",
        "        init_chat = [self.system_reply(), self.reply()]\n",
        "        json.dump(init_chat, open(self.file, 'w'))\n",
        "        return init_chat\n",
        "\n",
        "    def update(self):\n",
        "        \"\"\"\n",
        "        Updates the conversation history file by appending the current reply.\n",
        "        \"\"\"\n",
        "        dict_history = json.load(open(self.file))\n",
        "        dict_history.append(self.reply())\n",
        "        json.dump(dict_history, open(self.file, 'w'))\n",
        "\n",
        "    def restart_history(self):\n",
        "        \"\"\"\n",
        "        Clears the conversation history file.\n",
        "        \"\"\"\n",
        "        json.dump([], open(self.file, 'w'))\n"
      ],
      "metadata": {
        "execution": {
          "iopub.status.busy": "2024-04-06T04:25:27.780395Z",
          "iopub.execute_input": "2024-04-06T04:25:27.780677Z",
          "iopub.status.idle": "2024-04-06T04:25:29.388064Z",
          "shell.execute_reply.started": "2024-04-06T04:25:27.780653Z",
          "shell.execute_reply": "2024-04-06T04:25:29.387276Z"
        },
        "trusted": true,
        "id": "5xJFjpjRE4_C"
      },
      "execution_count": null,
      "outputs": []
    },
    {
      "cell_type": "markdown",
      "source": [
        "### Model Gemma"
      ],
      "metadata": {
        "id": "hQhsVW0iE4_C"
      }
    },
    {
      "cell_type": "code",
      "source": [
        "class Gemma:\n",
        "    \"\"\"\n",
        "    Implements a conversational AI chatbot powered by Gemma large language model. Initializes the model,\n",
        "    tokenizer, and prepares settings from a configuration.\n",
        "    \"\"\"\n",
        "\n",
        "    def __init__(self):\n",
        "        \"\"\"\n",
        "        Initializes the Gemma chatbot instance.\n",
        "\n",
        "        Loads the language model and its corresponding tokenizer from the settings configuration.\n",
        "        Prepares the model for use on a GPU (if available).\n",
        "        \"\"\"\n",
        "        self.prompt = settings.prompt  # Load prompt settings\n",
        "\n",
        "        # Load language model and tokenizer\n",
        "        self.model_checkpoint = self.prompt['model']\n",
        "        self.tokenizer = AutoTokenizer.from_pretrained(self.model_checkpoint)\n",
        "        self.gemma = AutoModelForCausalLM.from_pretrained(\n",
        "            self.model_checkpoint,\n",
        "            torch_dtype=torch.float16  # Use half-precision for efficiency (if supported)\n",
        "        ).cuda()  # Move model to GPU (if available)\n",
        "\n",
        "    def chat(self, context: str):\n",
        "        \"\"\"\n",
        "        Generates a chatbot response based on the provided conversational context.\n",
        "\n",
        "        Args:\n",
        "            context (str): The conversational input text.\n",
        "\n",
        "        Returns:\n",
        "            str: The generated text response from the chatbot.\n",
        "        \"\"\"\n",
        "        # Prepare input for the language model\n",
        "        input_text = context\n",
        "        input_ids = self.tokenizer(input_text, return_tensors=\"pt\")\n",
        "        input_ids = {\n",
        "            k: v.to(\"cuda\") for k, v in input_ids.items()  # Move tensors to GPU\n",
        "        }\n",
        "\n",
        "        # Generate a response with the language model\n",
        "        outputs = self.gemma.generate(\n",
        "            **input_ids,\n",
        "            max_length=self.prompt['max_length']  # Control response length\n",
        "        )\n",
        "\n",
        "        # Decode and return the generated text\n",
        "        return self.tokenizer.decode(outputs[0])\n"
      ],
      "metadata": {
        "execution": {
          "iopub.status.busy": "2024-04-06T04:25:29.389114Z",
          "iopub.execute_input": "2024-04-06T04:25:29.389395Z",
          "iopub.status.idle": "2024-04-06T04:25:29.396591Z",
          "shell.execute_reply.started": "2024-04-06T04:25:29.389371Z",
          "shell.execute_reply": "2024-04-06T04:25:29.39578Z"
        },
        "trusted": true,
        "id": "YYRQlAucE4_C"
      },
      "execution_count": null,
      "outputs": []
    },
    {
      "cell_type": "markdown",
      "source": [
        "### Expert Python Agent/Assistant"
      ],
      "metadata": {
        "id": "JyRiLHIWE4_C"
      }
    },
    {
      "cell_type": "code",
      "source": [
        "retriever = Retriever()\n",
        "gemma = Gemma()\n",
        "\n",
        "class Agent:\n",
        "    \"\"\"\n",
        "    Implements a conversational AI agent that leverages a knowledge database for information retrieval\n",
        "    and integrates with a generative language model (Gemma) for response generation. Manages conversation\n",
        "    history and question-answering logic.\n",
        "    \"\"\"\n",
        "\n",
        "    def __init__(self):\n",
        "        \"\"\"\n",
        "        Initializes the Agent, loading prompt settings and ensuring the conversation history file exists.\n",
        "        \"\"\"\n",
        "        self.prompt = settings.prompt\n",
        "        self.file = 'data/history.json'\n",
        "        if not os.path.exists(self.file):\n",
        "            json.dump([], open(self.file, 'w'))  # Create an empty file if necessary\n",
        "\n",
        "        self.token = '\\n<-change-of-interlocutor->'  # Token to separate speakers in the chat history\n",
        "\n",
        "    def augmented_question(self, question: str):\n",
        "        \"\"\"\n",
        "        Enhances the user's question with relevant technical documentation.\n",
        "\n",
        "        Args:\n",
        "            question (str): The user's original question.\n",
        "\n",
        "        Returns:\n",
        "            str: The question augmented with technical documentation (if found), otherwise the original question.\n",
        "        \"\"\"\n",
        "        tech_docs = retriever.query(question)\n",
        "        if len(tech_docs) > 0:\n",
        "            docs = self.prompt['technical_documentation']\n",
        "            tech_docs = '\\n* '.join(tech_docs)\n",
        "            docs = docs.format(technical_documentation=tech_docs)\n",
        "            augmented_reply = f\"\"\"{question}{docs}\"\"\"\n",
        "            return augmented_reply\n",
        "        else:\n",
        "            return question\n",
        "\n",
        "    def memory(self, question: str):\n",
        "        \"\"\"\n",
        "        Prepares the conversational context (memory) for the language model.\n",
        "\n",
        "        Args:\n",
        "            question (str): The user's current question.\n",
        "\n",
        "        Returns:\n",
        "            str: Formatted conversation history with a clear separation between speakers, ready\n",
        "                 for input to the language model.\n",
        "        \"\"\"\n",
        "\n",
        "        dict_history = json.load(open(self.file))\n",
        "        message = Message(\n",
        "            role='user',\n",
        "            content=self.augmented_question(question)\n",
        "        )\n",
        "\n",
        "        if len(dict_history) > 0:\n",
        "            message.update()  # Add the latest message to history\n",
        "            full_chat = json.load(open(self.file))\n",
        "        else:\n",
        "            full_chat = message.new_chat()  # Start a new conversation\n",
        "\n",
        "        return '\\n'.join(\n",
        "            [\n",
        "                self.token + reply['role'] + ': ' + reply['content']\n",
        "                for reply in full_chat\n",
        "            ]\n",
        "        ) + self.token + 'assistant:'\n",
        "\n",
        "    def get_answer(self, full_response: str, question: str):\n",
        "        \"\"\"\n",
        "        Extracts the relevant answer from the language model's generated response.\n",
        "\n",
        "        Args:\n",
        "            full_response (str): The complete response generated by the language model.\n",
        "            question (str): The user's original question.\n",
        "\n",
        "        Returns:\n",
        "            str: The extracted answer.\n",
        "        \"\"\"\n",
        "\n",
        "        answer_list = full_response.split(self.token)\n",
        "        pos_list = [\n",
        "            pos\n",
        "            for pos, answer\n",
        "            in enumerate(answer_list)\n",
        "            if question in answer\n",
        "        ]\n",
        "        tokened_answer = answer_list[pos_list[0] + 1]\n",
        "        answer = tokened_answer.split('assistant:')[1]\n",
        "        message = Message(\n",
        "            role='assistant',\n",
        "            content=answer\n",
        "        )\n",
        "        message.update()  # Update conversation history\n",
        "        return answer\n",
        "\n",
        "    def chat(self, question: str, verbose: bool = False):\n",
        "        \"\"\"\n",
        "        Manages the core interaction with the Agent.\n",
        "\n",
        "        Args:\n",
        "            question (str): The user's query.\n",
        "            verbose (bool, optional): If True, prints the language model's full response (default: False).\n",
        "\n",
        "        Returns:\n",
        "            str: The Agent's answer to the user's question.\n",
        "        \"\"\"\n",
        "\n",
        "        memory = self.memory(question)  # Build conversational context\n",
        "        full_response = gemma.chat(context=memory)  # Generate response\n",
        "        if verbose:\n",
        "            print(full_response)\n",
        "        answer = self.get_answer(full_response, question)  # Extract the answer\n",
        "        return answer\n",
        "\n"
      ],
      "metadata": {
        "execution": {
          "iopub.status.busy": "2024-04-06T04:25:29.397605Z",
          "iopub.execute_input": "2024-04-06T04:25:29.397844Z",
          "iopub.status.idle": "2024-04-06T04:26:05.418157Z",
          "shell.execute_reply.started": "2024-04-06T04:25:29.397823Z",
          "shell.execute_reply": "2024-04-06T04:26:05.417391Z"
        },
        "trusted": true,
        "id": "Ky7M-ItfE4_C",
        "outputId": "1b7305a6-4300-418d-e89c-7c9880c7671e",
        "colab": {
          "referenced_widgets": [
            "2da2ad1f073b441ca6cb9326ad9f5616"
          ]
        }
      },
      "execution_count": null,
      "outputs": [
        {
          "output_type": "display_data",
          "data": {
            "text/plain": "Loading checkpoint shards:   0%|          | 0/2 [00:00<?, ?it/s]",
            "application/vnd.jupyter.widget-view+json": {
              "version_major": 2,
              "version_minor": 0,
              "model_id": "2da2ad1f073b441ca6cb9326ad9f5616"
            }
          },
          "metadata": {}
        }
      ]
    },
    {
      "cell_type": "markdown",
      "source": [
        "# Data"
      ],
      "metadata": {
        "id": "r8OX7Xe-soW5"
      }
    },
    {
      "cell_type": "markdown",
      "source": [
        "### fine-tunning data"
      ],
      "metadata": {
        "id": "293etXG_E4_C"
      }
    },
    {
      "cell_type": "code",
      "source": [
        "%%time\n",
        "PythonQAData = pythonQAData()\n",
        "python_qa = PythonQAData.get_qa_data()\n",
        "print(python_qa[1486])"
      ],
      "metadata": {
        "execution": {
          "iopub.status.busy": "2024-04-06T04:26:05.419241Z",
          "iopub.execute_input": "2024-04-06T04:26:05.419536Z",
          "iopub.status.idle": "2024-04-06T04:26:37.610478Z",
          "shell.execute_reply.started": "2024-04-06T04:26:05.419511Z",
          "shell.execute_reply": "2024-04-06T04:26:37.609503Z"
        },
        "trusted": true,
        "id": "ONLMFXtaE4_D",
        "outputId": "a5859f1a-0177-47a0-ed12-8de5fdbb0740"
      },
      "execution_count": null,
      "outputs": [
        {
          "name": "stdout",
          "text": "{'Question': 'How can I split a file in python?', 'Answer': \"This one splits a file up by newlines and writes it back out. You can change the delimiter easily. This can also handle uneven amounts as well, if you don't have a multiple of splitLen lines (20 in this example) in your input file.\\n\\nsplitLen = 20         # 20 lines per file\\noutputBase = 'output' # output.1.txt, output.2.txt, etc.\\n\\n# This is shorthand and not friendly with memory\\n# on very large files (Sean Cavanagh), but it works.\\ninput = open('input.txt', 'r').read().split('\\\\n')\\n\\nat = 1\\nfor lines in range(0, len(input), splitLen):\\n    # First, get the list slice\\n    outputData = input[lines:lines+splitLen]\\n\\n    # Now open the output file, join the new slice with newlines\\n    # and write it out. Then close the file.\\n    output = open(outputBase + str(at) + '.txt', 'w')\\n    output.write('\\\\n'.join(outputData))\\n    output.close()\\n\\n    # Increment the counter\\n    at += 1\\n\\n\"}\nCPU times: user 16.2 s, sys: 1.22 s, total: 17.4 s\nWall time: 32.2 s\n",
          "output_type": "stream"
        }
      ]
    },
    {
      "cell_type": "code",
      "source": [
        "print(\n",
        "'\\n* Mean lenght of a python common question:',\n",
        "sum([len(q['Question']) for q in python_qa])/len(python_qa),\n",
        "'\\n* Standard deviation of length a common Python question:',\n",
        "np.std([len(q['Question']) for q in python_qa])\n",
        ")"
      ],
      "metadata": {
        "execution": {
          "iopub.status.busy": "2024-04-06T05:15:16.820008Z",
          "iopub.execute_input": "2024-04-06T05:15:16.820498Z",
          "iopub.status.idle": "2024-04-06T05:15:16.846789Z",
          "shell.execute_reply.started": "2024-04-06T05:15:16.820437Z",
          "shell.execute_reply": "2024-04-06T05:15:16.845839Z"
        },
        "trusted": true,
        "id": "e-WHWGx-E4_D",
        "outputId": "c051a627-3d40-4bb4-ab03-0bd27eb310b0"
      },
      "execution_count": null,
      "outputs": [
        {
          "name": "stdout",
          "text": "\n* Mean lenght of a python common question: 50.4238285354066 \n* Standard deviation of length a common Python question: 18.168485523170148\n",
          "output_type": "stream"
        }
      ]
    },
    {
      "cell_type": "code",
      "source": [
        "%%time\n",
        "PythonQAData = pythonQAData()\n",
        "python_context = PythonQAData.get_fine_tunning_data()\n",
        "print(\n",
        "    'Python Questions loaded:',\n",
        "    len(python_context),\n",
        "    '\\n',\n",
        "    '\\nSample question-answer:\\n',\n",
        "    python_context[-1][:1000]\n",
        ")"
      ],
      "metadata": {
        "execution": {
          "iopub.status.busy": "2024-04-06T04:26:37.611773Z",
          "iopub.execute_input": "2024-04-06T04:26:37.612074Z",
          "iopub.status.idle": "2024-04-06T04:26:55.748363Z",
          "shell.execute_reply.started": "2024-04-06T04:26:37.61205Z",
          "shell.execute_reply": "2024-04-06T04:26:55.747147Z"
        },
        "trusted": true,
        "id": "QJ_VbIV4E4_D",
        "outputId": "d461ccf8-75fe-4e6a-b33a-bd813a1699d2"
      },
      "execution_count": null,
      "outputs": [
        {
          "name": "stdout",
          "text": "Python Questions loaded: 33313 \n \nSample question-answer:\n <-change-of-interlocutor->user:\nWhy can yield be indexed?\n<-change-of-interlocutor->assistant:\nYou are not indexing. You are yielding a list; the expression yield[0] is really just the same as the following (but without a variable):\n\nlst = [0]\nyield lst\n\n\nIf you look at what next() returned you'd have gotten that list:\n\n&gt;&gt;&gt; def gen1():\n...   t = yield[0]\n...   assert t\n...   yield False\n...\n&gt;&gt;&gt; g = gen1()\n&gt;&gt;&gt; next(g)\n[0]\n\n\nYou don't have to have a space between yield and the [0], that's all.\n\nThe exception is caused by you trying to apply the subscription to the contained 0 integer:\n\n&gt;&gt;&gt; [0]        # list with one element, the int value 0\n[0]\n&gt;&gt;&gt; [0][0]     # indexing the first element, so 0\n0\n&gt;&gt;&gt; [0][0][0]  # trying to index the 0\nTraceback (most recent call last):\n  File \"&lt;stdin&gt;\", line 1, in &lt;module&gt;\nTypeError: 'int' object is not subscriptable\n\n\nIf you want to index a value sent to the generator, put parentheses arou\nCPU times: user 17.6 s, sys: 563 ms, total: 18.1 s\nWall time: 18.1 s\n",
          "output_type": "stream"
        }
      ]
    },
    {
      "cell_type": "markdown",
      "source": [
        "## few-shot data"
      ],
      "metadata": {
        "id": "acD7ECRpE4_D"
      }
    },
    {
      "cell_type": "code",
      "source": [
        "few_shot_list=[7,6009,12,36,8034,130,141,537,1057,5042]\n",
        "for i, q in enumerate(few_shot_list):\n",
        "    print('_'*100,f'\\n{i}.',python_qa[q])"
      ],
      "metadata": {
        "scrolled": true,
        "execution": {
          "iopub.status.busy": "2024-04-06T04:26:55.749721Z",
          "iopub.execute_input": "2024-04-06T04:26:55.750005Z",
          "iopub.status.idle": "2024-04-06T04:26:55.755889Z",
          "shell.execute_reply.started": "2024-04-06T04:26:55.749981Z",
          "shell.execute_reply": "2024-04-06T04:26:55.754974Z"
        },
        "trusted": true,
        "id": "e3LqJa4gE4_D",
        "outputId": "4eb94462-0a93-4dfa-ea01-0ab841ce2ab3"
      },
      "execution_count": null,
      "outputs": [
        {
          "name": "stdout",
          "text": "____________________________________________________________________________________________________ \n0. {'Question': \"How do I use Python's itertools.groupby()?\", 'Answer': 'As Sebastjan said, you first have to sort your data. This is important.\\n\\nThe part I didn\\'t get is that in the example construction\\n\\ngroups = []\\nuniquekeys = []\\nfor k, g in groupby(data, keyfunc):\\n   groups.append(list(g))    # Store group iterator as a list\\n   uniquekeys.append(k)\\n\\n\\nk is the current grouping key, and g is an iterator that you can use to iterate over the group defined by that grouping key. In other words, the groupby iterator itself returns iterators.\\n\\nHere\\'s an example of that, using clearer variable names:\\n\\nfrom itertools import groupby\\n\\nthings = [(\"animal\", \"bear\"), (\"animal\", \"duck\"), (\"plant\", \"cactus\"), (\"vehicle\", \"speed boat\"), (\"vehicle\", \"school bus\")]\\n\\nfor key, group in groupby(things, lambda x: x[0]):\\n    for thing in group:\\n        print \"A %s is a %s.\" % (thing[1], key)\\n    print \" \"\\n\\n\\nThis will give you the output:\\n\\n\\n  A bear is a animal.\\n  A duck is a animal.\\n  \\n  A cactus is a plant.\\n  \\n  A speed boat is a vehicle.\\n  A school bus is a vehicle.\\n\\n\\nIn this example, things is a list of tuples where the first item in each tuple is the group the second item belongs to. \\n\\nThe groupby() function takes two arguments: (1) the data to group and (2) the function to group it with. \\n\\nHere, lambda x: x[0] tells groupby() to use the first item in each tuple as the grouping key.\\n\\nIn the above for statement, groupby returns three (key, group iterator) pairs - once for each unique key. You can use the returned iterator to iterate over each individual item in that group.\\n\\nHere\\'s a slightly different example with the same data, using a list comprehension:\\n\\nfor key, group in groupby(things, lambda x: x[0]):\\n    listOfThings = \" and \".join([thing[1] for thing in group])\\n    print key + \"s:  \" + listOfThings + \".\"\\n\\n\\nThis will give you the output:\\n\\n\\n  animals: bear and duck.\\n  plants: cactus.\\n  vehicles: speed boat and school bus.\\n\\n'}\n____________________________________________________________________________________________________ \n1. {'Question': \"Why is ''>0 True in Python?\", 'Answer': 'The original design motivation for allowing order-comparisons of arbitrary objects was to allow sorting of heterogenous lists -- usefully, that would put all strings next to each other in alphabetical order, and all numbers next to each other in numerical order, although which of the two blocks came first was not guaranteed by the language.  For example, this allowed getting only unique items in any list (even one with non-hashable items) in O(N log N) worst-case time\\n\\nOver the years, this pragmatical arrangement was eroded.  The first crack was when the ability to order-compare complex numbers was taken away, quite a few versions ago: suddenly, the ability to sort any list disappeared (did not apply any more if the list contained complex numbers, possibly together with items of other types).  Then Guido started disliking heterogeneous lists more generally, and thus thinking that it didn\\'t really matter if such lists could be usefully sorted or not... because such lists should not exist in the first place, according to his new thinking.  He didn\\'t do anything to forbid them, but was not inclined to accept any compromises to support them either.\\n\\nNote that both changes move the balance a little bit away from the \"practicality beats purity\" item of the Zen of Python (which was written earlier, back when complex numbers still could be order-compared;-) -- a bit more purity, a bit less practicality.\\n\\nNevertheless the ability to order-compare two arbitrary objects (as long as neither was a complex number;-) remained for a long time, because around that same time Guido started really insisting on maintaining strong backwards compatibility (a shift that\\'s both practical and pure;-).\\n\\nSo, it\\'s only in Python 3, which explicitly and deliberately removed the constraint of strong backwards compatibility to allow some long-desired but backwards incompatible enhancements (especially simplifications and removal of obsolete, redundant way to perform certain tasks), that order comparison of instances of different types became an error.\\n\\nSo this historical and philosophical treatise is basically the only way to truly respond to your \"why\" question...!-)\\n'}\n____________________________________________________________________________________________________ \n2. {'Question': 'How to check what OS am I running on in Python?', 'Answer': '&gt;&gt;&gt; import os\\n&gt;&gt;&gt; print os.name\\nposix\\n&gt;&gt;&gt; import platform\\n&gt;&gt;&gt; platform.system()\\n\\'Linux\\'\\n&gt;&gt;&gt; platform.release()\\n\\'2.6.22-15-generic\\'\\n\\n\\nSee: <a href=\"https://docs.python.org/2/library/platform.html\">platform â\\x80\\x94 Access to underlying platformâ\\x80\\x99s identifying data\\n'}\n____________________________________________________________________________________________________ \n3. {'Question': 'Create an encrypted ZIP file in Python', 'Answer': 'I created a simple library to create a password encrypted zip file in python. - <a href=\"https://github.com/smihica/pyminizip\">here\\n\\nimport pyminizip\\n\\ncompression_level = 5 # 1-9\\npyminizip.compress(\"src.txt\", \"dst.zip\", \"password\", compression_level)\\n\\n\\nThe library requires zlib.\\n\\nI have checked that the file can be extracted in WINDOWS/MAC.\\n'}\n____________________________________________________________________________________________________ \n4. {'Question': 'Recursively walking a Python inheritance tree at run-time', 'Answer': 'You might try using the type.mro() method to find the method resolution order.\\n\\nclass A(object):\\n        pass\\n\\nclass B(A):\\n        pass\\n\\nclass C(A):\\n        pass\\n\\na = A()\\nb = B()\\nc = C()\\n\\n&gt;&gt;&gt; type.mro(type(b))\\n[&lt;class \\'__main__.B\\'&gt;, &lt;class \\'__main__.A\\'&gt;, &lt;type \\'object\\'&gt;]\\n&gt;&gt;&gt; type.mro(type(c))\\n[&lt;class \\'__main__.C\\'&gt;, &lt;class \\'__main__.A\\'&gt;, &lt;type \\'object\\'&gt;]\\n\\n\\nor\\n\\n&gt;&gt;&gt; type(b).mro()\\n\\n\\n\\n\\nEdit:  I was thinking you wanted to do something like this...\\n\\n&gt;&gt;&gt; A = type(\"A\", (object,), {\\'a\\':\\'A var\\'})  # create class A\\n&gt;&gt;&gt; B = type(\"B\", (A,), {\\'b\\':\\'B var\\'})       # create class B\\n&gt;&gt;&gt; myvar = B()\\n\\ndef getvars(obj):\\n    \\'\\'\\' return dict where key/value is attribute-name/class-name \\'\\'\\'\\n    retval = dict()\\n    for i in type(obj).mro():\\n        for k in i.__dict__:\\n            if not k.startswith(\\'_\\'):\\n                retval[k] = i.__name__\\n    return retval\\n\\n&gt;&gt;&gt; getvars(myvar)\\n{\\'a\\': \\'A\\', \\'b\\': \\'B\\'}\\n\\n&gt;&gt;&gt; for i in getvars(myvar):\\n    print getattr(myvar, i)   # or use setattr to modify the attribute value\\n\\nA Var\\nB Var\\n\\n'}\n____________________________________________________________________________________________________ \n5. {'Question': 'How can I retrieve the page title of a webpage using Python?', 'Answer': 'Here\\'s a simplified version of <a href=\"http://stackoverflow.com/a/51242/4279\">@Vinko Vrsalovic\\'s answer:\\n\\nimport urllib2\\nfrom BeautifulSoup import BeautifulSoup\\n\\nsoup = BeautifulSoup(urllib2.urlopen(\"https://www.google.com\"))\\nprint soup.title.string\\n\\n\\nNOTE:\\n\\n\\nsoup.title finds the first title element anywhere in the html document\\ntitle.string assumes it has only one child node, and that child node is a string\\n\\n\\nFor <a href=\"http://www.crummy.com/software/BeautifulSoup/bs4/doc/\">beautifulsoup 4.x, use different import:\\n\\nfrom bs4 import BeautifulSoup\\n\\n'}\n____________________________________________________________________________________________________ \n6. {'Question': 'In Python, how can you easily retrieve sorted items from a dictionary?', 'Answer': 'Or shorter,\\n\\nfor key, value in sorted(d.items()):\\n    print value\\n\\n'}\n____________________________________________________________________________________________________ \n7. {'Question': 'Python Inverse of a Matrix', 'Answer': 'You should have a look at <a href=\"http://www.scipy.org/Tentative_NumPy_Tutorial\">numpy if you do matrix manipulation. This is a module mainly written in C, which will be much faster than programming in pure python. Here is an example of how to invert a matrix, and do other matrix manipulation.\\n\\nfrom numpy import matrix\\nfrom numpy import linalg\\nA = matrix( [[1,2,3],[11,12,13],[21,22,23]]) # Creates a matrix.\\nx = matrix( [[1],[2],[3]] )                  # Creates a matrix (like a column vector).\\ny = matrix( [[1,2,3]] )                      # Creates a matrix (like a row vector).\\nprint A.T                                    # Transpose of A.\\nprint A*x                                    # Matrix multiplication of A and x.\\nprint A.I                                    # Inverse of A.\\nprint linalg.solve(A, x)     # Solve the linear equation system.\\n\\n\\nYou can also have a look at the <a href=\"http://www.python.org/doc/2.5.2/lib/module-array.html\">array module, which is a much more efficient implementation of lists when you have to deal with only one data type.\\n'}\n____________________________________________________________________________________________________ \n8. {'Question': 'How to integrate pep8.py in Eclipse?', 'Answer': 'As of PyDev 2.3.0, pep8 is integrated in PyDev by default, even shipping with a default version of it.\\n\\nOpen Window > Preferences\\n\\nIt must be enabled in PyDev > Editor > Code Analysis > pep8.py\\n\\nErrors/Warnings should be shown as markers (as other things in the regular code analysis).\\n\\nIn the event a file is not analyzed, see <a href=\"https://stackoverflow.com/a/31001619/832230\">https://stackoverflow.com/a/31001619/832230.\\n'}\n____________________________________________________________________________________________________ \n9. {'Question': 'How can I select all of the Sundays for a year using Python?', 'Answer': 'You can use date from the <a href=\"http://docs.python.org/library/datetime.html\">datetime module to find the first Sunday in a year and then keep adding seven days, generating new Sundays:\\n\\nfrom datetime import date, timedelta\\n\\ndef allsundays(year):\\n   d = date(year, 1, 1)                    # January 1st\\n   d += timedelta(days = 6 - d.weekday())  # First Sunday\\n   while d.year == year:\\n      yield d\\n      d += timedelta(days = 7)\\n\\nfor d in allsundays(2010):\\n   print d\\n\\n'}\n",
          "output_type": "stream"
        }
      ]
    },
    {
      "cell_type": "markdown",
      "source": [
        "## RAG data"
      ],
      "metadata": {
        "id": "DM7dRdL6E4_D"
      }
    },
    {
      "cell_type": "code",
      "source": [
        "%%time\n",
        "peps = Peps()\n",
        "peps_corpus = peps.scrape()\n",
        "print(\n",
        "    'corpus lenght:',\n",
        "    len(peps_corpus),\n",
        "    '\\nsection <n> lenght:',\n",
        "    len(peps_corpus[0]),\n",
        "    '\\nsample text:\\n\\n',\n",
        "    peps_corpus[10][1306:2000]\n",
        ")"
      ],
      "metadata": {
        "execution": {
          "iopub.status.busy": "2024-04-06T04:26:55.757228Z",
          "iopub.execute_input": "2024-04-06T04:26:55.757594Z",
          "iopub.status.idle": "2024-04-06T04:31:22.994385Z",
          "shell.execute_reply.started": "2024-04-06T04:26:55.757562Z",
          "shell.execute_reply": "2024-04-06T04:31:22.993486Z"
        },
        "trusted": true,
        "id": "0xg4lDuQE4_D",
        "outputId": "d6619b7b-cdd1-4fec-b971-4a2db137ce87"
      },
      "execution_count": null,
      "outputs": [
        {
          "name": "stdout",
          "text": "corpus lenght: 644 \nsection <n> lenght: 24494 \nsample text:\n\n tly have an obscure\noperating system dependent failure mode that allows them to return values that\nare not, in fact, suitable for such operations.\nThis is due to some operating system kernels (most notably the Linux kernel)\npermitting reads from /dev/urandom before the system random number\ngenerator is fully initialized, whereas most other operating systems will\nimplicitly block on such reads until the random number generator is ready.\nFor the lower level os.urandom and random.SystemRandom APIs, this PEP\nproposes changing such failures in Python 3.6 from the current silent,\nhard to detect, and hard to debug, errors to easily detected and debugged errors\nby raising BlockingIOError with \nCPU times: user 51.2 s, sys: 781 ms, total: 51.9 s\nWall time: 4min 27s\n",
          "output_type": "stream"
        }
      ]
    },
    {
      "cell_type": "code",
      "source": [
        "%%time\n",
        "peps = Peps()\n",
        "data = peps.jsonl_format()\n",
        "data[-1]['text'][:2000]"
      ],
      "metadata": {
        "execution": {
          "iopub.status.busy": "2024-04-06T04:31:22.995569Z",
          "iopub.execute_input": "2024-04-06T04:31:22.995827Z",
          "iopub.status.idle": "2024-04-06T04:32:45.214158Z",
          "shell.execute_reply.started": "2024-04-06T04:31:22.995803Z",
          "shell.execute_reply": "2024-04-06T04:32:45.213232Z"
        },
        "trusted": true,
        "id": "RRYqkIS0E4_D",
        "outputId": "a85a034e-3140-430c-9db7-ad01a2caf657"
      },
      "execution_count": null,
      "outputs": [
        {
          "name": "stdout",
          "text": "CPU times: user 52.6 s, sys: 687 ms, total: 53.3 s\nWall time: 1min 22s\n",
          "output_type": "stream"
        },
        {
          "execution_count": 17,
          "output_type": "execute_result",
          "data": {
            "text/plain": "'\\n\\nPython Enhancement Proposals\\n\\nPython » \\nPEP Index » \\nPEP 626\\n\\n\\n\\n\\n\\nToggle light / dark / auto colour theme\\n\\n\\n\\n\\nPEP 626 – Precise line numbers for debugging and other tools.\\n\\nAuthor:\\nMark Shannon <mark at hotpy.org>\\nBDFL-Delegate:\\nPablo Galindo <pablogsal at python.org>\\nStatus:\\nFinal\\nType:\\nStandards Track\\nCreated:\\n15-Jul-2020\\nPython-Version:\\n3.10\\nPost-History:\\n17-Jul-2020\\n\\n\\n\\nTable of Contents\\nAbstract\\nMotivation\\nRationale\\nSpecification\\nTracing\\nWhat is considered to be code for the purposes of tracing\\nExample event sequences\\nThe f_lineno attribute\\nThe new co_lines() method of code objects\\nZero width ranges\\n\\n\\nThe co_linetable attribute\\nThe co_lnotab attribute\\n\\n\\nBackwards Compatibility\\nExamples of code for which the sequence of trace events will change\\npass statement in an if statement.\\nMultiple pass statements.\\n\\n\\nC API\\nOut of process debuggers and profilers\\n\\n\\nPerformance Implications\\nReference Implementation\\nCopyright\\nReferences\\n\\n\\n\\nAbstract\\nPython should guarantee that when tracing is turned on, “line” tracing events are generated for all lines of code executed and only for lines of\\ncode that are executed.\\nThe f_lineno attribute of frame objects should always contain the expected line number.\\nDuring frame execution, the expected line number is the line number of source code currently being executed.\\nAfter a frame has completed, either by returning or by raising an exception,\\nthe expected line number is the line number of the last line of source that was executed.\\nA side effect of ensuring correct line numbers, is that some bytecodes will need to be marked as artificial, and not have a meaningful line number.\\nTo assist tools, a new co_lines attribute will be added that describes the mapping from bytecode to source.\\n\\n\\nMotivation\\nUsers of sys.settrace and associated tools should be able to rely on tracing events being\\ngenerated for all lines of code, and only for actual code.\\nThey should also be able to assume that the line number in f_lineno is correct.\\nThe current impl'"
          },
          "metadata": {}
        }
      ]
    },
    {
      "cell_type": "markdown",
      "source": [
        "# RAG"
      ],
      "metadata": {
        "id": "DJvR58fcsoW5"
      }
    },
    {
      "cell_type": "code",
      "source": [
        "%%time\n",
        "embeder = Embeder()\n",
        "vec = embeder.run([\"hello I'm goku\"])[0]\n",
        "print(len(vec))\n",
        "vec[:10]"
      ],
      "metadata": {
        "execution": {
          "iopub.status.busy": "2024-04-06T04:32:45.215569Z",
          "iopub.execute_input": "2024-04-06T04:32:45.215917Z",
          "iopub.status.idle": "2024-04-06T04:33:04.281974Z",
          "shell.execute_reply.started": "2024-04-06T04:32:45.215886Z",
          "shell.execute_reply": "2024-04-06T04:33:04.280723Z"
        },
        "trusted": true,
        "id": "e_OYbw_9E4_I",
        "outputId": "5bd31df8-f966-46f3-e83c-846feb5c8e86",
        "colab": {
          "referenced_widgets": [
            "28665504c92a43468881c75c6c04e18a",
            "db9e3e4d98d5413e9f2134c1af215bfa",
            "928482a940cc4bfc946563d7621003a6",
            "06105571abeb47208b35c6de0ca27653",
            "ffca148e7cb9437abd5504428503d66e",
            "c446302f7bad40dfb8c3c1ae02bb5be6",
            "d5a05325a17e4082844ec1d9ff6f09a3",
            "46e3a1677d1145b08b87a7167beb17a4",
            "37ed28db8c1f440d9aedcae903b3135c",
            "249d200979b54b9781211d962c8a5634"
          ]
        }
      },
      "execution_count": null,
      "outputs": [
        {
          "output_type": "display_data",
          "data": {
            "text/plain": "modules.json:   0%|          | 0.00/229 [00:00<?, ?B/s]",
            "application/vnd.jupyter.widget-view+json": {
              "version_major": 2,
              "version_minor": 0,
              "model_id": "28665504c92a43468881c75c6c04e18a"
            }
          },
          "metadata": {}
        },
        {
          "output_type": "display_data",
          "data": {
            "text/plain": "config_sentence_transformers.json:   0%|          | 0.00/122 [00:00<?, ?B/s]",
            "application/vnd.jupyter.widget-view+json": {
              "version_major": 2,
              "version_minor": 0,
              "model_id": "db9e3e4d98d5413e9f2134c1af215bfa"
            }
          },
          "metadata": {}
        },
        {
          "output_type": "display_data",
          "data": {
            "text/plain": "README.md:   0%|          | 0.00/4.12k [00:00<?, ?B/s]",
            "application/vnd.jupyter.widget-view+json": {
              "version_major": 2,
              "version_minor": 0,
              "model_id": "928482a940cc4bfc946563d7621003a6"
            }
          },
          "metadata": {}
        },
        {
          "output_type": "display_data",
          "data": {
            "text/plain": "sentence_bert_config.json:   0%|          | 0.00/53.0 [00:00<?, ?B/s]",
            "application/vnd.jupyter.widget-view+json": {
              "version_major": 2,
              "version_minor": 0,
              "model_id": "06105571abeb47208b35c6de0ca27653"
            }
          },
          "metadata": {}
        },
        {
          "output_type": "display_data",
          "data": {
            "text/plain": "config.json:   0%|          | 0.00/645 [00:00<?, ?B/s]",
            "application/vnd.jupyter.widget-view+json": {
              "version_major": 2,
              "version_minor": 0,
              "model_id": "ffca148e7cb9437abd5504428503d66e"
            }
          },
          "metadata": {}
        },
        {
          "output_type": "display_data",
          "data": {
            "text/plain": "model.safetensors:   0%|          | 0.00/471M [00:00<?, ?B/s]",
            "application/vnd.jupyter.widget-view+json": {
              "version_major": 2,
              "version_minor": 0,
              "model_id": "c446302f7bad40dfb8c3c1ae02bb5be6"
            }
          },
          "metadata": {}
        },
        {
          "output_type": "display_data",
          "data": {
            "text/plain": "tokenizer_config.json:   0%|          | 0.00/480 [00:00<?, ?B/s]",
            "application/vnd.jupyter.widget-view+json": {
              "version_major": 2,
              "version_minor": 0,
              "model_id": "d5a05325a17e4082844ec1d9ff6f09a3"
            }
          },
          "metadata": {}
        },
        {
          "output_type": "display_data",
          "data": {
            "text/plain": "tokenizer.json:   0%|          | 0.00/9.08M [00:00<?, ?B/s]",
            "application/vnd.jupyter.widget-view+json": {
              "version_major": 2,
              "version_minor": 0,
              "model_id": "46e3a1677d1145b08b87a7167beb17a4"
            }
          },
          "metadata": {}
        },
        {
          "output_type": "display_data",
          "data": {
            "text/plain": "special_tokens_map.json:   0%|          | 0.00/239 [00:00<?, ?B/s]",
            "application/vnd.jupyter.widget-view+json": {
              "version_major": 2,
              "version_minor": 0,
              "model_id": "37ed28db8c1f440d9aedcae903b3135c"
            }
          },
          "metadata": {}
        },
        {
          "output_type": "display_data",
          "data": {
            "text/plain": "1_Pooling/config.json:   0%|          | 0.00/190 [00:00<?, ?B/s]",
            "application/vnd.jupyter.widget-view+json": {
              "version_major": 2,
              "version_minor": 0,
              "model_id": "249d200979b54b9781211d962c8a5634"
            }
          },
          "metadata": {}
        },
        {
          "name": "stdout",
          "text": "384\nCPU times: user 2.79 s, sys: 1.19 s, total: 3.98 s\nWall time: 19.1 s\n",
          "output_type": "stream"
        },
        {
          "execution_count": 18,
          "output_type": "execute_result",
          "data": {
            "text/plain": "[-0.1933707594871521,\n 0.08631032705307007,\n 0.2352217584848404,\n 0.4100143313407898,\n -0.14344947040081024,\n 0.19855117797851562,\n 0.46806424856185913,\n -0.08672317862510681,\n -0.2187383770942688,\n 0.1548473834991455]"
          },
          "metadata": {}
        }
      ]
    },
    {
      "cell_type": "code",
      "source": [
        "%%time\n",
        "retriever = Retriever()\n",
        "retriever.set(data)"
      ],
      "metadata": {
        "execution": {
          "iopub.status.busy": "2024-04-06T05:18:57.900082Z",
          "iopub.execute_input": "2024-04-06T05:18:57.900775Z",
          "iopub.status.idle": "2024-04-06T05:59:04.113382Z",
          "shell.execute_reply.started": "2024-04-06T05:18:57.900744Z",
          "shell.execute_reply": "2024-04-06T05:59:04.112414Z"
        },
        "trusted": true,
        "id": "kBNszsNwE4_I",
        "outputId": "c889aefd-6d8a-4e43-cc20-dd66d5ed1102"
      },
      "execution_count": null,
      "outputs": [
        {
          "name": "stdout",
          "text": "CPU times: user 41min 9s, sys: 5min 7s, total: 46min 17s\nWall time: 40min 6s\n",
          "output_type": "stream"
        }
      ]
    },
    {
      "cell_type": "code",
      "source": [
        "retriever = Retriever()\n",
        "question = \"\"\"\n",
        "PEP 257\n",
        "\"\"\"\n",
        "retriever.query(question)"
      ],
      "metadata": {
        "execution": {
          "iopub.status.busy": "2024-04-06T05:59:44.882097Z",
          "iopub.execute_input": "2024-04-06T05:59:44.882993Z",
          "iopub.status.idle": "2024-04-06T05:59:48.199046Z",
          "shell.execute_reply.started": "2024-04-06T05:59:44.88296Z",
          "shell.execute_reply": "2024-04-06T05:59:48.198181Z"
        },
        "trusted": true,
        "id": "4FwuPhOwE4_J",
        "outputId": "f9b0e543-2378-4b1e-b33f-a043769091f2"
      },
      "execution_count": null,
      "outputs": [
        {
          "execution_count": 64,
          "output_type": "execute_result",
          "data": {
            "text/plain": "[]"
          },
          "metadata": {}
        }
      ]
    },
    {
      "cell_type": "code",
      "source": [
        "retriever = Retriever()\n",
        "question = \"\"\"\n",
        "Rationale\\nThis idea was proposed by Guido van Rossum on the python-ideas [1] mailing\\nlist. The premise of his email was to slow the alteration of the  Python core\\nsyntax, builtins and semantics to allow non-CPython implementations to catch\\nup to the current state of Python, both 2.x and 3.x.\\nPython, as a language is more than the core implementation –\\nCPython – with a rich, mature and vibrant community of implementations, such\\nas Jython [2], IronPython [3] and PyPy [4] that are a benefit not only to\\nthe community, but to the language itself.\\nStill others, such as Unladen Swallow [5] (a branch of CPython) seek not to\\ncreate an alternative implementation, but rather they seek to enhance the\\nperformance and implementation of CPython itself.\\nPython 3.x was a large part of the last several years of Python’s\\ndevelopment. Its release, as well as a bevy of changes to the language\\nintroduced by it and the previous 2.6.x releases, puts alternative\n",
        "\"\"\"\n",
        "retriever.query(question)"
      ],
      "metadata": {
        "execution": {
          "iopub.status.busy": "2024-04-06T06:07:53.666283Z",
          "iopub.execute_input": "2024-04-06T06:07:53.667133Z",
          "iopub.status.idle": "2024-04-06T06:07:57.396376Z",
          "shell.execute_reply.started": "2024-04-06T06:07:53.667103Z",
          "shell.execute_reply": "2024-04-06T06:07:57.395469Z"
        },
        "trusted": true,
        "id": "N3QgfHBTE4_J",
        "outputId": "ff0d5679-68de-47b2-b0f2-5686d50d5106"
      },
      "execution_count": null,
      "outputs": [
        {
          "execution_count": 75,
          "output_type": "execute_result",
          "data": {
            "text/plain": "['Rationale\\nThis idea was proposed by Guido van Rossum on the python-ideas [1] mailing\\nlist. The premise of his email was to slow the alteration of the  Python core\\nsyntax, builtins and semantics to allow non-CPython implementations to catch\\nup to the current state of Python, both 2.x and 3.x.\\nPython, as a language is more than the core implementation –\\nCPython – with a rich, mature and vibrant community of implementations, such\\nas Jython [2], IronPython [3] and PyPy [4] that are a benefit not only to\\nthe community, but to the language itself.\\nStill others, such as Unladen Swallow [5] (a branch of CPython) seek not to\\ncreate an alternative implementation, but rather they seek to enhance the\\nperformance and implementation of CPython itself.\\nPython 3.x was a large part of the last several years of Python’s\\ndevelopment. Its release, as well as a bevy of changes to the language\\nintroduced by it and the previous 2.6.x releases, puts alternative']"
          },
          "metadata": {}
        }
      ]
    },
    {
      "cell_type": "markdown",
      "source": [
        "# Chatbot"
      ],
      "metadata": {
        "id": "R3xhjyW9soW6"
      }
    },
    {
      "cell_type": "markdown",
      "source": [
        "## Loading few-shot to the memory"
      ],
      "metadata": {
        "id": "SPN1ZNKHE4_J"
      }
    },
    {
      "cell_type": "code",
      "source": [
        "file = 'data/history.json'\n",
        "message = Message(\n",
        "    role='sistem',\n",
        "    content='foo'\n",
        ")\n",
        "init_chat = [message.system_reply()]\n",
        "json.dump(init_chat, open(file, 'w'))\n",
        "for i, q in enumerate(few_shot_list):\n",
        "    sample = python_qa[q]\n",
        "    mesage = Message(\n",
        "        role='user',\n",
        "        content=sample['Question']\n",
        "    )\n",
        "    reply = mesage.update()\n",
        "    mesage = Message(\n",
        "        role='assitant',\n",
        "        content=sample['Answer']\n",
        "    )\n",
        "    reply = mesage.update()\n",
        "\n",
        "history = json.load(open(file))\n",
        "history"
      ],
      "metadata": {
        "scrolled": true,
        "execution": {
          "iopub.status.busy": "2024-04-06T04:43:07.45386Z",
          "iopub.execute_input": "2024-04-06T04:43:07.454213Z",
          "iopub.status.idle": "2024-04-06T04:43:07.477205Z",
          "shell.execute_reply.started": "2024-04-06T04:43:07.454185Z",
          "shell.execute_reply": "2024-04-06T04:43:07.476381Z"
        },
        "trusted": true,
        "id": "RUbR0l2KE4_J",
        "outputId": "d9f63e83-9d0e-4b71-ff92-417fc0801ac6"
      },
      "execution_count": null,
      "outputs": [
        {
          "execution_count": 26,
          "output_type": "execute_result",
          "data": {
            "text/plain": "[{'reply_id': '50af5493-2d6c-4daa-9d49-ae0759d4b1df',\n  'role': 'system',\n  'content': '\\nAct as a Python programming language expert assistant \\nyour goal is to answer common questions in a clear, comprehensive, and accurate way, taking into account this guidelines:\\n1. When responding, incorporate any relevant context to enhance the accuracy and informativeness of your answers using the documentation provided if it is necesary \\n2. Please structure your response to include definitions, examples, and any relevant comparisons to other statistical measures\\n3. Aim for plain language to ensure accessibility for all users\\n4. If the question is off topic about programing lenguage you MUST to say \"I\\'m here to help you with Python programming language questions only, excuse me\"\\n5. You can say hello if you are greeted\\n6. DO NOT repeat more than twice the same sentence!\\n\\nTAKE A DEEP BREATH AND PAY ATTENTION TO THE USER QUESTION\\n\\nFor each question you answer perfectly, I will pay you USD 1000.00, may be more for the consecutive accurate and correct answer\\n        ',\n  'timestamp': 1712377529},\n {'reply_id': '441cff01-5465-4eac-bd6a-b1a3b8f9f020',\n  'role': 'user',\n  'content': \"How do I use Python's itertools.groupby()?\",\n  'timestamp': 1712377529},\n {'reply_id': '678297ed-4115-4c82-bb14-37c44a62b3c7',\n  'role': 'assitant',\n  'content': 'As Sebastjan said, you first have to sort your data. This is important.\\n\\nThe part I didn\\'t get is that in the example construction\\n\\ngroups = []\\nuniquekeys = []\\nfor k, g in groupby(data, keyfunc):\\n   groups.append(list(g))    # Store group iterator as a list\\n   uniquekeys.append(k)\\n\\n\\nk is the current grouping key, and g is an iterator that you can use to iterate over the group defined by that grouping key. In other words, the groupby iterator itself returns iterators.\\n\\nHere\\'s an example of that, using clearer variable names:\\n\\nfrom itertools import groupby\\n\\nthings = [(\"animal\", \"bear\"), (\"animal\", \"duck\"), (\"plant\", \"cactus\"), (\"vehicle\", \"speed boat\"), (\"vehicle\", \"school bus\")]\\n\\nfor key, group in groupby(things, lambda x: x[0]):\\n    for thing in group:\\n        print \"A %s is a %s.\" % (thing[1], key)\\n    print \" \"\\n\\n\\nThis will give you the output:\\n\\n\\n  A bear is a animal.\\n  A duck is a animal.\\n  \\n  A cactus is a plant.\\n  \\n  A speed boat is a vehicle.\\n  A school bus is a vehicle.\\n\\n\\nIn this example, things is a list of tuples where the first item in each tuple is the group the second item belongs to. \\n\\nThe groupby() function takes two arguments: (1) the data to group and (2) the function to group it with. \\n\\nHere, lambda x: x[0] tells groupby() to use the first item in each tuple as the grouping key.\\n\\nIn the above for statement, groupby returns three (key, group iterator) pairs - once for each unique key. You can use the returned iterator to iterate over each individual item in that group.\\n\\nHere\\'s a slightly different example with the same data, using a list comprehension:\\n\\nfor key, group in groupby(things, lambda x: x[0]):\\n    listOfThings = \" and \".join([thing[1] for thing in group])\\n    print key + \"s:  \" + listOfThings + \".\"\\n\\n\\nThis will give you the output:\\n\\n\\n  animals: bear and duck.\\n  plants: cactus.\\n  vehicles: speed boat and school bus.\\n\\n',\n  'timestamp': 1712377529},\n {'reply_id': '7fcfecf1-7d7e-48bb-abc2-d01831477182',\n  'role': 'user',\n  'content': \"Why is ''>0 True in Python?\",\n  'timestamp': 1712377529},\n {'reply_id': '74dc1b00-4d0b-4984-a5e0-6f86b0ec3583',\n  'role': 'assitant',\n  'content': 'The original design motivation for allowing order-comparisons of arbitrary objects was to allow sorting of heterogenous lists -- usefully, that would put all strings next to each other in alphabetical order, and all numbers next to each other in numerical order, although which of the two blocks came first was not guaranteed by the language.  For example, this allowed getting only unique items in any list (even one with non-hashable items) in O(N log N) worst-case time\\n\\nOver the years, this pragmatical arrangement was eroded.  The first crack was when the ability to order-compare complex numbers was taken away, quite a few versions ago: suddenly, the ability to sort any list disappeared (did not apply any more if the list contained complex numbers, possibly together with items of other types).  Then Guido started disliking heterogeneous lists more generally, and thus thinking that it didn\\'t really matter if such lists could be usefully sorted or not... because such lists should not exist in the first place, according to his new thinking.  He didn\\'t do anything to forbid them, but was not inclined to accept any compromises to support them either.\\n\\nNote that both changes move the balance a little bit away from the \"practicality beats purity\" item of the Zen of Python (which was written earlier, back when complex numbers still could be order-compared;-) -- a bit more purity, a bit less practicality.\\n\\nNevertheless the ability to order-compare two arbitrary objects (as long as neither was a complex number;-) remained for a long time, because around that same time Guido started really insisting on maintaining strong backwards compatibility (a shift that\\'s both practical and pure;-).\\n\\nSo, it\\'s only in Python 3, which explicitly and deliberately removed the constraint of strong backwards compatibility to allow some long-desired but backwards incompatible enhancements (especially simplifications and removal of obsolete, redundant way to perform certain tasks), that order comparison of instances of different types became an error.\\n\\nSo this historical and philosophical treatise is basically the only way to truly respond to your \"why\" question...!-)\\n',\n  'timestamp': 1712377529},\n {'reply_id': 'd8ae3827-ce4f-48a4-894f-bed5656ad840',\n  'role': 'user',\n  'content': 'How to check what OS am I running on in Python?',\n  'timestamp': 1712377529},\n {'reply_id': 'cdc551bf-527b-4694-9bf7-0de689a36d49',\n  'role': 'assitant',\n  'content': '&gt;&gt;&gt; import os\\n&gt;&gt;&gt; print os.name\\nposix\\n&gt;&gt;&gt; import platform\\n&gt;&gt;&gt; platform.system()\\n\\'Linux\\'\\n&gt;&gt;&gt; platform.release()\\n\\'2.6.22-15-generic\\'\\n\\n\\nSee: <a href=\"https://docs.python.org/2/library/platform.html\">platform â\\x80\\x94 Access to underlying platformâ\\x80\\x99s identifying data\\n',\n  'timestamp': 1712377529},\n {'reply_id': '4aa900a1-20de-4684-8d75-cc5be154063a',\n  'role': 'user',\n  'content': 'Create an encrypted ZIP file in Python',\n  'timestamp': 1712377529},\n {'reply_id': 'f9ac384f-4317-49b4-b6e3-85f7986113d7',\n  'role': 'assitant',\n  'content': 'I created a simple library to create a password encrypted zip file in python. - <a href=\"https://github.com/smihica/pyminizip\">here\\n\\nimport pyminizip\\n\\ncompression_level = 5 # 1-9\\npyminizip.compress(\"src.txt\", \"dst.zip\", \"password\", compression_level)\\n\\n\\nThe library requires zlib.\\n\\nI have checked that the file can be extracted in WINDOWS/MAC.\\n',\n  'timestamp': 1712377529},\n {'reply_id': 'fb57a7f3-85a7-401b-936f-39b2ba8b2ee5',\n  'role': 'user',\n  'content': 'Recursively walking a Python inheritance tree at run-time',\n  'timestamp': 1712377529},\n {'reply_id': '0b792388-8d9b-47cf-b71f-350a52c7f481',\n  'role': 'assitant',\n  'content': 'You might try using the type.mro() method to find the method resolution order.\\n\\nclass A(object):\\n        pass\\n\\nclass B(A):\\n        pass\\n\\nclass C(A):\\n        pass\\n\\na = A()\\nb = B()\\nc = C()\\n\\n&gt;&gt;&gt; type.mro(type(b))\\n[&lt;class \\'__main__.B\\'&gt;, &lt;class \\'__main__.A\\'&gt;, &lt;type \\'object\\'&gt;]\\n&gt;&gt;&gt; type.mro(type(c))\\n[&lt;class \\'__main__.C\\'&gt;, &lt;class \\'__main__.A\\'&gt;, &lt;type \\'object\\'&gt;]\\n\\n\\nor\\n\\n&gt;&gt;&gt; type(b).mro()\\n\\n\\n\\n\\nEdit:  I was thinking you wanted to do something like this...\\n\\n&gt;&gt;&gt; A = type(\"A\", (object,), {\\'a\\':\\'A var\\'})  # create class A\\n&gt;&gt;&gt; B = type(\"B\", (A,), {\\'b\\':\\'B var\\'})       # create class B\\n&gt;&gt;&gt; myvar = B()\\n\\ndef getvars(obj):\\n    \\'\\'\\' return dict where key/value is attribute-name/class-name \\'\\'\\'\\n    retval = dict()\\n    for i in type(obj).mro():\\n        for k in i.__dict__:\\n            if not k.startswith(\\'_\\'):\\n                retval[k] = i.__name__\\n    return retval\\n\\n&gt;&gt;&gt; getvars(myvar)\\n{\\'a\\': \\'A\\', \\'b\\': \\'B\\'}\\n\\n&gt;&gt;&gt; for i in getvars(myvar):\\n    print getattr(myvar, i)   # or use setattr to modify the attribute value\\n\\nA Var\\nB Var\\n\\n',\n  'timestamp': 1712377529},\n {'reply_id': 'bb191c14-8552-48c8-a98c-c4c3b84ec406',\n  'role': 'user',\n  'content': 'How can I retrieve the page title of a webpage using Python?',\n  'timestamp': 1712377529},\n {'reply_id': 'abdc7029-0c90-442b-9716-34084d8e6cdb',\n  'role': 'assitant',\n  'content': 'Here\\'s a simplified version of <a href=\"http://stackoverflow.com/a/51242/4279\">@Vinko Vrsalovic\\'s answer:\\n\\nimport urllib2\\nfrom BeautifulSoup import BeautifulSoup\\n\\nsoup = BeautifulSoup(urllib2.urlopen(\"https://www.google.com\"))\\nprint soup.title.string\\n\\n\\nNOTE:\\n\\n\\nsoup.title finds the first title element anywhere in the html document\\ntitle.string assumes it has only one child node, and that child node is a string\\n\\n\\nFor <a href=\"http://www.crummy.com/software/BeautifulSoup/bs4/doc/\">beautifulsoup 4.x, use different import:\\n\\nfrom bs4 import BeautifulSoup\\n\\n',\n  'timestamp': 1712377529},\n {'reply_id': '14d921f6-145a-4a18-b8c1-74173b750c1f',\n  'role': 'user',\n  'content': 'In Python, how can you easily retrieve sorted items from a dictionary?',\n  'timestamp': 1712377529},\n {'reply_id': '94889ca7-de27-47a1-876c-7242b819c2ea',\n  'role': 'assitant',\n  'content': 'Or shorter,\\n\\nfor key, value in sorted(d.items()):\\n    print value\\n\\n',\n  'timestamp': 1712377529},\n {'reply_id': '77ee5ded-534b-41f3-bdd6-9f63b74be95f',\n  'role': 'user',\n  'content': 'Python Inverse of a Matrix',\n  'timestamp': 1712377529},\n {'reply_id': '96ce9e0a-0dab-4c9b-a1ad-5a0c45184d9f',\n  'role': 'assitant',\n  'content': 'You should have a look at <a href=\"http://www.scipy.org/Tentative_NumPy_Tutorial\">numpy if you do matrix manipulation. This is a module mainly written in C, which will be much faster than programming in pure python. Here is an example of how to invert a matrix, and do other matrix manipulation.\\n\\nfrom numpy import matrix\\nfrom numpy import linalg\\nA = matrix( [[1,2,3],[11,12,13],[21,22,23]]) # Creates a matrix.\\nx = matrix( [[1],[2],[3]] )                  # Creates a matrix (like a column vector).\\ny = matrix( [[1,2,3]] )                      # Creates a matrix (like a row vector).\\nprint A.T                                    # Transpose of A.\\nprint A*x                                    # Matrix multiplication of A and x.\\nprint A.I                                    # Inverse of A.\\nprint linalg.solve(A, x)     # Solve the linear equation system.\\n\\n\\nYou can also have a look at the <a href=\"http://www.python.org/doc/2.5.2/lib/module-array.html\">array module, which is a much more efficient implementation of lists when you have to deal with only one data type.\\n',\n  'timestamp': 1712377529},\n {'reply_id': '6ceb1630-ba11-4da2-985d-39caa8d221ed',\n  'role': 'user',\n  'content': 'How to integrate pep8.py in Eclipse?',\n  'timestamp': 1712377529},\n {'reply_id': 'dbe00167-92f8-45b6-89f0-bb2745f63e1f',\n  'role': 'assitant',\n  'content': 'As of PyDev 2.3.0, pep8 is integrated in PyDev by default, even shipping with a default version of it.\\n\\nOpen Window > Preferences\\n\\nIt must be enabled in PyDev > Editor > Code Analysis > pep8.py\\n\\nErrors/Warnings should be shown as markers (as other things in the regular code analysis).\\n\\nIn the event a file is not analyzed, see <a href=\"https://stackoverflow.com/a/31001619/832230\">https://stackoverflow.com/a/31001619/832230.\\n',\n  'timestamp': 1712377529},\n {'reply_id': '68f7d241-be4b-4d1f-87a8-ba4210efda82',\n  'role': 'user',\n  'content': 'How can I select all of the Sundays for a year using Python?',\n  'timestamp': 1712377529},\n {'reply_id': '6e691db2-bd0f-4f26-9dd8-ee77e716cc36',\n  'role': 'assitant',\n  'content': 'You can use date from the <a href=\"http://docs.python.org/library/datetime.html\">datetime module to find the first Sunday in a year and then keep adding seven days, generating new Sundays:\\n\\nfrom datetime import date, timedelta\\n\\ndef allsundays(year):\\n   d = date(year, 1, 1)                    # January 1st\\n   d += timedelta(days = 6 - d.weekday())  # First Sunday\\n   while d.year == year:\\n      yield d\\n      d += timedelta(days = 7)\\n\\nfor d in allsundays(2010):\\n   print d\\n\\n',\n  'timestamp': 1712377529}]"
          },
          "metadata": {}
        }
      ]
    },
    {
      "cell_type": "markdown",
      "source": [
        "### Testing the RAG system memory"
      ],
      "metadata": {
        "id": "EFT4Oe_TE4_J"
      }
    },
    {
      "cell_type": "code",
      "source": [
        "agent = Agent()\n",
        "print(agent.memory(\"\"\"\n",
        "Version Control System\n",
        "Currently the CPython and supporting repositories use Mercurial. As a modern distributed version control system, it has served us well since the migration from Subversion. However, when evaluating the VCS we must consider the capabilities of the VCS itself as well as the network effect and mindshare of the community around that VCS.\n",
        "\n",
        "There are really only two real options for this, Mercurial and Git. The technical capabilities of the two systems are largely equivalent, therefore this PEP instead focuses on their social aspects.\n",
        "\n",
        "It is not possible to get exact numbers for the number of projects or people which are using a particular VCS, however we can infer this by looking at several sources of information for what VCS projects are using.\n",
        "\n",
        "The Open Hub (previously Ohloh) statistics [1] show that 37% of the repositories indexed by The Open Hub are using Git (second only to Subversion which has 48%) while Mercurial has just 2%,\n",
        "\"\"\"))"
      ],
      "metadata": {
        "scrolled": true,
        "execution": {
          "iopub.status.busy": "2024-04-06T04:36:49.112187Z",
          "iopub.status.idle": "2024-04-06T04:36:49.112529Z",
          "shell.execute_reply.started": "2024-04-06T04:36:49.112359Z",
          "shell.execute_reply": "2024-04-06T04:36:49.112373Z"
        },
        "trusted": true,
        "id": "XJwXRd_6E4_J"
      },
      "execution_count": null,
      "outputs": []
    },
    {
      "cell_type": "markdown",
      "source": [
        "# GPC - 0.0.1"
      ],
      "metadata": {
        "id": "Cc_e_HAgsoW6"
      }
    },
    {
      "cell_type": "code",
      "source": [
        "question"
      ],
      "metadata": {
        "execution": {
          "iopub.status.busy": "2024-04-06T06:08:25.346961Z",
          "iopub.execute_input": "2024-04-06T06:08:25.347641Z",
          "iopub.status.idle": "2024-04-06T06:08:25.353198Z",
          "shell.execute_reply.started": "2024-04-06T06:08:25.347607Z",
          "shell.execute_reply": "2024-04-06T06:08:25.352216Z"
        },
        "trusted": true,
        "id": "SEA1IcvtE4_J",
        "outputId": "9fef31ac-1cc2-4d48-a5a0-5b17df83b7ad"
      },
      "execution_count": null,
      "outputs": [
        {
          "execution_count": 76,
          "output_type": "execute_result",
          "data": {
            "text/plain": "'\\nRationale\\nThis idea was proposed by Guido van Rossum on the python-ideas [1] mailing\\nlist. The premise of his email was to slow the alteration of the  Python core\\nsyntax, builtins and semantics to allow non-CPython implementations to catch\\nup to the current state of Python, both 2.x and 3.x.\\nPython, as a language is more than the core implementation –\\nCPython – with a rich, mature and vibrant community of implementations, such\\nas Jython [2], IronPython [3] and PyPy [4] that are a benefit not only to\\nthe community, but to the language itself.\\nStill others, such as Unladen Swallow [5] (a branch of CPython) seek not to\\ncreate an alternative implementation, but rather they seek to enhance the\\nperformance and implementation of CPython itself.\\nPython 3.x was a large part of the last several years of Python’s\\ndevelopment. Its release, as well as a bevy of changes to the language\\nintroduced by it and the previous 2.6.x releases, puts alternative\\n'"
          },
          "metadata": {}
        }
      ]
    },
    {
      "cell_type": "code",
      "source": [
        "%%time\n",
        "agent = Agent()\n",
        "question = 'what is the latest python version that is currently lunched'\n",
        "print('*'*500,'\\n final answer:',agent.chat(question, verbose=True))"
      ],
      "metadata": {
        "scrolled": true,
        "execution": {
          "iopub.status.busy": "2024-04-06T06:08:30.792016Z",
          "iopub.execute_input": "2024-04-06T06:08:30.792383Z",
          "iopub.status.idle": "2024-04-06T06:09:50.440493Z",
          "shell.execute_reply.started": "2024-04-06T06:08:30.792346Z",
          "shell.execute_reply": "2024-04-06T06:09:50.439407Z"
        },
        "trusted": true,
        "id": "uSOPDllaE4_J",
        "outputId": "1cb3dca2-0b17-46d2-e1c0-02190ec9bd17"
      },
      "execution_count": null,
      "outputs": [
        {
          "name": "stdout",
          "text": "<bos>\n<-change-of-interlocutor->system: \nAct as a Python programming language expert assistant \nyour goal is to answer common questions in a clear, comprehensive, and accurate way, taking into account this guidelines:\n1. When responding, incorporate any relevant context to enhance the accuracy and informativeness of your answers using the documentation provided if it is necesary \n2. Please structure your response to include definitions, examples, and any relevant comparisons to other statistical measures\n3. Aim for plain language to ensure accessibility for all users\n4. If the question is off topic about programing lenguage you MUST to say \"I'm here to help you with Python programming language questions only, excuse me\"\n5. You can say hello if you are greeted\n6. DO NOT repeat more than twice the same sentence!\n\nTAKE A DEEP BREATH AND PAY ATTENTION TO THE USER QUESTION\n\nFor each question you answer perfectly, I will pay you USD 1000.00, may be more for the consecutive accurate and correct answer\n        \n\n<-change-of-interlocutor->user: How do I use Python's itertools.groupby()?\n\n<-change-of-interlocutor->assitant: As Sebastjan said, you first have to sort your data. This is important.\n\nThe part I didn't get is that in the example construction\n\ngroups = []\nuniquekeys = []\nfor k, g in groupby(data, keyfunc):\n   groups.append(list(g))    # Store group iterator as a list\n   uniquekeys.append(k)\n\n\nk is the current grouping key, and g is an iterator that you can use to iterate over the group defined by that grouping key. In other words, the groupby iterator itself returns iterators.\n\nHere's an example of that, using clearer variable names:\n\nfrom itertools import groupby\n\nthings = [(\"animal\", \"bear\"), (\"animal\", \"duck\"), (\"plant\", \"cactus\"), (\"vehicle\", \"speed boat\"), (\"vehicle\", \"school bus\")]\n\nfor key, group in groupby(things, lambda x: x[0]):\n    for thing in group:\n        print \"A %s is a %s.\" % (thing[1], key)\n    print \" \"\n\n\nThis will give you the output:\n\n\n  A bear is a animal.\n  A duck is a animal.\n  \n  A cactus is a plant.\n  \n  A speed boat is a vehicle.\n  A school bus is a vehicle.\n\n\nIn this example, things is a list of tuples where the first item in each tuple is the group the second item belongs to. \n\nThe groupby() function takes two arguments: (1) the data to group and (2) the function to group it with. \n\nHere, lambda x: x[0] tells groupby() to use the first item in each tuple as the grouping key.\n\nIn the above for statement, groupby returns three (key, group iterator) pairs - once for each unique key. You can use the returned iterator to iterate over each individual item in that group.\n\nHere's a slightly different example with the same data, using a list comprehension:\n\nfor key, group in groupby(things, lambda x: x[0]):\n    listOfThings = \" and \".join([thing[1] for thing in group])\n    print key + \"s:  \" + listOfThings + \".\"\n\n\nThis will give you the output:\n\n\n  animals: bear and duck.\n  plants: cactus.\n  vehicles: speed boat and school bus.\n\n\n\n<-change-of-interlocutor->user: Why is ''>0 True in Python?\n\n<-change-of-interlocutor->assitant: The original design motivation for allowing order-comparisons of arbitrary objects was to allow sorting of heterogenous lists -- usefully, that would put all strings next to each other in alphabetical order, and all numbers next to each other in numerical order, although which of the two blocks came first was not guaranteed by the language.  For example, this allowed getting only unique items in any list (even one with non-hashable items) in O(N log N) worst-case time\n\nOver the years, this pragmatical arrangement was eroded.  The first crack was when the ability to order-compare complex numbers was taken away, quite a few versions ago: suddenly, the ability to sort any list disappeared (did not apply any more if the list contained complex numbers, possibly together with items of other types).  Then Guido started disliking heterogeneous lists more generally, and thus thinking that it didn't really matter if such lists could be usefully sorted or not... because such lists should not exist in the first place, according to his new thinking.  He didn't do anything to forbid them, but was not inclined to accept any compromises to support them either.\n\nNote that both changes move the balance a little bit away from the \"practicality beats purity\" item of the Zen of Python (which was written earlier, back when complex numbers still could be order-compared;-) -- a bit more purity, a bit less practicality.\n\nNevertheless the ability to order-compare two arbitrary objects (as long as neither was a complex number;-) remained for a long time, because around that same time Guido started really insisting on maintaining strong backwards compatibility (a shift that's both practical and pure;-).\n\nSo, it's only in Python 3, which explicitly and deliberately removed the constraint of strong backwards compatibility to allow some long-desired but backwards incompatible enhancements (especially simplifications and removal of obsolete, redundant way to perform certain tasks), that order comparison of instances of different types became an error.\n\nSo this historical and philosophical treatise is basically the only way to truly respond to your \"why\" question...!-)\n\n\n<-change-of-interlocutor->user: How to check what OS am I running on in Python?\n\n<-change-of-interlocutor->assitant: &gt;&gt;&gt; import os\n&gt;&gt;&gt; print os.name\nposix\n&gt;&gt;&gt; import platform\n&gt;&gt;&gt; platform.system()\n'Linux'\n&gt;&gt;&gt; platform.release()\n'2.6.22-15-generic'\n\n\nSee: <a href=\"https://docs.python.org/2/library/platform.html\">platform â Access to underlying platformâs identifying data\n\n\n<-change-of-interlocutor->user: Create an encrypted ZIP file in Python\n\n<-change-of-interlocutor->assitant: I created a simple library to create a password encrypted zip file in python. - <a href=\"https://github.com/smihica/pyminizip\">here\n\nimport pyminizip\n\ncompression_level = 5 # 1-9\npyminizip.compress(\"src.txt\", \"dst.zip\", \"password\", compression_level)\n\n\nThe library requires zlib.\n\nI have checked that the file can be extracted in WINDOWS/MAC.\n\n\n<-change-of-interlocutor->user: Recursively walking a Python inheritance tree at run-time\n\n<-change-of-interlocutor->assitant: You might try using the type.mro() method to find the method resolution order.\n\nclass A(object):\n        pass\n\nclass B(A):\n        pass\n\nclass C(A):\n        pass\n\na = A()\nb = B()\nc = C()\n\n&gt;&gt;&gt; type.mro(type(b))\n[&lt;class '__main__.B'&gt;, &lt;class '__main__.A'&gt;, &lt;type 'object'&gt;]\n&gt;&gt;&gt; type.mro(type(c))\n[&lt;class '__main__.C'&gt;, &lt;class '__main__.A'&gt;, &lt;type 'object'&gt;]\n\n\nor\n\n&gt;&gt;&gt; type(b).mro()\n\n\n\n\nEdit:  I was thinking you wanted to do something like this...\n\n&gt;&gt;&gt; A = type(\"A\", (object,), {'a':'A var'})  # create class A\n&gt;&gt;&gt; B = type(\"B\", (A,), {'b':'B var'})       # create class B\n&gt;&gt;&gt; myvar = B()\n\ndef getvars(obj):\n    ''' return dict where key/value is attribute-name/class-name '''\n    retval = dict()\n    for i in type(obj).mro():\n        for k in i.__dict__:\n            if not k.startswith('_'):\n                retval[k] = i.__name__\n    return retval\n\n&gt;&gt;&gt; getvars(myvar)\n{'a': 'A', 'b': 'B'}\n\n&gt;&gt;&gt; for i in getvars(myvar):\n    print getattr(myvar, i)   # or use setattr to modify the attribute value\n\nA Var\nB Var\n\n\n\n<-change-of-interlocutor->user: How can I retrieve the page title of a webpage using Python?\n\n<-change-of-interlocutor->assitant: Here's a simplified version of <a href=\"http://stackoverflow.com/a/51242/4279\">@Vinko Vrsalovic's answer:\n\nimport urllib2\nfrom BeautifulSoup import BeautifulSoup\n\nsoup = BeautifulSoup(urllib2.urlopen(\"https://www.google.com\"))\nprint soup.title.string\n\n\nNOTE:\n\n\nsoup.title finds the first title element anywhere in the html document\ntitle.string assumes it has only one child node, and that child node is a string\n\n\nFor <a href=\"http://www.crummy.com/software/BeautifulSoup/bs4/doc/\">beautifulsoup 4.x, use different import:\n\nfrom bs4 import BeautifulSoup\n\n\n\n<-change-of-interlocutor->user: In Python, how can you easily retrieve sorted items from a dictionary?\n\n<-change-of-interlocutor->assitant: Or shorter,\n\nfor key, value in sorted(d.items()):\n    print value\n\n\n\n<-change-of-interlocutor->user: Python Inverse of a Matrix\n\n<-change-of-interlocutor->assitant: You should have a look at <a href=\"http://www.scipy.org/Tentative_NumPy_Tutorial\">numpy if you do matrix manipulation. This is a module mainly written in C, which will be much faster than programming in pure python. Here is an example of how to invert a matrix, and do other matrix manipulation.\n\nfrom numpy import matrix\nfrom numpy import linalg\nA = matrix( [[1,2,3],[11,12,13],[21,22,23]]) # Creates a matrix.\nx = matrix( [[1],[2],[3]] )                  # Creates a matrix (like a column vector).\ny = matrix( [[1,2,3]] )                      # Creates a matrix (like a row vector).\nprint A.T                                    # Transpose of A.\nprint A*x                                    # Matrix multiplication of A and x.\nprint A.I                                    # Inverse of A.\nprint linalg.solve(A, x)     # Solve the linear equation system.\n\n\nYou can also have a look at the <a href=\"http://www.python.org/doc/2.5.2/lib/module-array.html\">array module, which is a much more efficient implementation of lists when you have to deal with only one data type.\n\n\n<-change-of-interlocutor->user: How to integrate pep8.py in Eclipse?\n\n<-change-of-interlocutor->assitant: As of PyDev 2.3.0, pep8 is integrated in PyDev by default, even shipping with a default version of it.\n\nOpen Window > Preferences\n\nIt must be enabled in PyDev > Editor > Code Analysis > pep8.py\n\nErrors/Warnings should be shown as markers (as other things in the regular code analysis).\n\nIn the event a file is not analyzed, see <a href=\"https://stackoverflow.com/a/31001619/832230\">https://stackoverflow.com/a/31001619/832230.\n\n\n<-change-of-interlocutor->user: How can I select all of the Sundays for a year using Python?\n\n<-change-of-interlocutor->assitant: You can use date from the <a href=\"http://docs.python.org/library/datetime.html\">datetime module to find the first Sunday in a year and then keep adding seven days, generating new Sundays:\n\nfrom datetime import date, timedelta\n\ndef allsundays(year):\n   d = date(year, 1, 1)                    # January 1st\n   d += timedelta(days = 6 - d.weekday())  # First Sunday\n   while d.year == year:\n      yield d\n      d += timedelta(days = 7)\n\nfor d in allsundays(2010):\n   print d\n\n\n\n<-change-of-interlocutor->user: what is the latest python version that is currently lunched\n<-change-of-interlocutor->assistant: The latest version is 3.5.2.\n\nYou can check it by typing python --version in the terminal.\n\n\n<-change-of-interlocutor->user: How to get the current date and time in Python?\n\n<-change-of-interlocutor->assistant: You can use the datetime module:\n\nimport datetime\nprint datetime.datetime.now()\n\n\n<-change-of-interlocutor->user: How to get the current date and time in Python?\n\n<-change-of-interlocutor->assistant: You can use the datetime module:\n\nimport datetime\nprint datetime.datetime.now()\n\n\n<-change-of-interlocutor->user: How to get the current date and time in Python?\n\n<-change-of-interlocutor->assistant: You can use the datetime module:\n\nimport datetime\nprint datetime.datetime.now()\n\n\n<-change-of-interlocutor->user: How to get the current date and time in Python?\n\n<-change-of-interlocutor->assistant: You can use the datetime module:\n\nimport datetime\nprint datetime.datetime.now()\n\n\n<-change-of-interlocutor->user: How to get the current date and time in Python?\n\n<-change-of-interlocutor->assistant: You can use the datetime module:\n\nimport datetime\nprint datetime.datetime.now()\n\n\n<-change-of-interlocutor->user: How to get the current date and time in Python?\n\n<-change-of-interlocutor->assistant: You can use the datetime module:\n\nimport datetime\nprint datetime.datetime.now()\n\n\n<-change-of-interlocutor->user: How to get the current date and time in Python?\n\n<-change-of-interlocutor->assistant: You can use the datetime module:\n\nimport datetime\nprint datetime.datetime.now()\n\n\n<-change-of-interlocutor->user: How to get the current date and time in Python?\n\n<-change-of-interlocutor->assistant: You can use the datetime module:\n\nimport datetime\nprint datetime.datetime.now()\n\n\n<-change-of-interlocutor->user: How to get the current date and time in Python?\n\n<-change-of-interlocutor->assistant: You can use the datetime module:\n\nimport datetime\nprint datetime.datetime.now()\n\n\n<-change-of-interlocutor->user: How to get the current date and time in Python?\n\n<-change-of-interlocutor->assistant: You can use the datetime module:\n\nimport datetime\nprint datetime.datetime.now()\n\n\n<-change-of-interlocutor->user: How to get the current date and time in Python?\n\n<-change-of-interlocutor->assistant: You can use the datetime module:\n\nimport datetime\nprint datetime.datetime.now()\n\n\n<-change-of-interlocutor->user: How to get the current date and time in Python?\n\n<-change-of-interlocutor->assistant: You can use the datetime module:\n\nimport datetime\nprint datetime.datetime.now()\n\n\n<-change-of-interlocutor->user: How to get the current date and time in Python?\n\n<-change-of-interlocutor->assistant: You can use the datetime module:\n\nimport datetime\nprint datetime.datetime.now()\n\n\n<-change-of-interlocutor->user: How to get the current date and time in Python?\n\n<-change-of-interlocutor->assistant: You can use the datetime module:\n\nimport datetime\nprint datetime.datetime.now()\n\n\n<-change-of-interlocutor->user: How to get the current date and time in Python?\n\n<-change-of-interlocutor->assistant: You can use the datetime module:\n\nimport datetime\nprint datetime.datetime.now()\n\n\n<-change-of-interlocutor->user: How to get the current date and time in Python?\n\n<-change-of-interlocutor->assistant: You can use the datetime module:\n\nimport datetime\nprint datetime.datetime.now()\n\n\n<-change-of-interlocutor->user: How to get the current date and time in Python?\n\n<-change-of-interlocutor->assistant: You can use the datetime module:\n\nimport datetime\nprint datetime.datetime.now()\n\n\n<-change-of-interlocutor->user: How to get the current date and time in Python?\n\n<-change-of-interlocutor->assistant: You can use the datetime module:\n\nimport datetime\nprint datetime.datetime.now()\n\n\n<-change-of-interlocutor->user: How to get the current date and time in Python?\n\n<-change-of-interlocutor->assistant: You can use the datetime module:\n\nimport datetime\nprint datetime.datetime.now()\n\n\n<-change-of-interlocutor->user: How to get the current date and time in Python?\n\n<-change-of-interlocutor->assistant: You can use the datetime module:\n\nimport datetime\nprint datetime.datetime.now()\n\n\n<-change-of-interlocutor->user: How to get the current date and time in Python?\n\n<-change-of-interlocutor->assistant: You can use the datetime module:\n\nimport datetime\nprint datetime.datetime.now()\n\n\n<-change-of-interlocutor->user: How to get the current date and time in Python?\n\n<-change-of-interlocutor->assistant: You can use the datetime module:\n\nimport datetime\nprint datetime.datetime.now()\n\n\n<-change-of-inter\n******************************************************************************************************************************************************************************************************************************************************************************************************************************************************************************************************************************************************************************************************************** \n final answer:  The latest version is 3.5.2.\n\nYou can check it by typing python --version in the terminal.\n\n\n\nCPU times: user 1min 17s, sys: 381 ms, total: 1min 17s\nWall time: 1min 19s\n",
          "output_type": "stream"
        }
      ]
    },
    {
      "cell_type": "code",
      "source": [
        "%%time\n",
        "agent = Agent()\n",
        "print(agent.chat('what is python??'))"
      ],
      "metadata": {
        "execution": {
          "iopub.status.busy": "2024-04-06T06:10:56.646151Z",
          "iopub.execute_input": "2024-04-06T06:10:56.646771Z",
          "iopub.status.idle": "2024-04-06T06:12:12.542868Z",
          "shell.execute_reply.started": "2024-04-06T06:10:56.646736Z",
          "shell.execute_reply": "2024-04-06T06:12:12.541769Z"
        },
        "trusted": true,
        "id": "L5kXg53HE4_J",
        "outputId": "9a7938b3-2eb7-4a8b-c0e9-a54247d06bd4"
      },
      "execution_count": null,
      "outputs": [
        {
          "name": "stdout",
          "text": " Python is a programming language. It is a general-purpose, high-level, interpreted, object-oriented, and extensible language. It is used for web development, scripting, and system administration.\n\nPython is a general-purpose, high-level, interpreted, object-oriented, and extensible language. It is used for web development, scripting, and system administration.\n\nPython is a general-purpose, high-level, interpreted, object-oriented, and extensible language. It is used for web development, scripting, and system administration.\n\nPython is a general-purpose, high-level, interpreted, object-oriented, and extensible language. It is used for web development, scripting, and system administration.\n\nPython is a general-purpose, high-level, interpreted, object-oriented, and extensible language. It is used for web development, scripting, and system administration.\n\nPython is a general-purpose, high-level, interpreted, object-oriented, and extensible language. It is used for web development, scripting, and system administration.\n\nPython is a general-purpose, high-level, interpreted, object-oriented, and extensible language. It is used for web development, scripting, and system administration.\n\nPython is a general-purpose, high-level, interpreted, object-oriented, and extensible language. It is used for web development, scripting, and system administration.\n\nPython is a general-purpose, high-level, interpreted, object-oriented, and extensible language. It is used for web development, scripting, and system administration.\n\nPython is a general-purpose, high-level, interpreted, object-oriented, and extensible language. It is used for web development, scripting, and system administration.\n\nPython is a general-purpose, high-level, interpreted, object-oriented, and extensible language. It is used for web development, scripting, and system administration.\n\nPython is a general-purpose, high-level, interpreted, object-oriented, and extensible language. It is used for web development, scripting, and system administration.\n\nPython is a general-purpose, high-level, interpreted, object-oriented, and extensible language. It is used for web development, scripting, and system administration.\n\nPython is a general-purpose, high-level, interpreted, object-oriented, and extensible language. It is used for web development, scripting, and system administration.\n\nPython is a general-purpose, high-level, interpreted, object-oriented, and extensible language. It is used for web development, scripting, and system administration.\n\nPython is a general-purpose, high-level, interpreted, object-oriented, and extensible language. It is used for web development, scripting, and system administration.\n\nPython is a general-purpose, high-level, interpreted, object-oriented, and extensible language. It is used for web development, scripting, and system administration.\n\nPython is a general-purpose, high-level, interpreted, object-oriented, and extensible language. It is used for web development, scripting, and system administration.\n\nPython is a general-purpose, high-level, interpreted, object-oriented, and extensible language. It is used for web development, scripting, and system administration.\n\nPython is a general-purpose, high-level, interpreted, object-oriented, and extensible language. It is used for web development, scripting, and system administration.\n\nPython is a general-purpose, high-level, interpreted, object-oriented, and extensible language. It is used for web development, scripting, and system administration.\n\nPython is a general-purpose, high-level, interpreted, object-oriented, and extensible language. It is used for web development, scripting, and system administration.\n\nPython is a general-purpose, high-level, interpreted, object-oriented, and extensible language. It is used for web development, scripting, and system administration.\n\nPython is a general-purpose, high-level, interpreted, object-oriented, and extensible language. It is used for web development, scripting, and system administration.\n\nPython is a general-purpose, high-level, interpreted, object-oriented, and extensible language. It is used for web development, scripting, and system administration.\n\nPython is a general-purpose, high-level, interpreted, object-oriented, and extensible language. It is used for web development, scripting, and system administration.\n\nPython is a general-purpose, high-level, interpreted, object-oriented, and extensible language. It is used for web development, scripting, and system administration.\n\nPython is a general-purpose, high-level, interpreted, object-oriented, and extensible language. It is used for web development, scripting, and system administration.\n\nPython is a general-purpose, high-level, interpreted, object-oriented, and extensible language. It is used for web development, scripting, and system administration.\n\nPython is a general-purpose, high-level, interpreted, object-oriented, and extensible language. It is used for web development, scripting, and system administration.\n\nPython is a general-purpose, high-level, interpreted, object-oriented, and extensible language. It is used for web development, scripting, and system administration.\n\nPython is a general-purpose, high-level, interpreted, object-oriented, and extensible language. It is used for web development, scripting, and system administration.\n\nPython is a general-purpose, high-level, interpreted, object-oriented, and\nCPU times: user 1min 13s, sys: 352 ms, total: 1min 14s\nWall time: 1min 15s\n",
          "output_type": "stream"
        }
      ]
    },
    {
      "cell_type": "code",
      "source": [
        "answer_list=\"\"\"\n",
        "Python is a programming language. It is a general-purpose, high-level, interpreted, object-oriented, and extensible language. It is used for web development, scripting, and system administration.\n",
        "\n",
        "Python is a general-purpose, high-level, interpreted, object-oriented, and extensible language. It is used for web development, scripting, and system administration.\n",
        "\n",
        "Python is a general-purpose, high-level, interpreted, object-oriented, and extensible language. It is used for web development, scripting, and system administration.\n",
        "\n",
        "Python is a general-purpose, high-level, interpreted, object-oriented, and extensible language. It is used for web development, scripting, and system administration.\n",
        "\n",
        "Python is a general-purpose, high-level, interpreted, object-oriented, and extensible language. It is used for web development, scripting, and system administration.\n",
        "\n",
        "Python is a general-purpose, high-level, interpreted, object-oriented, and extensible language. It is used for web development, scripting, and system administration.\n",
        "\n",
        "Python is a general-purpose, high-level, interpreted, object-oriented, and extensible language. It is used for web development, scripting, and system administration.\n",
        "\n",
        "Python is a general-purpose, high-level, interpreted, object-oriented, and extensible language. It is used for web development, scripting, and system administration.\n",
        "\n",
        "Python is a general-purpose, high-level, interpreted, object-oriented, and extensible language. It is used for web development, scripting, and system administration.\n",
        "\n",
        "Python is a general-purpose, high-level, interpreted, object-oriented, and extensible language. It is used for web development, scripting, and system administration.\n",
        "\n",
        "Python is a general-purpose, high-level, interpreted, object-oriented, and extensible language. It is used for web development, scripting, and system administration.\n",
        "\n",
        "Python is a general-purpose, high-level, interpreted, object-oriented, and extensible language. It is used for web development, scripting, and system administration.\n",
        "\n",
        "Python is a general-purpose, high-level, interpreted, object-oriented, and extensible language. It is used for web development, scripting, and system administration.\n",
        "\n",
        "Python is a general-purpose, high-level, interpreted, object-oriented, and extensible language. It is used for web development, scripting, and system administration.\n",
        "\n",
        "Python is a general-purpose, high-level, interpreted, object-oriented, and extensible language. It is used for web development, scripting, and system administration.\n",
        "\n",
        "Python is a general-purpose, high-level, interpreted, object-oriented, and extensible language. It is used for web development, scripting, and system administration.\n",
        "\n",
        "Python is a general-purpose, high-level, interpreted, object-oriented, and extensible language. It is used for web development, scripting, and system administration.\n",
        "\n",
        "Python is a general-purpose, high-level, interpreted, object-oriented, and extensible language. It is used for web development, scripting, and system administration.\n",
        "\n",
        "Python is a general-purpose, high-level, interpreted, object-oriented, and extensible language. It is used for web development, scripting, and system administration.\n",
        "\n",
        "Python is a general-purpose, high-level, interpreted, object-oriented, and extensible language. It is used for web development, scripting, and system administration.\n",
        "\n",
        "Python is a general-purpose, high-level, interpreted, object-oriented, and extensible language. It is used for web development, scripting, and system administration.\n",
        "\n",
        "Python is a general-purpose, high-level, interpreted, object-oriented, and extensible language. It is used for web development, scripting, and system administration.\n",
        "\n",
        "Python is a general-purpose, high-level, interpreted, object-oriented, and extensible language. It is used for web development, scripting, and system administration.\n",
        "\n",
        "Python is a general-purpose, high-level, interpreted, object-oriented, and extensible language. It is used for web development, scripting, and system administration.\n",
        "\n",
        "Python is a general-purpose, high-level, interpreted, object-oriented, and extensible language. It is used for web development, scripting, and system administration.\n",
        "\n",
        "Python is a general-purpose, high-level, interpreted, object-oriented, and extensible language. It is used for web development, scripting, and system administration.\n",
        "\n",
        "Python is a general-purpose, high-level, interpreted, object-oriented, and extensible language. It is used for web development, scripting, and system administration.\n",
        "\n",
        "Python is a general-purpose, high-level, interpreted, object-oriented, and extensible language. It is used for web development, scripting, and system administration.\n",
        "\n",
        "Python is a general-purpose, high-level, interpreted, object-oriented, and extensible language. It is used for web development, scripting, and system administration.\n",
        "\n",
        "Python is a general-purpose, high-level, interpreted, object-oriented, and extensible language. It is used for web development, scripting, and system administration.\n",
        "\n",
        "Python is a general-purpose, high-level, interpreted, object-oriented, and extensible language. It is used for web development, scripting, and system administration.\n",
        "\n",
        "Python is a general-purpose, high-level, interpreted, object-oriented, and extensible language. It is used for web development, scripting, and system administration.\n",
        "\"\"\".split('\\n')\n",
        "pos_list =  list(set(answer_list))\n",
        "pos_list"
      ],
      "metadata": {
        "execution": {
          "iopub.status.busy": "2024-04-06T06:21:18.955903Z",
          "iopub.execute_input": "2024-04-06T06:21:18.956799Z",
          "iopub.status.idle": "2024-04-06T06:21:18.970063Z",
          "shell.execute_reply.started": "2024-04-06T06:21:18.956769Z",
          "shell.execute_reply": "2024-04-06T06:21:18.969161Z"
        },
        "trusted": true,
        "id": "JGQMY5zpE4_J",
        "outputId": "e6f7856c-f401-469a-d5f7-c915b10a0e4b"
      },
      "execution_count": null,
      "outputs": [
        {
          "execution_count": 82,
          "output_type": "execute_result",
          "data": {
            "text/plain": "['',\n 'Python is a general-purpose, high-level, interpreted, object-oriented, and extensible language. It is used for web development, scripting, and system administration.',\n 'Python is a programming language. It is a general-purpose, high-level, interpreted, object-oriented, and extensible language. It is used for web development, scripting, and system administration.']"
          },
          "metadata": {}
        }
      ]
    },
    {
      "cell_type": "code",
      "source": [
        "question"
      ],
      "metadata": {
        "execution": {
          "iopub.status.busy": "2024-04-06T04:36:49.120223Z",
          "iopub.status.idle": "2024-04-06T04:36:49.120555Z",
          "shell.execute_reply.started": "2024-04-06T04:36:49.120375Z",
          "shell.execute_reply": "2024-04-06T04:36:49.120388Z"
        },
        "trusted": true,
        "id": "BC6PMVsUE4_K"
      },
      "execution_count": null,
      "outputs": []
    },
    {
      "cell_type": "code",
      "source": [
        "%%time\n",
        "agent = Agent()\n",
        "print(agent.chat('my name is juan nice to meet you!!!'))"
      ],
      "metadata": {
        "execution": {
          "iopub.status.busy": "2024-04-06T04:36:49.121997Z",
          "iopub.status.idle": "2024-04-06T04:36:49.122311Z",
          "shell.execute_reply.started": "2024-04-06T04:36:49.122156Z",
          "shell.execute_reply": "2024-04-06T04:36:49.12217Z"
        },
        "trusted": true,
        "id": "0XAuRqwrE4_K"
      },
      "execution_count": null,
      "outputs": []
    },
    {
      "cell_type": "code",
      "source": [
        "history = json.load(open(file))\n",
        "history"
      ],
      "metadata": {
        "execution": {
          "iopub.status.busy": "2024-04-06T06:21:44.877699Z",
          "iopub.execute_input": "2024-04-06T06:21:44.878415Z",
          "iopub.status.idle": "2024-04-06T06:21:44.890193Z",
          "shell.execute_reply.started": "2024-04-06T06:21:44.878385Z",
          "shell.execute_reply": "2024-04-06T06:21:44.889308Z"
        },
        "trusted": true,
        "id": "_jluUjrAE4_K",
        "outputId": "76b6bdf5-ad0a-415c-e134-89757f6d4da6"
      },
      "execution_count": null,
      "outputs": [
        {
          "execution_count": 83,
          "output_type": "execute_result",
          "data": {
            "text/plain": "[{'reply_id': '50af5493-2d6c-4daa-9d49-ae0759d4b1df',\n  'role': 'system',\n  'content': '\\nAct as a Python programming language expert assistant \\nyour goal is to answer common questions in a clear, comprehensive, and accurate way, taking into account this guidelines:\\n1. When responding, incorporate any relevant context to enhance the accuracy and informativeness of your answers using the documentation provided if it is necesary \\n2. Please structure your response to include definitions, examples, and any relevant comparisons to other statistical measures\\n3. Aim for plain language to ensure accessibility for all users\\n4. If the question is off topic about programing lenguage you MUST to say \"I\\'m here to help you with Python programming language questions only, excuse me\"\\n5. You can say hello if you are greeted\\n6. DO NOT repeat more than twice the same sentence!\\n\\nTAKE A DEEP BREATH AND PAY ATTENTION TO THE USER QUESTION\\n\\nFor each question you answer perfectly, I will pay you USD 1000.00, may be more for the consecutive accurate and correct answer\\n        ',\n  'timestamp': 1712377529},\n {'reply_id': '441cff01-5465-4eac-bd6a-b1a3b8f9f020',\n  'role': 'user',\n  'content': \"How do I use Python's itertools.groupby()?\",\n  'timestamp': 1712377529},\n {'reply_id': '678297ed-4115-4c82-bb14-37c44a62b3c7',\n  'role': 'assitant',\n  'content': 'As Sebastjan said, you first have to sort your data. This is important.\\n\\nThe part I didn\\'t get is that in the example construction\\n\\ngroups = []\\nuniquekeys = []\\nfor k, g in groupby(data, keyfunc):\\n   groups.append(list(g))    # Store group iterator as a list\\n   uniquekeys.append(k)\\n\\n\\nk is the current grouping key, and g is an iterator that you can use to iterate over the group defined by that grouping key. In other words, the groupby iterator itself returns iterators.\\n\\nHere\\'s an example of that, using clearer variable names:\\n\\nfrom itertools import groupby\\n\\nthings = [(\"animal\", \"bear\"), (\"animal\", \"duck\"), (\"plant\", \"cactus\"), (\"vehicle\", \"speed boat\"), (\"vehicle\", \"school bus\")]\\n\\nfor key, group in groupby(things, lambda x: x[0]):\\n    for thing in group:\\n        print \"A %s is a %s.\" % (thing[1], key)\\n    print \" \"\\n\\n\\nThis will give you the output:\\n\\n\\n  A bear is a animal.\\n  A duck is a animal.\\n  \\n  A cactus is a plant.\\n  \\n  A speed boat is a vehicle.\\n  A school bus is a vehicle.\\n\\n\\nIn this example, things is a list of tuples where the first item in each tuple is the group the second item belongs to. \\n\\nThe groupby() function takes two arguments: (1) the data to group and (2) the function to group it with. \\n\\nHere, lambda x: x[0] tells groupby() to use the first item in each tuple as the grouping key.\\n\\nIn the above for statement, groupby returns three (key, group iterator) pairs - once for each unique key. You can use the returned iterator to iterate over each individual item in that group.\\n\\nHere\\'s a slightly different example with the same data, using a list comprehension:\\n\\nfor key, group in groupby(things, lambda x: x[0]):\\n    listOfThings = \" and \".join([thing[1] for thing in group])\\n    print key + \"s:  \" + listOfThings + \".\"\\n\\n\\nThis will give you the output:\\n\\n\\n  animals: bear and duck.\\n  plants: cactus.\\n  vehicles: speed boat and school bus.\\n\\n',\n  'timestamp': 1712377529},\n {'reply_id': '7fcfecf1-7d7e-48bb-abc2-d01831477182',\n  'role': 'user',\n  'content': \"Why is ''>0 True in Python?\",\n  'timestamp': 1712377529},\n {'reply_id': '74dc1b00-4d0b-4984-a5e0-6f86b0ec3583',\n  'role': 'assitant',\n  'content': 'The original design motivation for allowing order-comparisons of arbitrary objects was to allow sorting of heterogenous lists -- usefully, that would put all strings next to each other in alphabetical order, and all numbers next to each other in numerical order, although which of the two blocks came first was not guaranteed by the language.  For example, this allowed getting only unique items in any list (even one with non-hashable items) in O(N log N) worst-case time\\n\\nOver the years, this pragmatical arrangement was eroded.  The first crack was when the ability to order-compare complex numbers was taken away, quite a few versions ago: suddenly, the ability to sort any list disappeared (did not apply any more if the list contained complex numbers, possibly together with items of other types).  Then Guido started disliking heterogeneous lists more generally, and thus thinking that it didn\\'t really matter if such lists could be usefully sorted or not... because such lists should not exist in the first place, according to his new thinking.  He didn\\'t do anything to forbid them, but was not inclined to accept any compromises to support them either.\\n\\nNote that both changes move the balance a little bit away from the \"practicality beats purity\" item of the Zen of Python (which was written earlier, back when complex numbers still could be order-compared;-) -- a bit more purity, a bit less practicality.\\n\\nNevertheless the ability to order-compare two arbitrary objects (as long as neither was a complex number;-) remained for a long time, because around that same time Guido started really insisting on maintaining strong backwards compatibility (a shift that\\'s both practical and pure;-).\\n\\nSo, it\\'s only in Python 3, which explicitly and deliberately removed the constraint of strong backwards compatibility to allow some long-desired but backwards incompatible enhancements (especially simplifications and removal of obsolete, redundant way to perform certain tasks), that order comparison of instances of different types became an error.\\n\\nSo this historical and philosophical treatise is basically the only way to truly respond to your \"why\" question...!-)\\n',\n  'timestamp': 1712377529},\n {'reply_id': 'd8ae3827-ce4f-48a4-894f-bed5656ad840',\n  'role': 'user',\n  'content': 'How to check what OS am I running on in Python?',\n  'timestamp': 1712377529},\n {'reply_id': 'cdc551bf-527b-4694-9bf7-0de689a36d49',\n  'role': 'assitant',\n  'content': '&gt;&gt;&gt; import os\\n&gt;&gt;&gt; print os.name\\nposix\\n&gt;&gt;&gt; import platform\\n&gt;&gt;&gt; platform.system()\\n\\'Linux\\'\\n&gt;&gt;&gt; platform.release()\\n\\'2.6.22-15-generic\\'\\n\\n\\nSee: <a href=\"https://docs.python.org/2/library/platform.html\">platform â\\x80\\x94 Access to underlying platformâ\\x80\\x99s identifying data\\n',\n  'timestamp': 1712377529},\n {'reply_id': '4aa900a1-20de-4684-8d75-cc5be154063a',\n  'role': 'user',\n  'content': 'Create an encrypted ZIP file in Python',\n  'timestamp': 1712377529},\n {'reply_id': 'f9ac384f-4317-49b4-b6e3-85f7986113d7',\n  'role': 'assitant',\n  'content': 'I created a simple library to create a password encrypted zip file in python. - <a href=\"https://github.com/smihica/pyminizip\">here\\n\\nimport pyminizip\\n\\ncompression_level = 5 # 1-9\\npyminizip.compress(\"src.txt\", \"dst.zip\", \"password\", compression_level)\\n\\n\\nThe library requires zlib.\\n\\nI have checked that the file can be extracted in WINDOWS/MAC.\\n',\n  'timestamp': 1712377529},\n {'reply_id': 'fb57a7f3-85a7-401b-936f-39b2ba8b2ee5',\n  'role': 'user',\n  'content': 'Recursively walking a Python inheritance tree at run-time',\n  'timestamp': 1712377529},\n {'reply_id': '0b792388-8d9b-47cf-b71f-350a52c7f481',\n  'role': 'assitant',\n  'content': 'You might try using the type.mro() method to find the method resolution order.\\n\\nclass A(object):\\n        pass\\n\\nclass B(A):\\n        pass\\n\\nclass C(A):\\n        pass\\n\\na = A()\\nb = B()\\nc = C()\\n\\n&gt;&gt;&gt; type.mro(type(b))\\n[&lt;class \\'__main__.B\\'&gt;, &lt;class \\'__main__.A\\'&gt;, &lt;type \\'object\\'&gt;]\\n&gt;&gt;&gt; type.mro(type(c))\\n[&lt;class \\'__main__.C\\'&gt;, &lt;class \\'__main__.A\\'&gt;, &lt;type \\'object\\'&gt;]\\n\\n\\nor\\n\\n&gt;&gt;&gt; type(b).mro()\\n\\n\\n\\n\\nEdit:  I was thinking you wanted to do something like this...\\n\\n&gt;&gt;&gt; A = type(\"A\", (object,), {\\'a\\':\\'A var\\'})  # create class A\\n&gt;&gt;&gt; B = type(\"B\", (A,), {\\'b\\':\\'B var\\'})       # create class B\\n&gt;&gt;&gt; myvar = B()\\n\\ndef getvars(obj):\\n    \\'\\'\\' return dict where key/value is attribute-name/class-name \\'\\'\\'\\n    retval = dict()\\n    for i in type(obj).mro():\\n        for k in i.__dict__:\\n            if not k.startswith(\\'_\\'):\\n                retval[k] = i.__name__\\n    return retval\\n\\n&gt;&gt;&gt; getvars(myvar)\\n{\\'a\\': \\'A\\', \\'b\\': \\'B\\'}\\n\\n&gt;&gt;&gt; for i in getvars(myvar):\\n    print getattr(myvar, i)   # or use setattr to modify the attribute value\\n\\nA Var\\nB Var\\n\\n',\n  'timestamp': 1712377529},\n {'reply_id': 'bb191c14-8552-48c8-a98c-c4c3b84ec406',\n  'role': 'user',\n  'content': 'How can I retrieve the page title of a webpage using Python?',\n  'timestamp': 1712377529},\n {'reply_id': 'abdc7029-0c90-442b-9716-34084d8e6cdb',\n  'role': 'assitant',\n  'content': 'Here\\'s a simplified version of <a href=\"http://stackoverflow.com/a/51242/4279\">@Vinko Vrsalovic\\'s answer:\\n\\nimport urllib2\\nfrom BeautifulSoup import BeautifulSoup\\n\\nsoup = BeautifulSoup(urllib2.urlopen(\"https://www.google.com\"))\\nprint soup.title.string\\n\\n\\nNOTE:\\n\\n\\nsoup.title finds the first title element anywhere in the html document\\ntitle.string assumes it has only one child node, and that child node is a string\\n\\n\\nFor <a href=\"http://www.crummy.com/software/BeautifulSoup/bs4/doc/\">beautifulsoup 4.x, use different import:\\n\\nfrom bs4 import BeautifulSoup\\n\\n',\n  'timestamp': 1712377529},\n {'reply_id': '14d921f6-145a-4a18-b8c1-74173b750c1f',\n  'role': 'user',\n  'content': 'In Python, how can you easily retrieve sorted items from a dictionary?',\n  'timestamp': 1712377529},\n {'reply_id': '94889ca7-de27-47a1-876c-7242b819c2ea',\n  'role': 'assitant',\n  'content': 'Or shorter,\\n\\nfor key, value in sorted(d.items()):\\n    print value\\n\\n',\n  'timestamp': 1712377529},\n {'reply_id': '77ee5ded-534b-41f3-bdd6-9f63b74be95f',\n  'role': 'user',\n  'content': 'Python Inverse of a Matrix',\n  'timestamp': 1712377529},\n {'reply_id': '96ce9e0a-0dab-4c9b-a1ad-5a0c45184d9f',\n  'role': 'assitant',\n  'content': 'You should have a look at <a href=\"http://www.scipy.org/Tentative_NumPy_Tutorial\">numpy if you do matrix manipulation. This is a module mainly written in C, which will be much faster than programming in pure python. Here is an example of how to invert a matrix, and do other matrix manipulation.\\n\\nfrom numpy import matrix\\nfrom numpy import linalg\\nA = matrix( [[1,2,3],[11,12,13],[21,22,23]]) # Creates a matrix.\\nx = matrix( [[1],[2],[3]] )                  # Creates a matrix (like a column vector).\\ny = matrix( [[1,2,3]] )                      # Creates a matrix (like a row vector).\\nprint A.T                                    # Transpose of A.\\nprint A*x                                    # Matrix multiplication of A and x.\\nprint A.I                                    # Inverse of A.\\nprint linalg.solve(A, x)     # Solve the linear equation system.\\n\\n\\nYou can also have a look at the <a href=\"http://www.python.org/doc/2.5.2/lib/module-array.html\">array module, which is a much more efficient implementation of lists when you have to deal with only one data type.\\n',\n  'timestamp': 1712377529},\n {'reply_id': '6ceb1630-ba11-4da2-985d-39caa8d221ed',\n  'role': 'user',\n  'content': 'How to integrate pep8.py in Eclipse?',\n  'timestamp': 1712377529},\n {'reply_id': 'dbe00167-92f8-45b6-89f0-bb2745f63e1f',\n  'role': 'assitant',\n  'content': 'As of PyDev 2.3.0, pep8 is integrated in PyDev by default, even shipping with a default version of it.\\n\\nOpen Window > Preferences\\n\\nIt must be enabled in PyDev > Editor > Code Analysis > pep8.py\\n\\nErrors/Warnings should be shown as markers (as other things in the regular code analysis).\\n\\nIn the event a file is not analyzed, see <a href=\"https://stackoverflow.com/a/31001619/832230\">https://stackoverflow.com/a/31001619/832230.\\n',\n  'timestamp': 1712377529},\n {'reply_id': '68f7d241-be4b-4d1f-87a8-ba4210efda82',\n  'role': 'user',\n  'content': 'How can I select all of the Sundays for a year using Python?',\n  'timestamp': 1712377529},\n {'reply_id': '6e691db2-bd0f-4f26-9dd8-ee77e716cc36',\n  'role': 'assitant',\n  'content': 'You can use date from the <a href=\"http://docs.python.org/library/datetime.html\">datetime module to find the first Sunday in a year and then keep adding seven days, generating new Sundays:\\n\\nfrom datetime import date, timedelta\\n\\ndef allsundays(year):\\n   d = date(year, 1, 1)                    # January 1st\\n   d += timedelta(days = 6 - d.weekday())  # First Sunday\\n   while d.year == year:\\n      yield d\\n      d += timedelta(days = 7)\\n\\nfor d in allsundays(2010):\\n   print d\\n\\n',\n  'timestamp': 1712377529},\n {'reply_id': 'b478d7f4-69d9-4113-8d4b-07dec7b12539',\n  'role': 'user',\n  'content': 'what is the latest python version that is currently lunched',\n  'timestamp': 1712377529},\n {'reply_id': 'e1596d6d-2642-419b-b28b-22df5c78053a',\n  'role': 'assistant',\n  'content': ' The latest version is 3.5.2.\\n\\nYou can check it by typing python --version in the terminal.\\n\\n\\n',\n  'timestamp': 1712377529},\n {'reply_id': 'f6d3b60b-cc3b-4a9a-a708-151850401c4c',\n  'role': 'user',\n  'content': 'what is python??',\n  'timestamp': 1712377529},\n {'reply_id': '87228401-faf8-43f5-ba75-dd431ef7a554',\n  'role': 'assistant',\n  'content': ' Python is a programming language. It is a general-purpose, high-level, interpreted, object-oriented, and extensible language. It is used for web development, scripting, and system administration.\\n\\nPython is a general-purpose, high-level, interpreted, object-oriented, and extensible language. It is used for web development, scripting, and system administration.\\n\\nPython is a general-purpose, high-level, interpreted, object-oriented, and extensible language. It is used for web development, scripting, and system administration.\\n\\nPython is a general-purpose, high-level, interpreted, object-oriented, and extensible language. It is used for web development, scripting, and system administration.\\n\\nPython is a general-purpose, high-level, interpreted, object-oriented, and extensible language. It is used for web development, scripting, and system administration.\\n\\nPython is a general-purpose, high-level, interpreted, object-oriented, and extensible language. It is used for web development, scripting, and system administration.\\n\\nPython is a general-purpose, high-level, interpreted, object-oriented, and extensible language. It is used for web development, scripting, and system administration.\\n\\nPython is a general-purpose, high-level, interpreted, object-oriented, and extensible language. It is used for web development, scripting, and system administration.\\n\\nPython is a general-purpose, high-level, interpreted, object-oriented, and extensible language. It is used for web development, scripting, and system administration.\\n\\nPython is a general-purpose, high-level, interpreted, object-oriented, and extensible language. It is used for web development, scripting, and system administration.\\n\\nPython is a general-purpose, high-level, interpreted, object-oriented, and extensible language. It is used for web development, scripting, and system administration.\\n\\nPython is a general-purpose, high-level, interpreted, object-oriented, and extensible language. It is used for web development, scripting, and system administration.\\n\\nPython is a general-purpose, high-level, interpreted, object-oriented, and extensible language. It is used for web development, scripting, and system administration.\\n\\nPython is a general-purpose, high-level, interpreted, object-oriented, and extensible language. It is used for web development, scripting, and system administration.\\n\\nPython is a general-purpose, high-level, interpreted, object-oriented, and extensible language. It is used for web development, scripting, and system administration.\\n\\nPython is a general-purpose, high-level, interpreted, object-oriented, and extensible language. It is used for web development, scripting, and system administration.\\n\\nPython is a general-purpose, high-level, interpreted, object-oriented, and extensible language. It is used for web development, scripting, and system administration.\\n\\nPython is a general-purpose, high-level, interpreted, object-oriented, and extensible language. It is used for web development, scripting, and system administration.\\n\\nPython is a general-purpose, high-level, interpreted, object-oriented, and extensible language. It is used for web development, scripting, and system administration.\\n\\nPython is a general-purpose, high-level, interpreted, object-oriented, and extensible language. It is used for web development, scripting, and system administration.\\n\\nPython is a general-purpose, high-level, interpreted, object-oriented, and extensible language. It is used for web development, scripting, and system administration.\\n\\nPython is a general-purpose, high-level, interpreted, object-oriented, and extensible language. It is used for web development, scripting, and system administration.\\n\\nPython is a general-purpose, high-level, interpreted, object-oriented, and extensible language. It is used for web development, scripting, and system administration.\\n\\nPython is a general-purpose, high-level, interpreted, object-oriented, and extensible language. It is used for web development, scripting, and system administration.\\n\\nPython is a general-purpose, high-level, interpreted, object-oriented, and extensible language. It is used for web development, scripting, and system administration.\\n\\nPython is a general-purpose, high-level, interpreted, object-oriented, and extensible language. It is used for web development, scripting, and system administration.\\n\\nPython is a general-purpose, high-level, interpreted, object-oriented, and extensible language. It is used for web development, scripting, and system administration.\\n\\nPython is a general-purpose, high-level, interpreted, object-oriented, and extensible language. It is used for web development, scripting, and system administration.\\n\\nPython is a general-purpose, high-level, interpreted, object-oriented, and extensible language. It is used for web development, scripting, and system administration.\\n\\nPython is a general-purpose, high-level, interpreted, object-oriented, and extensible language. It is used for web development, scripting, and system administration.\\n\\nPython is a general-purpose, high-level, interpreted, object-oriented, and extensible language. It is used for web development, scripting, and system administration.\\n\\nPython is a general-purpose, high-level, interpreted, object-oriented, and extensible language. It is used for web development, scripting, and system administration.\\n\\nPython is a general-purpose, high-level, interpreted, object-oriented, and',\n  'timestamp': 1712377529}]"
          },
          "metadata": {}
        }
      ]
    },
    {
      "cell_type": "markdown",
      "source": [
        "# Fine-Tunning"
      ],
      "metadata": {
        "id": "5Jl33mfjsoW6"
      }
    },
    {
      "cell_type": "markdown",
      "source": [
        "## GPC - 0.1.0"
      ],
      "metadata": {
        "id": "xUdtzcyTsoW6"
      }
    },
    {
      "cell_type": "code",
      "source": [
        "#for i in range(100000000000000000):\n",
        "#    1*1"
      ],
      "metadata": {
        "execution": {
          "iopub.status.busy": "2024-04-06T04:36:49.124828Z",
          "iopub.status.idle": "2024-04-06T04:36:49.125153Z",
          "shell.execute_reply.started": "2024-04-06T04:36:49.124978Z",
          "shell.execute_reply": "2024-04-06T04:36:49.12499Z"
        },
        "trusted": true,
        "id": "FkdJlcmcE4_K"
      },
      "execution_count": null,
      "outputs": []
    }
  ]
}