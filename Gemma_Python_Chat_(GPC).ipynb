{
  "metadata": {
    "kernelspec": {
      "language": "python",
      "display_name": "Python 3",
      "name": "python3"
    },
    "language_info": {
      "name": "python",
      "version": "3.10.13",
      "mimetype": "text/x-python",
      "codemirror_mode": {
        "name": "ipython",
        "version": 3
      },
      "pygments_lexer": "ipython3",
      "nbconvert_exporter": "python",
      "file_extension": ".py"
    },
    "kaggle": {
      "accelerator": "gpu",
      "dataSources": [
        {
          "sourceId": 64148,
          "databundleVersionId": 7669720,
          "sourceType": "competition"
        },
        {
          "sourceId": 726715,
          "sourceType": "datasetVersion",
          "datasetId": 262
        },
        {
          "sourceId": 11384,
          "sourceType": "modelInstanceVersion",
          "isSourceIdPinned": true,
          "modelInstanceId": 6216
        }
      ],
      "dockerImageVersionId": 30674,
      "isInternetEnabled": true,
      "language": "python",
      "sourceType": "notebook",
      "isGpuEnabled": true
    },
    "colab": {
      "name": "Gemma Python Chat (GPC)",
      "provenance": [],
      "include_colab_link": true
    }
  },
  "nbformat_minor": 0,
  "nbformat": 4,
  "cells": [
    {
      "cell_type": "markdown",
      "metadata": {
        "id": "view-in-github",
        "colab_type": "text"
      },
      "source": [
        "<a href=\"https://colab.research.google.com/github/DLesmes/GPC/blob/main/Gemma_Python_Chat_(GPC).ipynb\" target=\"_parent\"><img src=\"https://colab.research.google.com/assets/colab-badge.svg\" alt=\"Open In Colab\"/></a>"
      ]
    },
    {
      "source": [
        "\n",
        "# IMPORTANT: RUN THIS CELL IN ORDER TO IMPORT YOUR KAGGLE DATA SOURCES\n",
        "# TO THE CORRECT LOCATION (/kaggle/input) IN YOUR NOTEBOOK,\n",
        "# THEN FEEL FREE TO DELETE THIS CELL.\n",
        "# NOTE: THIS NOTEBOOK ENVIRONMENT DIFFERS FROM KAGGLE'S PYTHON\n",
        "# ENVIRONMENT SO THERE MAY BE MISSING LIBRARIES USED BY YOUR\n",
        "# NOTEBOOK.\n",
        "\n",
        "import os\n",
        "import sys\n",
        "from tempfile import NamedTemporaryFile\n",
        "from urllib.request import urlopen\n",
        "from urllib.parse import unquote, urlparse\n",
        "from urllib.error import HTTPError\n",
        "from zipfile import ZipFile\n",
        "import tarfile\n",
        "import shutil\n",
        "\n",
        "CHUNK_SIZE = 40960\n",
        "DATA_SOURCE_MAPPING = 'data-assistants-with-gemma:https%3A%2F%2Fstorage.googleapis.com%2Fkaggle-competitions-data%2Fkaggle-v2%2F64148%2F7669720%2Fbundle%2Farchive.zip%3FX-Goog-Algorithm%3DGOOG4-RSA-SHA256%26X-Goog-Credential%3Dgcp-kaggle-com%2540kaggle-161607.iam.gserviceaccount.com%252F20240412%252Fauto%252Fstorage%252Fgoog4_request%26X-Goog-Date%3D20240412T045416Z%26X-Goog-Expires%3D259200%26X-Goog-SignedHeaders%3Dhost%26X-Goog-Signature%3D11734d8123f8cf4f816865be109ed6a0a1a15661ba0027cb882acf2741bb7416923782df6d680c99fcf0ff7c96ab1b05708dd8b3a127c4528ed7f5caa84414bce3f8d548c148781d99ee579d706c91cfc56ad597b1a5aa0733c1e87404ac5f999fa29d5e26783e81b4bae3ad00b533533411a363f6ef8103d744066f3bf29f5faaa0ff9fa938ae94e71f8207d303c9ff587ffa6f6eb8f8349fc39d570d2970348aed3a2867bc22d17791332fe724b83eaca84f7a38c8f45ff27c700ff1f3baa4eb441625283f2b2b7d160af494b84e87c412a47de292babb6a5abac9e2d3998feddcabb040ce5111f77480f0e43467ae0d2b97e55b2d6772fb6146f4ce816024,pythonquestions:https%3A%2F%2Fstorage.googleapis.com%2Fkaggle-data-sets%2F262%2F726715%2Fbundle%2Farchive.zip%3FX-Goog-Algorithm%3DGOOG4-RSA-SHA256%26X-Goog-Credential%3Dgcp-kaggle-com%2540kaggle-161607.iam.gserviceaccount.com%252F20240412%252Fauto%252Fstorage%252Fgoog4_request%26X-Goog-Date%3D20240412T045416Z%26X-Goog-Expires%3D259200%26X-Goog-SignedHeaders%3Dhost%26X-Goog-Signature%3D026905eca9c2f346ae156a3e908bf2e86349e2a9500786066cd9bb0ec0d7c9f6be9c0458b6cb5ebf5bca2f6fcc08ea82c19b3554c4e90b9cb8abebad5a51a572cd7143d7c5fef2d13dd7097062e23b27045488f6ec0050e4325f6355f77547da2d97158855eb6bbcb488eee9c8ad688380a570df0e2abb53e92092afd506e678320b596f4e4eac890615591ed81192feef991fcdac7b3996eae5d8b7755f4f80f7e91075ca3e8d8cb42d9d1d75f5f8854a18042ade5e8919d0520ce9e7d111c9077445404531f4e7e574dcb2cf58d1402ddc56822611a74248d55fbf8ae86883a4990f1d92626aa3b35a80d45e72229b2c7cabfc85b7d6b995093d1891ff7978,gemma/transformers/2b/2:https%3A%2F%2Fstorage.googleapis.com%2Fkaggle-models-data%2F6216%2F11384%2Fbundle%2Farchive.tar.gz%3FX-Goog-Algorithm%3DGOOG4-RSA-SHA256%26X-Goog-Credential%3Dgcp-kaggle-com%2540kaggle-161607.iam.gserviceaccount.com%252F20240412%252Fauto%252Fstorage%252Fgoog4_request%26X-Goog-Date%3D20240412T045416Z%26X-Goog-Expires%3D259200%26X-Goog-SignedHeaders%3Dhost%26X-Goog-Signature%3D2be412eeb95aa0b520cdf8a956ae6c46d4968ac128c7bec7115e19a75ef3a9c19c70fa0d1d351880f9307c62880fca43fb626f4dd82cf90b3249ac63be89475f1219164786bbfa36a5a2de7469a61862ae68b55b322711a10bd2e6b242eb4a9b9b96db4e402013bd8212c6b7b6cb2eb6246fde9bcfd7e0f12692cdc7bcfd9ded9e5620bbc43a2a3af990d7a43f5f167e13791aae37d441f4f49d4724609f3f6db5f4911c3d8bfc41a055a46a319fcf752bef3b54306801faeea69babcd94eeb4f4e6838c64e1377247a1de84e2468398e9ebda5bdda543864f6f78c99341c94947979372fc61905b0b795af18235e28342dcf490e863bb73ed25d3747bf139ae'\n",
        "\n",
        "KAGGLE_INPUT_PATH='/kaggle/input'\n",
        "KAGGLE_WORKING_PATH='/kaggle/working'\n",
        "KAGGLE_SYMLINK='kaggle'\n",
        "\n",
        "!umount /kaggle/input/ 2> /dev/null\n",
        "shutil.rmtree('/kaggle/input', ignore_errors=True)\n",
        "os.makedirs(KAGGLE_INPUT_PATH, 0o777, exist_ok=True)\n",
        "os.makedirs(KAGGLE_WORKING_PATH, 0o777, exist_ok=True)\n",
        "\n",
        "try:\n",
        "  os.symlink(KAGGLE_INPUT_PATH, os.path.join(\"..\", 'input'), target_is_directory=True)\n",
        "except FileExistsError:\n",
        "  pass\n",
        "try:\n",
        "  os.symlink(KAGGLE_WORKING_PATH, os.path.join(\"..\", 'working'), target_is_directory=True)\n",
        "except FileExistsError:\n",
        "  pass\n",
        "\n",
        "for data_source_mapping in DATA_SOURCE_MAPPING.split(','):\n",
        "    directory, download_url_encoded = data_source_mapping.split(':')\n",
        "    download_url = unquote(download_url_encoded)\n",
        "    filename = urlparse(download_url).path\n",
        "    destination_path = os.path.join(KAGGLE_INPUT_PATH, directory)\n",
        "    try:\n",
        "        with urlopen(download_url) as fileres, NamedTemporaryFile() as tfile:\n",
        "            total_length = fileres.headers['content-length']\n",
        "            print(f'Downloading {directory}, {total_length} bytes compressed')\n",
        "            dl = 0\n",
        "            data = fileres.read(CHUNK_SIZE)\n",
        "            while len(data) > 0:\n",
        "                dl += len(data)\n",
        "                tfile.write(data)\n",
        "                done = int(50 * dl / int(total_length))\n",
        "                sys.stdout.write(f\"\\r[{'=' * done}{' ' * (50-done)}] {dl} bytes downloaded\")\n",
        "                sys.stdout.flush()\n",
        "                data = fileres.read(CHUNK_SIZE)\n",
        "            if filename.endswith('.zip'):\n",
        "              with ZipFile(tfile) as zfile:\n",
        "                zfile.extractall(destination_path)\n",
        "            else:\n",
        "              with tarfile.open(tfile.name) as tarfile:\n",
        "                tarfile.extractall(destination_path)\n",
        "            print(f'\\nDownloaded and uncompressed: {directory}')\n",
        "    except HTTPError as e:\n",
        "        print(f'Failed to load (likely expired) {download_url} to path {destination_path}')\n",
        "        continue\n",
        "    except OSError as e:\n",
        "        print(f'Failed to load {download_url} to path {destination_path}')\n",
        "        continue\n",
        "\n",
        "print('Data source import complete.')\n"
      ],
      "metadata": {
        "id": "kAiVncoGqBaN"
      },
      "cell_type": "code",
      "outputs": [],
      "execution_count": null
    },
    {
      "cell_type": "markdown",
      "source": [
        "<a href=\"https://colab.research.google.com/github/DLesmes/GPC/blob/main/GPC_(Gemma_Python_Chat).ipynb\" target=\"_parent\"><img src=\"https://colab.research.google.com/assets/colab-badge.svg\" alt=\"Open In Colab\"/></a>"
      ],
      "metadata": {
        "id": "view-in-github"
      }
    },
    {
      "cell_type": "markdown",
      "source": [
        "# GCP 🤖 Gemma Python Chatbot"
      ],
      "metadata": {
        "id": "Qx8hbihKsoW3"
      }
    },
    {
      "cell_type": "markdown",
      "source": [
        "![](https://i.postimg.cc/Nfpn7mxR/gemma.png)"
      ],
      "metadata": {
        "id": "recQSmqCqBaR"
      }
    },
    {
      "cell_type": "markdown",
      "source": [
        "The Gemma Python Chatbot 🚀🚀 help you to answer common questions about the 🐍 Python programming language, powered by [Gemma 2B IT](https://blog.google/technology/developers/gemma-open-models/) with a few-shot strategy using some questions of [Stackoverflow python question kaggle dataset](https://www.kaggle.com/datasets/stackoverflow/pythonquestions) and updated with the Python Enhancement Proposal ([PEPs](https://peps.python.org/)) documentation using a Retrival-Augmented Generation ([RAG](https://blogs.nvidia.com/blog/what-is-retrieval-augmented-generation/)) supported by a Chroma vectorial database using the open source embeddings [hkunlp/instructor-large](https://huggingface.co/hkunlp/instructor-large) of 768 entries, orchested by [langchaing](https://python.langchain.com/docs/use_cases/chatbots/) that is a framework that let you use differen models and less code changes on the architecture when you decide to test other providers"
      ],
      "metadata": {
        "id": "5C9kSlAVsoW4"
      }
    },
    {
      "cell_type": "markdown",
      "source": [
        "## Requirements"
      ],
      "metadata": {
        "id": "5GhJQPvLsoW4"
      }
    },
    {
      "cell_type": "code",
      "source": [
        "!pip install chromadb #!pip install chromadb==0.3.26\n",
        "# !pip install ydata-profiling #!pip install ydata-profiling==4.6.1\n",
        "!pip install langchain #!pip install langchain==0.0.345 ##!pip install langchain-core==0.1.31\n",
        "#!pip install pydantic  #!pip install pydantic==1.10.14\n",
        "!pip install sentence-transformers   #!pip install sentence-transformers==2.6.1\n",
        "!pip install InstructorEmbedding  #!pip install InstructorEmbedding==1.0.1"
      ],
      "metadata": {
        "_kg_hide-input": false,
        "scrolled": true,
        "_kg_hide-output": true,
        "execution": {
          "iopub.status.busy": "2024-04-12T03:31:45.009479Z",
          "iopub.execute_input": "2024-04-12T03:31:45.009781Z",
          "iopub.status.idle": "2024-04-12T03:33:03.625501Z",
          "shell.execute_reply.started": "2024-04-12T03:31:45.009757Z",
          "shell.execute_reply": "2024-04-12T03:33:03.624362Z"
        },
        "trusted": true,
        "id": "jRFunzMhqBaS",
        "outputId": "3100d6c9-7438-4b55-9ae8-b2c00110b454"
      },
      "execution_count": null,
      "outputs": [
        {
          "name": "stdout",
          "text": "Collecting chromadb\n  Downloading chromadb-0.4.24-py3-none-any.whl.metadata (7.3 kB)\nCollecting build>=1.0.3 (from chromadb)\n  Downloading build-1.2.1-py3-none-any.whl.metadata (4.3 kB)\nRequirement already satisfied: requests>=2.28 in /opt/conda/lib/python3.10/site-packages (from chromadb) (2.31.0)\nRequirement already satisfied: pydantic>=1.9 in /opt/conda/lib/python3.10/site-packages (from chromadb) (2.5.3)\nCollecting chroma-hnswlib==0.7.3 (from chromadb)\n  Downloading chroma_hnswlib-0.7.3-cp310-cp310-manylinux_2_17_x86_64.manylinux2014_x86_64.whl.metadata (252 bytes)\nRequirement already satisfied: fastapi>=0.95.2 in /opt/conda/lib/python3.10/site-packages (from chromadb) (0.108.0)\nRequirement already satisfied: uvicorn>=0.18.3 in /opt/conda/lib/python3.10/site-packages (from uvicorn[standard]>=0.18.3->chromadb) (0.25.0)\nRequirement already satisfied: numpy>=1.22.5 in /opt/conda/lib/python3.10/site-packages (from chromadb) (1.26.4)\nCollecting posthog>=2.4.0 (from chromadb)\n  Downloading posthog-3.5.0-py2.py3-none-any.whl.metadata (2.0 kB)\nRequirement already satisfied: typing-extensions>=4.5.0 in /opt/conda/lib/python3.10/site-packages (from chromadb) (4.9.0)\nCollecting pulsar-client>=3.1.0 (from chromadb)\n  Downloading pulsar_client-3.4.0-cp310-cp310-manylinux_2_17_x86_64.manylinux2014_x86_64.whl.metadata (1.0 kB)\nCollecting onnxruntime>=1.14.1 (from chromadb)\n  Downloading onnxruntime-1.17.1-cp310-cp310-manylinux_2_27_x86_64.manylinux_2_28_x86_64.whl.metadata (4.3 kB)\nRequirement already satisfied: opentelemetry-api>=1.2.0 in /opt/conda/lib/python3.10/site-packages (from chromadb) (1.22.0)\nRequirement already satisfied: opentelemetry-exporter-otlp-proto-grpc>=1.2.0 in /opt/conda/lib/python3.10/site-packages (from chromadb) (1.22.0)\nCollecting opentelemetry-instrumentation-fastapi>=0.41b0 (from chromadb)\n  Downloading opentelemetry_instrumentation_fastapi-0.45b0-py3-none-any.whl.metadata (2.0 kB)\nRequirement already satisfied: opentelemetry-sdk>=1.2.0 in /opt/conda/lib/python3.10/site-packages (from chromadb) (1.22.0)\nRequirement already satisfied: tokenizers>=0.13.2 in /opt/conda/lib/python3.10/site-packages (from chromadb) (0.15.2)\nCollecting pypika>=0.48.9 (from chromadb)\n  Downloading PyPika-0.48.9.tar.gz (67 kB)\n\u001b[2K     \u001b[90m━━━━━━━━━━━━━━━━━━━━━━━━━━━━━━━━━━━━━━━━\u001b[0m \u001b[32m67.3/67.3 kB\u001b[0m \u001b[31m2.5 MB/s\u001b[0m eta \u001b[36m0:00:00\u001b[0m\n\u001b[?25h  Installing build dependencies ... \u001b[?25ldone\n\u001b[?25h  Getting requirements to build wheel ... \u001b[?25ldone\n\u001b[?25h  Preparing metadata (pyproject.toml) ... \u001b[?25ldone\n\u001b[?25hRequirement already satisfied: tqdm>=4.65.0 in /opt/conda/lib/python3.10/site-packages (from chromadb) (4.66.1)\nRequirement already satisfied: overrides>=7.3.1 in /opt/conda/lib/python3.10/site-packages (from chromadb) (7.4.0)\nRequirement already satisfied: importlib-resources in /opt/conda/lib/python3.10/site-packages (from chromadb) (6.1.1)\nCollecting grpcio>=1.58.0 (from chromadb)\n  Downloading grpcio-1.62.1-cp310-cp310-manylinux_2_17_x86_64.manylinux2014_x86_64.whl.metadata (4.0 kB)\nCollecting bcrypt>=4.0.1 (from chromadb)\n  Downloading bcrypt-4.1.2-cp39-abi3-manylinux_2_28_x86_64.whl.metadata (9.5 kB)\nRequirement already satisfied: typer>=0.9.0 in /opt/conda/lib/python3.10/site-packages (from chromadb) (0.9.0)\nCollecting kubernetes>=28.1.0 (from chromadb)\n  Downloading kubernetes-29.0.0-py2.py3-none-any.whl.metadata (1.5 kB)\nRequirement already satisfied: tenacity>=8.2.3 in /opt/conda/lib/python3.10/site-packages (from chromadb) (8.2.3)\nRequirement already satisfied: PyYAML>=6.0.0 in /opt/conda/lib/python3.10/site-packages (from chromadb) (6.0.1)\nRequirement already satisfied: mmh3>=4.0.1 in /opt/conda/lib/python3.10/site-packages (from chromadb) (4.1.0)\nCollecting orjson>=3.9.12 (from chromadb)\n  Downloading orjson-3.10.0-cp310-cp310-manylinux_2_17_x86_64.manylinux2014_x86_64.whl.metadata (49 kB)\n\u001b[2K     \u001b[90m━━━━━━━━━━━━━━━━━━━━━━━━━━━━━━━━━━━━━━━━\u001b[0m \u001b[32m49.5/49.5 kB\u001b[0m \u001b[31m2.6 MB/s\u001b[0m eta \u001b[36m0:00:00\u001b[0m\n\u001b[?25hRequirement already satisfied: packaging>=19.1 in /opt/conda/lib/python3.10/site-packages (from build>=1.0.3->chromadb) (21.3)\nCollecting pyproject_hooks (from build>=1.0.3->chromadb)\n  Downloading pyproject_hooks-1.0.0-py3-none-any.whl.metadata (1.3 kB)\nRequirement already satisfied: tomli>=1.1.0 in /opt/conda/lib/python3.10/site-packages (from build>=1.0.3->chromadb) (2.0.1)\nRequirement already satisfied: starlette<0.33.0,>=0.29.0 in /opt/conda/lib/python3.10/site-packages (from fastapi>=0.95.2->chromadb) (0.32.0.post1)\nRequirement already satisfied: certifi>=14.05.14 in /opt/conda/lib/python3.10/site-packages (from kubernetes>=28.1.0->chromadb) (2024.2.2)\nRequirement already satisfied: six>=1.9.0 in /opt/conda/lib/python3.10/site-packages (from kubernetes>=28.1.0->chromadb) (1.16.0)\nRequirement already satisfied: python-dateutil>=2.5.3 in /opt/conda/lib/python3.10/site-packages (from kubernetes>=28.1.0->chromadb) (2.9.0.post0)\nRequirement already satisfied: google-auth>=1.0.1 in /opt/conda/lib/python3.10/site-packages (from kubernetes>=28.1.0->chromadb) (2.26.1)\nRequirement already satisfied: websocket-client!=0.40.0,!=0.41.*,!=0.42.*,>=0.32.0 in /opt/conda/lib/python3.10/site-packages (from kubernetes>=28.1.0->chromadb) (1.7.0)\nRequirement already satisfied: requests-oauthlib in /opt/conda/lib/python3.10/site-packages (from kubernetes>=28.1.0->chromadb) (1.3.1)\nRequirement already satisfied: oauthlib>=3.2.2 in /opt/conda/lib/python3.10/site-packages (from kubernetes>=28.1.0->chromadb) (3.2.2)\nRequirement already satisfied: urllib3>=1.24.2 in /opt/conda/lib/python3.10/site-packages (from kubernetes>=28.1.0->chromadb) (1.26.18)\nCollecting coloredlogs (from onnxruntime>=1.14.1->chromadb)\n  Downloading coloredlogs-15.0.1-py2.py3-none-any.whl.metadata (12 kB)\nRequirement already satisfied: flatbuffers in /opt/conda/lib/python3.10/site-packages (from onnxruntime>=1.14.1->chromadb) (23.5.26)\nRequirement already satisfied: protobuf in /opt/conda/lib/python3.10/site-packages (from onnxruntime>=1.14.1->chromadb) (3.20.3)\nRequirement already satisfied: sympy in /opt/conda/lib/python3.10/site-packages (from onnxruntime>=1.14.1->chromadb) (1.12)\nRequirement already satisfied: deprecated>=1.2.6 in /opt/conda/lib/python3.10/site-packages (from opentelemetry-api>=1.2.0->chromadb) (1.2.14)\nRequirement already satisfied: importlib-metadata<7.0,>=6.0 in /opt/conda/lib/python3.10/site-packages (from opentelemetry-api>=1.2.0->chromadb) (6.11.0)\nRequirement already satisfied: backoff<3.0.0,>=1.10.0 in /opt/conda/lib/python3.10/site-packages (from opentelemetry-exporter-otlp-proto-grpc>=1.2.0->chromadb) (2.2.1)\nRequirement already satisfied: googleapis-common-protos~=1.52 in /opt/conda/lib/python3.10/site-packages (from opentelemetry-exporter-otlp-proto-grpc>=1.2.0->chromadb) (1.62.0)\nRequirement already satisfied: opentelemetry-exporter-otlp-proto-common==1.22.0 in /opt/conda/lib/python3.10/site-packages (from opentelemetry-exporter-otlp-proto-grpc>=1.2.0->chromadb) (1.22.0)\nRequirement already satisfied: opentelemetry-proto==1.22.0 in /opt/conda/lib/python3.10/site-packages (from opentelemetry-exporter-otlp-proto-grpc>=1.2.0->chromadb) (1.22.0)\nCollecting opentelemetry-instrumentation-asgi==0.45b0 (from opentelemetry-instrumentation-fastapi>=0.41b0->chromadb)\n  Downloading opentelemetry_instrumentation_asgi-0.45b0-py3-none-any.whl.metadata (1.9 kB)\nCollecting opentelemetry-instrumentation==0.45b0 (from opentelemetry-instrumentation-fastapi>=0.41b0->chromadb)\n  Downloading opentelemetry_instrumentation-0.45b0-py3-none-any.whl.metadata (6.1 kB)\nCollecting opentelemetry-semantic-conventions==0.45b0 (from opentelemetry-instrumentation-fastapi>=0.41b0->chromadb)\n  Downloading opentelemetry_semantic_conventions-0.45b0-py3-none-any.whl.metadata (2.2 kB)\nCollecting opentelemetry-util-http==0.45b0 (from opentelemetry-instrumentation-fastapi>=0.41b0->chromadb)\n  Downloading opentelemetry_util_http-0.45b0-py3-none-any.whl.metadata (2.4 kB)\nRequirement already satisfied: setuptools>=16.0 in /opt/conda/lib/python3.10/site-packages (from opentelemetry-instrumentation==0.45b0->opentelemetry-instrumentation-fastapi>=0.41b0->chromadb) (69.0.3)\nRequirement already satisfied: wrapt<2.0.0,>=1.0.0 in /opt/conda/lib/python3.10/site-packages (from opentelemetry-instrumentation==0.45b0->opentelemetry-instrumentation-fastapi>=0.41b0->chromadb) (1.14.1)\nCollecting asgiref~=3.0 (from opentelemetry-instrumentation-asgi==0.45b0->opentelemetry-instrumentation-fastapi>=0.41b0->chromadb)\n  Downloading asgiref-3.8.1-py3-none-any.whl.metadata (9.3 kB)\nINFO: pip is looking at multiple versions of opentelemetry-sdk to determine which version is compatible with other requirements. This could take a while.\nCollecting opentelemetry-instrumentation-fastapi>=0.41b0 (from chromadb)\n  Downloading opentelemetry_instrumentation_fastapi-0.44b0-py3-none-any.whl.metadata (2.3 kB)\nCollecting opentelemetry-instrumentation-asgi==0.44b0 (from opentelemetry-instrumentation-fastapi>=0.41b0->chromadb)\n  Downloading opentelemetry_instrumentation_asgi-0.44b0-py3-none-any.whl.metadata (2.1 kB)\nCollecting opentelemetry-instrumentation==0.44b0 (from opentelemetry-instrumentation-fastapi>=0.41b0->chromadb)\n  Downloading opentelemetry_instrumentation-0.44b0-py3-none-any.whl.metadata (6.1 kB)\nCollecting opentelemetry-semantic-conventions==0.44b0 (from opentelemetry-instrumentation-fastapi>=0.41b0->chromadb)\n  Downloading opentelemetry_semantic_conventions-0.44b0-py3-none-any.whl.metadata (2.2 kB)\nCollecting opentelemetry-util-http==0.44b0 (from opentelemetry-instrumentation-fastapi>=0.41b0->chromadb)\n  Downloading opentelemetry_util_http-0.44b0-py3-none-any.whl.metadata (2.4 kB)\nCollecting opentelemetry-instrumentation-fastapi>=0.41b0 (from chromadb)\n  Downloading opentelemetry_instrumentation_fastapi-0.43b0-py3-none-any.whl.metadata (2.3 kB)\nCollecting opentelemetry-instrumentation-asgi==0.43b0 (from opentelemetry-instrumentation-fastapi>=0.41b0->chromadb)\n  Downloading opentelemetry_instrumentation_asgi-0.43b0-py3-none-any.whl.metadata (2.1 kB)\nCollecting opentelemetry-instrumentation==0.43b0 (from opentelemetry-instrumentation-fastapi>=0.41b0->chromadb)\n  Downloading opentelemetry_instrumentation-0.43b0-py3-none-any.whl.metadata (5.9 kB)\nRequirement already satisfied: opentelemetry-semantic-conventions==0.43b0 in /opt/conda/lib/python3.10/site-packages (from opentelemetry-instrumentation-fastapi>=0.41b0->chromadb) (0.43b0)\nCollecting opentelemetry-util-http==0.43b0 (from opentelemetry-instrumentation-fastapi>=0.41b0->chromadb)\n  Downloading opentelemetry_util_http-0.43b0-py3-none-any.whl.metadata (2.5 kB)\nCollecting monotonic>=1.5 (from posthog>=2.4.0->chromadb)\n  Downloading monotonic-1.6-py2.py3-none-any.whl.metadata (1.5 kB)\nRequirement already satisfied: annotated-types>=0.4.0 in /opt/conda/lib/python3.10/site-packages (from pydantic>=1.9->chromadb) (0.6.0)\nRequirement already satisfied: pydantic-core==2.14.6 in /opt/conda/lib/python3.10/site-packages (from pydantic>=1.9->chromadb) (2.14.6)\nRequirement already satisfied: charset-normalizer<4,>=2 in /opt/conda/lib/python3.10/site-packages (from requests>=2.28->chromadb) (3.3.2)\nRequirement already satisfied: idna<4,>=2.5 in /opt/conda/lib/python3.10/site-packages (from requests>=2.28->chromadb) (3.6)\nRequirement already satisfied: huggingface_hub<1.0,>=0.16.4 in /opt/conda/lib/python3.10/site-packages (from tokenizers>=0.13.2->chromadb) (0.21.4)\nRequirement already satisfied: click<9.0.0,>=7.1.1 in /opt/conda/lib/python3.10/site-packages (from typer>=0.9.0->chromadb) (8.1.7)\nRequirement already satisfied: h11>=0.8 in /opt/conda/lib/python3.10/site-packages (from uvicorn>=0.18.3->uvicorn[standard]>=0.18.3->chromadb) (0.14.0)\nRequirement already satisfied: httptools>=0.5.0 in /opt/conda/lib/python3.10/site-packages (from uvicorn[standard]>=0.18.3->chromadb) (0.6.1)\nRequirement already satisfied: python-dotenv>=0.13 in /opt/conda/lib/python3.10/site-packages (from uvicorn[standard]>=0.18.3->chromadb) (1.0.0)\nRequirement already satisfied: uvloop!=0.15.0,!=0.15.1,>=0.14.0 in /opt/conda/lib/python3.10/site-packages (from uvicorn[standard]>=0.18.3->chromadb) (0.19.0)\nRequirement already satisfied: watchfiles>=0.13 in /opt/conda/lib/python3.10/site-packages (from uvicorn[standard]>=0.18.3->chromadb) (0.21.0)\nRequirement already satisfied: websockets>=10.4 in /opt/conda/lib/python3.10/site-packages (from uvicorn[standard]>=0.18.3->chromadb) (12.0)\nRequirement already satisfied: cachetools<6.0,>=2.0.0 in /opt/conda/lib/python3.10/site-packages (from google-auth>=1.0.1->kubernetes>=28.1.0->chromadb) (4.2.4)\nRequirement already satisfied: pyasn1-modules>=0.2.1 in /opt/conda/lib/python3.10/site-packages (from google-auth>=1.0.1->kubernetes>=28.1.0->chromadb) (0.3.0)\nRequirement already satisfied: rsa<5,>=3.1.4 in /opt/conda/lib/python3.10/site-packages (from google-auth>=1.0.1->kubernetes>=28.1.0->chromadb) (4.9)\nRequirement already satisfied: filelock in /opt/conda/lib/python3.10/site-packages (from huggingface_hub<1.0,>=0.16.4->tokenizers>=0.13.2->chromadb) (3.13.1)\nRequirement already satisfied: fsspec>=2023.5.0 in /opt/conda/lib/python3.10/site-packages (from huggingface_hub<1.0,>=0.16.4->tokenizers>=0.13.2->chromadb) (2024.3.0)\nRequirement already satisfied: zipp>=0.5 in /opt/conda/lib/python3.10/site-packages (from importlib-metadata<7.0,>=6.0->opentelemetry-api>=1.2.0->chromadb) (3.17.0)\nRequirement already satisfied: pyparsing!=3.0.5,>=2.0.2 in /opt/conda/lib/python3.10/site-packages (from packaging>=19.1->build>=1.0.3->chromadb) (3.1.1)\nRequirement already satisfied: anyio<5,>=3.4.0 in /opt/conda/lib/python3.10/site-packages (from starlette<0.33.0,>=0.29.0->fastapi>=0.95.2->chromadb) (4.2.0)\nCollecting humanfriendly>=9.1 (from coloredlogs->onnxruntime>=1.14.1->chromadb)\n  Downloading humanfriendly-10.0-py2.py3-none-any.whl.metadata (9.2 kB)\nRequirement already satisfied: mpmath>=0.19 in /opt/conda/lib/python3.10/site-packages (from sympy->onnxruntime>=1.14.1->chromadb) (1.3.0)\nRequirement already satisfied: sniffio>=1.1 in /opt/conda/lib/python3.10/site-packages (from anyio<5,>=3.4.0->starlette<0.33.0,>=0.29.0->fastapi>=0.95.2->chromadb) (1.3.0)\nRequirement already satisfied: exceptiongroup>=1.0.2 in /opt/conda/lib/python3.10/site-packages (from anyio<5,>=3.4.0->starlette<0.33.0,>=0.29.0->fastapi>=0.95.2->chromadb) (1.2.0)\nRequirement already satisfied: pyasn1<0.6.0,>=0.4.6 in /opt/conda/lib/python3.10/site-packages (from pyasn1-modules>=0.2.1->google-auth>=1.0.1->kubernetes>=28.1.0->chromadb) (0.5.1)\nDownloading chromadb-0.4.24-py3-none-any.whl (525 kB)\n\u001b[2K   \u001b[90m━━━━━━━━━━━━━━━━━━━━━━━━━━━━━━━━━━━━━━━━\u001b[0m \u001b[32m525.5/525.5 kB\u001b[0m \u001b[31m16.3 MB/s\u001b[0m eta \u001b[36m0:00:00\u001b[0m\n\u001b[?25hDownloading chroma_hnswlib-0.7.3-cp310-cp310-manylinux_2_17_x86_64.manylinux2014_x86_64.whl (2.4 MB)\n\u001b[2K   \u001b[90m━━━━━━━━━━━━━━━━━━━━━━━━━━━━━━━━━━━━━━━━\u001b[0m \u001b[32m2.4/2.4 MB\u001b[0m \u001b[31m56.0 MB/s\u001b[0m eta \u001b[36m0:00:00\u001b[0m:00:01\u001b[0m\n\u001b[?25hDownloading bcrypt-4.1.2-cp39-abi3-manylinux_2_28_x86_64.whl (698 kB)\n\u001b[2K   \u001b[90m━━━━━━━━━━━━━━━━━━━━━━━━━━━━━━━━━━━━━━━━\u001b[0m \u001b[32m698.9/698.9 kB\u001b[0m \u001b[31m36.5 MB/s\u001b[0m eta \u001b[36m0:00:00\u001b[0m\n\u001b[?25hDownloading build-1.2.1-py3-none-any.whl (21 kB)\nDownloading grpcio-1.62.1-cp310-cp310-manylinux_2_17_x86_64.manylinux2014_x86_64.whl (5.5 MB)\n\u001b[2K   \u001b[90m━━━━━━━━━━━━━━━━━━━━━━━━━━━━━━━━━━━━━━━━\u001b[0m \u001b[32m5.5/5.5 MB\u001b[0m \u001b[31m92.8 MB/s\u001b[0m eta \u001b[36m0:00:00\u001b[0m:00:01\u001b[0m\n\u001b[?25hDownloading kubernetes-29.0.0-py2.py3-none-any.whl (1.6 MB)\n\u001b[2K   \u001b[90m━━━━━━━━━━━━━━━━━━━━━━━━━━━━━━━━━━━━━━━━\u001b[0m \u001b[32m1.6/1.6 MB\u001b[0m \u001b[31m53.1 MB/s\u001b[0m eta \u001b[36m0:00:00\u001b[0m\n\u001b[?25hDownloading onnxruntime-1.17.1-cp310-cp310-manylinux_2_27_x86_64.manylinux_2_28_x86_64.whl (6.8 MB)\n\u001b[2K   \u001b[90m━━━━━━━━━━━━━━━━━━━━━━━━━━━━━━━━━━━━━━━━\u001b[0m \u001b[32m6.8/6.8 MB\u001b[0m \u001b[31m93.6 MB/s\u001b[0m eta \u001b[36m0:00:00\u001b[0m:00:01\u001b[0m00:01\u001b[0m\n\u001b[?25hDownloading opentelemetry_instrumentation_fastapi-0.43b0-py3-none-any.whl (11 kB)\nDownloading opentelemetry_instrumentation_asgi-0.43b0-py3-none-any.whl (14 kB)\nDownloading opentelemetry_instrumentation-0.43b0-py3-none-any.whl (28 kB)\nDownloading opentelemetry_util_http-0.43b0-py3-none-any.whl (6.9 kB)\nDownloading orjson-3.10.0-cp310-cp310-manylinux_2_17_x86_64.manylinux2014_x86_64.whl (144 kB)\n\u001b[2K   \u001b[90m━━━━━━━━━━━━━━━━━━━━━━━━━━━━━━━━━━━━━━━━\u001b[0m \u001b[32m144.8/144.8 kB\u001b[0m \u001b[31m9.9 MB/s\u001b[0m eta \u001b[36m0:00:00\u001b[0m\n\u001b[?25hDownloading posthog-3.5.0-py2.py3-none-any.whl (41 kB)\n\u001b[2K   \u001b[90m━━━━━━━━━━━━━━━━━━━━━━━━━━━━━━━━━━━━━━━━\u001b[0m \u001b[32m41.3/41.3 kB\u001b[0m \u001b[31m2.4 MB/s\u001b[0m eta \u001b[36m0:00:00\u001b[0m\n\u001b[?25hDownloading pulsar_client-3.4.0-cp310-cp310-manylinux_2_17_x86_64.manylinux2014_x86_64.whl (5.4 MB)\n\u001b[2K   \u001b[90m━━━━━━━━━━━━━━━━━━━━━━━━━━━━━━━━━━━━━━━━\u001b[0m \u001b[32m5.4/5.4 MB\u001b[0m \u001b[31m85.3 MB/s\u001b[0m eta \u001b[36m0:00:00\u001b[0m:00:01\u001b[0m\n\u001b[?25hDownloading monotonic-1.6-py2.py3-none-any.whl (8.2 kB)\nDownloading coloredlogs-15.0.1-py2.py3-none-any.whl (46 kB)\n\u001b[2K   \u001b[90m━━━━━━━━━━━━━━━━━━━━━━━━━━━━━━━━━━━━━━━━\u001b[0m \u001b[32m46.0/46.0 kB\u001b[0m \u001b[31m2.5 MB/s\u001b[0m eta \u001b[36m0:00:00\u001b[0m\n\u001b[?25hDownloading pyproject_hooks-1.0.0-py3-none-any.whl (9.3 kB)\nDownloading asgiref-3.8.1-py3-none-any.whl (23 kB)\nDownloading humanfriendly-10.0-py2.py3-none-any.whl (86 kB)\n\u001b[2K   \u001b[90m━━━━━━━━━━━━━━━━━━━━━━━━━━━━━━━━━━━━━━━━\u001b[0m \u001b[32m86.8/86.8 kB\u001b[0m \u001b[31m6.0 MB/s\u001b[0m eta \u001b[36m0:00:00\u001b[0m\n\u001b[?25hBuilding wheels for collected packages: pypika\n  Building wheel for pypika (pyproject.toml) ... \u001b[?25ldone\n\u001b[?25h  Created wheel for pypika: filename=PyPika-0.48.9-py2.py3-none-any.whl size=53724 sha256=afb31dafff65c1ba2b44cc89786042026c079ae91b201988491dd46b0e587437\n  Stored in directory: /root/.cache/pip/wheels/e1/26/51/d0bffb3d2fd82256676d7ad3003faea3bd6dddc9577af665f4\nSuccessfully built pypika\nInstalling collected packages: pypika, monotonic, pyproject_hooks, pulsar-client, orjson, opentelemetry-util-http, humanfriendly, grpcio, chroma-hnswlib, bcrypt, asgiref, posthog, coloredlogs, build, opentelemetry-instrumentation, onnxruntime, kubernetes, opentelemetry-instrumentation-asgi, opentelemetry-instrumentation-fastapi, chromadb\n  Attempting uninstall: orjson\n    Found existing installation: orjson 3.9.10\n    Uninstalling orjson-3.9.10:\n      Successfully uninstalled orjson-3.9.10\n  Attempting uninstall: grpcio\n    Found existing installation: grpcio 1.51.1\n    Uninstalling grpcio-1.51.1:\n      Successfully uninstalled grpcio-1.51.1\n  Attempting uninstall: kubernetes\n    Found existing installation: kubernetes 26.1.0\n    Uninstalling kubernetes-26.1.0:\n      Successfully uninstalled kubernetes-26.1.0\n\u001b[31mERROR: pip's dependency resolver does not currently take into account all the packages that are installed. This behaviour is the source of the following dependency conflicts.\ntensorflow-decision-forests 1.8.1 requires wurlitzer, which is not installed.\napache-beam 2.46.0 requires dill<0.3.2,>=0.3.1.1, but you have dill 0.3.8 which is incompatible.\napache-beam 2.46.0 requires numpy<1.25.0,>=1.14.3, but you have numpy 1.26.4 which is incompatible.\napache-beam 2.46.0 requires pyarrow<10.0.0,>=3.0.0, but you have pyarrow 11.0.0 which is incompatible.\nkfp 2.5.0 requires google-cloud-storage<3,>=2.2.1, but you have google-cloud-storage 1.44.0 which is incompatible.\nkfp 2.5.0 requires kubernetes<27,>=8.0.0, but you have kubernetes 29.0.0 which is incompatible.\ntensorflow 2.15.0 requires keras<2.16,>=2.15.0, but you have keras 3.0.5 which is incompatible.\u001b[0m\u001b[31m\n\u001b[0mSuccessfully installed asgiref-3.8.1 bcrypt-4.1.2 build-1.2.1 chroma-hnswlib-0.7.3 chromadb-0.4.24 coloredlogs-15.0.1 grpcio-1.60.0 humanfriendly-10.0 kubernetes-29.0.0 monotonic-1.6 onnxruntime-1.17.1 opentelemetry-instrumentation-0.43b0 opentelemetry-instrumentation-asgi-0.43b0 opentelemetry-instrumentation-fastapi-0.43b0 opentelemetry-util-http-0.43b0 orjson-3.10.0 posthog-3.5.0 pulsar-client-3.4.0 pypika-0.48.9 pyproject_hooks-1.0.0\nCollecting langchain\n  Downloading langchain-0.1.16-py3-none-any.whl.metadata (13 kB)\nRequirement already satisfied: PyYAML>=5.3 in /opt/conda/lib/python3.10/site-packages (from langchain) (6.0.1)\nRequirement already satisfied: SQLAlchemy<3,>=1.4 in /opt/conda/lib/python3.10/site-packages (from langchain) (2.0.25)\nRequirement already satisfied: aiohttp<4.0.0,>=3.8.3 in /opt/conda/lib/python3.10/site-packages (from langchain) (3.9.1)\nRequirement already satisfied: async-timeout<5.0.0,>=4.0.0 in /opt/conda/lib/python3.10/site-packages (from langchain) (4.0.3)\nRequirement already satisfied: dataclasses-json<0.7,>=0.5.7 in /opt/conda/lib/python3.10/site-packages (from langchain) (0.6.4)\nRequirement already satisfied: jsonpatch<2.0,>=1.33 in /opt/conda/lib/python3.10/site-packages (from langchain) (1.33)\nCollecting langchain-community<0.1,>=0.0.32 (from langchain)\n  Downloading langchain_community-0.0.32-py3-none-any.whl.metadata (8.5 kB)\nCollecting langchain-core<0.2.0,>=0.1.42 (from langchain)\n  Downloading langchain_core-0.1.42-py3-none-any.whl.metadata (5.9 kB)\nCollecting langchain-text-splitters<0.1,>=0.0.1 (from langchain)\n  Downloading langchain_text_splitters-0.0.1-py3-none-any.whl.metadata (2.0 kB)\nCollecting langsmith<0.2.0,>=0.1.17 (from langchain)\n  Downloading langsmith-0.1.45-py3-none-any.whl.metadata (13 kB)\nRequirement already satisfied: numpy<2,>=1 in /opt/conda/lib/python3.10/site-packages (from langchain) (1.26.4)\nRequirement already satisfied: pydantic<3,>=1 in /opt/conda/lib/python3.10/site-packages (from langchain) (2.5.3)\nRequirement already satisfied: requests<3,>=2 in /opt/conda/lib/python3.10/site-packages (from langchain) (2.31.0)\nRequirement already satisfied: tenacity<9.0.0,>=8.1.0 in /opt/conda/lib/python3.10/site-packages (from langchain) (8.2.3)\nRequirement already satisfied: attrs>=17.3.0 in /opt/conda/lib/python3.10/site-packages (from aiohttp<4.0.0,>=3.8.3->langchain) (23.2.0)\nRequirement already satisfied: multidict<7.0,>=4.5 in /opt/conda/lib/python3.10/site-packages (from aiohttp<4.0.0,>=3.8.3->langchain) (6.0.4)\nRequirement already satisfied: yarl<2.0,>=1.0 in /opt/conda/lib/python3.10/site-packages (from aiohttp<4.0.0,>=3.8.3->langchain) (1.9.3)\nRequirement already satisfied: frozenlist>=1.1.1 in /opt/conda/lib/python3.10/site-packages (from aiohttp<4.0.0,>=3.8.3->langchain) (1.4.1)\nRequirement already satisfied: aiosignal>=1.1.2 in /opt/conda/lib/python3.10/site-packages (from aiohttp<4.0.0,>=3.8.3->langchain) (1.3.1)\nRequirement already satisfied: marshmallow<4.0.0,>=3.18.0 in /opt/conda/lib/python3.10/site-packages (from dataclasses-json<0.7,>=0.5.7->langchain) (3.21.1)\nRequirement already satisfied: typing-inspect<1,>=0.4.0 in /opt/conda/lib/python3.10/site-packages (from dataclasses-json<0.7,>=0.5.7->langchain) (0.9.0)\nRequirement already satisfied: jsonpointer>=1.9 in /opt/conda/lib/python3.10/site-packages (from jsonpatch<2.0,>=1.33->langchain) (2.4)\nCollecting packaging<24.0,>=23.2 (from langchain-core<0.2.0,>=0.1.42->langchain)\n  Downloading packaging-23.2-py3-none-any.whl.metadata (3.2 kB)\nRequirement already satisfied: orjson<4.0.0,>=3.9.14 in /opt/conda/lib/python3.10/site-packages (from langsmith<0.2.0,>=0.1.17->langchain) (3.10.0)\nRequirement already satisfied: annotated-types>=0.4.0 in /opt/conda/lib/python3.10/site-packages (from pydantic<3,>=1->langchain) (0.6.0)\nRequirement already satisfied: pydantic-core==2.14.6 in /opt/conda/lib/python3.10/site-packages (from pydantic<3,>=1->langchain) (2.14.6)\nRequirement already satisfied: typing-extensions>=4.6.1 in /opt/conda/lib/python3.10/site-packages (from pydantic<3,>=1->langchain) (4.9.0)\nRequirement already satisfied: charset-normalizer<4,>=2 in /opt/conda/lib/python3.10/site-packages (from requests<3,>=2->langchain) (3.3.2)\nRequirement already satisfied: idna<4,>=2.5 in /opt/conda/lib/python3.10/site-packages (from requests<3,>=2->langchain) (3.6)\nRequirement already satisfied: urllib3<3,>=1.21.1 in /opt/conda/lib/python3.10/site-packages (from requests<3,>=2->langchain) (1.26.18)\nRequirement already satisfied: certifi>=2017.4.17 in /opt/conda/lib/python3.10/site-packages (from requests<3,>=2->langchain) (2024.2.2)\nRequirement already satisfied: greenlet!=0.4.17 in /opt/conda/lib/python3.10/site-packages (from SQLAlchemy<3,>=1.4->langchain) (3.0.3)\nRequirement already satisfied: mypy-extensions>=0.3.0 in /opt/conda/lib/python3.10/site-packages (from typing-inspect<1,>=0.4.0->dataclasses-json<0.7,>=0.5.7->langchain) (1.0.0)\nDownloading langchain-0.1.16-py3-none-any.whl (817 kB)\n\u001b[2K   \u001b[90m━━━━━━━━━━━━━━━━━━━━━━━━━━━━━━━━━━━━━━━━\u001b[0m \u001b[32m817.7/817.7 kB\u001b[0m \u001b[31m18.3 MB/s\u001b[0m eta \u001b[36m0:00:00\u001b[0m00:01\u001b[0m\n\u001b[?25hDownloading langchain_community-0.0.32-py3-none-any.whl (1.9 MB)\n\u001b[2K   \u001b[90m━━━━━━━━━━━━━━━━━━━━━━━━━━━━━━━━━━━━━━━━\u001b[0m \u001b[32m1.9/1.9 MB\u001b[0m \u001b[31m64.8 MB/s\u001b[0m eta \u001b[36m0:00:00\u001b[0m\n\u001b[?25hDownloading langchain_core-0.1.42-py3-none-any.whl (287 kB)\n\u001b[2K   \u001b[90m━━━━━━━━━━━━━━━━━━━━━━━━━━━━━━━━━━━━━━━━\u001b[0m \u001b[32m287.5/287.5 kB\u001b[0m \u001b[31m17.4 MB/s\u001b[0m eta \u001b[36m0:00:00\u001b[0m\n\u001b[?25hDownloading langchain_text_splitters-0.0.1-py3-none-any.whl (21 kB)\nDownloading langsmith-0.1.45-py3-none-any.whl (104 kB)\n\u001b[2K   \u001b[90m━━━━━━━━━━━━━━━━━━━━━━━━━━━━━━━━━━━━━━━━\u001b[0m \u001b[32m104.2/104.2 kB\u001b[0m \u001b[31m7.3 MB/s\u001b[0m eta \u001b[36m0:00:00\u001b[0m\n\u001b[?25hDownloading packaging-23.2-py3-none-any.whl (53 kB)\n\u001b[2K   \u001b[90m━━━━━━━━━━━━━━━━━━━━━━━━━━━━━━━━━━━━━━━━\u001b[0m \u001b[32m53.0/53.0 kB\u001b[0m \u001b[31m3.6 MB/s\u001b[0m eta \u001b[36m0:00:00\u001b[0m\n\u001b[?25hInstalling collected packages: packaging, langsmith, langchain-core, langchain-text-splitters, langchain-community, langchain\n  Attempting uninstall: packaging\n    Found existing installation: packaging 21.3\n    Uninstalling packaging-21.3:\n      Successfully uninstalled packaging-21.3\n\u001b[31mERROR: pip's dependency resolver does not currently take into account all the packages that are installed. This behaviour is the source of the following dependency conflicts.\ncudf 23.8.0 requires cubinlinker, which is not installed.\ncudf 23.8.0 requires cupy-cuda11x>=12.0.0, which is not installed.\ncudf 23.8.0 requires ptxcompiler, which is not installed.\ncuml 23.8.0 requires cupy-cuda11x>=12.0.0, which is not installed.\ndask-cudf 23.8.0 requires cupy-cuda11x>=12.0.0, which is not installed.\nkeras-cv 0.8.2 requires keras-core, which is not installed.\nkeras-nlp 0.8.2 requires keras-core, which is not installed.\ntensorflow-decision-forests 1.8.1 requires wurlitzer, which is not installed.\ncudf 23.8.0 requires cuda-python<12.0a0,>=11.7.1, but you have cuda-python 12.4.0 which is incompatible.\ncudf 23.8.0 requires pandas<1.6.0dev0,>=1.3, but you have pandas 2.1.4 which is incompatible.\ncudf 23.8.0 requires protobuf<5,>=4.21, but you have protobuf 3.20.3 which is incompatible.\ncuml 23.8.0 requires dask==2023.7.1, but you have dask 2024.3.1 which is incompatible.\ndask-cuda 23.8.0 requires dask==2023.7.1, but you have dask 2024.3.1 which is incompatible.\ndask-cuda 23.8.0 requires pandas<1.6.0dev0,>=1.3, but you have pandas 2.1.4 which is incompatible.\ndask-cudf 23.8.0 requires dask==2023.7.1, but you have dask 2024.3.1 which is incompatible.\ndask-cudf 23.8.0 requires pandas<1.6.0dev0,>=1.3, but you have pandas 2.1.4 which is incompatible.\ndistributed 2023.7.1 requires dask==2023.7.1, but you have dask 2024.3.1 which is incompatible.\ngoogle-cloud-bigquery 2.34.4 requires packaging<22.0dev,>=14.3, but you have packaging 23.2 which is incompatible.\njupyterlab 4.1.5 requires jupyter-lsp>=2.0.0, but you have jupyter-lsp 1.5.1 which is incompatible.\njupyterlab-lsp 5.1.0 requires jupyter-lsp>=2.0.0, but you have jupyter-lsp 1.5.1 which is incompatible.\nlibpysal 4.9.2 requires shapely>=2.0.1, but you have shapely 1.8.5.post1 which is incompatible.\nmomepy 0.7.0 requires shapely>=2, but you have shapely 1.8.5.post1 which is incompatible.\nosmnx 1.9.1 requires shapely>=2.0, but you have shapely 1.8.5.post1 which is incompatible.\nraft-dask 23.8.0 requires dask==2023.7.1, but you have dask 2024.3.1 which is incompatible.\nspopt 0.6.0 requires shapely>=2.0.1, but you have shapely 1.8.5.post1 which is incompatible.\ntensorflow 2.15.0 requires keras<2.16,>=2.15.0, but you have keras 3.0.5 which is incompatible.\nydata-profiling 4.6.4 requires numpy<1.26,>=1.16.0, but you have numpy 1.26.4 which is incompatible.\u001b[0m\u001b[31m\n\u001b[0mSuccessfully installed langchain-0.1.16 langchain-community-0.0.32 langchain-core-0.1.42 langchain-text-splitters-0.0.1 langsmith-0.1.45 packaging-23.2\nCollecting sentence-transformers\n  Downloading sentence_transformers-2.6.1-py3-none-any.whl.metadata (11 kB)\nRequirement already satisfied: transformers<5.0.0,>=4.32.0 in /opt/conda/lib/python3.10/site-packages (from sentence-transformers) (4.38.2)\nRequirement already satisfied: tqdm in /opt/conda/lib/python3.10/site-packages (from sentence-transformers) (4.66.1)\nRequirement already satisfied: torch>=1.11.0 in /opt/conda/lib/python3.10/site-packages (from sentence-transformers) (2.1.2)\nRequirement already satisfied: numpy in /opt/conda/lib/python3.10/site-packages (from sentence-transformers) (1.26.4)\nRequirement already satisfied: scikit-learn in /opt/conda/lib/python3.10/site-packages (from sentence-transformers) (1.2.2)\nRequirement already satisfied: scipy in /opt/conda/lib/python3.10/site-packages (from sentence-transformers) (1.11.4)\nRequirement already satisfied: huggingface-hub>=0.15.1 in /opt/conda/lib/python3.10/site-packages (from sentence-transformers) (0.21.4)\nRequirement already satisfied: Pillow in /opt/conda/lib/python3.10/site-packages (from sentence-transformers) (9.5.0)\nRequirement already satisfied: filelock in /opt/conda/lib/python3.10/site-packages (from huggingface-hub>=0.15.1->sentence-transformers) (3.13.1)\nRequirement already satisfied: fsspec>=2023.5.0 in /opt/conda/lib/python3.10/site-packages (from huggingface-hub>=0.15.1->sentence-transformers) (2024.3.0)\nRequirement already satisfied: requests in /opt/conda/lib/python3.10/site-packages (from huggingface-hub>=0.15.1->sentence-transformers) (2.31.0)\nRequirement already satisfied: pyyaml>=5.1 in /opt/conda/lib/python3.10/site-packages (from huggingface-hub>=0.15.1->sentence-transformers) (6.0.1)\nRequirement already satisfied: typing-extensions>=3.7.4.3 in /opt/conda/lib/python3.10/site-packages (from huggingface-hub>=0.15.1->sentence-transformers) (4.9.0)\nRequirement already satisfied: packaging>=20.9 in /opt/conda/lib/python3.10/site-packages (from huggingface-hub>=0.15.1->sentence-transformers) (23.2)\nRequirement already satisfied: sympy in /opt/conda/lib/python3.10/site-packages (from torch>=1.11.0->sentence-transformers) (1.12)\nRequirement already satisfied: networkx in /opt/conda/lib/python3.10/site-packages (from torch>=1.11.0->sentence-transformers) (3.2.1)\nRequirement already satisfied: jinja2 in /opt/conda/lib/python3.10/site-packages (from torch>=1.11.0->sentence-transformers) (3.1.2)\nRequirement already satisfied: regex!=2019.12.17 in /opt/conda/lib/python3.10/site-packages (from transformers<5.0.0,>=4.32.0->sentence-transformers) (2023.12.25)\nRequirement already satisfied: tokenizers<0.19,>=0.14 in /opt/conda/lib/python3.10/site-packages (from transformers<5.0.0,>=4.32.0->sentence-transformers) (0.15.2)\nRequirement already satisfied: safetensors>=0.4.1 in /opt/conda/lib/python3.10/site-packages (from transformers<5.0.0,>=4.32.0->sentence-transformers) (0.4.2)\nRequirement already satisfied: joblib>=1.1.1 in /opt/conda/lib/python3.10/site-packages (from scikit-learn->sentence-transformers) (1.3.2)\nRequirement already satisfied: threadpoolctl>=2.0.0 in /opt/conda/lib/python3.10/site-packages (from scikit-learn->sentence-transformers) (3.2.0)\nRequirement already satisfied: MarkupSafe>=2.0 in /opt/conda/lib/python3.10/site-packages (from jinja2->torch>=1.11.0->sentence-transformers) (2.1.3)\nRequirement already satisfied: charset-normalizer<4,>=2 in /opt/conda/lib/python3.10/site-packages (from requests->huggingface-hub>=0.15.1->sentence-transformers) (3.3.2)\nRequirement already satisfied: idna<4,>=2.5 in /opt/conda/lib/python3.10/site-packages (from requests->huggingface-hub>=0.15.1->sentence-transformers) (3.6)\nRequirement already satisfied: urllib3<3,>=1.21.1 in /opt/conda/lib/python3.10/site-packages (from requests->huggingface-hub>=0.15.1->sentence-transformers) (1.26.18)\nRequirement already satisfied: certifi>=2017.4.17 in /opt/conda/lib/python3.10/site-packages (from requests->huggingface-hub>=0.15.1->sentence-transformers) (2024.2.2)\nRequirement already satisfied: mpmath>=0.19 in /opt/conda/lib/python3.10/site-packages (from sympy->torch>=1.11.0->sentence-transformers) (1.3.0)\nDownloading sentence_transformers-2.6.1-py3-none-any.whl (163 kB)\n\u001b[2K   \u001b[90m━━━━━━━━━━━━━━━━━━━━━━━━━━━━━━━━━━━━━━━━\u001b[0m \u001b[32m163.3/163.3 kB\u001b[0m \u001b[31m4.2 MB/s\u001b[0m eta \u001b[36m0:00:00\u001b[0ma \u001b[36m0:00:01\u001b[0m\n\u001b[?25hInstalling collected packages: sentence-transformers\nSuccessfully installed sentence-transformers-2.6.1\nCollecting InstructorEmbedding\n  Downloading InstructorEmbedding-1.0.1-py2.py3-none-any.whl.metadata (20 kB)\nDownloading InstructorEmbedding-1.0.1-py2.py3-none-any.whl (19 kB)\nInstalling collected packages: InstructorEmbedding\nSuccessfully installed InstructorEmbedding-1.0.1\n",
          "output_type": "stream"
        }
      ]
    },
    {
      "cell_type": "code",
      "source": [
        "#base\n",
        "import os\n",
        "import json\n",
        "import re\n",
        "import uuid\n",
        "import time\n",
        "import csv\n",
        "import pandas as pd\n",
        "import numpy as np\n",
        "from typing import *\n",
        "from IPython.display import display, Markdown\n",
        "# variables\n",
        "from kaggle_secrets import UserSecretsClient\n",
        "# model\n",
        "import torch\n",
        "from torch.utils.data import Dataset\n",
        "from transformers import (\n",
        "    AutoTokenizer,\n",
        "    AutoModelForCausalLM,\n",
        "    Trainer,\n",
        "    DataCollatorForSeq2Seq,\n",
        "    Seq2SeqTrainingArguments,\n",
        ")\n",
        "# data\n",
        "from datasets import load_dataset\n",
        "import requests\n",
        "from bs4 import BeautifulSoup\n",
        "# embeddings\n",
        "from langchain.embeddings import SentenceTransformerEmbeddings\n",
        "from langchain.embeddings import HuggingFaceInstructEmbeddings\n",
        "# vector database\n",
        "from langchain.schema import Document\n",
        "from langchain.text_splitter import RecursiveCharacterTextSplitter\n",
        "from langchain.vectorstores import Chroma"
      ],
      "metadata": {
        "id": "Vq5ZFhX7soW4",
        "execution": {
          "iopub.status.busy": "2024-04-12T03:33:03.627491Z",
          "iopub.execute_input": "2024-04-12T03:33:03.627772Z",
          "iopub.status.idle": "2024-04-12T03:33:04.421629Z",
          "shell.execute_reply.started": "2024-04-12T03:33:03.627749Z",
          "shell.execute_reply": "2024-04-12T03:33:04.42086Z"
        },
        "trusted": true
      },
      "execution_count": null,
      "outputs": []
    },
    {
      "cell_type": "markdown",
      "source": [
        "# Classes"
      ],
      "metadata": {
        "id": "qsraxKb6qBaT"
      }
    },
    {
      "cell_type": "markdown",
      "source": [
        "I use object-oriented Python programming 💻 to develop the chatbot, using the classes 📁 in the corresponding order to support the Agent class that is the final service of the chatbot 🤖."
      ],
      "metadata": {
        "id": "5Z3ZpO27qBaT"
      }
    },
    {
      "cell_type": "markdown",
      "source": [
        "### Questions and answers data\n",
        "\n"
      ],
      "metadata": {
        "id": "ZsNPV6udqBaT"
      }
    },
    {
      "cell_type": "markdown",
      "source": [
        "This class fit the data of [Stackoverflow python question kaggle dataset](https://www.kaggle.com/datasets/stackoverflow/pythonquestions) 📚 to use it in a fine-tuned format ⚙️ or a list of dicts 🗂️... it depends on the case of use you need! it also will be use to select some samples to make the few-shoot strategy"
      ],
      "metadata": {
        "id": "8HQ_lD-TqBaT"
      }
    },
    {
      "cell_type": "code",
      "source": [
        "class pythonQAData:\n",
        "    \"\"\"\n",
        "    Processes data from Questions and Answers CSV files to provide a structured Q&A format.\n",
        "\n",
        "    Attributes:\n",
        "        questions_path (str): Path to the Questions CSV file\n",
        "        answers_path (str): Path to the Answers CSV file\n",
        "        tags_path (str): Path to the tags CSV file\n",
        "\n",
        "    Methods:\n",
        "        load_data(): Loads the CSV data into DataFrames.\n",
        "        merge(): Cleans, merges, and formats the question and answer data.\n",
        "        get_formatted_qa(): Returns a list of formatted question-answer strings.\n",
        "    \"\"\"\n",
        "\n",
        "    def __init__(self):\n",
        "        self.questions_path = '../input/pythonquestions/Questions.csv'\n",
        "        self.answers_path = '../input/pythonquestions/Answers.csv'\n",
        "        self.tags_path = '../input/pythonquestions/Tags.csv'\n",
        "        self.regex = r\"<\\/?[\\w\\s]*>\"\n",
        "\n",
        "    def load_data(self):\n",
        "        \"\"\"Loads Questions and Answers data from CSV files.\"\"\"\n",
        "        df_questions = pd.read_csv(\n",
        "            self.questions_path,\n",
        "            encoding=\"ISO-8859-1\",\n",
        "            usecols=[\n",
        "                'Id',\n",
        "                'Score',\n",
        "                'Title'\n",
        "            ]\n",
        "        )\n",
        "        df_answers = pd.read_csv(\n",
        "            self.answers_path,\n",
        "            encoding=\"ISO-8859-1\",\n",
        "            usecols=[\n",
        "                'ParentId',\n",
        "                'Score',\n",
        "                'Body'\n",
        "            ]\n",
        "        )\n",
        "        df_tags = pd.read_csv(\n",
        "            self.tags_path,\n",
        "            encoding=\"ISO-8859-1\",\n",
        "            usecols=[\n",
        "                'Id',\n",
        "                'Tag'\n",
        "            ]\n",
        "        )\n",
        "        return df_questions, df_answers, df_tags\n",
        "\n",
        "\n",
        "    def qa_data(self):\n",
        "        \"\"\"Cleans, merges, and formats the question and answer data.\"\"\"\n",
        "        df_questions, df_answers, df_tags = self.load_data()\n",
        "        # Rename\n",
        "        df_questions.rename(\n",
        "            columns={\n",
        "                'Title': 'Question',\n",
        "                'Score': 'question_score'\n",
        "            },\n",
        "            inplace=True\n",
        "        )\n",
        "        df_answers.rename(\n",
        "            columns={\n",
        "                'Body': 'Answer',\n",
        "                'ParentId':'Id',\n",
        "                'Score': 'answer_score'\n",
        "            },\n",
        "            inplace=True\n",
        "        )\n",
        "        # Filter by score\n",
        "        df_questions = df_questions[df_questions['question_score'] > 5].copy()\n",
        "        # Sort and deduplicate answers\n",
        "        df_answers = df_answers.sort_values(\n",
        "            'answer_score',\n",
        "            ascending=False\n",
        "        ).drop_duplicates(subset=['Id'])\n",
        "        # Merge\n",
        "        df_qa = df_questions.merge(\n",
        "            df_answers,\n",
        "            how='left',\n",
        "            on='Id'\n",
        "        ).merge(\n",
        "            df_tags,\n",
        "            how='left',\n",
        "            on='Id'\n",
        "        )\n",
        "        # filter for python  questions\n",
        "        df_qa = df_qa[df_qa['answer_score'] > 5].copy()\n",
        "        df_qa = df_qa[df_qa['Tag']=='python'].copy()\n",
        "        df_qa['Answer'] = df_qa['Answer'].apply(\n",
        "            lambda x: re.sub(\n",
        "                self.regex,\n",
        "                \"\",\n",
        "                x\n",
        "            )\n",
        "        )\n",
        "        return df_qa\n",
        "\n",
        "    def get_fine_tunning_data(self):\n",
        "        \"\"\"Returns a list of formatted user-assistant strings.\"\"\"\n",
        "        df_qa_data = self.qa_data()\n",
        "        data = [\n",
        "            f\"<-change-of-interlocutor->user:\\n{row['Question']}\\n<-change-of-interlocutor->assistant:\\n{row['Answer']}\"\n",
        "            for index, row\n",
        "            in df_qa_data.iterrows()\n",
        "        ]\n",
        "        return data\n",
        "    def get_qa_data(self):\n",
        "        \"\"\"Returns a list of records dictionaries \"\"\"\n",
        "        df_qa_data = self.qa_data()\n",
        "        data = df_qa_data[\n",
        "            [\n",
        "                'Question',\n",
        "                'Answer'\n",
        "            ]\n",
        "        ].to_dict(orient='records')\n",
        "        return data\n"
      ],
      "metadata": {
        "id": "bSU-ohmssoW5",
        "execution": {
          "iopub.status.busy": "2024-04-12T03:33:04.422646Z",
          "iopub.execute_input": "2024-04-12T03:33:04.422926Z",
          "iopub.status.idle": "2024-04-12T03:33:04.437593Z",
          "shell.execute_reply.started": "2024-04-12T03:33:04.422902Z",
          "shell.execute_reply": "2024-04-12T03:33:04.436688Z"
        },
        "trusted": true
      },
      "execution_count": null,
      "outputs": []
    },
    {
      "cell_type": "markdown",
      "source": [
        "### Python Enhancement Proposals data"
      ],
      "metadata": {
        "id": "GaRDcVykqBaU"
      }
    },
    {
      "cell_type": "markdown",
      "source": [
        "The class Peps scrape all the oficial [pep](https://peps.python.org/) 🔎 to get all the best practices of this programming language 🐍 and their latest features ✨, disposed to uses in the RAG system for the chatbot"
      ],
      "metadata": {
        "id": "5CKB3tC_qBaU"
      }
    },
    {
      "cell_type": "code",
      "source": [
        "class Peps:\n",
        "    \"\"\"\n",
        "    Scrapes Python Enhancement Proposals (PEPs) from https://peps.python.org/\n",
        "    \"\"\"\n",
        "\n",
        "    def __init__(self):\n",
        "        \"\"\"Initiates the scraping process.\"\"\"\n",
        "        self.base_url = 'https://peps.python.org/'\n",
        "\n",
        "    def scraper(self, url):\n",
        "        \"\"\"\n",
        "        Fetches the HTML content of a given URL.\n",
        "\n",
        "        Args:\n",
        "            url (str): The URL to fetch.\n",
        "\n",
        "        Returns:\n",
        "            BeautifulSoup: A BeautifulSoup object representing the parsed HTML.\n",
        "        \"\"\"\n",
        "        response = requests.get(url)\n",
        "        response.raise_for_status()\n",
        "        return BeautifulSoup(response.content, 'html.parser')\n",
        "\n",
        "    def _fetch_pep_links(self):\n",
        "        \"\"\"Fetches links to individual PEP pages (private method).\n",
        "\n",
        "        Returns:\n",
        "            list: A list of PEP URLs.\n",
        "        \"\"\"\n",
        "        soup = self.scraper(self.base_url)\n",
        "        return list(\n",
        "            set(\n",
        "                [\n",
        "                    self.base_url + ref['href']\n",
        "                    for ref in soup.find_all('a', class_='pep reference internal')\n",
        "                ]\n",
        "            )\n",
        "        )\n",
        "\n",
        "    def _download_peps(self):\n",
        "        \"\"\"Downloads the content of individual PEPs (private method).\n",
        "\n",
        "        Returns:\n",
        "            list: A list of BeautifulSoup objects representing individual PEPs.\n",
        "        \"\"\"\n",
        "        pep_links = self._fetch_pep_links()\n",
        "        return [self.scraper(pep_link) for pep_link in pep_links]\n",
        "\n",
        "    def scrape(self):\n",
        "        \"\"\"Extracts the relevant text content from each PEP.\n",
        "\n",
        "        Returns:\n",
        "            list: A list of text strings, each representing the content of a PEP.\n",
        "        \"\"\"\n",
        "        pep_soups = self._download_peps()\n",
        "        return [\n",
        "            '\\n'.join([word.text.replace('\"\"\"',\"'\") for word in soup.find_all('section')])\n",
        "            for soup in pep_soups\n",
        "        ]\n",
        "\n",
        "    def jsonl_format(self):\n",
        "        \"\"\"Format the spcraped data to a jsonl format is it alist of dictionaries\n",
        "        Returns:\n",
        "            list: A list of dictionaries with the following:\n",
        "                page_content: The content of each section scraped\n",
        "                source: The linke where it was scraped\n",
        "        \"\"\"\n",
        "        source_links = self._fetch_pep_links()\n",
        "        pep_content = self.scrape()\n",
        "        pep_data = dict(zip(source_links,pep_content))\n",
        "        return [\n",
        "            {\n",
        "                'text': value,\n",
        "                'source': key\n",
        "            }\n",
        "            for key, value in pep_data.items()\n",
        "        ]"
      ],
      "metadata": {
        "execution": {
          "iopub.status.busy": "2024-04-12T03:33:04.439931Z",
          "iopub.execute_input": "2024-04-12T03:33:04.440197Z",
          "iopub.status.idle": "2024-04-12T03:33:04.458601Z",
          "shell.execute_reply.started": "2024-04-12T03:33:04.440175Z",
          "shell.execute_reply": "2024-04-12T03:33:04.457786Z"
        },
        "trusted": true,
        "id": "WeaZqa5OqBaU"
      },
      "execution_count": null,
      "outputs": []
    },
    {
      "cell_type": "markdown",
      "source": [
        "### Embeddings"
      ],
      "metadata": {
        "id": "bdLiIplaqBaU"
      }
    },
    {
      "cell_type": "markdown",
      "source": [
        "The embeder class is the method that lets you embed the data given as a list of strings ➡️📦. It will support the retriever for the RAG system 🔍"
      ],
      "metadata": {
        "id": "yi5E2F_lqBaU"
      }
    },
    {
      "cell_type": "code",
      "source": [
        "class Embeder:\n",
        "    \"\"\"\n",
        "    Creates text document embeddings (numerical representations) for semantic search,\n",
        "    similarity comparison, and related natural language processing tasks. Offers the choice\n",
        "    between a larger model for richer embeddings or a smaller, more efficient model.\n",
        "\n",
        "    Attributes:\n",
        "        large (bool): Controls the size of the embedding model. When set to True, uses a\n",
        "                      larger model for richer embeddings (default: True).\n",
        "        model (str): The name of the embedding model to use. Changes based on the value of 'large'.\n",
        "        device (str): The device to use for computation. Options include \"cpu\" or, if available, \"cuda\"\n",
        "                      for GPU acceleration (default: \"cuda\").\n",
        "    \"\"\"\n",
        "\n",
        "    def __init__(self, large: bool = False):\n",
        "        \"\"\"\n",
        "        Initializes the Embeder instance with preferences for model size.\n",
        "\n",
        "        Args:\n",
        "            large (bool, optional): If True, initializes with the larger embedding model.\n",
        "                                    Defaults to False for the smaller, faster model.\n",
        "        \"\"\"\n",
        "        self.large = large\n",
        "        if self.large:\n",
        "            self.model = \"hkunlp/instructor-large\"\n",
        "            self.device = \"cuda\"  # If GPU is available\n",
        "        else:\n",
        "            self.model = \"sentence-transformers/paraphrase-multilingual-MiniLM-L12-v2\"\n",
        "\n",
        "    def instructor(self):\n",
        "        \"\"\"\n",
        "        Configures the embedding pipeline based on the selected model size.\n",
        "\n",
        "        Returns:\n",
        "           An embedding object from either the HuggingFaceInstructEmbeddings class\n",
        "           (for the large model) or the SentenceTransformerEmbeddings class (for the smaller model).\n",
        "        \"\"\"\n",
        "        if self.large:\n",
        "            embed = HuggingFaceInstructEmbeddings(\n",
        "                model_name=self.model,\n",
        "                model_kwargs={\"device\": self.device}\n",
        "            )\n",
        "        else:\n",
        "            embed = SentenceTransformerEmbeddings(model_name=self.model)\n",
        "        return embed\n",
        "\n",
        "    def run(self, docs_list: list):\n",
        "        \"\"\"\n",
        "        Generates embeddings for a given list of text documents.\n",
        "\n",
        "        Args:\n",
        "            docs_list (list): A list of text documents to embed.\n",
        "\n",
        "        Returns:\n",
        "            List[List[float]]: A list of lists, where each inner list represents the\n",
        "                               numerical embedding for a corresponding document in the input.\n",
        "        \"\"\"\n",
        "        if docs_list is None:\n",
        "            docs_list = ['']  # Prevent errors with empty input\n",
        "\n",
        "        embed = self.instructor()  # Get the appropriate embedding object\n",
        "        return embed.embed_documents(docs_list)\n"
      ],
      "metadata": {
        "execution": {
          "iopub.status.busy": "2024-04-12T03:33:04.459701Z",
          "iopub.execute_input": "2024-04-12T03:33:04.459986Z",
          "iopub.status.idle": "2024-04-12T03:33:04.474111Z",
          "shell.execute_reply.started": "2024-04-12T03:33:04.459963Z",
          "shell.execute_reply": "2024-04-12T03:33:04.473315Z"
        },
        "trusted": true,
        "id": "BQa6tufWqBaU"
      },
      "execution_count": null,
      "outputs": []
    },
    {
      "cell_type": "markdown",
      "source": [
        "### Prompt"
      ],
      "metadata": {
        "id": "bxEBdmC4qBaU"
      }
    },
    {
      "cell_type": "markdown",
      "source": [
        "As a good practice, I consider the prompt as the instruction you use to get what you need from an LLM 🧠. It includes all the parameters the LLM needs in every attempt.  Any change in a parameter will generate a different output 🔄.  Therefore, the input is the whole prompt instruction plus all its parameters.\n",
        "\n",
        "Additionally, it's defined in an external object (like a NoSQL database 🗄️). This allows for easy updates outside of the code, making changes simpler for non-technical people 👍."
      ],
      "metadata": {
        "id": "gWBYlciEqBaU"
      }
    },
    {
      "cell_type": "code",
      "source": [
        "prompt_config = [{\n",
        "    \"prompt_id\": \"0.0.1\",\n",
        "    \"supplier\": \"google\",\n",
        "    \"system\": \"\"\"\n",
        "Act as a Python programming language expert assistant\n",
        "your goal is to answer common questions in a clear, comprehensive, and accurate way, taking into account this guidelines:\n",
        "1. When responding, incorporate any relevant context to enhance the accuracy and informativeness of your answers using the documentation provided if it is necesary\n",
        "2. Please structure your response to include definitions, examples, and any relevant comparisons to other statistical measures\n",
        "3. Aim for plain language to ensure accessibility for all users\n",
        "4. If the question is off topic about programing lenguage you MUST to say \"I'm here to help you with Python programming language questions only, excuse me\"\n",
        "5. You can say hello if you are greeted\n",
        "        \"\"\",\n",
        "    \"technical_documentation\": \"\\n\\nTake into account this technical documentation found:\\n{technical_documentation}\",\n",
        "    \"model\": \"/kaggle/input/gemma/transformers/2b/2\",\n",
        "    \"temperature\": 1,\n",
        "    \"max_length\": 250,\n",
        "    \"max_tokens\": 830,\n",
        "    \"top_p\": 1,\n",
        "    \"frequency_penalty\": 0,\n",
        "    \"presence_penalty\": 0\n",
        "},\n",
        "{\n",
        "    \"prompt_id\": \"0.0.2\",\n",
        "    \"supplier\": \"google\",\n",
        "    \"system\": \"\"\"\n",
        "Act as a Python programming language expert assistant\n",
        "your goal is to answer common questions in a clear, comprehensive, and accurate way, taking into account this guidelines:\n",
        "1. When responding, incorporate any relevant context to enhance the accuracy and informativeness of your answers using the documentation provided if it is necesary\n",
        "2. Please structure your response to include definitions, examples, and any relevant comparisons to other statistical measures\n",
        "3. Aim for plain language to ensure accessibility for all users\n",
        "4. If the question is off topic about programing lenguage you MUST to say \"I'm here to help you with Python programming language questions only, excuse me\"\n",
        "5. You can say hello if you are greeted\n",
        "6. DO NOT repeat more than twice the same sentence!\n",
        "\n",
        "TAKE A DEEP BREATH AND PAY ATTENTION TO THE USER QUESTION\n",
        "\n",
        "For each question you answer perfectly, I will pay you USD 1000.00, may be more for the consecutive accurate and correct answer\n",
        "        \"\"\",\n",
        "    \"technical_documentation\": \"\\n\\nTake into account this technical documentation found:\\n{technical_documentation}\",\n",
        "    \"model\": \"/kaggle/input/gemma/transformers/2b/2\",\n",
        "    \"temperature\": 1,\n",
        "    \"max_length\": 4096,\n",
        "    \"max_tokens\": 830,\n",
        "    \"top_p\": 1,\n",
        "    \"frequency_penalty\": 0,\n",
        "    \"presence_penalty\": 0\n",
        "},\n",
        "{\n",
        "    \"prompt_id\": \"0.0.3\",\n",
        "    \"supplier\": \"google\",\n",
        "    \"system\": \"\"\"\n",
        "Act as a Python programming language expert assistant\n",
        "your goal is to answer common questions in a clear, comprehensive, and accurate way, taking into account this guidelines:\n",
        "1. When responding, incorporate any relevant context to enhance the accuracy and informativeness of your answers using the documentation provided if it is necesary\n",
        "2. Please structure your response to include definitions, examples, and any relevant comparisons to other statistical measures\n",
        "3. Aim for plain language to ensure accessibility for all users\n",
        "4. If the question is off topic about programing lenguage you MUST to say \"I'm here to help you with Python programming language questions only, excuse me\"\n",
        "5. You can say hello if you are greeted\n",
        "6. DO NOT repeat more than once the same sentence!\n",
        "\n",
        "TAKE A DEEP BREATH AND PAY ATTENTION TO THE USER QUESTION\n",
        "\n",
        "For each question you answer perfectly, I will pay you USD 1000.00, may be more for the consecutive accurate and correct answer\n",
        "        \"\"\",\n",
        "    \"technical_documentation\": \"\\n\\nTake into account this technical documentation found:\\n{technical_documentation}\",\n",
        "    \"model\": \"/kaggle/input/gemma/transformers/2b/2\",\n",
        "    \"temperature\": 0,\n",
        "    \"max_length\": 4096,\n",
        "    \"max_tokens\": 830,\n",
        "    \"top_p\": 1,\n",
        "    \"frequency_penalty\": 0,\n",
        "    \"presence_penalty\": 0\n",
        "},\n",
        "{\n",
        "    \"prompt_id\": \"0.0.4\",\n",
        "    \"supplier\": \"google\",\n",
        "    \"system\": \"\"\"\n",
        "Act as a Python programming language expert assistant\n",
        "your goal is to answer common questions in a clear, comprehensive, and accurate way, taking into account this guidelines:\n",
        "1. When responding, incorporate any relevant context to enhance the accuracy and informativeness of your answers using the documentation provided if it is necesary\n",
        "2. Please structure your response to include definitions, examples, and any relevant comparisons to other statistical measures in no more than 1000 characters\n",
        "3. Aim for plain language to ensure accessibility for all users\n",
        "4. If the question is off topic about programing lenguage you MUST to say \"I'm here to help you with Python programming language questions only, excuse me\"\n",
        "5. You can say hello if you are greeted\n",
        "6. DO NOT repeat more than once the same sentence!\n",
        "\n",
        "TAKE A DEEP BREATH AND PAY ATTENTION TO THE USER QUESTION\n",
        "\n",
        "For each question you answer perfectly, I will pay you USD 1000.00, may be more for the consecutive accurate and correct answer\n",
        "        \"\"\",\n",
        "    \"technical_documentation\": \"\\n\\nTake into account this technical documentation found:\\n{technical_documentation}\",\n",
        "    \"model\": \"/kaggle/input/gemma/transformers/2b/2\",\n",
        "    \"temperature\": 0,\n",
        "    \"max_length\": 4096,\n",
        "    \"max_tokens\": 830,\n",
        "    \"top_p\": 1,\n",
        "    \"frequency_penalty\": 0,\n",
        "    \"presence_penalty\": 0\n",
        "}]"
      ],
      "metadata": {
        "execution": {
          "iopub.status.busy": "2024-04-12T03:33:04.475385Z",
          "iopub.execute_input": "2024-04-12T03:33:04.475641Z",
          "iopub.status.idle": "2024-04-12T03:33:04.489476Z",
          "shell.execute_reply.started": "2024-04-12T03:33:04.47562Z",
          "shell.execute_reply": "2024-04-12T03:33:04.488692Z"
        },
        "trusted": true,
        "id": "8t3J_VHNqBaU"
      },
      "execution_count": null,
      "outputs": []
    },
    {
      "cell_type": "markdown",
      "source": [
        "### Settings"
      ],
      "metadata": {
        "execution": {
          "iopub.status.busy": "2024-04-04T05:03:58.746391Z",
          "iopub.execute_input": "2024-04-04T05:03:58.746828Z",
          "iopub.status.idle": "2024-04-04T05:03:58.751668Z",
          "shell.execute_reply.started": "2024-04-04T05:03:58.746794Z",
          "shell.execute_reply": "2024-04-04T05:03:58.750527Z"
        },
        "id": "kghNzy_KqBaV"
      }
    },
    {
      "cell_type": "markdown",
      "source": [
        "This class aims to load the project's environment variables 🔐 (in this case, Kaggle secrets). Additionally, it disposes of the prompt, as previously defined, to use it according to the team's chosen version 🎯 and for the method that needs those secrets to work ✨."
      ],
      "metadata": {
        "id": "SRlYlfexqBaV"
      }
    },
    {
      "cell_type": "code",
      "source": [
        "class Settings:\n",
        "    \"\"\"\n",
        "    Manages and loads external configuration secrets for the application.  Utilizes a UserSecretsClient\n",
        "    to securely retrieve sensitive configuration values.\n",
        "    \"\"\"\n",
        "\n",
        "    def __init__(self):\n",
        "        \"\"\"\n",
        "        Initializes the Settings class and retrieves configuration secrets.\n",
        "        \"\"\"\n",
        "        self.user_secrets = UserSecretsClient()  # Create an instance for accessing secrets\n",
        "\n",
        "        # Load individual secrets (add descriptions for clarity)\n",
        "        self.CHUNK_SIZE = self.user_secrets.get_secret(\"CHUNK_SIZE\")  # The size of data chunks for processing\n",
        "        self.CHUNK_OVERLAP = self.user_secrets.get_secret(\"CHUNK_OVERLAP\")  # Ooverlap between data chunks\n",
        "        self.CHROMA_NAME_INDEX = self.user_secrets.get_secret(\"CHROMA_NAME_INDEX\")  # Vectorial Database identifier\n",
        "        self.MAX_MEMORY = self.user_secrets.get_secret(\"MAX_MEMORY\")  # Max memory limit to fit the max_lenght paramether\n",
        "        self.K = self.user_secrets.get_secret(\"K\")  # Could be a parameter for an algorithm\n",
        "        self.NN_THRESHOLD = self.user_secrets.get_secret(\"NN_THRESHOLD\")  # A threshold for a neural network or similarity metric\n",
        "        self.PROMPT_ID = self.user_secrets.get_secret(\"PROMPT_ID\")  # An identifier for a prompt (likely in a text-based task and configs)\n",
        "\n",
        "        # Given that 'prompt_config' is teh previous source of prompt definitions:\n",
        "        self.prompt = [prompt for prompt in prompt_config if prompt['prompt_id'] == self.PROMPT_ID][0]\n"
      ],
      "metadata": {
        "execution": {
          "iopub.status.busy": "2024-04-12T03:33:04.490469Z",
          "iopub.execute_input": "2024-04-12T03:33:04.490728Z",
          "iopub.status.idle": "2024-04-12T03:33:04.50457Z",
          "shell.execute_reply.started": "2024-04-12T03:33:04.490706Z",
          "shell.execute_reply": "2024-04-12T03:33:04.503751Z"
        },
        "trusted": true,
        "id": "XgzRuzZ1qBaV"
      },
      "execution_count": null,
      "outputs": []
    },
    {
      "cell_type": "markdown",
      "source": [
        "### Retriever"
      ],
      "metadata": {
        "id": "WmquTVJUqBaV"
      }
    },
    {
      "cell_type": "markdown",
      "source": [
        "The retriever is the engine of the RAG system ⚙️. It uses config settings stored on the Settings class 📁 and the Embeder class to populate the Chroma vector database 🚀. This setup needs to be done once and then can be loaded persistently.\n",
        "\n",
        "* when setting up the vectorial database, This process may take a few minutes the first time ⏳, so please be PATIENT!"
      ],
      "metadata": {
        "id": "yP8hPYAqqBaV"
      }
    },
    {
      "cell_type": "code",
      "source": [
        "embeder = Embeder()\n",
        "settings = Settings()\n",
        "peps = Peps()\n",
        "class Retriever:\n",
        "    \"\"\"\n",
        "    Retrieves relevant text chunks from a Chroma vectorial database based on a query. Leverages external\n",
        "    configuration settings (Settings) and an embedding model (Embeder).\n",
        "\n",
        "    Handles text splitting, vector database loading, and querying.\n",
        "    \"\"\"\n",
        "\n",
        "    def __init__(self):\n",
        "        \"\"\"\n",
        "        Initializes the Retriever class. Configures the text splitter using settings and stores the\n",
        "        index name for the Chroma database. Initializes the Chroma vectorial_db object.\n",
        "        \"\"\"\n",
        "        self.text_splitter = RecursiveCharacterTextSplitter(\n",
        "            chunk_size=int(settings.CHUNK_SIZE),\n",
        "            length_function=len,\n",
        "            chunk_overlap=int(settings.CHUNK_OVERLAP)\n",
        "        )\n",
        "        self.index_name = settings.CHROMA_NAME_INDEX\n",
        "        self.data = peps.jsonl_format()\n",
        "        self.documents = self.text_splitter.split_documents(self._prepare_documents())\n",
        "\n",
        "        # Initialize the Chroma vectorial database with preprocessed data\n",
        "        self.vectorial_db = Chroma.from_documents(\n",
        "            documents=self.documents,\n",
        "            embedding=embeder.instructor()\n",
        "        )\n",
        "\n",
        "    def _prepare_documents(self):\n",
        "        \"\"\"\n",
        "        Loads and preprocesses data for storage in the Chroma database.\n",
        "        \"\"\"\n",
        "        documents = []\n",
        "        for obj in self.data:\n",
        "            page_content = obj.get(\"text\", \"\")\n",
        "            metadata = {\n",
        "                \"source\": obj.get(\"source\", \"local\")\n",
        "            }\n",
        "            documents.append(Document(page_content=page_content, metadata=metadata))\n",
        "        return documents\n",
        "\n",
        "    def query(\n",
        "            self,\n",
        "            message: str,\n",
        "            k: int = int(settings.K),\n",
        "            threshold: float = float(settings.NN_THRESHOLD)\n",
        "        ):\n",
        "        \"\"\"\n",
        "        Retrieves the most similar text chunks from the Chroma database based on a given query.\n",
        "        \"\"\"\n",
        "        # Perform the similarity search\n",
        "        try:\n",
        "            res = self.vectorial_db.similarity_search_with_score(message, k=k)\n",
        "            # Filter and return results\n",
        "            relevant_results = list(\n",
        "                set(  # Remove duplicates\n",
        "                    [\n",
        "                        vector[0].page_content\n",
        "                        for vector in res\n",
        "                        if vector[1] < threshold  # Apply similarity threshold\n",
        "                    ]\n",
        "                )\n",
        "            )\n",
        "\n",
        "            return [\n",
        "                result.replace('\"\"\"',\"'\") # Clean up possible docString retrieved from documented code\n",
        "                for result in relevant_results\n",
        "            ]\n",
        "        except Exception as e:\n",
        "            return []\n",
        "\n",
        ""
      ],
      "metadata": {
        "execution": {
          "iopub.status.busy": "2024-04-12T03:33:04.505739Z",
          "iopub.execute_input": "2024-04-12T03:33:04.507697Z",
          "iopub.status.idle": "2024-04-12T03:33:05.596749Z",
          "shell.execute_reply.started": "2024-04-12T03:33:04.507668Z",
          "shell.execute_reply": "2024-04-12T03:33:05.595996Z"
        },
        "trusted": true,
        "id": "dH8p-jxWqBaV"
      },
      "execution_count": null,
      "outputs": []
    },
    {
      "cell_type": "markdown",
      "source": [
        "### Message"
      ],
      "metadata": {
        "id": "GWQ2hlqrqBaV"
      }
    },
    {
      "cell_type": "markdown",
      "source": [
        "The message class lets you store every system, user, and assistant message in an organized structure 💬. This includes unique IDs and timestamps for each message generated during the conversation.\n",
        "\n",
        "It uses a local JSON file 📄 to store chat history (including few-shot samples to guide the model). In a real-world scenario, this file would represent a NoSQL database 🗄️  capable of handling chats from many users when the chatbot is deployed as a large-scale web service 🌐.\n",
        "\n",
        "It use the Setting class to meet the main propmpt configs in the run time 😃 🏃‍♀️  "
      ],
      "metadata": {
        "id": "koufEqkAqBaV"
      }
    },
    {
      "cell_type": "code",
      "source": [
        "class Message:\n",
        "    \"\"\"\n",
        "    Represents a message within a conversational context. Stores information about the message's role,\n",
        "    content, timestamp, and manages saving and loading conversation history.\n",
        "    \"\"\"\n",
        "\n",
        "    def __init__(\n",
        "        self,\n",
        "        role: str,\n",
        "        content: str,\n",
        "        timestamp: str = int(time.time()),\n",
        "        prompt_id: str = settings.PROMPT_ID\n",
        "    ):\n",
        "        \"\"\"\n",
        "        Initializes a Message object.\n",
        "\n",
        "        Args:\n",
        "            role (str): Indicates the role of the sender (e.g., 'user', 'system').\n",
        "            content (str): The text content of the message.\n",
        "            timestamp (str, optional): A timestamp for the message (defaults to the current time).\n",
        "            prompt_id (str, optional): Identifier relating to a specific prompt configuration (from settings).\n",
        "        \"\"\"\n",
        "\n",
        "        self.reply_id = str(uuid.uuid4())  # Generate a unique ID for the message\n",
        "        self.role = role\n",
        "        self.content = content\n",
        "        self.timestamp = timestamp\n",
        "        self.file = 'data/history.json'  # File for storing conversation history\n",
        "\n",
        "        # Ensure the history file exists\n",
        "        if not os.path.exists(self.file):\n",
        "            json.dump([], open(self.file, 'w'))  # Create an empty file if it doesn't exist\n",
        "\n",
        "    def reply(self):\n",
        "        \"\"\"\n",
        "        Formats a basic reply message structure.\n",
        "\n",
        "        Returns:\n",
        "            dict: A dictionary containing the message's reply ID, role, content, and timestamp.\n",
        "        \"\"\"\n",
        "        return {\n",
        "            'reply_id': self.reply_id,\n",
        "            'role': self.role,\n",
        "            'content': self.content,\n",
        "            'timestamp': self.timestamp\n",
        "        }\n",
        "\n",
        "    def system_reply(self):\n",
        "        \"\"\"\n",
        "        Generates a system reply using the prompt configuration.\n",
        "\n",
        "        Returns:\n",
        "            dict: A dictionary containing the system reply, including ID, role, timestamp,\n",
        "                  and text content derived from settings.\n",
        "        \"\"\"\n",
        "        prompt = settings.prompt\n",
        "        return {\n",
        "            'reply_id': self.reply_id,\n",
        "            'role': 'system',\n",
        "            'content': prompt['system'],\n",
        "            'timestamp': self.timestamp\n",
        "        }\n",
        "\n",
        "    def new_chat(self):\n",
        "        \"\"\"\n",
        "        Starts a new chat by initializing the history file.\n",
        "\n",
        "        Returns:\n",
        "            list: A list with the initial system reply and the user's message.\n",
        "        \"\"\"\n",
        "        init_chat = [self.system_reply(), self.reply()]\n",
        "        json.dump(init_chat, open(self.file, 'w'))\n",
        "        return init_chat\n",
        "\n",
        "    def update(self):\n",
        "        \"\"\"\n",
        "        Updates the conversation history file by appending the current reply.\n",
        "        \"\"\"\n",
        "        dict_history = json.load(open(self.file))\n",
        "        dict_history.append(self.reply())\n",
        "        json.dump(dict_history, open(self.file, 'w'))\n",
        "\n",
        "    def restart_history(self):\n",
        "        \"\"\"\n",
        "        Clears the conversation history file.\n",
        "        \"\"\"\n",
        "        json.dump([], open(self.file, 'w'))\n"
      ],
      "metadata": {
        "execution": {
          "iopub.status.busy": "2024-04-12T03:33:05.597946Z",
          "iopub.execute_input": "2024-04-12T03:33:05.598393Z",
          "iopub.status.idle": "2024-04-12T03:33:05.610359Z",
          "shell.execute_reply.started": "2024-04-12T03:33:05.59836Z",
          "shell.execute_reply": "2024-04-12T03:33:05.609453Z"
        },
        "trusted": true,
        "id": "ZYn0Z_HSqBaV"
      },
      "execution_count": null,
      "outputs": []
    },
    {
      "cell_type": "markdown",
      "source": [
        "### Model Gemma"
      ],
      "metadata": {
        "id": "5ZemIoxrqBaV"
      }
    },
    {
      "cell_type": "markdown",
      "source": [
        "This is the brain of the agent! 🧠 The Gemma class lets you load the model 💪 and tokenizer ⚙️ using those smart settings from the Setting class. Then, you can chat with the model using the powerful GPU device 🚀."
      ],
      "metadata": {
        "id": "wgcC48gxqBaW"
      }
    },
    {
      "cell_type": "code",
      "source": [
        "class Gemma:\n",
        "    \"\"\"\n",
        "    Implements a conversational AI chatbot powered by Gemma large language model. Initializes the model,\n",
        "    tokenizer, and prepares settings from a configuration.\n",
        "    \"\"\"\n",
        "\n",
        "    def __init__(self):\n",
        "        \"\"\"\n",
        "        Initializes the Gemma chatbot instance.\n",
        "\n",
        "        Loads the language model and its corresponding tokenizer from the settings configuration.\n",
        "        Prepares the model for use on a GPU (if available).\n",
        "        \"\"\"\n",
        "        self.prompt = settings.prompt  # Load prompt settings\n",
        "\n",
        "        # Load language model and tokenizer\n",
        "        self.model_checkpoint = self.prompt['model']\n",
        "        self.tokenizer = AutoTokenizer.from_pretrained(self.model_checkpoint)\n",
        "        self.gemma = AutoModelForCausalLM.from_pretrained(\n",
        "            self.model_checkpoint,\n",
        "            torch_dtype=torch.float16  # Use half-precision for efficiency (if supported)\n",
        "        ).cuda()  # Move model to GPU (if available)\n",
        "\n",
        "    def chat(self, context: str):\n",
        "        \"\"\"\n",
        "        Generates a chatbot response based on the provided conversational context.\n",
        "\n",
        "        Args:\n",
        "            context (str): The conversational input text.\n",
        "\n",
        "        Returns:\n",
        "            str: The generated text response from the chatbot.\n",
        "        \"\"\"\n",
        "        # Prepare input for the language model\n",
        "        input_text = context\n",
        "        input_ids = self.tokenizer(input_text, return_tensors=\"pt\")\n",
        "        input_ids = {\n",
        "            k: v.to(\"cuda\") for k, v in input_ids.items()  # Move tensors to GPU\n",
        "        }\n",
        "\n",
        "        # Generate a response with the language model\n",
        "        outputs = self.gemma.generate(\n",
        "            **input_ids,\n",
        "            max_length=self.prompt['max_length']  # Control response length\n",
        "        )\n",
        "\n",
        "        # Decode and return the generated text\n",
        "        return self.tokenizer.decode(outputs[0])\n"
      ],
      "metadata": {
        "execution": {
          "iopub.status.busy": "2024-04-12T03:33:05.613889Z",
          "iopub.execute_input": "2024-04-12T03:33:05.614262Z",
          "iopub.status.idle": "2024-04-12T03:33:05.626313Z",
          "shell.execute_reply.started": "2024-04-12T03:33:05.614226Z",
          "shell.execute_reply": "2024-04-12T03:33:05.625521Z"
        },
        "trusted": true,
        "id": "zJSzXw93qBaW"
      },
      "execution_count": null,
      "outputs": []
    },
    {
      "cell_type": "code",
      "source": [
        "class GemmaSubtle:\n",
        "    \"\"\"\n",
        "    Implements a conversational AI chatbot powered by Gemma large language model. Initializes the model,\n",
        "    tokenizer, and prepares settings from a configuration.\n",
        "    \"\"\"\n",
        "\n",
        "    def __init__(self):\n",
        "        \"\"\"\n",
        "        Initializes the Gemma chatbot instance.\n",
        "\n",
        "        Loads the language model and its corresponding tokenizer from the settings configuration.\n",
        "        Prepares the model for use on a GPU (if available).\n",
        "        \"\"\"\n",
        "        self.prompt = settings.prompt  # Load prompt settings\n",
        "\n",
        "        # Load language model and tokenizer\n",
        "        self.model_checkpoint = self.prompt['model']\n",
        "        self.tokenizer = AutoTokenizer.from_pretrained(self.model_checkpoint)\n",
        "        self.gemma = AutoModelForCausalLM.from_pretrained(\n",
        "            self.model_checkpoint,\n",
        "            torch_dtype=torch.float16  # Use half-precision for efficiency (if supported)\n",
        "        ).cuda()  # Move model to GPU (if available)\n",
        "\n",
        "    def chat(self, context: str):\n",
        "        \"\"\"\n",
        "        Generates a chatbot response based on the provided conversational context.\n",
        "\n",
        "        Args:\n",
        "            context (str): The conversational input text.\n",
        "\n",
        "        Returns:\n",
        "            str: The generated text response from the chatbot.\n",
        "        \"\"\"\n",
        "        # Prepare input for the language model\n",
        "        input_text = context\n",
        "        input_ids = self.tokenizer(input_text, return_tensors=\"pt\")\n",
        "        input_ids = {\n",
        "            k: v.to(\"cuda\") for k, v in input_ids.items()  # Move tensors to GPU\n",
        "        }\n",
        "\n",
        "        # Generate a response with the language model\n",
        "        outputs = self.gemma.generate(\n",
        "            **input_ids,\n",
        "            max_length=self.prompt['max_length'],  # Control response length\n",
        "            temperature=1\n",
        "        )\n",
        "\n",
        "        # Decode and return the generated text\n",
        "        return self.tokenizer.decode(outputs[0])"
      ],
      "metadata": {
        "execution": {
          "iopub.status.busy": "2024-04-12T04:35:11.812377Z",
          "iopub.execute_input": "2024-04-12T04:35:11.812727Z",
          "iopub.status.idle": "2024-04-12T04:35:11.821715Z",
          "shell.execute_reply.started": "2024-04-12T04:35:11.812701Z",
          "shell.execute_reply": "2024-04-12T04:35:11.820828Z"
        },
        "trusted": true,
        "id": "szACgS74qBaW"
      },
      "execution_count": null,
      "outputs": []
    },
    {
      "cell_type": "code",
      "source": [
        "gemmasubtle = GemmaSubtle()\n",
        "gemmasubtle.chat('who are you?')"
      ],
      "metadata": {
        "execution": {
          "iopub.status.busy": "2024-04-12T04:35:15.288622Z",
          "iopub.execute_input": "2024-04-12T04:35:15.288966Z"
        },
        "trusted": true,
        "id": "mX45BdFxqBaW",
        "outputId": "2cd5561f-018f-43a6-c72d-c0df8c07d038",
        "colab": {
          "referenced_widgets": [
            "b5b2ba06f7854cebbfebe75930021f4f"
          ]
        }
      },
      "execution_count": null,
      "outputs": [
        {
          "output_type": "display_data",
          "data": {
            "text/plain": "Loading checkpoint shards:   0%|          | 0/2 [00:00<?, ?it/s]",
            "application/vnd.jupyter.widget-view+json": {
              "version_major": 2,
              "version_minor": 0,
              "model_id": "b5b2ba06f7854cebbfebe75930021f4f"
            }
          },
          "metadata": {}
        }
      ]
    },
    {
      "cell_type": "markdown",
      "source": [
        "### Expert Python Agent/Assistant"
      ],
      "metadata": {
        "id": "gTImJ9TTqBaW"
      }
    },
    {
      "cell_type": "markdown",
      "source": [
        "Finally, the agent class brings it all together! It uses the retriever 🔍 to implement the RAG system and the Gemma class 🧠 as the powerful brain. Together, they answer questions and the agent performs some final preprocessing ✨ to deliver the polished answer"
      ],
      "metadata": {
        "id": "KAtPgdYIqBaW"
      }
    },
    {
      "cell_type": "code",
      "source": [
        "%%time\n",
        "retriever = Retriever()\n",
        "gemma = Gemma()\n",
        "\n",
        "class Agent:\n",
        "    \"\"\"\n",
        "    Implements a conversational AI agent that leverages a knowledge database for information retrieval\n",
        "    and integrates with a generative language model (Gemma) for response generation. Manages conversation\n",
        "    history and question-answering logic.\n",
        "    \"\"\"\n",
        "\n",
        "    def __init__(self):\n",
        "        \"\"\"\n",
        "        Initializes the Agent, loading prompt settings and ensuring the conversation history file exists.\n",
        "        \"\"\"\n",
        "        self.prompt = settings.prompt\n",
        "        self.file = 'data/history.json'\n",
        "        if not os.path.exists(self.file):\n",
        "            json.dump([], open(self.file, 'w'))  # Create an empty file if necessary\n",
        "\n",
        "        self.token = '\\n<-change-of-interlocutor->'  # Token to separate speakers in the chat history\n",
        "        self.memory_lenght = int(settings.MAX_MEMORY)\n",
        "\n",
        "    def augmented_question(self, question: str):\n",
        "        \"\"\"\n",
        "        Enhances the user's question with relevant technical documentation.\n",
        "\n",
        "        Args:\n",
        "            question (str): The user's original question.\n",
        "\n",
        "        Returns:\n",
        "            str: The question augmented with technical documentation (if found), otherwise the original question.\n",
        "        \"\"\"\n",
        "        tech_docs = retriever.query(question)\n",
        "        if len(tech_docs) > 0:\n",
        "            docs = self.prompt['technical_documentation']\n",
        "            tech_docs = '\\n* '.join(tech_docs)\n",
        "            docs = docs.format(technical_documentation=tech_docs)\n",
        "            augmented_reply = f\"\"\"{question}{docs}\"\"\"\n",
        "            return augmented_reply\n",
        "        else:\n",
        "            return question\n",
        "\n",
        "    def memory(self, question: str):\n",
        "        \"\"\"\n",
        "        Prepares the conversational context (memory) for the language model.\n",
        "\n",
        "        Args:\n",
        "            question (str): The user's current question.\n",
        "\n",
        "        Returns:\n",
        "            str: Formatted conversation history with a clear separation between speakers, ready\n",
        "                 for input to the language model.\n",
        "        \"\"\"\n",
        "\n",
        "        dict_history = json.load(open(self.file))\n",
        "        message = Message(\n",
        "            role='user',\n",
        "            content=self.augmented_question(question)\n",
        "        )\n",
        "\n",
        "        if len(dict_history) > 0:\n",
        "            message.update()  # Add the latest message to history\n",
        "            full_chat = json.load(open(self.file))\n",
        "        else:\n",
        "            full_chat = message.new_chat()  # Start a new conversation\n",
        "\n",
        "        if len(full_chat) > self.memory_lenght:\n",
        "            full_chat = [full_chat[0]] + full_chat[-self.memory_lenght:] #limiting the few-shot prompt to fit max_lenght\n",
        "\n",
        "        return '\\n'.join(\n",
        "            [\n",
        "                self.token + reply['role'] + ': ' + reply['content']\n",
        "                for reply in full_chat\n",
        "            ]\n",
        "        ) + self.token + 'assistant:'\n",
        "\n",
        "    def get_answer(self, full_response: str, question: str):\n",
        "        \"\"\"\n",
        "        Extracts the relevant answer from the language model's generated response.\n",
        "\n",
        "        Args:\n",
        "            full_response (str): The complete response generated by the language model.\n",
        "            question (str): The user's original question.\n",
        "\n",
        "        Returns:\n",
        "            str: The extracted answer.\n",
        "        \"\"\"\n",
        "\n",
        "        answer_list = full_response.split(self.token)\n",
        "        pos_list = [\n",
        "            pos\n",
        "            for pos, answer\n",
        "            in enumerate(answer_list)\n",
        "            if question in answer\n",
        "        ]\n",
        "        tokened_answer = answer_list[pos_list[0] + 1]\n",
        "        answer = tokened_answer.split('assistant:')[1]\n",
        "        message = Message(\n",
        "            role='assistant',\n",
        "            content=answer\n",
        "        )\n",
        "        message.update()  # Update conversation history\n",
        "        return answer\n",
        "\n",
        "    def chat(self, question: str, verbose: bool = False):\n",
        "        \"\"\"\n",
        "        Manages the core interaction with the Agent.\n",
        "\n",
        "        Args:\n",
        "            question (str): The user's query.\n",
        "            verbose (bool, optional): If True, prints the language model's full response (default: False).\n",
        "\n",
        "        Returns:\n",
        "            str: The Agent's answer to the user's question.\n",
        "        \"\"\"\n",
        "\n",
        "        memory = self.memory(question)  # Build conversational context\n",
        "        full_response = gemma.chat(context=memory)  # Generate response\n",
        "        if verbose:\n",
        "            print(full_response)\n",
        "        answer = self.get_answer(full_response, question)  # Extract the answer\n",
        "        return display(Markdown(answer))"
      ],
      "metadata": {
        "execution": {
          "iopub.status.busy": "2024-04-12T03:33:05.627402Z",
          "iopub.execute_input": "2024-04-12T03:33:05.627696Z",
          "iopub.status.idle": "2024-04-12T03:44:38.695255Z",
          "shell.execute_reply.started": "2024-04-12T03:33:05.627673Z",
          "shell.execute_reply": "2024-04-12T03:44:38.694268Z"
        },
        "trusted": true,
        "id": "nutHkI_-qBaW",
        "outputId": "7446be9f-2eb6-4cae-9a1a-89cffe59ebb9",
        "colab": {
          "referenced_widgets": [
            "eff1fc46b0fc407ea9e1a9f2e313bad4",
            "3e9d2716c2c443c2bfc8804da54cb266",
            "3d55be489dab43e88c885cf07db0fe9b",
            "cb4515e14f2b4dfdbf8e6a06d5189492",
            "f9f4572021854019952f7c692f8fc564",
            "88dcae0d490a45fb809fbfb64b20e4e3",
            "beec544de7ba4abbab1f956859a1bdb3",
            "597bd9e8183546e5a40c8e33244ca864",
            "b986dc0d3b1b45b49b285d48c8cd6579",
            "19146d257cc342dc9ab789c92424347f",
            "66f38abf60384bfaa6e264c1845e13c1"
          ]
        }
      },
      "execution_count": null,
      "outputs": [
        {
          "output_type": "display_data",
          "data": {
            "text/plain": "modules.json:   0%|          | 0.00/229 [00:00<?, ?B/s]",
            "application/vnd.jupyter.widget-view+json": {
              "version_major": 2,
              "version_minor": 0,
              "model_id": "eff1fc46b0fc407ea9e1a9f2e313bad4"
            }
          },
          "metadata": {}
        },
        {
          "output_type": "display_data",
          "data": {
            "text/plain": "config_sentence_transformers.json:   0%|          | 0.00/122 [00:00<?, ?B/s]",
            "application/vnd.jupyter.widget-view+json": {
              "version_major": 2,
              "version_minor": 0,
              "model_id": "3e9d2716c2c443c2bfc8804da54cb266"
            }
          },
          "metadata": {}
        },
        {
          "output_type": "display_data",
          "data": {
            "text/plain": "README.md:   0%|          | 0.00/4.12k [00:00<?, ?B/s]",
            "application/vnd.jupyter.widget-view+json": {
              "version_major": 2,
              "version_minor": 0,
              "model_id": "3d55be489dab43e88c885cf07db0fe9b"
            }
          },
          "metadata": {}
        },
        {
          "output_type": "display_data",
          "data": {
            "text/plain": "sentence_bert_config.json:   0%|          | 0.00/53.0 [00:00<?, ?B/s]",
            "application/vnd.jupyter.widget-view+json": {
              "version_major": 2,
              "version_minor": 0,
              "model_id": "cb4515e14f2b4dfdbf8e6a06d5189492"
            }
          },
          "metadata": {}
        },
        {
          "output_type": "display_data",
          "data": {
            "text/plain": "config.json:   0%|          | 0.00/645 [00:00<?, ?B/s]",
            "application/vnd.jupyter.widget-view+json": {
              "version_major": 2,
              "version_minor": 0,
              "model_id": "f9f4572021854019952f7c692f8fc564"
            }
          },
          "metadata": {}
        },
        {
          "output_type": "display_data",
          "data": {
            "text/plain": "model.safetensors:   0%|          | 0.00/471M [00:00<?, ?B/s]",
            "application/vnd.jupyter.widget-view+json": {
              "version_major": 2,
              "version_minor": 0,
              "model_id": "88dcae0d490a45fb809fbfb64b20e4e3"
            }
          },
          "metadata": {}
        },
        {
          "output_type": "display_data",
          "data": {
            "text/plain": "tokenizer_config.json:   0%|          | 0.00/480 [00:00<?, ?B/s]",
            "application/vnd.jupyter.widget-view+json": {
              "version_major": 2,
              "version_minor": 0,
              "model_id": "beec544de7ba4abbab1f956859a1bdb3"
            }
          },
          "metadata": {}
        },
        {
          "output_type": "display_data",
          "data": {
            "text/plain": "tokenizer.json:   0%|          | 0.00/9.08M [00:00<?, ?B/s]",
            "application/vnd.jupyter.widget-view+json": {
              "version_major": 2,
              "version_minor": 0,
              "model_id": "597bd9e8183546e5a40c8e33244ca864"
            }
          },
          "metadata": {}
        },
        {
          "output_type": "display_data",
          "data": {
            "text/plain": "special_tokens_map.json:   0%|          | 0.00/239 [00:00<?, ?B/s]",
            "application/vnd.jupyter.widget-view+json": {
              "version_major": 2,
              "version_minor": 0,
              "model_id": "b986dc0d3b1b45b49b285d48c8cd6579"
            }
          },
          "metadata": {}
        },
        {
          "output_type": "display_data",
          "data": {
            "text/plain": "1_Pooling/config.json:   0%|          | 0.00/190 [00:00<?, ?B/s]",
            "application/vnd.jupyter.widget-view+json": {
              "version_major": 2,
              "version_minor": 0,
              "model_id": "19146d257cc342dc9ab789c92424347f"
            }
          },
          "metadata": {}
        },
        {
          "output_type": "display_data",
          "data": {
            "text/plain": "Loading checkpoint shards:   0%|          | 0/2 [00:00<?, ?it/s]",
            "application/vnd.jupyter.widget-view+json": {
              "version_major": 2,
              "version_minor": 0,
              "model_id": "66f38abf60384bfaa6e264c1845e13c1"
            }
          },
          "metadata": {}
        },
        {
          "name": "stdout",
          "text": "CPU times: user 12min 8s, sys: 14.1 s, total: 12min 22s\nWall time: 11min 33s\n",
          "output_type": "stream"
        }
      ]
    },
    {
      "cell_type": "markdown",
      "source": [
        "# Data"
      ],
      "metadata": {
        "id": "r8OX7Xe-soW5"
      }
    },
    {
      "cell_type": "markdown",
      "source": [
        "## fine-tunning data"
      ],
      "metadata": {
        "id": "YOgqhoDYqBab"
      }
    },
    {
      "cell_type": "code",
      "source": [
        "%%time\n",
        "PythonQAData = pythonQAData()\n",
        "python_qa = PythonQAData.get_qa_data()\n",
        "print(python_qa[1486])"
      ],
      "metadata": {
        "execution": {
          "iopub.status.busy": "2024-04-12T03:44:38.696312Z",
          "iopub.execute_input": "2024-04-12T03:44:38.696593Z",
          "iopub.status.idle": "2024-04-12T03:45:11.354921Z",
          "shell.execute_reply.started": "2024-04-12T03:44:38.696569Z",
          "shell.execute_reply": "2024-04-12T03:45:11.353934Z"
        },
        "trusted": true,
        "id": "6H4YdSqJqBab",
        "outputId": "fae192dc-24c5-4420-e714-58ee159acd5a"
      },
      "execution_count": null,
      "outputs": [
        {
          "name": "stdout",
          "text": "{'Question': 'How can I split a file in python?', 'Answer': \"This one splits a file up by newlines and writes it back out. You can change the delimiter easily. This can also handle uneven amounts as well, if you don't have a multiple of splitLen lines (20 in this example) in your input file.\\n\\nsplitLen = 20         # 20 lines per file\\noutputBase = 'output' # output.1.txt, output.2.txt, etc.\\n\\n# This is shorthand and not friendly with memory\\n# on very large files (Sean Cavanagh), but it works.\\ninput = open('input.txt', 'r').read().split('\\\\n')\\n\\nat = 1\\nfor lines in range(0, len(input), splitLen):\\n    # First, get the list slice\\n    outputData = input[lines:lines+splitLen]\\n\\n    # Now open the output file, join the new slice with newlines\\n    # and write it out. Then close the file.\\n    output = open(outputBase + str(at) + '.txt', 'w')\\n    output.write('\\\\n'.join(outputData))\\n    output.close()\\n\\n    # Increment the counter\\n    at += 1\\n\\n\"}\nCPU times: user 16.2 s, sys: 950 ms, total: 17.1 s\nWall time: 32.6 s\n",
          "output_type": "stream"
        }
      ]
    },
    {
      "cell_type": "code",
      "source": [
        "print(\n",
        "'\\n* Mean lenght of a python common question:',\n",
        "sum([len(q['Answer']) for q in python_qa])/len(python_qa),\n",
        "'\\n* Standard deviation of length a common Python question:',\n",
        "np.std([len(q['Answer']) for q in python_qa])\n",
        ")"
      ],
      "metadata": {
        "execution": {
          "iopub.status.busy": "2024-04-12T04:20:26.443565Z",
          "iopub.execute_input": "2024-04-12T04:20:26.443928Z",
          "iopub.status.idle": "2024-04-12T04:20:26.478842Z",
          "shell.execute_reply.started": "2024-04-12T04:20:26.443899Z",
          "shell.execute_reply": "2024-04-12T04:20:26.477908Z"
        },
        "trusted": true,
        "id": "OWDO_Y4DqBab",
        "outputId": "51f8f4fe-0a1c-4c62-8f09-2142f9cc0889"
      },
      "execution_count": null,
      "outputs": [
        {
          "name": "stdout",
          "text": "\n* Mean lenght of a python common question: 973.8736229099751 \n* Standard deviation of length a common Python question: 1200.4630038643415\n",
          "output_type": "stream"
        }
      ]
    },
    {
      "cell_type": "code",
      "source": [
        "print(\n",
        "'\\n* Mean lenght of a python common answer:',\n",
        "sum([len(q['Question']) for q in python_qa])/len(python_qa),\n",
        "'\\n* Standard deviation of length a common Python question:',\n",
        "np.std([len(q['Question']) for q in python_qa])\n",
        ")"
      ],
      "metadata": {
        "id": "T7WL0kZuqBac"
      },
      "execution_count": null,
      "outputs": []
    },
    {
      "cell_type": "code",
      "source": [
        "%%time\n",
        "PythonQAData = pythonQAData()\n",
        "python_context = PythonQAData.get_fine_tunning_data()\n",
        "print(\n",
        "    'Python Questions loaded:',\n",
        "    len(python_context),\n",
        "    '\\n',\n",
        "    '\\nSample question-answer:\\n',\n",
        "    python_context[-1][:1000]\n",
        ")"
      ],
      "metadata": {
        "execution": {
          "iopub.status.busy": "2024-04-12T03:45:11.383873Z",
          "iopub.execute_input": "2024-04-12T03:45:11.384548Z",
          "iopub.status.idle": "2024-04-12T03:45:29.178375Z",
          "shell.execute_reply.started": "2024-04-12T03:45:11.384511Z",
          "shell.execute_reply": "2024-04-12T03:45:29.177286Z"
        },
        "trusted": true,
        "id": "GGNjcAacqBac",
        "outputId": "72c443a5-50ca-43d6-df44-66b81d6840a6"
      },
      "execution_count": null,
      "outputs": [
        {
          "name": "stdout",
          "text": "Python Questions loaded: 33313 \n \nSample question-answer:\n <-change-of-interlocutor->user:\nWhy can yield be indexed?\n<-change-of-interlocutor->assistant:\nYou are not indexing. You are yielding a list; the expression yield[0] is really just the same as the following (but without a variable):\n\nlst = [0]\nyield lst\n\n\nIf you look at what next() returned you'd have gotten that list:\n\n&gt;&gt;&gt; def gen1():\n...   t = yield[0]\n...   assert t\n...   yield False\n...\n&gt;&gt;&gt; g = gen1()\n&gt;&gt;&gt; next(g)\n[0]\n\n\nYou don't have to have a space between yield and the [0], that's all.\n\nThe exception is caused by you trying to apply the subscription to the contained 0 integer:\n\n&gt;&gt;&gt; [0]        # list with one element, the int value 0\n[0]\n&gt;&gt;&gt; [0][0]     # indexing the first element, so 0\n0\n&gt;&gt;&gt; [0][0][0]  # trying to index the 0\nTraceback (most recent call last):\n  File \"&lt;stdin&gt;\", line 1, in &lt;module&gt;\nTypeError: 'int' object is not subscriptable\n\n\nIf you want to index a value sent to the generator, put parentheses arou\nCPU times: user 17.5 s, sys: 336 ms, total: 17.8 s\nWall time: 17.8 s\n",
          "output_type": "stream"
        }
      ]
    },
    {
      "cell_type": "markdown",
      "source": [
        "## few-shot data"
      ],
      "metadata": {
        "id": "VZl1ezq8qBac"
      }
    },
    {
      "cell_type": "code",
      "source": [
        "few_shot_list=[7,6009,12,36,8034,130,141,537,1057,5042]\n",
        "for i, q in enumerate(few_shot_list):\n",
        "    print('_'*100,f'\\n{i}.',python_qa[q])"
      ],
      "metadata": {
        "scrolled": true,
        "execution": {
          "iopub.status.busy": "2024-04-12T03:45:29.179639Z",
          "iopub.execute_input": "2024-04-12T03:45:29.179952Z",
          "iopub.status.idle": "2024-04-12T03:45:29.186521Z",
          "shell.execute_reply.started": "2024-04-12T03:45:29.179926Z",
          "shell.execute_reply": "2024-04-12T03:45:29.185603Z"
        },
        "trusted": true,
        "id": "uQdlsPaJqBac",
        "outputId": "46b036ab-5dd3-4b3c-c9f9-e21e1b799fd2"
      },
      "execution_count": null,
      "outputs": [
        {
          "name": "stdout",
          "text": "____________________________________________________________________________________________________ \n0. {'Question': \"How do I use Python's itertools.groupby()?\", 'Answer': 'As Sebastjan said, you first have to sort your data. This is important.\\n\\nThe part I didn\\'t get is that in the example construction\\n\\ngroups = []\\nuniquekeys = []\\nfor k, g in groupby(data, keyfunc):\\n   groups.append(list(g))    # Store group iterator as a list\\n   uniquekeys.append(k)\\n\\n\\nk is the current grouping key, and g is an iterator that you can use to iterate over the group defined by that grouping key. In other words, the groupby iterator itself returns iterators.\\n\\nHere\\'s an example of that, using clearer variable names:\\n\\nfrom itertools import groupby\\n\\nthings = [(\"animal\", \"bear\"), (\"animal\", \"duck\"), (\"plant\", \"cactus\"), (\"vehicle\", \"speed boat\"), (\"vehicle\", \"school bus\")]\\n\\nfor key, group in groupby(things, lambda x: x[0]):\\n    for thing in group:\\n        print \"A %s is a %s.\" % (thing[1], key)\\n    print \" \"\\n\\n\\nThis will give you the output:\\n\\n\\n  A bear is a animal.\\n  A duck is a animal.\\n  \\n  A cactus is a plant.\\n  \\n  A speed boat is a vehicle.\\n  A school bus is a vehicle.\\n\\n\\nIn this example, things is a list of tuples where the first item in each tuple is the group the second item belongs to. \\n\\nThe groupby() function takes two arguments: (1) the data to group and (2) the function to group it with. \\n\\nHere, lambda x: x[0] tells groupby() to use the first item in each tuple as the grouping key.\\n\\nIn the above for statement, groupby returns three (key, group iterator) pairs - once for each unique key. You can use the returned iterator to iterate over each individual item in that group.\\n\\nHere\\'s a slightly different example with the same data, using a list comprehension:\\n\\nfor key, group in groupby(things, lambda x: x[0]):\\n    listOfThings = \" and \".join([thing[1] for thing in group])\\n    print key + \"s:  \" + listOfThings + \".\"\\n\\n\\nThis will give you the output:\\n\\n\\n  animals: bear and duck.\\n  plants: cactus.\\n  vehicles: speed boat and school bus.\\n\\n'}\n____________________________________________________________________________________________________ \n1. {'Question': \"Why is ''>0 True in Python?\", 'Answer': 'The original design motivation for allowing order-comparisons of arbitrary objects was to allow sorting of heterogenous lists -- usefully, that would put all strings next to each other in alphabetical order, and all numbers next to each other in numerical order, although which of the two blocks came first was not guaranteed by the language.  For example, this allowed getting only unique items in any list (even one with non-hashable items) in O(N log N) worst-case time\\n\\nOver the years, this pragmatical arrangement was eroded.  The first crack was when the ability to order-compare complex numbers was taken away, quite a few versions ago: suddenly, the ability to sort any list disappeared (did not apply any more if the list contained complex numbers, possibly together with items of other types).  Then Guido started disliking heterogeneous lists more generally, and thus thinking that it didn\\'t really matter if such lists could be usefully sorted or not... because such lists should not exist in the first place, according to his new thinking.  He didn\\'t do anything to forbid them, but was not inclined to accept any compromises to support them either.\\n\\nNote that both changes move the balance a little bit away from the \"practicality beats purity\" item of the Zen of Python (which was written earlier, back when complex numbers still could be order-compared;-) -- a bit more purity, a bit less practicality.\\n\\nNevertheless the ability to order-compare two arbitrary objects (as long as neither was a complex number;-) remained for a long time, because around that same time Guido started really insisting on maintaining strong backwards compatibility (a shift that\\'s both practical and pure;-).\\n\\nSo, it\\'s only in Python 3, which explicitly and deliberately removed the constraint of strong backwards compatibility to allow some long-desired but backwards incompatible enhancements (especially simplifications and removal of obsolete, redundant way to perform certain tasks), that order comparison of instances of different types became an error.\\n\\nSo this historical and philosophical treatise is basically the only way to truly respond to your \"why\" question...!-)\\n'}\n____________________________________________________________________________________________________ \n2. {'Question': 'How to check what OS am I running on in Python?', 'Answer': '&gt;&gt;&gt; import os\\n&gt;&gt;&gt; print os.name\\nposix\\n&gt;&gt;&gt; import platform\\n&gt;&gt;&gt; platform.system()\\n\\'Linux\\'\\n&gt;&gt;&gt; platform.release()\\n\\'2.6.22-15-generic\\'\\n\\n\\nSee: <a href=\"https://docs.python.org/2/library/platform.html\">platform â\\x80\\x94 Access to underlying platformâ\\x80\\x99s identifying data\\n'}\n____________________________________________________________________________________________________ \n3. {'Question': 'Create an encrypted ZIP file in Python', 'Answer': 'I created a simple library to create a password encrypted zip file in python. - <a href=\"https://github.com/smihica/pyminizip\">here\\n\\nimport pyminizip\\n\\ncompression_level = 5 # 1-9\\npyminizip.compress(\"src.txt\", \"dst.zip\", \"password\", compression_level)\\n\\n\\nThe library requires zlib.\\n\\nI have checked that the file can be extracted in WINDOWS/MAC.\\n'}\n____________________________________________________________________________________________________ \n4. {'Question': 'Recursively walking a Python inheritance tree at run-time', 'Answer': 'You might try using the type.mro() method to find the method resolution order.\\n\\nclass A(object):\\n        pass\\n\\nclass B(A):\\n        pass\\n\\nclass C(A):\\n        pass\\n\\na = A()\\nb = B()\\nc = C()\\n\\n&gt;&gt;&gt; type.mro(type(b))\\n[&lt;class \\'__main__.B\\'&gt;, &lt;class \\'__main__.A\\'&gt;, &lt;type \\'object\\'&gt;]\\n&gt;&gt;&gt; type.mro(type(c))\\n[&lt;class \\'__main__.C\\'&gt;, &lt;class \\'__main__.A\\'&gt;, &lt;type \\'object\\'&gt;]\\n\\n\\nor\\n\\n&gt;&gt;&gt; type(b).mro()\\n\\n\\n\\n\\nEdit:  I was thinking you wanted to do something like this...\\n\\n&gt;&gt;&gt; A = type(\"A\", (object,), {\\'a\\':\\'A var\\'})  # create class A\\n&gt;&gt;&gt; B = type(\"B\", (A,), {\\'b\\':\\'B var\\'})       # create class B\\n&gt;&gt;&gt; myvar = B()\\n\\ndef getvars(obj):\\n    \\'\\'\\' return dict where key/value is attribute-name/class-name \\'\\'\\'\\n    retval = dict()\\n    for i in type(obj).mro():\\n        for k in i.__dict__:\\n            if not k.startswith(\\'_\\'):\\n                retval[k] = i.__name__\\n    return retval\\n\\n&gt;&gt;&gt; getvars(myvar)\\n{\\'a\\': \\'A\\', \\'b\\': \\'B\\'}\\n\\n&gt;&gt;&gt; for i in getvars(myvar):\\n    print getattr(myvar, i)   # or use setattr to modify the attribute value\\n\\nA Var\\nB Var\\n\\n'}\n____________________________________________________________________________________________________ \n5. {'Question': 'How can I retrieve the page title of a webpage using Python?', 'Answer': 'Here\\'s a simplified version of <a href=\"http://stackoverflow.com/a/51242/4279\">@Vinko Vrsalovic\\'s answer:\\n\\nimport urllib2\\nfrom BeautifulSoup import BeautifulSoup\\n\\nsoup = BeautifulSoup(urllib2.urlopen(\"https://www.google.com\"))\\nprint soup.title.string\\n\\n\\nNOTE:\\n\\n\\nsoup.title finds the first title element anywhere in the html document\\ntitle.string assumes it has only one child node, and that child node is a string\\n\\n\\nFor <a href=\"http://www.crummy.com/software/BeautifulSoup/bs4/doc/\">beautifulsoup 4.x, use different import:\\n\\nfrom bs4 import BeautifulSoup\\n\\n'}\n____________________________________________________________________________________________________ \n6. {'Question': 'In Python, how can you easily retrieve sorted items from a dictionary?', 'Answer': 'Or shorter,\\n\\nfor key, value in sorted(d.items()):\\n    print value\\n\\n'}\n____________________________________________________________________________________________________ \n7. {'Question': 'Python Inverse of a Matrix', 'Answer': 'You should have a look at <a href=\"http://www.scipy.org/Tentative_NumPy_Tutorial\">numpy if you do matrix manipulation. This is a module mainly written in C, which will be much faster than programming in pure python. Here is an example of how to invert a matrix, and do other matrix manipulation.\\n\\nfrom numpy import matrix\\nfrom numpy import linalg\\nA = matrix( [[1,2,3],[11,12,13],[21,22,23]]) # Creates a matrix.\\nx = matrix( [[1],[2],[3]] )                  # Creates a matrix (like a column vector).\\ny = matrix( [[1,2,3]] )                      # Creates a matrix (like a row vector).\\nprint A.T                                    # Transpose of A.\\nprint A*x                                    # Matrix multiplication of A and x.\\nprint A.I                                    # Inverse of A.\\nprint linalg.solve(A, x)     # Solve the linear equation system.\\n\\n\\nYou can also have a look at the <a href=\"http://www.python.org/doc/2.5.2/lib/module-array.html\">array module, which is a much more efficient implementation of lists when you have to deal with only one data type.\\n'}\n____________________________________________________________________________________________________ \n8. {'Question': 'How to integrate pep8.py in Eclipse?', 'Answer': 'As of PyDev 2.3.0, pep8 is integrated in PyDev by default, even shipping with a default version of it.\\n\\nOpen Window > Preferences\\n\\nIt must be enabled in PyDev > Editor > Code Analysis > pep8.py\\n\\nErrors/Warnings should be shown as markers (as other things in the regular code analysis).\\n\\nIn the event a file is not analyzed, see <a href=\"https://stackoverflow.com/a/31001619/832230\">https://stackoverflow.com/a/31001619/832230.\\n'}\n____________________________________________________________________________________________________ \n9. {'Question': 'How can I select all of the Sundays for a year using Python?', 'Answer': 'You can use date from the <a href=\"http://docs.python.org/library/datetime.html\">datetime module to find the first Sunday in a year and then keep adding seven days, generating new Sundays:\\n\\nfrom datetime import date, timedelta\\n\\ndef allsundays(year):\\n   d = date(year, 1, 1)                    # January 1st\\n   d += timedelta(days = 6 - d.weekday())  # First Sunday\\n   while d.year == year:\\n      yield d\\n      d += timedelta(days = 7)\\n\\nfor d in allsundays(2010):\\n   print d\\n\\n'}\n",
          "output_type": "stream"
        }
      ]
    },
    {
      "cell_type": "markdown",
      "source": [
        "## RAG data"
      ],
      "metadata": {
        "id": "tUYdl5S_qBac"
      }
    },
    {
      "cell_type": "code",
      "source": [
        "%%time\n",
        "peps = Peps()\n",
        "peps_corpus = peps.scrape()\n",
        "print(\n",
        "    'corpus lenght:',\n",
        "    len(peps_corpus),\n",
        "    '\\nsection <n> lenght:',\n",
        "    len(peps_corpus[0]),\n",
        "    '\\nsample text:\\n\\n',\n",
        "    peps_corpus[10][1306:2000]\n",
        ")"
      ],
      "metadata": {
        "execution": {
          "iopub.status.busy": "2024-04-12T03:45:29.187667Z",
          "iopub.execute_input": "2024-04-12T03:45:29.187985Z",
          "iopub.status.idle": "2024-04-12T03:47:30.309933Z",
          "shell.execute_reply.started": "2024-04-12T03:45:29.187961Z",
          "shell.execute_reply": "2024-04-12T03:47:30.309022Z"
        },
        "trusted": true,
        "id": "8I__NBCEqBac",
        "outputId": "6c650616-1843-4b9f-a46f-b67a7b01d7c1"
      },
      "execution_count": null,
      "outputs": [
        {
          "name": "stdout",
          "text": "corpus lenght: 645 \nsection <n> lenght: 40928 \nsample text:\n\n implemented ASAP, and the handling of regular iterators, which is a\nlarger but more relaxed project that can’t start until 3.7 at the\nearliest. But since the changes are closely related, and we probably\ndon’t want to end up with async iterators and regular iterators\ndiverging in the long run, it seems useful to look at them together.\n\n\nBackground and motivation\nPython iterables often hold resources which require cleanup. For\nexample: file objects need to be closed; the WSGI spec adds a close method\non top of the regular iterator protocol and demands that consumers\ncall it at the appropriate time (though forgetting to do so is a\nfrequent source of bugs);\nand PEP 342 (based on PEP 325) e\nCPU times: user 48.8 s, sys: 665 ms, total: 49.4 s\nWall time: 2min 1s\n",
          "output_type": "stream"
        }
      ]
    },
    {
      "cell_type": "markdown",
      "source": [
        "# RAG"
      ],
      "metadata": {
        "id": "DJvR58fcsoW5"
      }
    },
    {
      "cell_type": "markdown",
      "source": [
        "### Testing the embeder class"
      ],
      "metadata": {
        "id": "Rk5laAEsqBac"
      }
    },
    {
      "cell_type": "code",
      "source": [
        "%%time\n",
        "embeder = Embeder()\n",
        "vec = embeder.run([\"Beautiful is better than ugly.\"])[0]\n",
        "print(len(vec))\n",
        "vec[:10]"
      ],
      "metadata": {
        "execution": {
          "iopub.status.busy": "2024-04-12T03:47:30.311186Z",
          "iopub.execute_input": "2024-04-12T03:47:30.311896Z",
          "iopub.status.idle": "2024-04-12T03:47:32.598957Z",
          "shell.execute_reply.started": "2024-04-12T03:47:30.31186Z",
          "shell.execute_reply": "2024-04-12T03:47:32.598068Z"
        },
        "trusted": true,
        "id": "H_6echI8qBac",
        "outputId": "c2a93085-600a-49f4-94b9-efc18b11a510"
      },
      "execution_count": null,
      "outputs": [
        {
          "name": "stdout",
          "text": "384\nCPU times: user 1.45 s, sys: 272 ms, total: 1.72 s\nWall time: 2.27 s\n",
          "output_type": "stream"
        },
        {
          "execution_count": 17,
          "output_type": "execute_result",
          "data": {
            "text/plain": "[0.19154123961925507,\n 0.20040714740753174,\n 0.29264503717422485,\n 0.7032436728477478,\n 0.1398404985666275,\n -0.16274164617061615,\n -0.18401199579238892,\n -0.35343530774116516,\n 0.08375284075737,\n 0.1366858184337616]"
          },
          "metadata": {}
        }
      ]
    },
    {
      "cell_type": "markdown",
      "source": [
        "### Testing the Retriver"
      ],
      "metadata": {
        "execution": {
          "iopub.status.busy": "2024-04-09T03:39:46.166323Z",
          "iopub.execute_input": "2024-04-09T03:39:46.167289Z",
          "iopub.status.idle": "2024-04-09T03:39:46.171461Z",
          "shell.execute_reply.started": "2024-04-09T03:39:46.167254Z",
          "shell.execute_reply": "2024-04-09T03:39:46.170554Z"
        },
        "id": "fVuCZMWAqBac"
      }
    },
    {
      "cell_type": "code",
      "source": [
        "%%time\n",
        "question = \"\"\"\n",
        "Develop a Python code snippet to print the diamond structure with the specified number of rows.\n",
        "The program should follow the Fibonacci sequence for the number of characters per row\n",
        "and validate input to ensure it is an odd number.\n",
        "\"\"\"\n",
        "retriever.query(\n",
        "    question,\n",
        "    k=100,\n",
        "    threshold=15\n",
        ")"
      ],
      "metadata": {
        "execution": {
          "iopub.status.busy": "2024-04-12T03:47:32.600323Z",
          "iopub.execute_input": "2024-04-12T03:47:32.600766Z",
          "iopub.status.idle": "2024-04-12T03:47:32.632863Z",
          "shell.execute_reply.started": "2024-04-12T03:47:32.600726Z",
          "shell.execute_reply": "2024-04-12T03:47:32.63199Z"
        },
        "trusted": true,
        "id": "PqUZrQi0qBac",
        "outputId": "0be087a8-24f1-41c9-8261-68c752103604"
      },
      "execution_count": null,
      "outputs": [
        {
          "name": "stdout",
          "text": "CPU times: user 25.6 ms, sys: 37 µs, total: 25.6 ms\nWall time: 24.8 ms\n",
          "output_type": "stream"
        },
        {
          "execution_count": 18,
          "output_type": "execute_result",
          "data": {
            "text/plain": "['Adding an optimization to the Python compiler and VM\\nwhich detects the above if-elif-else construct and\\ngenerates special opcodes for it which use a read-only\\ndictionary for storing jump offsets.\\nAdding new syntax to Python which mimics the C style',\n 'In Python, we simply use isinstance() together with the __match_args__\\nfield of a class to check whether an object has the correct structure and\\nthen transform some of its attributes into a tuple.  For the Node example',\n 'They call either the Python class hooks (if either of the objects is a Python\\nclass instance) or the C type’s number or sequence methods.\\nThe new bytecodes are:\\nINPLACE_ADD\\nINPLACE_SUBTRACT\\nINPLACE_MULTIPLY\\nINPLACE_DIVIDE\\nINPLACE_REMAINDER',\n 'allowed as a literal decimal in Python 3.0.  If this is the\\nright thing to do, this can easily be covered in an additional\\nPEP.  This proposal only takes the first step of making ‘0123’',\n 'int PyInitConfig_SetWStrList(PyInitConfig *config, const char *name, size_t length, wchar_t * const *items):Set a string list configuration option from an error of\\nnull-terminated wide strings. The string list is copied.\\nReturn 0 on success.',\n 'PEP 454, a new “tracemalloc” module for tracing Python memory allocations\\nPEP 456, a new hash algorithm for Python strings and binary data\\nPEP 3154, a new and improved protocol for pickled objects',\n 'Traces of all memory blocks allocated by Python: sequence of\\nTrace instances.The sequence has an undefined order. Use the\\nSnapshot.statistics() method to get a sorted list of statistics.\\n\\n\\n\\nStatistic\\nStatistic class:',\n 'in the Python standard library:\\ninspect.get_annotations and typing.get_type_hints.\\nThe functionality is accessed via a new keyword-only parameter,\\nformat.  format allows the user to request\\nthe annotations from these functions\\nin a specific format.',\n 'int PyInitConfig_GetStrList(PyInitConfig *config, const char *name, size_t *length, char ***items):Get a string list configuration option as an array of\\nnull-terminated UTF-8 encoded strings.\\nSet *length and *value, and return 0 on success.',\n 'Python literals\\nSomeone proposed using Python literals as the configuration format.\\nThe file would contain one dict at the top level, with the data all\\ninside that dict, with sections defined by the keys. All Python',\n 'kept.\\nSince PEP 515 (Python 3.6), underscores in numeric literals are ignored.\\nThis means that int(\"3_10\") and int(\"310\") produce the same result,\\nand ordering based on conversion to an integer will be preserved.',\n 'PyInitConfig_GetStrList().\\nint PyInitConfig_GetWStrList(PyInitConfig *config, const char *name, size_t *length, wchar_t ***items):Get a string list configuration option as an array of\\nnull-terminated wide strings.',\n 'The PyConfigAsObjects struct mirrors the PyConfig struct from PEP 587,\\nbut uses full Python objects to store values, rather than C level data types.\\nIt adds raw_argv and argv list fields, so later initialisation steps',\n '[32]\\nPython docs (Additional methods for emulation of sequence types)\\nhttps://docs.python.org/release/2.6/reference/datamodel.html#additional-methods-for-emulation-of-sequence-types',\n 'into real values at runtime even harder.\\nFinally, PEP 563 requires Python implementations to\\nstringize their annotations.  This is surprising behavior—unprecedented\\nfor a language-level feature, with a complicated implementation,',\n 'Representing structured data using (potentially nested) dictionaries with string keys is a common pattern in Python programs. PEP 589 allows these values to be type checked when the exact type is known up-front, but it is hard to write read-only',\n 'int PyInitConfig_SetStrLocaleList(PyInitConfig *config, const char *name, size_t length, char * const *items):Set a string list configuration option from an array of\\nnull-terminated bytes strings encoded in the locale encoding.',\n \"Examples\\n>>> print {i : chr(65+i) for i in range(4)}\\n{0 : 'A', 1 : 'B', 2 : 'C', 3 : 'D'}\\n\\n\\n>>> print {k : v for k, v in someDict.iteritems()} == someDict.copy()\\n1\",\n 'Here’s what a Python compiler-generated __annotate__ method\\nmight look like if it was written in Python:\\ndef __annotate__(self, format):\\n    if format != 1:\\n        raise NotImplementedError()\\n    return { ... }',\n '// Set a list of bytes strings (xoptions).\\n    // Preinitialize implicitly Python to decode the bytes string.\\n    char* xoptions[] = {\"faulthandler\"};\\n    if (PyInitConfig_SetStrList(config, \"xoptions\",',\n 'Rationale\\nThis PEP is driven by the desire to have a simpler way to format\\nstrings in Python. The existing ways of formatting are either error\\nprone, inflexible, or cumbersome.\\n%-formatting is limited as to the types it supports. Only ints, strs,',\n 'Example values:\\nmusllinux_1_1_x86_64   # musl 1.1 running on x86-64.\\nmusllinux_1_2_aarch64  # musl 1.2 running on ARM 64-bit.\\n\\n\\nThe value can be formatted with the following Python code:\\nimport sysconfig',\n \"it will result in a TypeError under Python 3.  Instead, always\\nmake sure you’re concatenating two items of the same type,\\ne.g. b'abc' + somebytes.\",\n 'The Python compiler won’t generate annotation code objects\\nfor objects defined in a module where PEP 563 semantics are\\nactive, even if this PEP is accepted.  So, under normal\\ncircumstances, requesting inspect.SOURCE format from a',\n 'I want to sort the items in this sequence according to the values of\\nattr1 and attr2 on each item.\\nIf they’re comfortable with Python’s lambda expressions, then they might\\nchoose to write it like this:',\n 'PEP 276 proposes to allow automatic conversion of integers to\\niterators, simplifying the most common half-open case but not\\naddressing the complexities of other types of interval.\\nAdditional alternatives have been discussed on python-list.',\n 'int PyInitConfig_SetStrList(PyInitConfig *config, const char *name, size_t length, char * const *items):Set a string list configuration option from an array of\\nnull-terminated UTF-8 encoded strings. The string list is copied.\\nReturn 0 on success.',\n 'Note for Python 2.x: The ‘format_spec’ argument will be either\\na string object or a unicode object, depending on the type of the\\noriginal format string.  The __format__ method should test the type']"
          },
          "metadata": {}
        }
      ]
    },
    {
      "cell_type": "code",
      "source": [
        "%%time\n",
        "question = \"\"\"\n",
        "PyStatus PyConfig_SetBytesString(PyConfig *config, wchar_t * const *config_str, const char *str):\\nDecode str using Py_DecodeLocale() and set the result into\\n*config_str.\\nPreinitialize Python if needed.\n",
        "\"\"\"\n",
        "retriever.query(question,\n",
        "    k=100,\n",
        "    threshold=15\n",
        ")"
      ],
      "metadata": {
        "execution": {
          "iopub.status.busy": "2024-04-12T03:47:32.694491Z",
          "iopub.execute_input": "2024-04-12T03:47:32.695007Z",
          "iopub.status.idle": "2024-04-12T03:47:32.724765Z",
          "shell.execute_reply.started": "2024-04-12T03:47:32.694978Z",
          "shell.execute_reply": "2024-04-12T03:47:32.723932Z"
        },
        "trusted": true,
        "id": "B5YUxoOGqBac",
        "outputId": "e5c5a935-663a-47dd-db9c-c6d13d483e30"
      },
      "execution_count": null,
      "outputs": [
        {
          "name": "stdout",
          "text": "CPU times: user 22.6 ms, sys: 992 µs, total: 23.6 ms\nWall time: 22.9 ms\n",
          "output_type": "stream"
        },
        {
          "execution_count": 22,
          "output_type": "execute_result",
          "data": {
            "text/plain": "['Py_INCREF(), Py_DECREF()\\nPy_XINCREF(), Py_XDECREF()\\nPyObject_INIT(), PyObject_INIT_VAR()\\n_PyObject_GC_TRACK(), _PyObject_GC_UNTRACK(), _Py_Dealloc()\\n\\nMacros converted to regular functions in Python 3.9:',\n 'PyStatus PyConfig_SetString(PyConfig *config, wchar_t * const *config_str, const wchar_t *str):\\nCopy the wide character string str into *config_str.\\nPreinitialize Python if needed.',\n 'decode the strings in Py_InitializeFromInitConfig().\\nThe problem is that users asked for PyInitConfig_Get*() functions.\\nFor example, PyInitConfig_GetStr() must decode the string from the\\nlocale encoding and then encode it to the UTF-8 encoding.',\n 'PyConfig_Clear(config)\\nPyConfig_InitIsolatedConfig()\\nPyConfig_InitPythonConfig()\\nPyConfig_Read(config)\\nPyConfig_SetArgv(config, argc, argv)\\nPyConfig_SetBytesArgv(config, argc, argv)\\nPyConfig_SetBytesString(config, config_str, str)',\n 'Trying to set these options after Python preinitialization fails with an\\nerror.\\nPyInitConfig_SetStrLocale() and PyInitConfig_SetStrLocaleList()\\nfunctions call Py_PreInitializeFromInitConfig() if Python is not\\nalready preinitialized.\\n\\n\\nCreate Config',\n 'Set command line arguments: decode bytes using Py_DecodeLocale().\\nPreinitialize Python if needed.\\nPyStatus PyConfig_Read(PyConfig *config):\\nRead all Python configuration. Fields which are already initialized\\nare left unchanged.',\n 'Delay decoding\\nWithout PyInitConfig_Get*() functions, it would be possible to store\\nPyInitConfig_SetStrLocale() and PyInitConfig_SetStrLocaleList()\\nstrings encoded and only initialize the LC_CTYPE locale and',\n 'Py_UNICODE_WSTR_LENGTH()\\nPyUnicode_GET_SIZE()\\nPyUnicode_GetSize()\\nPyUnicode_GET_DATA_SIZE()\\nPyUnicode_AS_UNICODE()\\nPyUnicode_AS_DATA()\\nPyUnicode_AsUnicode()\\n_PyUnicode_AsUnicode()\\nPyUnicode_AsUnicodeAndSize()\\nPyUnicode_FromUnicode()\\n\\n\\n\\nPython 3.10',\n 'declaration:\\n#if Py_COMPAT_API_VERSION < 0x030f0000\\nPy_DEPRECATED(3.13) PyAPI_FUNC(PyObject *) PyImport_ImportModuleNoBlock(\\n    const char *name            /* UTF-8 encoded string */\\n    );\\n#endif',\n 'PyStatus Py_PreInitialize(const PyPreConfig *preconfig)\\nPyStatus Py_PreInitializeFromBytesArgs(const PyPreConfig *preconfig, int argc, char * const *argv)',\n 'PyUnicode_EncodeCharmap, PyUnicode_TranslateCharmap,\\nPyUnicode_EncodeMBCS, PyUnicode_EncodeDecimal,\\nPyUnicode_TransformDecimalToASCII\\nPy_UNICODE_{strlen, strcat, strcpy, strcmp, strchr, strrchr}\\nPyUnicode_AsUnicodeCopy\\nPyUnicode_GetMax',\n 'PyStatus Py_InitializeFromConfig(const PyConfig *config):\\nInitialize Python from config configuration.',\n 'PyStatus PyConfig_SetBytesString(PyConfig *config, wchar_t * const *config_str, const char *str):\\nDecode str using Py_DecodeLocale() and set the result into\\n*config_str.\\nPreinitialize Python if needed.',\n 'PyStatus PyConfig_SetArgv(PyConfig *config, int argc, wchar_t * const *argv):\\nSet command line arguments from wide character strings.\\nPreinitialize Python if needed.\\nPyStatus PyConfig_SetBytesArgv(PyConfig *config, int argc, char * const *argv):',\n 'Py_EnterRecursiveCall(), Py_LeaveRecursiveCall()\\n(added to the limited C API)\\nPyObject_INIT(), PyObject_INIT_VAR()\\nPyObject_GET_WEAKREFS_LISTPTR()\\nPyObject_CheckBuffer()\\nPyIndex_Check()\\nPyObject_IS_GC()\\nPyObject_NEW() (alias to PyObject_New()),',\n 'PyEval_EvalCode(): run the bytecode interpreter with the given\\ncode object\\nPyRun_String(): compile + PyEval_EvalCode()\\nPyRun_File(): read + compile + PyEval_EvalCode()\\nPyRun_InteractiveOneObject(): compile + PyEval_EvalCode()',\n 'The string list is copied.The bytes string is decoded by Py_DecodeLocale().\\nPy_PreInitializeFromInitConfig() must be called before calling\\nthis function.',\n 'Py_BytesMain()\\nPython 3.7 provides a high-level Py_Main() function which requires\\nto pass command line arguments as wchar_t* strings. It is\\nnon-trivial to use the correct encoding to decode bytes. Python has its',\n 'PyImport_AppendInittab()\\nPyImport_ExtendInittab()\\nPyMem_SetAllocator()\\nPyMem_SetupDebugHooks()\\nPyObject_SetArenaAllocator()\\nPy_SetPath()\\nPy_SetProgramName()\\nPy_SetPythonHome()\\nPy_SetStandardStreamEncoding()\\nPySys_AddWarnOption()\\nPySys_AddXOption()',\n 'Implicitly preinitialize Python. */\\n    status = PyConfig_SetBytesString(&config, &config.program_name,\\n                                  program_name);\\n    if (PyStatus_Exception(status)) {\\n        goto done;\\n    }',\n 'Py_PreInitializeFromArgs(), and PyConfig_SetArgv() becomes\\nPyConfig_SetBytesArgv().\\nAdd PyWideStringList_Insert() function.\\nNew “Path configuration”, “Isolate Python”, “Python Issues”\\nand “Version History” sections.',\n 'Py_BuildValue, PyObject_CallFunction and PyObject_CallMethod.\\nThis code operates on Py_ssize_t.\\nThe conversion codes ‘s#’ and ‘t#’ will output Py_ssize_t\\nif the macro PY_SSIZE_T_CLEAN is defined before Python.h',\n 'PyConfig config;\\n    PyConfig_InitPythonConfig(&config);\\n\\n    /* Set the program name before reading the configuration\\n       (decode byte string from the locale encoding).',\n 'config.isolated = 1;\\n\\n    /* Decode command line arguments.\\n       Implicitly preinitialize Python (in isolated mode). */\\n    status = PyConfig_SetBytesArgv(&config, argc, argv);\\n    if (PyStatus_Exception(status)) {\\n        goto fail;\\n    }',\n 'PyStatus Py_PreInitializeFromArgs(const PyPreConfig *preconfig, int argc, wchar_t * const * argv)',\n 'int PyInitConfig_SetStrList(PyInitConfig *config, const char *name, size_t length, char * const *items):Set a string list configuration option from an array of\\nnull-terminated UTF-8 encoded strings. The string list is copied.\\nReturn 0 on success.']"
          },
          "metadata": {}
        }
      ]
    },
    {
      "cell_type": "code",
      "source": [
        "%%time\n",
        "question = \"\"\"\n",
        "what PEPs Introduces the concept of decorators, a powerful feature in Python.\n",
        "\"\"\"\n",
        "retriever.query(question,\n",
        "    k=100,\n",
        "    threshold=15\n",
        ")"
      ],
      "metadata": {
        "execution": {
          "iopub.status.busy": "2024-04-12T03:47:32.725843Z",
          "iopub.execute_input": "2024-04-12T03:47:32.726152Z",
          "iopub.status.idle": "2024-04-12T03:47:32.75525Z",
          "shell.execute_reply.started": "2024-04-12T03:47:32.726123Z",
          "shell.execute_reply": "2024-04-12T03:47:32.75442Z"
        },
        "trusted": true,
        "id": "2pcKKc2CqBac",
        "outputId": "a1fb301b-e428-420a-df2c-45bb51c6da49"
      },
      "execution_count": null,
      "outputs": [
        {
          "name": "stdout",
          "text": "CPU times: user 22.5 ms, sys: 990 µs, total: 23.5 ms\nWall time: 22.6 ms\n",
          "output_type": "stream"
        },
        {
          "execution_count": 23,
          "output_type": "execute_result",
          "data": {
            "text/plain": "['The PEPs category of the Python Discourse\\nis the preferred choice for most new PEPs,\\nwhereas historically the Python-Dev mailing list was commonly used.\\nSome specialized topics have specific venues, such as',\n 'documenting the design decisions that have gone into Python.  The PEP\\nauthor is responsible for building consensus within the community and\\ndocumenting dissenting opinions.\\nBecause the PEPs are maintained as text files in a versioned',\n 'Introduction\\nThis PEP describes the “range literal” proposal for Python 2.0.\\nThis PEP tracks the status and ownership of this feature, slated\\nfor introduction in Python 2.0.  It contains a description of the',\n 'the Typing category and the Packaging category on the Python\\nDiscourse for typing and packaging PEPs, respectively.\\nIf the PEP authors are unsure of the best venue,\\nthe PEP Sponsor and PEP editors can advise them accordingly.',\n 'Introduction\\nThis PEP describes the “attribute docstring” proposal for Python\\n2.0.  This PEP tracks the status and ownership of this feature.\\nIt contains a description of the feature and outlines changes',\n 'about how easy it would be to explain (and learn) this feature. This PEP\\naddresses that concern providing the kind of document which developers could use\\nto learn about pattern matching in Python.',\n 'And from time to time proposals are put forth for ways in which\\nPython could provide a better mechanism for this idiom.  Recent\\nexamples include PEP 204, “Range Literals”, and PEP 212, “Loop\\nCounter Iteration”.',\n 'Design Considerations\\nThis PEP identifies the following design considerations when evaluating\\nboth its own proposed changes and previous work in the same or adjacent\\nareas of Python packaging:',\n 'Rationale\\nThis PEP proposes a small addition to the way Python currently\\nhandles docstrings embedded in Python code.\\nPython currently only handles the case of docstrings which appear\\ndirectly after a class definition, a function definition or as',\n 'significant departure from the way CPython has traditionally executed Python\\ncode. As such, it deserves wider discussion.\\nThis PEP aims to summarize the design decisions behind this addition, the',\n 'Rationale\\nThere are two related, but distinct rationales for the proposal in this\\nPEP. The first relates to the experience of new users, while the second\\nrelates to better enabling the evolution of the broader Python packaging\\necosystem.',\n 'Introduction\\nThis PEP describes the augmented assignment proposal for Python 2.0.  This\\nPEP tracks the status and ownership of this feature, slated for introduction\\nin Python 2.0.  It contains a description of the feature and outlines changes',\n 'API from the design document for MultiError V2.  The discussions on python-dev\\nand elsewhere helped us improve upon the first draft of the PEP in multiple\\nways, both the design and the exposition. For this we appreciate all those who',\n 'Introduction\\nThis PEP describes an extension to Python, adding attribute\\ndictionaries to functions and methods.  This PEP tracks the status\\nand ownership of this feature.  It contains a description of the',\n 'Abstract\\nThis PEP proposes a new way to govern the Python type system: a council that is responsible\\nfor maintaining and developing the Python type system. The council will maintain a',\n 'Introduction\\nThis PEP describes the ‘lockstep iteration’ proposal.  This PEP tracks\\nthe status and ownership of this feature, slated for introduction in\\nPython 2.0.  It contains a description of the feature and outlines',\n 'the Python type system, to the extent there is one, consists of this series\\nof PEPs. But Standards Track PEPs aren’t meant to be living documents\\nor specifications; they are change proposals.',\n 'are typically not free to ignore them.  Examples include\\nprocedures, guidelines, changes to the decision-making process, and\\nchanges to the tools or environment used in Python development.\\nAny meta-PEP is also considered a Process PEP.']"
          },
          "metadata": {}
        }
      ]
    },
    {
      "cell_type": "code",
      "source": [
        "%%time\n",
        "question = \"\"\"\n",
        "what is python??\n",
        "\"\"\"\n",
        "retriever.query(question)"
      ],
      "metadata": {
        "execution": {
          "iopub.status.busy": "2024-04-12T03:47:32.756408Z",
          "iopub.execute_input": "2024-04-12T03:47:32.756663Z",
          "iopub.status.idle": "2024-04-12T03:47:32.784035Z",
          "shell.execute_reply.started": "2024-04-12T03:47:32.756642Z",
          "shell.execute_reply": "2024-04-12T03:47:32.783251Z"
        },
        "trusted": true,
        "id": "58FBbYfYqBad",
        "outputId": "ae7efde5-ad8f-46ea-e64f-c2252c0abfaf"
      },
      "execution_count": null,
      "outputs": [
        {
          "name": "stdout",
          "text": "CPU times: user 20.4 ms, sys: 1.99 ms, total: 22.4 ms\nWall time: 20.8 ms\n",
          "output_type": "stream"
        },
        {
          "execution_count": 24,
          "output_type": "execute_result",
          "data": {
            "text/plain": "[]"
          },
          "metadata": {}
        }
      ]
    },
    {
      "cell_type": "markdown",
      "source": [
        "# Chatbot"
      ],
      "metadata": {
        "id": "R3xhjyW9soW6"
      }
    },
    {
      "cell_type": "markdown",
      "source": [
        "## Loading few-shot to the memory"
      ],
      "metadata": {
        "id": "rg8kCTwgqBad"
      }
    },
    {
      "cell_type": "code",
      "source": [
        "file = 'data/history.json'\n",
        "message = Message(\n",
        "    role='sistem',\n",
        "    content='foo'\n",
        ")\n",
        "init_chat = [message.system_reply()]\n",
        "json.dump(init_chat, open(file, 'w'))\n",
        "for i, q in enumerate(few_shot_list):\n",
        "    sample = python_qa[q]\n",
        "    mesage = Message(\n",
        "        role='user',\n",
        "        content=sample['Question']\n",
        "    )\n",
        "    reply = mesage.update()\n",
        "    mesage = Message(\n",
        "        role='assitant',\n",
        "        content=sample['Answer']\n",
        "    )\n",
        "    reply = mesage.update()\n",
        "\n",
        "history = json.load(open(file))\n",
        "history"
      ],
      "metadata": {
        "scrolled": true,
        "execution": {
          "iopub.status.busy": "2024-04-12T03:47:32.785042Z",
          "iopub.execute_input": "2024-04-12T03:47:32.785314Z",
          "iopub.status.idle": "2024-04-12T03:47:32.807345Z",
          "shell.execute_reply.started": "2024-04-12T03:47:32.785274Z",
          "shell.execute_reply": "2024-04-12T03:47:32.806576Z"
        },
        "trusted": true,
        "id": "n5mHiBUwqBad",
        "outputId": "9e5b33cf-185f-4255-e2c4-d56900305f62"
      },
      "execution_count": null,
      "outputs": [
        {
          "execution_count": 25,
          "output_type": "execute_result",
          "data": {
            "text/plain": "[{'reply_id': '8bcef358-5e5c-430a-a4a5-f7620aacb718',\n  'role': 'system',\n  'content': '\\nAct as a Python programming language expert assistant \\nyour goal is to answer common questions in a clear, comprehensive, and accurate way, taking into account this guidelines:\\n1. When responding, incorporate any relevant context to enhance the accuracy and informativeness of your answers using the documentation provided if it is necesary \\n2. Please structure your response to include definitions, examples, and any relevant comparisons to other statistical measures\\n3. Aim for plain language to ensure accessibility for all users\\n4. If the question is off topic about programing lenguage you MUST to say \"I\\'m here to help you with Python programming language questions only, excuse me\"\\n5. You can say hello if you are greeted\\n6. DO NOT repeat more than once the same sentence!\\n\\nTAKE A DEEP BREATH AND PAY ATTENTION TO THE USER QUESTION\\n\\nFor each question you answer perfectly, I will pay you USD 1000.00, may be more for the consecutive accurate and correct answer\\n        ',\n  'timestamp': 1712892785},\n {'reply_id': 'fea65685-e154-4b59-bff7-d7fa501b4a20',\n  'role': 'user',\n  'content': \"How do I use Python's itertools.groupby()?\",\n  'timestamp': 1712892785},\n {'reply_id': '610458b4-36e7-4c40-8dfe-d6b5621ae14e',\n  'role': 'assitant',\n  'content': 'As Sebastjan said, you first have to sort your data. This is important.\\n\\nThe part I didn\\'t get is that in the example construction\\n\\ngroups = []\\nuniquekeys = []\\nfor k, g in groupby(data, keyfunc):\\n   groups.append(list(g))    # Store group iterator as a list\\n   uniquekeys.append(k)\\n\\n\\nk is the current grouping key, and g is an iterator that you can use to iterate over the group defined by that grouping key. In other words, the groupby iterator itself returns iterators.\\n\\nHere\\'s an example of that, using clearer variable names:\\n\\nfrom itertools import groupby\\n\\nthings = [(\"animal\", \"bear\"), (\"animal\", \"duck\"), (\"plant\", \"cactus\"), (\"vehicle\", \"speed boat\"), (\"vehicle\", \"school bus\")]\\n\\nfor key, group in groupby(things, lambda x: x[0]):\\n    for thing in group:\\n        print \"A %s is a %s.\" % (thing[1], key)\\n    print \" \"\\n\\n\\nThis will give you the output:\\n\\n\\n  A bear is a animal.\\n  A duck is a animal.\\n  \\n  A cactus is a plant.\\n  \\n  A speed boat is a vehicle.\\n  A school bus is a vehicle.\\n\\n\\nIn this example, things is a list of tuples where the first item in each tuple is the group the second item belongs to. \\n\\nThe groupby() function takes two arguments: (1) the data to group and (2) the function to group it with. \\n\\nHere, lambda x: x[0] tells groupby() to use the first item in each tuple as the grouping key.\\n\\nIn the above for statement, groupby returns three (key, group iterator) pairs - once for each unique key. You can use the returned iterator to iterate over each individual item in that group.\\n\\nHere\\'s a slightly different example with the same data, using a list comprehension:\\n\\nfor key, group in groupby(things, lambda x: x[0]):\\n    listOfThings = \" and \".join([thing[1] for thing in group])\\n    print key + \"s:  \" + listOfThings + \".\"\\n\\n\\nThis will give you the output:\\n\\n\\n  animals: bear and duck.\\n  plants: cactus.\\n  vehicles: speed boat and school bus.\\n\\n',\n  'timestamp': 1712892785},\n {'reply_id': 'e2ab7bd5-f082-4b12-97cf-44ec5e7d301d',\n  'role': 'user',\n  'content': \"Why is ''>0 True in Python?\",\n  'timestamp': 1712892785},\n {'reply_id': '6626fe58-b6b9-4a36-962d-d9ed84957b94',\n  'role': 'assitant',\n  'content': 'The original design motivation for allowing order-comparisons of arbitrary objects was to allow sorting of heterogenous lists -- usefully, that would put all strings next to each other in alphabetical order, and all numbers next to each other in numerical order, although which of the two blocks came first was not guaranteed by the language.  For example, this allowed getting only unique items in any list (even one with non-hashable items) in O(N log N) worst-case time\\n\\nOver the years, this pragmatical arrangement was eroded.  The first crack was when the ability to order-compare complex numbers was taken away, quite a few versions ago: suddenly, the ability to sort any list disappeared (did not apply any more if the list contained complex numbers, possibly together with items of other types).  Then Guido started disliking heterogeneous lists more generally, and thus thinking that it didn\\'t really matter if such lists could be usefully sorted or not... because such lists should not exist in the first place, according to his new thinking.  He didn\\'t do anything to forbid them, but was not inclined to accept any compromises to support them either.\\n\\nNote that both changes move the balance a little bit away from the \"practicality beats purity\" item of the Zen of Python (which was written earlier, back when complex numbers still could be order-compared;-) -- a bit more purity, a bit less practicality.\\n\\nNevertheless the ability to order-compare two arbitrary objects (as long as neither was a complex number;-) remained for a long time, because around that same time Guido started really insisting on maintaining strong backwards compatibility (a shift that\\'s both practical and pure;-).\\n\\nSo, it\\'s only in Python 3, which explicitly and deliberately removed the constraint of strong backwards compatibility to allow some long-desired but backwards incompatible enhancements (especially simplifications and removal of obsolete, redundant way to perform certain tasks), that order comparison of instances of different types became an error.\\n\\nSo this historical and philosophical treatise is basically the only way to truly respond to your \"why\" question...!-)\\n',\n  'timestamp': 1712892785},\n {'reply_id': '6994527b-a077-44b7-84c7-5177fab208d7',\n  'role': 'user',\n  'content': 'How to check what OS am I running on in Python?',\n  'timestamp': 1712892785},\n {'reply_id': 'cd07d14a-6bca-4dc4-91f2-fc6c546a00a2',\n  'role': 'assitant',\n  'content': '&gt;&gt;&gt; import os\\n&gt;&gt;&gt; print os.name\\nposix\\n&gt;&gt;&gt; import platform\\n&gt;&gt;&gt; platform.system()\\n\\'Linux\\'\\n&gt;&gt;&gt; platform.release()\\n\\'2.6.22-15-generic\\'\\n\\n\\nSee: <a href=\"https://docs.python.org/2/library/platform.html\">platform â\\x80\\x94 Access to underlying platformâ\\x80\\x99s identifying data\\n',\n  'timestamp': 1712892785},\n {'reply_id': 'c28a5325-4945-428b-b03e-943dbb2d92c8',\n  'role': 'user',\n  'content': 'Create an encrypted ZIP file in Python',\n  'timestamp': 1712892785},\n {'reply_id': '5f711383-0de2-46b3-b3d8-37c56b199643',\n  'role': 'assitant',\n  'content': 'I created a simple library to create a password encrypted zip file in python. - <a href=\"https://github.com/smihica/pyminizip\">here\\n\\nimport pyminizip\\n\\ncompression_level = 5 # 1-9\\npyminizip.compress(\"src.txt\", \"dst.zip\", \"password\", compression_level)\\n\\n\\nThe library requires zlib.\\n\\nI have checked that the file can be extracted in WINDOWS/MAC.\\n',\n  'timestamp': 1712892785},\n {'reply_id': 'c1f70c2f-39ba-41a9-8087-3103ce23a3d5',\n  'role': 'user',\n  'content': 'Recursively walking a Python inheritance tree at run-time',\n  'timestamp': 1712892785},\n {'reply_id': '370d15ac-8823-4ffe-a0ae-117efa7b69a1',\n  'role': 'assitant',\n  'content': 'You might try using the type.mro() method to find the method resolution order.\\n\\nclass A(object):\\n        pass\\n\\nclass B(A):\\n        pass\\n\\nclass C(A):\\n        pass\\n\\na = A()\\nb = B()\\nc = C()\\n\\n&gt;&gt;&gt; type.mro(type(b))\\n[&lt;class \\'__main__.B\\'&gt;, &lt;class \\'__main__.A\\'&gt;, &lt;type \\'object\\'&gt;]\\n&gt;&gt;&gt; type.mro(type(c))\\n[&lt;class \\'__main__.C\\'&gt;, &lt;class \\'__main__.A\\'&gt;, &lt;type \\'object\\'&gt;]\\n\\n\\nor\\n\\n&gt;&gt;&gt; type(b).mro()\\n\\n\\n\\n\\nEdit:  I was thinking you wanted to do something like this...\\n\\n&gt;&gt;&gt; A = type(\"A\", (object,), {\\'a\\':\\'A var\\'})  # create class A\\n&gt;&gt;&gt; B = type(\"B\", (A,), {\\'b\\':\\'B var\\'})       # create class B\\n&gt;&gt;&gt; myvar = B()\\n\\ndef getvars(obj):\\n    \\'\\'\\' return dict where key/value is attribute-name/class-name \\'\\'\\'\\n    retval = dict()\\n    for i in type(obj).mro():\\n        for k in i.__dict__:\\n            if not k.startswith(\\'_\\'):\\n                retval[k] = i.__name__\\n    return retval\\n\\n&gt;&gt;&gt; getvars(myvar)\\n{\\'a\\': \\'A\\', \\'b\\': \\'B\\'}\\n\\n&gt;&gt;&gt; for i in getvars(myvar):\\n    print getattr(myvar, i)   # or use setattr to modify the attribute value\\n\\nA Var\\nB Var\\n\\n',\n  'timestamp': 1712892785},\n {'reply_id': 'f5d139e5-2463-49fe-8432-3e3b6c2724ab',\n  'role': 'user',\n  'content': 'How can I retrieve the page title of a webpage using Python?',\n  'timestamp': 1712892785},\n {'reply_id': '1103e51f-41ac-41a1-8094-534dc5d914f3',\n  'role': 'assitant',\n  'content': 'Here\\'s a simplified version of <a href=\"http://stackoverflow.com/a/51242/4279\">@Vinko Vrsalovic\\'s answer:\\n\\nimport urllib2\\nfrom BeautifulSoup import BeautifulSoup\\n\\nsoup = BeautifulSoup(urllib2.urlopen(\"https://www.google.com\"))\\nprint soup.title.string\\n\\n\\nNOTE:\\n\\n\\nsoup.title finds the first title element anywhere in the html document\\ntitle.string assumes it has only one child node, and that child node is a string\\n\\n\\nFor <a href=\"http://www.crummy.com/software/BeautifulSoup/bs4/doc/\">beautifulsoup 4.x, use different import:\\n\\nfrom bs4 import BeautifulSoup\\n\\n',\n  'timestamp': 1712892785},\n {'reply_id': '485c6297-3c1f-41b0-bb8f-632e3ce62c94',\n  'role': 'user',\n  'content': 'In Python, how can you easily retrieve sorted items from a dictionary?',\n  'timestamp': 1712892785},\n {'reply_id': '3604bcb4-8912-4bef-97ca-b31e3ee54186',\n  'role': 'assitant',\n  'content': 'Or shorter,\\n\\nfor key, value in sorted(d.items()):\\n    print value\\n\\n',\n  'timestamp': 1712892785},\n {'reply_id': '0042e39c-febd-418c-98cd-91cb7089b95c',\n  'role': 'user',\n  'content': 'Python Inverse of a Matrix',\n  'timestamp': 1712892785},\n {'reply_id': 'b8a9ac80-fa1b-49a5-8f5f-8e0847feb359',\n  'role': 'assitant',\n  'content': 'You should have a look at <a href=\"http://www.scipy.org/Tentative_NumPy_Tutorial\">numpy if you do matrix manipulation. This is a module mainly written in C, which will be much faster than programming in pure python. Here is an example of how to invert a matrix, and do other matrix manipulation.\\n\\nfrom numpy import matrix\\nfrom numpy import linalg\\nA = matrix( [[1,2,3],[11,12,13],[21,22,23]]) # Creates a matrix.\\nx = matrix( [[1],[2],[3]] )                  # Creates a matrix (like a column vector).\\ny = matrix( [[1,2,3]] )                      # Creates a matrix (like a row vector).\\nprint A.T                                    # Transpose of A.\\nprint A*x                                    # Matrix multiplication of A and x.\\nprint A.I                                    # Inverse of A.\\nprint linalg.solve(A, x)     # Solve the linear equation system.\\n\\n\\nYou can also have a look at the <a href=\"http://www.python.org/doc/2.5.2/lib/module-array.html\">array module, which is a much more efficient implementation of lists when you have to deal with only one data type.\\n',\n  'timestamp': 1712892785},\n {'reply_id': 'eea741e8-cfdc-48da-aa79-de5ffede2abd',\n  'role': 'user',\n  'content': 'How to integrate pep8.py in Eclipse?',\n  'timestamp': 1712892785},\n {'reply_id': 'f35049b8-4b8c-4465-843e-32e6614760c7',\n  'role': 'assitant',\n  'content': 'As of PyDev 2.3.0, pep8 is integrated in PyDev by default, even shipping with a default version of it.\\n\\nOpen Window > Preferences\\n\\nIt must be enabled in PyDev > Editor > Code Analysis > pep8.py\\n\\nErrors/Warnings should be shown as markers (as other things in the regular code analysis).\\n\\nIn the event a file is not analyzed, see <a href=\"https://stackoverflow.com/a/31001619/832230\">https://stackoverflow.com/a/31001619/832230.\\n',\n  'timestamp': 1712892785},\n {'reply_id': '121c59b5-a7fe-4e6c-8632-4eb6047867a7',\n  'role': 'user',\n  'content': 'How can I select all of the Sundays for a year using Python?',\n  'timestamp': 1712892785},\n {'reply_id': 'b50cc826-82e0-4d93-bceb-5c844756ee97',\n  'role': 'assitant',\n  'content': 'You can use date from the <a href=\"http://docs.python.org/library/datetime.html\">datetime module to find the first Sunday in a year and then keep adding seven days, generating new Sundays:\\n\\nfrom datetime import date, timedelta\\n\\ndef allsundays(year):\\n   d = date(year, 1, 1)                    # January 1st\\n   d += timedelta(days = 6 - d.weekday())  # First Sunday\\n   while d.year == year:\\n      yield d\\n      d += timedelta(days = 7)\\n\\nfor d in allsundays(2010):\\n   print d\\n\\n',\n  'timestamp': 1712892785}]"
          },
          "metadata": {}
        }
      ]
    },
    {
      "cell_type": "markdown",
      "source": [
        "### Testing the Agent system memory"
      ],
      "metadata": {
        "id": "9hDKoLepqBad"
      }
    },
    {
      "cell_type": "code",
      "source": [
        "agent = Agent()\n",
        "print(agent.memory(\"\"\"\n",
        "what PEPs Introduces the concept of decorators, a powerful feature in Python.\n",
        "\"\"\"))"
      ],
      "metadata": {
        "scrolled": true,
        "execution": {
          "iopub.status.busy": "2024-04-12T03:47:32.80842Z",
          "iopub.execute_input": "2024-04-12T03:47:32.808726Z",
          "iopub.status.idle": "2024-04-12T03:47:32.832364Z",
          "shell.execute_reply.started": "2024-04-12T03:47:32.808697Z",
          "shell.execute_reply": "2024-04-12T03:47:32.831533Z"
        },
        "trusted": true,
        "id": "K9Rrh7EWqBad",
        "outputId": "1868ba78-4a26-4e5b-ca00-060466250c06"
      },
      "execution_count": null,
      "outputs": [
        {
          "name": "stdout",
          "text": "\n<-change-of-interlocutor->system: \nAct as a Python programming language expert assistant \nyour goal is to answer common questions in a clear, comprehensive, and accurate way, taking into account this guidelines:\n1. When responding, incorporate any relevant context to enhance the accuracy and informativeness of your answers using the documentation provided if it is necesary \n2. Please structure your response to include definitions, examples, and any relevant comparisons to other statistical measures\n3. Aim for plain language to ensure accessibility for all users\n4. If the question is off topic about programing lenguage you MUST to say \"I'm here to help you with Python programming language questions only, excuse me\"\n5. You can say hello if you are greeted\n6. DO NOT repeat more than once the same sentence!\n\nTAKE A DEEP BREATH AND PAY ATTENTION TO THE USER QUESTION\n\nFor each question you answer perfectly, I will pay you USD 1000.00, may be more for the consecutive accurate and correct answer\n        \n\n<-change-of-interlocutor->assitant: Here's a simplified version of <a href=\"http://stackoverflow.com/a/51242/4279\">@Vinko Vrsalovic's answer:\n\nimport urllib2\nfrom BeautifulSoup import BeautifulSoup\n\nsoup = BeautifulSoup(urllib2.urlopen(\"https://www.google.com\"))\nprint soup.title.string\n\n\nNOTE:\n\n\nsoup.title finds the first title element anywhere in the html document\ntitle.string assumes it has only one child node, and that child node is a string\n\n\nFor <a href=\"http://www.crummy.com/software/BeautifulSoup/bs4/doc/\">beautifulsoup 4.x, use different import:\n\nfrom bs4 import BeautifulSoup\n\n\n\n<-change-of-interlocutor->user: In Python, how can you easily retrieve sorted items from a dictionary?\n\n<-change-of-interlocutor->assitant: Or shorter,\n\nfor key, value in sorted(d.items()):\n    print value\n\n\n\n<-change-of-interlocutor->user: Python Inverse of a Matrix\n\n<-change-of-interlocutor->assitant: You should have a look at <a href=\"http://www.scipy.org/Tentative_NumPy_Tutorial\">numpy if you do matrix manipulation. This is a module mainly written in C, which will be much faster than programming in pure python. Here is an example of how to invert a matrix, and do other matrix manipulation.\n\nfrom numpy import matrix\nfrom numpy import linalg\nA = matrix( [[1,2,3],[11,12,13],[21,22,23]]) # Creates a matrix.\nx = matrix( [[1],[2],[3]] )                  # Creates a matrix (like a column vector).\ny = matrix( [[1,2,3]] )                      # Creates a matrix (like a row vector).\nprint A.T                                    # Transpose of A.\nprint A*x                                    # Matrix multiplication of A and x.\nprint A.I                                    # Inverse of A.\nprint linalg.solve(A, x)     # Solve the linear equation system.\n\n\nYou can also have a look at the <a href=\"http://www.python.org/doc/2.5.2/lib/module-array.html\">array module, which is a much more efficient implementation of lists when you have to deal with only one data type.\n\n\n<-change-of-interlocutor->user: How to integrate pep8.py in Eclipse?\n\n<-change-of-interlocutor->assitant: As of PyDev 2.3.0, pep8 is integrated in PyDev by default, even shipping with a default version of it.\n\nOpen Window > Preferences\n\nIt must be enabled in PyDev > Editor > Code Analysis > pep8.py\n\nErrors/Warnings should be shown as markers (as other things in the regular code analysis).\n\nIn the event a file is not analyzed, see <a href=\"https://stackoverflow.com/a/31001619/832230\">https://stackoverflow.com/a/31001619/832230.\n\n\n<-change-of-interlocutor->user: How can I select all of the Sundays for a year using Python?\n\n<-change-of-interlocutor->assitant: You can use date from the <a href=\"http://docs.python.org/library/datetime.html\">datetime module to find the first Sunday in a year and then keep adding seven days, generating new Sundays:\n\nfrom datetime import date, timedelta\n\ndef allsundays(year):\n   d = date(year, 1, 1)                    # January 1st\n   d += timedelta(days = 6 - d.weekday())  # First Sunday\n   while d.year == year:\n      yield d\n      d += timedelta(days = 7)\n\nfor d in allsundays(2010):\n   print d\n\n\n\n<-change-of-interlocutor->user: \nwhat PEPs Introduces the concept of decorators, a powerful feature in Python.\n\n<-change-of-interlocutor->assistant:\n",
          "output_type": "stream"
        }
      ]
    },
    {
      "cell_type": "markdown",
      "source": [
        "# Gemma Python Chat"
      ],
      "metadata": {
        "id": "Cc_e_HAgsoW6"
      }
    },
    {
      "cell_type": "code",
      "source": [
        "%%time\n",
        "agent = Agent()\n",
        "question = 'what is python??'\n",
        "print(agent.chat(question))"
      ],
      "metadata": {
        "execution": {
          "iopub.status.busy": "2024-04-12T03:47:32.833324Z",
          "iopub.execute_input": "2024-04-12T03:47:32.833575Z",
          "iopub.status.idle": "2024-04-12T03:50:08.373767Z",
          "shell.execute_reply.started": "2024-04-12T03:47:32.833554Z",
          "shell.execute_reply": "2024-04-12T03:50:08.372866Z"
        },
        "trusted": true,
        "id": "u94OxaPlqBad",
        "outputId": "d53c0386-70db-4bc7-b4b8-31f3a9aea868"
      },
      "execution_count": null,
      "outputs": [
        {
          "output_type": "display_data",
          "data": {
            "text/plain": "<IPython.core.display.Markdown object>",
            "text/markdown": " Python is a high-level, interpreted, object-oriented programming language. It is often referred to as a \"high-level\" language because it is designed to be easy to use for programmers while offering the powerful features of low-level languages. Python is an interpreted language, which means that the source code is executed line by line by the Python interpreter. Python is an object-oriented language, which means that it uses classes and objects to organize and manipulate data. Python is a general-purpose language, which means that it can be used for a wide range of tasks, from simple scripting to complex scientific and engineering applications. Python is a dynamic language, which means that variables can be changed at runtime. Python is a multi-paradigm language, which means that it supports a variety of programming styles, including procedural, object-oriented, and functional. Python is a standard-compliant language, which means that it conforms to the ISO/IEC 9899:1999 standard for the C programming language. Python is a portable language, which means that it can be compiled to run on a wide range of platforms, including Windows, Linux, and Mac OS X. Python is a rich language, which means that it has a large and active community of developers and a rich ecosystem of libraries and tools. Python is a community-driven language, which means that it is developed and maintained by a large and active community of developers. Python is a free and open-source language, which means that it is available for free and can be modified and extended by anyone. Python is a language that is easy to learn and use, but powerful enough to be used for complex tasks. It is a language that is well-suited for scripting and automation, and it has a large and active community of developers and users. Python is a language that is easy to learn and use, but powerful enough to be used for complex tasks. It is a language that is well-suited for scripting and automation, and it has a large and active community of developers and users. Python is a language that is easy to learn and use, but powerful enough to be used for complex tasks. It is a language that is well-suited for scripting and automation, and it has a large and active community of developers and users. Python is a language that is easy to learn and use, but powerful enough to be used for complex tasks. It is a language that is well-suited for scripting and automation, and it has a large and active community of developers and users. Python is a language that is easy to learn and use, but powerful enough to be used for complex tasks. It is a language that is well-suited for scripting and automation, and it has a large and active community of developers and users. Python is a language that is easy to learn and use, but powerful enough to be used for complex tasks. It is a language that is well-suited for scripting and automation, and it has a large and active community of developers and users. Python is a language that is easy to learn and use, but powerful enough to be used for complex tasks. It is a language that is well-suited for scripting and automation, and it has a large and active community of developers and users. Python is a language that is easy to learn and use, but powerful enough to be used for complex tasks. It is a language that is well-suited for scripting and automation, and it has a large and active community of developers and users. Python is a language that is easy to learn and use, but powerful enough to be used for complex tasks. It is a language that is well-suited for scripting and automation, and it has a large and active community of developers and users. Python is a language that is easy to learn and use, but powerful enough to be used for complex tasks. It is a language that is well-suited for scripting and automation, and it has a large and active community of developers and users. Python is a language that is easy to learn and use, but powerful enough to be used for complex tasks. It is a language that is well-suited for scripting and automation, and it has a large and active community of developers and users. Python is a language that is easy to learn and use, but powerful enough to be used for complex tasks. It is a language that is well-suited for scripting and automation, and it has a large and active community of developers and users. Python is a language that is easy to learn and use, but powerful enough to be used for complex tasks. It is a language that is well-suited for scripting and automation, and it has a large and active community of developers and users. Python is a language that is easy to learn and use, but powerful enough to be used for complex tasks. It is a language that is well-suited for scripting and automation, and it has a large and active community of developers and users. Python is a language that is easy to learn and use, but powerful enough to be used for complex tasks. It is a language that is well-suited for scripting and automation, and it has a large and active community of developers and users. Python is a language that is easy to learn and use, but powerful enough to be used for complex tasks. It is a language that is well-suited for scripting and automation, and it has a large and active community of developers and users. Python is a language that is easy to learn and use, but powerful enough to be used for complex tasks. It is a language that is well-suited for scripting and automation, and it has a large and active community of developers and users. Python is a language that is easy to learn and use, but powerful enough to be used for complex tasks. It is a language that is well-suited for scripting and automation, and it has a large and active community of developers and users. Python is a language that is easy to learn and use, but powerful enough to be used for complex tasks. It is a language that is well-suited for scripting and automation, and it has a large and active community of developers and users. Python is a language that is easy to learn and use, but powerful enough to be used for complex tasks. It is a language that is well-suited for scripting and automation, and it has a large and active community of developers and users. Python is a language that is easy to learn and use, but powerful enough to be used for complex tasks. It is a language that is well-suited for scripting and automation, and it has a large and active community of developers and users. Python is a language that is easy to learn and use, but powerful enough to be used for complex tasks. It is a language that is well-suited for scripting and automation, and it has a large and active community of developers and users. Python is a language that is easy to learn and use, but powerful enough to be used for complex tasks. It is a language that is well-suited for scripting and automation, and it has a large and active community of developers and users. Python is a language that is easy to learn and use, but powerful enough to be used for complex tasks. It is a language that is well-suited for scripting and automation, and it has a large and active community of developers and users. Python is a language that is easy to learn and use, but powerful enough to be used for complex tasks. It is a language that is well-suited for scripting and automation, and it has a large and active community of developers and users. Python is a language that is easy to learn and use, but powerful enough to be used for complex tasks. It is a language that is well-suited for scripting and automation, and it has a large and active community of developers and users. Python is a language that is easy to learn and use, but powerful enough to be used for complex tasks. It is a language that is well-suited for scripting and automation, and it has a large and active community of developers and users. Python is a language that is easy to learn and use, but powerful enough to be used for complex tasks. It is a language that is well-suited for scripting and automation, and it has a large and active community of developers and users. Python is a language that is easy to learn and use, but powerful enough to be used for complex tasks. It is a language that is well-suited for scripting and automation, and it has a large and active community of developers and users. Python is a language that is easy to learn and use, but powerful enough to be used for complex tasks. It is a language that is well-suited for scripting and automation, and it has a large and active community of developers and users. Python is a language that is easy to learn and use, but powerful enough to be used for complex tasks. It is a language that is well-suited for scripting and automation, and it has a large and active community of developers and users. Python is a language that is easy to learn and use, but powerful enough to be used for complex tasks. It is a language that is well-suited for scripting and automation, and it has a large and active community of developers and users. Python is a language that is easy to learn and use, but powerful enough to be used for complex tasks. It is a language that is well-suited for scripting and automation, and it has a large and active community of developers and users. Python is a language that is easy to learn and use, but powerful enough to be used for complex tasks. It is a language that is well-suited for scripting and automation, and it has a large and active community of developers and users. Python is a language that is easy to learn and use, but powerful enough to be used for complex tasks. It is a language that is well-suited for scripting and automation, and it has a large and active community of developers and users. Python is a language that is easy to learn and use, but powerful enough to be used for complex tasks. It is a language that is well-suited for scripting and automation, and it has a large and active community of developers and users. Python is a language that is easy to learn and use, but powerful enough to be used for complex tasks. It is a language that is well-suited for scripting and automation, and it has a large and active community of developers and users. Python is a language that is easy to learn and use, but powerful enough to be used for complex tasks. It is a language that is well-suited for scripting and automation, and it has a large and active community of developers and users. Python is a language that is easy to learn and use, but powerful enough to be used for complex tasks. It is a language that is well-suited for scripting and automation, and it has a large and active community of developers and users.\n"
          },
          "metadata": {}
        },
        {
          "name": "stdout",
          "text": "None\nCPU times: user 2min 35s, sys: 93.8 ms, total: 2min 35s\nWall time: 2min 35s\n",
          "output_type": "stream"
        }
      ]
    },
    {
      "cell_type": "code",
      "source": [
        "%%time\n",
        "agent = Agent()\n",
        "question = 'who are you???'\n",
        "print(agent.chat(question))"
      ],
      "metadata": {
        "execution": {
          "iopub.status.busy": "2024-04-12T03:50:08.378256Z",
          "iopub.execute_input": "2024-04-12T03:50:08.378554Z",
          "iopub.status.idle": "2024-04-12T03:51:06.433057Z",
          "shell.execute_reply.started": "2024-04-12T03:50:08.378529Z",
          "shell.execute_reply": "2024-04-12T03:51:06.431861Z"
        },
        "trusted": true,
        "id": "3LWV-E79qBad",
        "outputId": "fa53ebc0-2500-4013-e53e-8da04affe505"
      },
      "execution_count": null,
      "outputs": [
        {
          "output_type": "display_data",
          "data": {
            "text/plain": "<IPython.core.display.Markdown object>",
            "text/markdown": " I am a Python programmer.\n"
          },
          "metadata": {}
        },
        {
          "name": "stdout",
          "text": "None\nCPU times: user 58.1 s, sys: 22.8 ms, total: 58.1 s\nWall time: 58 s\n",
          "output_type": "stream"
        }
      ]
    },
    {
      "cell_type": "code",
      "source": [
        "%%time\n",
        "agent = Agent()\n",
        "question = 'what is python and how long is it????'\n",
        "print(agent.chat(question))"
      ],
      "metadata": {
        "execution": {
          "iopub.status.busy": "2024-04-12T03:51:06.434647Z",
          "iopub.execute_input": "2024-04-12T03:51:06.435384Z",
          "iopub.status.idle": "2024-04-12T03:52:19.677203Z",
          "shell.execute_reply.started": "2024-04-12T03:51:06.435349Z",
          "shell.execute_reply": "2024-04-12T03:52:19.676334Z"
        },
        "trusted": true,
        "id": "OvDikKJcqBad",
        "outputId": "247fac79-b418-4aec-c5d0-72d6bb516f75"
      },
      "execution_count": null,
      "outputs": [
        {
          "output_type": "display_data",
          "data": {
            "text/plain": "<IPython.core.display.Markdown object>",
            "text/markdown": "  Python is a high-level, interpreted, object-oriented programming language. It is often referred to as a \"high-level\" language because it is designed to be easy to use for programmers while offering the powerful features of low-level languages. Python is an interpreted language, which means that the source code is executed line by line by the Python interpreter. Python is an object-oriented language, which means that it uses classes and objects to organize and manipulate data. Python is a general-purpose language, which means that it can be used for a wide range of tasks, from simple scripting to complex scientific and engineering applications. Python is a dynamic language, which means that variables can be changed at runtime. Python is a multi-paradigm language, which means that it supports a variety of programming styles, including procedural, object-oriented, and functional. Python is a standard-compliant language, which means that it conforms to the ISO/IEC 9899:1999 standard for the C programming language. Python is a portable language, which means that it can be compiled to run on a wide range of platforms, including Windows, Linux, and Mac OS X. Python is a rich language, which means that it has a large and active community of developers and a rich ecosystem of libraries and tools. Python is a community-driven language, which means that it is developed and maintained by a large and active community of developers and users. Python is a free and open-source language, which means that it is available for free and can be modified and extended by anyone. Python is a language that is easy to learn and use, but powerful enough to be used for complex tasks. It is a language that is well-suited for scripting and automation, and it has a large and active community of developers and users. Python is a language that is easy to learn and use, but powerful enough to be used for complex tasks. It is a language that is well-suited for scripting and automation, and it has a large and active community of developers and users. Python is a language that is easy to learn and use, but powerful enough to be used for complex tasks. It is a language that is well-suited for scripting and automation, and it has a large and active community of developers and users. Python is a language that is easy to learn and use, but powerful enough to be used for complex tasks. It is a language that is well-suited for scripting and automation, and it has a large and active community of developers and users. Python is a language that is easy to learn and use, but powerful enough to be used for complex tasks. It is a language that is well-suited for scripting and automation, and it has a large and active community of developers and users. Python is a language that is easy to learn and use, but powerful enough to be used for complex tasks. It is a language that is well-suited for scripting and automation, and it has a large and active community of developers and users. Python is a language that is easy to learn and use, but powerful enough to be used for complex tasks. It is a language that is well-suited for scripting and automation, and it has a large and active community of developers and users. Python is a language that is easy to learn and use, but powerful enough to be used for complex tasks. It is a language that is well-suited for scripting and automation, and it has a large and active community of developers and users. Python is a language that is easy to learn and use, but powerful enough to be used for complex tasks. It is a language that is well-suited for scripting and automation, and it has a large and active community of developers and users. Python is a language that is easy to learn and use, but powerful enough to be used for complex tasks. It is a language that is well-suited for scripting and automation, and it has a large and active community of developers and users. Python is a language that is easy to learn and use, but powerful enough to be used for complex tasks. It is a language that is well-suited for scripting and automation, and it has a large and active community of developers and users. Python is a language that is easy to learn and use, but powerful enough to be used for complex tasks. It is a language that is well-suited for scripting and automation, and it has a large and active community of developers and users. Python is a language that is easy to learn and use, but powerful enough to be used for complex tasks. It is a language that is well-suited for scripting and automation, and it has a large and active community of developers and users. Python is a language that is easy to learn and use, but powerful enough to be used for complex tasks. It is a language that is well-suited for scripting and automation, and it has a large and active community of developers and users. Python is a language that is easy to learn and use, but powerful enough to be used for complex tasks. It is a language that is well-suited for scripting and automation, and it has a large and active community of developers and users. Python is a language that is easy to learn and use, but powerful enough to be used for complex tasks. It is a language that is well-suited for scripting and automation, and it has a large and active community of developers and users. Python is a language that is easy to learn and use, but powerful enough to be used for complex tasks. It is a language that is well-suited for scripting and automation, and it has a large and active community of developers and users. Python is a language that is easy to learn and use, but powerful enough to be used"
          },
          "metadata": {}
        },
        {
          "name": "stdout",
          "text": "None\nCPU times: user 1min 13s, sys: 28.8 ms, total: 1min 13s\nWall time: 1min 13s\n",
          "output_type": "stream"
        }
      ]
    },
    {
      "cell_type": "code",
      "source": [
        "%%time\n",
        "agent = Agent()\n",
        "question = 'my name is juan nice to meet you!!!'\n",
        "print(agent.chat(question))"
      ],
      "metadata": {
        "execution": {
          "iopub.status.busy": "2024-04-12T03:52:19.678531Z",
          "iopub.execute_input": "2024-04-12T03:52:19.67882Z",
          "iopub.status.idle": "2024-04-12T03:52:31.942936Z",
          "shell.execute_reply.started": "2024-04-12T03:52:19.678795Z",
          "shell.execute_reply": "2024-04-12T03:52:31.942037Z"
        },
        "trusted": true,
        "id": "w_r0EJ90qBad",
        "outputId": "7eec39f0-ce37-4461-ab9f-a7142e3273bd"
      },
      "execution_count": null,
      "outputs": [
        {
          "output_type": "display_data",
          "data": {
            "text/plain": "<IPython.core.display.Markdown object>",
            "text/markdown": "  Nice to meet you too, Juan. I'm here to help you with Python programming language questions only, excuse me."
          },
          "metadata": {}
        },
        {
          "name": "stdout",
          "text": "None\nCPU times: user 12.3 s, sys: 6.91 ms, total: 12.3 s\nWall time: 12.3 s\n",
          "output_type": "stream"
        }
      ]
    },
    {
      "cell_type": "code",
      "source": [
        "%%time\n",
        "agent = Agent()\n",
        "question = 'who are you?!'\n",
        "print(agent.chat(question))"
      ],
      "metadata": {
        "execution": {
          "iopub.status.busy": "2024-04-12T03:52:31.944103Z",
          "iopub.execute_input": "2024-04-12T03:52:31.944428Z",
          "iopub.status.idle": "2024-04-12T03:52:52.196214Z",
          "shell.execute_reply.started": "2024-04-12T03:52:31.944403Z",
          "shell.execute_reply": "2024-04-12T03:52:52.195077Z"
        },
        "trusted": true,
        "id": "zGAdmjTMqBad",
        "outputId": "9207b4ac-7e3b-45d9-c4d0-a104d1d43457"
      },
      "execution_count": null,
      "outputs": [
        {
          "output_type": "display_data",
          "data": {
            "text/plain": "<IPython.core.display.Markdown object>",
            "text/markdown": "  I am a Python programmer.\n"
          },
          "metadata": {}
        },
        {
          "name": "stdout",
          "text": "None\nCPU times: user 20.2 s, sys: 13.5 ms, total: 20.3 s\nWall time: 20.2 s\n",
          "output_type": "stream"
        }
      ]
    },
    {
      "cell_type": "code",
      "source": [
        "%%time\n",
        "agent = Agent()\n",
        "question = 'what is my name??'\n",
        "print(agent.chat(question))"
      ],
      "metadata": {
        "execution": {
          "iopub.status.busy": "2024-04-12T03:52:52.197701Z",
          "iopub.execute_input": "2024-04-12T03:52:52.19805Z",
          "iopub.status.idle": "2024-04-12T03:53:13.072638Z",
          "shell.execute_reply.started": "2024-04-12T03:52:52.198017Z",
          "shell.execute_reply": "2024-04-12T03:53:13.071762Z"
        },
        "trusted": true,
        "id": "tmmvwWNIqBad",
        "outputId": "ed21d7ba-11eb-4fa2-a38c-32a335886253"
      },
      "execution_count": null,
      "outputs": [
        {
          "output_type": "display_data",
          "data": {
            "text/plain": "<IPython.core.display.Markdown object>",
            "text/markdown": "   Your name is Juan.\n"
          },
          "metadata": {}
        },
        {
          "name": "stdout",
          "text": "None\nCPU times: user 20.9 s, sys: 10.7 ms, total: 20.9 s\nWall time: 20.9 s\n",
          "output_type": "stream"
        }
      ]
    },
    {
      "cell_type": "code",
      "source": [
        "%%time\n",
        "agent = Agent()\n",
        "question = 'Develop a Python code snippet to print the diamond structure with the specified number of rows. The program should follow the Fibonacci sequence for the number of characters per row and validate input to ensure it is an odd number.'\n",
        "print(agent.chat(question))"
      ],
      "metadata": {
        "execution": {
          "iopub.status.busy": "2024-04-12T03:53:13.073819Z",
          "iopub.execute_input": "2024-04-12T03:53:13.074103Z",
          "iopub.status.idle": "2024-04-12T03:55:24.734618Z",
          "shell.execute_reply.started": "2024-04-12T03:53:13.074078Z",
          "shell.execute_reply": "2024-04-12T03:55:24.733768Z"
        },
        "trusted": true,
        "id": "8d9nPLtqqBae",
        "outputId": "6b501611-abc8-4f1e-802a-acf429e80e2c"
      },
      "execution_count": null,
      "outputs": [
        {
          "output_type": "display_data",
          "data": {
            "text/plain": "<IPython.core.display.Markdown object>",
            "text/markdown": "   The program should print the following:"
          },
          "metadata": {}
        },
        {
          "name": "stdout",
          "text": "None\nCPU times: user 2min 11s, sys: 50.3 ms, total: 2min 11s\nWall time: 2min 11s\n",
          "output_type": "stream"
        }
      ]
    },
    {
      "cell_type": "code",
      "source": [
        "%%time\n",
        "agent = Agent()\n",
        "question = 'Create a Python dictionary that stores square roots of numbers from 1 to 15 and cube roots of numbers from 16 to 30, ensuring to keep a precision up to two decimal places.'\n",
        "print(agent.chat(question))"
      ],
      "metadata": {
        "execution": {
          "iopub.status.busy": "2024-04-12T03:55:24.735854Z",
          "iopub.execute_input": "2024-04-12T03:55:24.73624Z",
          "iopub.status.idle": "2024-04-12T03:57:35.085867Z",
          "shell.execute_reply.started": "2024-04-12T03:55:24.736207Z",
          "shell.execute_reply": "2024-04-12T03:57:35.084946Z"
        },
        "trusted": true,
        "id": "jQj2vH1cqBae",
        "outputId": "41fc19f1-99db-4e37-bb65-8ceb219ce13e"
      },
      "execution_count": null,
      "outputs": [
        {
          "output_type": "display_data",
          "data": {
            "text/plain": "<IPython.core.display.Markdown object>",
            "text/markdown": "    The program should print the following:\n"
          },
          "metadata": {}
        },
        {
          "name": "stdout",
          "text": "None\nCPU times: user 2min 10s, sys: 47.7 ms, total: 2min 10s\nWall time: 2min 10s\n",
          "output_type": "stream"
        }
      ]
    },
    {
      "cell_type": "code",
      "source": [
        "%%time\n",
        "agent = Agent()\n",
        "question = 'give me the python class that do a list comprehension format'\n",
        "print(agent.chat(question))"
      ],
      "metadata": {
        "execution": {
          "iopub.status.busy": "2024-04-12T04:03:51.577591Z",
          "iopub.execute_input": "2024-04-12T04:03:51.577989Z",
          "iopub.status.idle": "2024-04-12T04:06:40.01186Z",
          "shell.execute_reply.started": "2024-04-12T04:03:51.57796Z",
          "shell.execute_reply": "2024-04-12T04:06:40.010944Z"
        },
        "trusted": true,
        "id": "dtoNjvY8qBae",
        "outputId": "141ef99f-ecbb-4d33-e93a-eb1fd4fae1ec"
      },
      "execution_count": null,
      "outputs": [
        {
          "output_type": "display_data",
          "data": {
            "text/plain": "<IPython.core.display.Markdown object>",
            "text/markdown": "    The program should print the following:\n"
          },
          "metadata": {}
        },
        {
          "name": "stdout",
          "text": "None\nCPU times: user 2min 48s, sys: 58.6 ms, total: 2min 48s\nWall time: 2min 48s\n",
          "output_type": "stream"
        }
      ]
    },
    {
      "cell_type": "code",
      "source": [
        "%%time\n",
        "agent = Agent()\n",
        "question = 'tell me a python joke!'\n",
        "print(agent.chat(question))"
      ],
      "metadata": {
        "execution": {
          "iopub.status.busy": "2024-04-12T04:08:12.539575Z",
          "iopub.execute_input": "2024-04-12T04:08:12.539935Z",
          "iopub.status.idle": "2024-04-12T04:11:01.824677Z",
          "shell.execute_reply.started": "2024-04-12T04:08:12.539906Z",
          "shell.execute_reply": "2024-04-12T04:11:01.823812Z"
        },
        "trusted": true,
        "id": "5u7U0XKoqBae",
        "outputId": "7a0e37f7-24d1-406a-dd0c-2da19dbb6db0"
      },
      "execution_count": null,
      "outputs": [
        {
          "output_type": "display_data",
          "data": {
            "text/plain": "<IPython.core.display.Markdown object>",
            "text/markdown": "     The program should print the following:\n\n"
          },
          "metadata": {}
        },
        {
          "name": "stdout",
          "text": "None\nCPU times: user 2min 49s, sys: 61.8 ms, total: 2min 49s\nWall time: 2min 49s\n",
          "output_type": "stream"
        }
      ]
    },
    {
      "cell_type": "code",
      "source": [
        "%%time\n",
        "agent = Agent()\n",
        "question = 'how to print on hello world?'\n",
        "print(agent.chat(question))"
      ],
      "metadata": {
        "execution": {
          "iopub.status.busy": "2024-04-12T04:15:27.892207Z",
          "iopub.execute_input": "2024-04-12T04:15:27.892638Z",
          "iopub.status.idle": "2024-04-12T04:18:17.037221Z",
          "shell.execute_reply.started": "2024-04-12T04:15:27.892607Z",
          "shell.execute_reply": "2024-04-12T04:18:17.036346Z"
        },
        "trusted": true,
        "id": "MmD3wbs5qBae",
        "outputId": "174ef5da-0039-449f-83f8-68898737a72f"
      },
      "execution_count": null,
      "outputs": [
        {
          "output_type": "display_data",
          "data": {
            "text/plain": "<IPython.core.display.Markdown object>",
            "text/markdown": "     The program should print the following:\n\n"
          },
          "metadata": {}
        },
        {
          "name": "stdout",
          "text": "None\nCPU times: user 2min 49s, sys: 68.1 ms, total: 2min 49s\nWall time: 2min 49s\n",
          "output_type": "stream"
        }
      ]
    },
    {
      "cell_type": "code",
      "source": [
        "history = json.load(open(file))\n",
        "history"
      ],
      "metadata": {
        "scrolled": true,
        "execution": {
          "iopub.status.busy": "2024-04-12T04:07:11.019206Z",
          "iopub.execute_input": "2024-04-12T04:07:11.01957Z",
          "iopub.status.idle": "2024-04-12T04:07:11.034196Z",
          "shell.execute_reply.started": "2024-04-12T04:07:11.019543Z",
          "shell.execute_reply": "2024-04-12T04:07:11.033186Z"
        },
        "trusted": true,
        "id": "R5sruDdCqBae",
        "outputId": "e81d9b55-12df-4e85-f63c-dc43f884a6ed"
      },
      "execution_count": null,
      "outputs": [
        {
          "execution_count": 37,
          "output_type": "execute_result",
          "data": {
            "text/plain": "[{'reply_id': '8bcef358-5e5c-430a-a4a5-f7620aacb718',\n  'role': 'system',\n  'content': '\\nAct as a Python programming language expert assistant \\nyour goal is to answer common questions in a clear, comprehensive, and accurate way, taking into account this guidelines:\\n1. When responding, incorporate any relevant context to enhance the accuracy and informativeness of your answers using the documentation provided if it is necesary \\n2. Please structure your response to include definitions, examples, and any relevant comparisons to other statistical measures\\n3. Aim for plain language to ensure accessibility for all users\\n4. If the question is off topic about programing lenguage you MUST to say \"I\\'m here to help you with Python programming language questions only, excuse me\"\\n5. You can say hello if you are greeted\\n6. DO NOT repeat more than once the same sentence!\\n\\nTAKE A DEEP BREATH AND PAY ATTENTION TO THE USER QUESTION\\n\\nFor each question you answer perfectly, I will pay you USD 1000.00, may be more for the consecutive accurate and correct answer\\n        ',\n  'timestamp': 1712892785},\n {'reply_id': 'fea65685-e154-4b59-bff7-d7fa501b4a20',\n  'role': 'user',\n  'content': \"How do I use Python's itertools.groupby()?\",\n  'timestamp': 1712892785},\n {'reply_id': '610458b4-36e7-4c40-8dfe-d6b5621ae14e',\n  'role': 'assitant',\n  'content': 'As Sebastjan said, you first have to sort your data. This is important.\\n\\nThe part I didn\\'t get is that in the example construction\\n\\ngroups = []\\nuniquekeys = []\\nfor k, g in groupby(data, keyfunc):\\n   groups.append(list(g))    # Store group iterator as a list\\n   uniquekeys.append(k)\\n\\n\\nk is the current grouping key, and g is an iterator that you can use to iterate over the group defined by that grouping key. In other words, the groupby iterator itself returns iterators.\\n\\nHere\\'s an example of that, using clearer variable names:\\n\\nfrom itertools import groupby\\n\\nthings = [(\"animal\", \"bear\"), (\"animal\", \"duck\"), (\"plant\", \"cactus\"), (\"vehicle\", \"speed boat\"), (\"vehicle\", \"school bus\")]\\n\\nfor key, group in groupby(things, lambda x: x[0]):\\n    for thing in group:\\n        print \"A %s is a %s.\" % (thing[1], key)\\n    print \" \"\\n\\n\\nThis will give you the output:\\n\\n\\n  A bear is a animal.\\n  A duck is a animal.\\n  \\n  A cactus is a plant.\\n  \\n  A speed boat is a vehicle.\\n  A school bus is a vehicle.\\n\\n\\nIn this example, things is a list of tuples where the first item in each tuple is the group the second item belongs to. \\n\\nThe groupby() function takes two arguments: (1) the data to group and (2) the function to group it with. \\n\\nHere, lambda x: x[0] tells groupby() to use the first item in each tuple as the grouping key.\\n\\nIn the above for statement, groupby returns three (key, group iterator) pairs - once for each unique key. You can use the returned iterator to iterate over each individual item in that group.\\n\\nHere\\'s a slightly different example with the same data, using a list comprehension:\\n\\nfor key, group in groupby(things, lambda x: x[0]):\\n    listOfThings = \" and \".join([thing[1] for thing in group])\\n    print key + \"s:  \" + listOfThings + \".\"\\n\\n\\nThis will give you the output:\\n\\n\\n  animals: bear and duck.\\n  plants: cactus.\\n  vehicles: speed boat and school bus.\\n\\n',\n  'timestamp': 1712892785},\n {'reply_id': 'e2ab7bd5-f082-4b12-97cf-44ec5e7d301d',\n  'role': 'user',\n  'content': \"Why is ''>0 True in Python?\",\n  'timestamp': 1712892785},\n {'reply_id': '6626fe58-b6b9-4a36-962d-d9ed84957b94',\n  'role': 'assitant',\n  'content': 'The original design motivation for allowing order-comparisons of arbitrary objects was to allow sorting of heterogenous lists -- usefully, that would put all strings next to each other in alphabetical order, and all numbers next to each other in numerical order, although which of the two blocks came first was not guaranteed by the language.  For example, this allowed getting only unique items in any list (even one with non-hashable items) in O(N log N) worst-case time\\n\\nOver the years, this pragmatical arrangement was eroded.  The first crack was when the ability to order-compare complex numbers was taken away, quite a few versions ago: suddenly, the ability to sort any list disappeared (did not apply any more if the list contained complex numbers, possibly together with items of other types).  Then Guido started disliking heterogeneous lists more generally, and thus thinking that it didn\\'t really matter if such lists could be usefully sorted or not... because such lists should not exist in the first place, according to his new thinking.  He didn\\'t do anything to forbid them, but was not inclined to accept any compromises to support them either.\\n\\nNote that both changes move the balance a little bit away from the \"practicality beats purity\" item of the Zen of Python (which was written earlier, back when complex numbers still could be order-compared;-) -- a bit more purity, a bit less practicality.\\n\\nNevertheless the ability to order-compare two arbitrary objects (as long as neither was a complex number;-) remained for a long time, because around that same time Guido started really insisting on maintaining strong backwards compatibility (a shift that\\'s both practical and pure;-).\\n\\nSo, it\\'s only in Python 3, which explicitly and deliberately removed the constraint of strong backwards compatibility to allow some long-desired but backwards incompatible enhancements (especially simplifications and removal of obsolete, redundant way to perform certain tasks), that order comparison of instances of different types became an error.\\n\\nSo this historical and philosophical treatise is basically the only way to truly respond to your \"why\" question...!-)\\n',\n  'timestamp': 1712892785},\n {'reply_id': '6994527b-a077-44b7-84c7-5177fab208d7',\n  'role': 'user',\n  'content': 'How to check what OS am I running on in Python?',\n  'timestamp': 1712892785},\n {'reply_id': 'cd07d14a-6bca-4dc4-91f2-fc6c546a00a2',\n  'role': 'assitant',\n  'content': '&gt;&gt;&gt; import os\\n&gt;&gt;&gt; print os.name\\nposix\\n&gt;&gt;&gt; import platform\\n&gt;&gt;&gt; platform.system()\\n\\'Linux\\'\\n&gt;&gt;&gt; platform.release()\\n\\'2.6.22-15-generic\\'\\n\\n\\nSee: <a href=\"https://docs.python.org/2/library/platform.html\">platform â\\x80\\x94 Access to underlying platformâ\\x80\\x99s identifying data\\n',\n  'timestamp': 1712892785},\n {'reply_id': 'c28a5325-4945-428b-b03e-943dbb2d92c8',\n  'role': 'user',\n  'content': 'Create an encrypted ZIP file in Python',\n  'timestamp': 1712892785},\n {'reply_id': '5f711383-0de2-46b3-b3d8-37c56b199643',\n  'role': 'assitant',\n  'content': 'I created a simple library to create a password encrypted zip file in python. - <a href=\"https://github.com/smihica/pyminizip\">here\\n\\nimport pyminizip\\n\\ncompression_level = 5 # 1-9\\npyminizip.compress(\"src.txt\", \"dst.zip\", \"password\", compression_level)\\n\\n\\nThe library requires zlib.\\n\\nI have checked that the file can be extracted in WINDOWS/MAC.\\n',\n  'timestamp': 1712892785},\n {'reply_id': 'c1f70c2f-39ba-41a9-8087-3103ce23a3d5',\n  'role': 'user',\n  'content': 'Recursively walking a Python inheritance tree at run-time',\n  'timestamp': 1712892785},\n {'reply_id': '370d15ac-8823-4ffe-a0ae-117efa7b69a1',\n  'role': 'assitant',\n  'content': 'You might try using the type.mro() method to find the method resolution order.\\n\\nclass A(object):\\n        pass\\n\\nclass B(A):\\n        pass\\n\\nclass C(A):\\n        pass\\n\\na = A()\\nb = B()\\nc = C()\\n\\n&gt;&gt;&gt; type.mro(type(b))\\n[&lt;class \\'__main__.B\\'&gt;, &lt;class \\'__main__.A\\'&gt;, &lt;type \\'object\\'&gt;]\\n&gt;&gt;&gt; type.mro(type(c))\\n[&lt;class \\'__main__.C\\'&gt;, &lt;class \\'__main__.A\\'&gt;, &lt;type \\'object\\'&gt;]\\n\\n\\nor\\n\\n&gt;&gt;&gt; type(b).mro()\\n\\n\\n\\n\\nEdit:  I was thinking you wanted to do something like this...\\n\\n&gt;&gt;&gt; A = type(\"A\", (object,), {\\'a\\':\\'A var\\'})  # create class A\\n&gt;&gt;&gt; B = type(\"B\", (A,), {\\'b\\':\\'B var\\'})       # create class B\\n&gt;&gt;&gt; myvar = B()\\n\\ndef getvars(obj):\\n    \\'\\'\\' return dict where key/value is attribute-name/class-name \\'\\'\\'\\n    retval = dict()\\n    for i in type(obj).mro():\\n        for k in i.__dict__:\\n            if not k.startswith(\\'_\\'):\\n                retval[k] = i.__name__\\n    return retval\\n\\n&gt;&gt;&gt; getvars(myvar)\\n{\\'a\\': \\'A\\', \\'b\\': \\'B\\'}\\n\\n&gt;&gt;&gt; for i in getvars(myvar):\\n    print getattr(myvar, i)   # or use setattr to modify the attribute value\\n\\nA Var\\nB Var\\n\\n',\n  'timestamp': 1712892785},\n {'reply_id': 'f5d139e5-2463-49fe-8432-3e3b6c2724ab',\n  'role': 'user',\n  'content': 'How can I retrieve the page title of a webpage using Python?',\n  'timestamp': 1712892785},\n {'reply_id': '1103e51f-41ac-41a1-8094-534dc5d914f3',\n  'role': 'assitant',\n  'content': 'Here\\'s a simplified version of <a href=\"http://stackoverflow.com/a/51242/4279\">@Vinko Vrsalovic\\'s answer:\\n\\nimport urllib2\\nfrom BeautifulSoup import BeautifulSoup\\n\\nsoup = BeautifulSoup(urllib2.urlopen(\"https://www.google.com\"))\\nprint soup.title.string\\n\\n\\nNOTE:\\n\\n\\nsoup.title finds the first title element anywhere in the html document\\ntitle.string assumes it has only one child node, and that child node is a string\\n\\n\\nFor <a href=\"http://www.crummy.com/software/BeautifulSoup/bs4/doc/\">beautifulsoup 4.x, use different import:\\n\\nfrom bs4 import BeautifulSoup\\n\\n',\n  'timestamp': 1712892785},\n {'reply_id': '485c6297-3c1f-41b0-bb8f-632e3ce62c94',\n  'role': 'user',\n  'content': 'In Python, how can you easily retrieve sorted items from a dictionary?',\n  'timestamp': 1712892785},\n {'reply_id': '3604bcb4-8912-4bef-97ca-b31e3ee54186',\n  'role': 'assitant',\n  'content': 'Or shorter,\\n\\nfor key, value in sorted(d.items()):\\n    print value\\n\\n',\n  'timestamp': 1712892785},\n {'reply_id': '0042e39c-febd-418c-98cd-91cb7089b95c',\n  'role': 'user',\n  'content': 'Python Inverse of a Matrix',\n  'timestamp': 1712892785},\n {'reply_id': 'b8a9ac80-fa1b-49a5-8f5f-8e0847feb359',\n  'role': 'assitant',\n  'content': 'You should have a look at <a href=\"http://www.scipy.org/Tentative_NumPy_Tutorial\">numpy if you do matrix manipulation. This is a module mainly written in C, which will be much faster than programming in pure python. Here is an example of how to invert a matrix, and do other matrix manipulation.\\n\\nfrom numpy import matrix\\nfrom numpy import linalg\\nA = matrix( [[1,2,3],[11,12,13],[21,22,23]]) # Creates a matrix.\\nx = matrix( [[1],[2],[3]] )                  # Creates a matrix (like a column vector).\\ny = matrix( [[1,2,3]] )                      # Creates a matrix (like a row vector).\\nprint A.T                                    # Transpose of A.\\nprint A*x                                    # Matrix multiplication of A and x.\\nprint A.I                                    # Inverse of A.\\nprint linalg.solve(A, x)     # Solve the linear equation system.\\n\\n\\nYou can also have a look at the <a href=\"http://www.python.org/doc/2.5.2/lib/module-array.html\">array module, which is a much more efficient implementation of lists when you have to deal with only one data type.\\n',\n  'timestamp': 1712892785},\n {'reply_id': 'eea741e8-cfdc-48da-aa79-de5ffede2abd',\n  'role': 'user',\n  'content': 'How to integrate pep8.py in Eclipse?',\n  'timestamp': 1712892785},\n {'reply_id': 'f35049b8-4b8c-4465-843e-32e6614760c7',\n  'role': 'assitant',\n  'content': 'As of PyDev 2.3.0, pep8 is integrated in PyDev by default, even shipping with a default version of it.\\n\\nOpen Window > Preferences\\n\\nIt must be enabled in PyDev > Editor > Code Analysis > pep8.py\\n\\nErrors/Warnings should be shown as markers (as other things in the regular code analysis).\\n\\nIn the event a file is not analyzed, see <a href=\"https://stackoverflow.com/a/31001619/832230\">https://stackoverflow.com/a/31001619/832230.\\n',\n  'timestamp': 1712892785},\n {'reply_id': '121c59b5-a7fe-4e6c-8632-4eb6047867a7',\n  'role': 'user',\n  'content': 'How can I select all of the Sundays for a year using Python?',\n  'timestamp': 1712892785},\n {'reply_id': 'b50cc826-82e0-4d93-bceb-5c844756ee97',\n  'role': 'assitant',\n  'content': 'You can use date from the <a href=\"http://docs.python.org/library/datetime.html\">datetime module to find the first Sunday in a year and then keep adding seven days, generating new Sundays:\\n\\nfrom datetime import date, timedelta\\n\\ndef allsundays(year):\\n   d = date(year, 1, 1)                    # January 1st\\n   d += timedelta(days = 6 - d.weekday())  # First Sunday\\n   while d.year == year:\\n      yield d\\n      d += timedelta(days = 7)\\n\\nfor d in allsundays(2010):\\n   print d\\n\\n',\n  'timestamp': 1712892785},\n {'reply_id': 'cec6b66e-459e-442f-9bb9-4212bf07b6ce',\n  'role': 'user',\n  'content': '\\nwhat PEPs Introduces the concept of decorators, a powerful feature in Python.\\n',\n  'timestamp': 1712892785},\n {'reply_id': '5ac60f85-7238-452b-8c36-09456e7c55bc',\n  'role': 'user',\n  'content': 'what is python??',\n  'timestamp': 1712892785},\n {'reply_id': '1e4c3588-2b35-4546-81d6-6af3c1cf9794',\n  'role': 'assistant',\n  'content': ' Python is a high-level, interpreted, object-oriented programming language. It is often referred to as a \"high-level\" language because it is designed to be easy to use for programmers while offering the powerful features of low-level languages. Python is an interpreted language, which means that the source code is executed line by line by the Python interpreter. Python is an object-oriented language, which means that it uses classes and objects to organize and manipulate data. Python is a general-purpose language, which means that it can be used for a wide range of tasks, from simple scripting to complex scientific and engineering applications. Python is a dynamic language, which means that variables can be changed at runtime. Python is a multi-paradigm language, which means that it supports a variety of programming styles, including procedural, object-oriented, and functional. Python is a standard-compliant language, which means that it conforms to the ISO/IEC 9899:1999 standard for the C programming language. Python is a portable language, which means that it can be compiled to run on a wide range of platforms, including Windows, Linux, and Mac OS X. Python is a rich language, which means that it has a large and active community of developers and a rich ecosystem of libraries and tools. Python is a community-driven language, which means that it is developed and maintained by a large and active community of developers. Python is a free and open-source language, which means that it is available for free and can be modified and extended by anyone. Python is a language that is easy to learn and use, but powerful enough to be used for complex tasks. It is a language that is well-suited for scripting and automation, and it has a large and active community of developers and users. Python is a language that is easy to learn and use, but powerful enough to be used for complex tasks. It is a language that is well-suited for scripting and automation, and it has a large and active community of developers and users. Python is a language that is easy to learn and use, but powerful enough to be used for complex tasks. It is a language that is well-suited for scripting and automation, and it has a large and active community of developers and users. Python is a language that is easy to learn and use, but powerful enough to be used for complex tasks. It is a language that is well-suited for scripting and automation, and it has a large and active community of developers and users. Python is a language that is easy to learn and use, but powerful enough to be used for complex tasks. It is a language that is well-suited for scripting and automation, and it has a large and active community of developers and users. Python is a language that is easy to learn and use, but powerful enough to be used for complex tasks. It is a language that is well-suited for scripting and automation, and it has a large and active community of developers and users. Python is a language that is easy to learn and use, but powerful enough to be used for complex tasks. It is a language that is well-suited for scripting and automation, and it has a large and active community of developers and users. Python is a language that is easy to learn and use, but powerful enough to be used for complex tasks. It is a language that is well-suited for scripting and automation, and it has a large and active community of developers and users. Python is a language that is easy to learn and use, but powerful enough to be used for complex tasks. It is a language that is well-suited for scripting and automation, and it has a large and active community of developers and users. Python is a language that is easy to learn and use, but powerful enough to be used for complex tasks. It is a language that is well-suited for scripting and automation, and it has a large and active community of developers and users. Python is a language that is easy to learn and use, but powerful enough to be used for complex tasks. It is a language that is well-suited for scripting and automation, and it has a large and active community of developers and users. Python is a language that is easy to learn and use, but powerful enough to be used for complex tasks. It is a language that is well-suited for scripting and automation, and it has a large and active community of developers and users. Python is a language that is easy to learn and use, but powerful enough to be used for complex tasks. It is a language that is well-suited for scripting and automation, and it has a large and active community of developers and users. Python is a language that is easy to learn and use, but powerful enough to be used for complex tasks. It is a language that is well-suited for scripting and automation, and it has a large and active community of developers and users. Python is a language that is easy to learn and use, but powerful enough to be used for complex tasks. It is a language that is well-suited for scripting and automation, and it has a large and active community of developers and users. Python is a language that is easy to learn and use, but powerful enough to be used for complex tasks. It is a language that is well-suited for scripting and automation, and it has a large and active community of developers and users. Python is a language that is easy to learn and use, but powerful enough to be used for complex tasks. It is a language that is well-suited for scripting and automation, and it has a large and active community of developers and users. Python is a language that is easy to learn and use, but powerful enough to be used for complex tasks. It is a language that is well-suited for scripting and automation, and it has a large and active community of developers and users. Python is a language that is easy to learn and use, but powerful enough to be used for complex tasks. It is a language that is well-suited for scripting and automation, and it has a large and active community of developers and users. Python is a language that is easy to learn and use, but powerful enough to be used for complex tasks. It is a language that is well-suited for scripting and automation, and it has a large and active community of developers and users. Python is a language that is easy to learn and use, but powerful enough to be used for complex tasks. It is a language that is well-suited for scripting and automation, and it has a large and active community of developers and users. Python is a language that is easy to learn and use, but powerful enough to be used for complex tasks. It is a language that is well-suited for scripting and automation, and it has a large and active community of developers and users. Python is a language that is easy to learn and use, but powerful enough to be used for complex tasks. It is a language that is well-suited for scripting and automation, and it has a large and active community of developers and users. Python is a language that is easy to learn and use, but powerful enough to be used for complex tasks. It is a language that is well-suited for scripting and automation, and it has a large and active community of developers and users. Python is a language that is easy to learn and use, but powerful enough to be used for complex tasks. It is a language that is well-suited for scripting and automation, and it has a large and active community of developers and users. Python is a language that is easy to learn and use, but powerful enough to be used for complex tasks. It is a language that is well-suited for scripting and automation, and it has a large and active community of developers and users. Python is a language that is easy to learn and use, but powerful enough to be used for complex tasks. It is a language that is well-suited for scripting and automation, and it has a large and active community of developers and users. Python is a language that is easy to learn and use, but powerful enough to be used for complex tasks. It is a language that is well-suited for scripting and automation, and it has a large and active community of developers and users. Python is a language that is easy to learn and use, but powerful enough to be used for complex tasks. It is a language that is well-suited for scripting and automation, and it has a large and active community of developers and users. Python is a language that is easy to learn and use, but powerful enough to be used for complex tasks. It is a language that is well-suited for scripting and automation, and it has a large and active community of developers and users. Python is a language that is easy to learn and use, but powerful enough to be used for complex tasks. It is a language that is well-suited for scripting and automation, and it has a large and active community of developers and users. Python is a language that is easy to learn and use, but powerful enough to be used for complex tasks. It is a language that is well-suited for scripting and automation, and it has a large and active community of developers and users. Python is a language that is easy to learn and use, but powerful enough to be used for complex tasks. It is a language that is well-suited for scripting and automation, and it has a large and active community of developers and users. Python is a language that is easy to learn and use, but powerful enough to be used for complex tasks. It is a language that is well-suited for scripting and automation, and it has a large and active community of developers and users. Python is a language that is easy to learn and use, but powerful enough to be used for complex tasks. It is a language that is well-suited for scripting and automation, and it has a large and active community of developers and users. Python is a language that is easy to learn and use, but powerful enough to be used for complex tasks. It is a language that is well-suited for scripting and automation, and it has a large and active community of developers and users. Python is a language that is easy to learn and use, but powerful enough to be used for complex tasks. It is a language that is well-suited for scripting and automation, and it has a large and active community of developers and users. Python is a language that is easy to learn and use, but powerful enough to be used for complex tasks. It is a language that is well-suited for scripting and automation, and it has a large and active community of developers and users. Python is a language that is easy to learn and use, but powerful enough to be used for complex tasks. It is a language that is well-suited for scripting and automation, and it has a large and active community of developers and users.\\n',\n  'timestamp': 1712892785},\n {'reply_id': '2571b0da-25b4-451d-81f1-233874d490b9',\n  'role': 'user',\n  'content': 'who are you???',\n  'timestamp': 1712892785},\n {'reply_id': '0d0fd9a2-0696-42d5-9580-5a8de725f5db',\n  'role': 'assistant',\n  'content': ' I am a Python programmer.\\n',\n  'timestamp': 1712892785},\n {'reply_id': '285633e0-597f-4d7f-963a-97e6b0c083cf',\n  'role': 'user',\n  'content': 'what is python and how long is it????',\n  'timestamp': 1712892785},\n {'reply_id': '9e3db32a-61f7-4e0a-a185-511462de3ac8',\n  'role': 'assistant',\n  'content': '  Python is a high-level, interpreted, object-oriented programming language. It is often referred to as a \"high-level\" language because it is designed to be easy to use for programmers while offering the powerful features of low-level languages. Python is an interpreted language, which means that the source code is executed line by line by the Python interpreter. Python is an object-oriented language, which means that it uses classes and objects to organize and manipulate data. Python is a general-purpose language, which means that it can be used for a wide range of tasks, from simple scripting to complex scientific and engineering applications. Python is a dynamic language, which means that variables can be changed at runtime. Python is a multi-paradigm language, which means that it supports a variety of programming styles, including procedural, object-oriented, and functional. Python is a standard-compliant language, which means that it conforms to the ISO/IEC 9899:1999 standard for the C programming language. Python is a portable language, which means that it can be compiled to run on a wide range of platforms, including Windows, Linux, and Mac OS X. Python is a rich language, which means that it has a large and active community of developers and a rich ecosystem of libraries and tools. Python is a community-driven language, which means that it is developed and maintained by a large and active community of developers and users. Python is a free and open-source language, which means that it is available for free and can be modified and extended by anyone. Python is a language that is easy to learn and use, but powerful enough to be used for complex tasks. It is a language that is well-suited for scripting and automation, and it has a large and active community of developers and users. Python is a language that is easy to learn and use, but powerful enough to be used for complex tasks. It is a language that is well-suited for scripting and automation, and it has a large and active community of developers and users. Python is a language that is easy to learn and use, but powerful enough to be used for complex tasks. It is a language that is well-suited for scripting and automation, and it has a large and active community of developers and users. Python is a language that is easy to learn and use, but powerful enough to be used for complex tasks. It is a language that is well-suited for scripting and automation, and it has a large and active community of developers and users. Python is a language that is easy to learn and use, but powerful enough to be used for complex tasks. It is a language that is well-suited for scripting and automation, and it has a large and active community of developers and users. Python is a language that is easy to learn and use, but powerful enough to be used for complex tasks. It is a language that is well-suited for scripting and automation, and it has a large and active community of developers and users. Python is a language that is easy to learn and use, but powerful enough to be used for complex tasks. It is a language that is well-suited for scripting and automation, and it has a large and active community of developers and users. Python is a language that is easy to learn and use, but powerful enough to be used for complex tasks. It is a language that is well-suited for scripting and automation, and it has a large and active community of developers and users. Python is a language that is easy to learn and use, but powerful enough to be used for complex tasks. It is a language that is well-suited for scripting and automation, and it has a large and active community of developers and users. Python is a language that is easy to learn and use, but powerful enough to be used for complex tasks. It is a language that is well-suited for scripting and automation, and it has a large and active community of developers and users. Python is a language that is easy to learn and use, but powerful enough to be used for complex tasks. It is a language that is well-suited for scripting and automation, and it has a large and active community of developers and users. Python is a language that is easy to learn and use, but powerful enough to be used for complex tasks. It is a language that is well-suited for scripting and automation, and it has a large and active community of developers and users. Python is a language that is easy to learn and use, but powerful enough to be used for complex tasks. It is a language that is well-suited for scripting and automation, and it has a large and active community of developers and users. Python is a language that is easy to learn and use, but powerful enough to be used for complex tasks. It is a language that is well-suited for scripting and automation, and it has a large and active community of developers and users. Python is a language that is easy to learn and use, but powerful enough to be used for complex tasks. It is a language that is well-suited for scripting and automation, and it has a large and active community of developers and users. Python is a language that is easy to learn and use, but powerful enough to be used for complex tasks. It is a language that is well-suited for scripting and automation, and it has a large and active community of developers and users. Python is a language that is easy to learn and use, but powerful enough to be used for complex tasks. It is a language that is well-suited for scripting and automation, and it has a large and active community of developers and users. Python is a language that is easy to learn and use, but powerful enough to be used',\n  'timestamp': 1712892785},\n {'reply_id': '6fd11451-f2e9-4fa6-891a-a25575f3a937',\n  'role': 'user',\n  'content': 'my name is juan nice to meet you!!!',\n  'timestamp': 1712892785},\n {'reply_id': '1aa93302-4ec5-4298-b89f-1168298cf58a',\n  'role': 'assistant',\n  'content': \"  Nice to meet you too, Juan. I'm here to help you with Python programming language questions only, excuse me.\",\n  'timestamp': 1712892785},\n {'reply_id': 'fef13ec1-81a3-4f8f-9932-09166268685d',\n  'role': 'user',\n  'content': 'who are you?!',\n  'timestamp': 1712892785},\n {'reply_id': '13e81726-b2f8-4e84-9449-fda65a1bc748',\n  'role': 'assistant',\n  'content': '  I am a Python programmer.\\n',\n  'timestamp': 1712892785},\n {'reply_id': '55eea531-f89e-44c8-aab4-d9b94a7b9fce',\n  'role': 'user',\n  'content': 'what is my name??',\n  'timestamp': 1712892785},\n {'reply_id': '00d35123-846b-4d2b-ae34-c3427bffd211',\n  'role': 'assistant',\n  'content': '   Your name is Juan.\\n',\n  'timestamp': 1712892785},\n {'reply_id': '4e1107bb-1721-4514-ae79-7972080a6d4d',\n  'role': 'user',\n  'content': 'Develop a Python code snippet to print the diamond structure with the specified number of rows. The program should follow the Fibonacci sequence for the number of characters per row and validate input to ensure it is an odd number.',\n  'timestamp': 1712892785},\n {'reply_id': 'bfd0d1ef-94b4-4408-b7a8-834aec95ea67',\n  'role': 'assistant',\n  'content': '   The program should print the following:',\n  'timestamp': 1712892785},\n {'reply_id': '86803156-a372-46a3-a06d-02aafe5e0627',\n  'role': 'user',\n  'content': 'Create a Python dictionary that stores square roots of numbers from 1 to 15 and cube roots of numbers from 16 to 30, ensuring to keep a precision up to two decimal places.',\n  'timestamp': 1712892785},\n {'reply_id': 'ff2a6209-6661-44d9-acb6-ec1a22527c98',\n  'role': 'assistant',\n  'content': '    The program should print the following:\\n',\n  'timestamp': 1712892785},\n {'reply_id': '332d1eb0-26f4-4efb-9892-d5011aa7487c',\n  'role': 'user',\n  'content': 'give me the python class that do a list comprehension format',\n  'timestamp': 1712892785},\n {'reply_id': 'ade4906a-c79a-4b60-ba98-744ccaf3607d',\n  'role': 'assistant',\n  'content': '    The program should print the following:\\n',\n  'timestamp': 1712892785}]"
          },
          "metadata": {}
        }
      ]
    }
  ]
}